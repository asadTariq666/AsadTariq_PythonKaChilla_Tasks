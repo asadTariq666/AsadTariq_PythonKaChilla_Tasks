{
 "cells": [
  {
   "cell_type": "markdown",
   "metadata": {},
   "source": [
    "# The first part of the assignment, IDS 2020-2021\n",
    "In this Jupiter notebook, please, document your results and the way you have obtained them. Please use the _Python environment_ provided at the beginning of the course. In addition to the _Jupiter notebook_, please submit _one zip-file_ containing all datasets and other outputs you have generated (such as pdf, jpg, and others). Please make sure that the datasets and other outputs are easily identifiable, i.e. use names as requested in the corresponding question.\n",
    "\n",
    "This is the _only_ submission that is required (Jupiter notebook + zip-file). A separate report is _not_ needed and will not be considered for grading. \n",
    "\n",
    "Give your commented Python code and answers in the corresponding provided cells. Make sure to answer all questions in a clear and explicit manner and discuss your outputs. _Please do not change the general structure of this notebook_. You can, however, add additional markdown or code cells if necessary. <b>Please DO NOT CLEAR THE OUTPUT of the notebook you are submitting! </b>\n",
    "\n",
    "<font color=\"red\"> *Please make sure to include names and matriculation numbers of all group members in the slot provided below.* </font> If a name or a student id is missing, the student will not receive any points.\n",
    "\n",
    "Hint 1: While working on the assignment, you will get a better understanding of the dataset. Feel free to generate additional results and visualizations to support your answers. For example, this might be useful regarding data modification and simplification. <font color=\"red\">Ensure that all your claims are supported.</font>\n",
    "\n",
    "Hint 2: <font color=\"red\">Plan your time wisely. </font> A few parts of this assignment might take some time to run. It might be necessary to consider time management when you plan your group work.\n",
    "\n",
    "Hint 3: RWTHmoodle allows multiple submissions, with every new submission overwriting the previous one. <b>Partial submissions are therefore possible and encouraged. </b> This might be helpful in case of technical issues with RWTHMoodle, which may occur close to the deadline.\n"
   ]
  },
  {
   "cell_type": "markdown",
   "metadata": {},
   "source": [
    "<font color=\"red\"><b>Student Names and IDs: <br>\n",
    "    1. Asad Tariq 403326<br>\n",
    "    2. Muhammad Abdullah 408432<br>\n",
    "    3. Anar Orujov 391825<br>"
   ]
  },
  {
   "cell_type": "markdown",
   "metadata": {},
   "source": [
    "## Preprocessing of the Dataset (5 points)\n",
    " Carry out the following preprocessing steps before starting the analysis:\n",
    " - Select 90% of dataset provided for this assignment by random sampling.\n",
    "     - Use one of the group member's student numbers as a seed.\n",
    "     - Rename the new generated dataset (which contains 90% of the data) to \"sampled_data\".\n",
    " - <font color='red'>Important!</font>  Export your *sampled_data* dataset and submit it with your assignment solution.\n",
    " - If it is not otherwise mentioned, you should always use your below created *sampled_data* as input for the questions."
   ]
  },
  {
   "cell_type": "code",
   "execution_count": 4,
   "metadata": {},
   "outputs": [
    {
     "name": "stdout",
     "output_type": "stream",
     "text": [
      "<class 'pandas.core.frame.DataFrame'>\n",
      "Int64Index: 170 entries, 176 to 14\n",
      "Data columns (total 22 columns):\n",
      " #   Column              Non-Null Count  Dtype \n",
      "---  ------              --------------  ----- \n",
      " 0   ID                  170 non-null    int64 \n",
      " 1   SurfaceR            170 non-null    int64 \n",
      " 2   NumberR             170 non-null    int64 \n",
      " 3   TypeR               170 non-null    object\n",
      " 4   VegetationR         170 non-null    int64 \n",
      " 5   Surroundings1       170 non-null    object\n",
      " 6   Surroundings2       170 non-null    object\n",
      " 7   Surroundings3       170 non-null    object\n",
      " 8   UseR                170 non-null    int64 \n",
      " 9   FishingR            170 non-null    int64 \n",
      " 10  AcessR              170 non-null    int64 \n",
      " 11  RoadDistanceR       170 non-null    int64 \n",
      " 12  BuildingR           170 non-null    int64 \n",
      " 13  PollutionR          170 non-null    int64 \n",
      " 14  ShoreR              170 non-null    object\n",
      " 15  Green frogs         170 non-null    int64 \n",
      " 16  Brown frogs         170 non-null    int64 \n",
      " 17  Common toad         170 non-null    int64 \n",
      " 18  Fire-bellied toad   170 non-null    int64 \n",
      " 19  Tree frog           170 non-null    int64 \n",
      " 20  Common newt         170 non-null    int64 \n",
      " 21  Great crested newt  170 non-null    int64 \n",
      "dtypes: int64(17), object(5)\n",
      "memory usage: 30.5+ KB\n"
     ]
    }
   ],
   "source": [
    "import pandas as pd\n",
    "import numpy as np\n",
    "from scipy import stats\n",
    "import seaborn as sb\n",
    "import matplotlib.pyplot as pl\n",
    "\n",
    "\n",
    "# Reading original dataset\n",
    "raw_data = pd.read_csv(\"dataset.csv\")\n",
    "\n",
    "# Selecting 90% of dataset by random sampling using matriculation number 391825\n",
    "sampled_data = raw_data.sample(frac=0.9, random_state=391825)\n",
    "\n",
    "sampled_data.info()\n",
    "# Export dataset as sampled_data.csv\n",
    "sampled_data.to_csv(\"sampled_data.csv\",index=False)"
   ]
  },
  {
   "cell_type": "markdown",
   "metadata": {},
   "source": [
    "## Question 1 - Insights into the Data (15 points):"
   ]
  },
  {
   "cell_type": "markdown",
   "metadata": {},
   "source": [
    "   (a)  Generate a dataset by removing those rows of the sampled_data dataset for which the value of \"SurfaceR\" is equal or bigger than 50000. Let's call this data set \"new_sampled_data\"."
   ]
  },
  {
   "cell_type": "code",
   "execution_count": 5,
   "metadata": {},
   "outputs": [
    {
     "data": {
      "text/html": [
       "<div>\n",
       "<style scoped>\n",
       "    .dataframe tbody tr th:only-of-type {\n",
       "        vertical-align: middle;\n",
       "    }\n",
       "\n",
       "    .dataframe tbody tr th {\n",
       "        vertical-align: top;\n",
       "    }\n",
       "\n",
       "    .dataframe thead th {\n",
       "        text-align: right;\n",
       "    }\n",
       "</style>\n",
       "<table border=\"1\" class=\"dataframe\">\n",
       "  <thead>\n",
       "    <tr style=\"text-align: right;\">\n",
       "      <th></th>\n",
       "      <th>ID</th>\n",
       "      <th>SurfaceR</th>\n",
       "      <th>NumberR</th>\n",
       "      <th>TypeR</th>\n",
       "      <th>VegetationR</th>\n",
       "      <th>Surroundings1</th>\n",
       "      <th>Surroundings2</th>\n",
       "      <th>Surroundings3</th>\n",
       "      <th>UseR</th>\n",
       "      <th>FishingR</th>\n",
       "      <th>...</th>\n",
       "      <th>BuildingR</th>\n",
       "      <th>PollutionR</th>\n",
       "      <th>ShoreR</th>\n",
       "      <th>Green frogs</th>\n",
       "      <th>Brown frogs</th>\n",
       "      <th>Common toad</th>\n",
       "      <th>Fire-bellied toad</th>\n",
       "      <th>Tree frog</th>\n",
       "      <th>Common newt</th>\n",
       "      <th>Great crested newt</th>\n",
       "    </tr>\n",
       "  </thead>\n",
       "  <tbody>\n",
       "    <tr>\n",
       "      <th>176</th>\n",
       "      <td>177</td>\n",
       "      <td>300</td>\n",
       "      <td>1</td>\n",
       "      <td>i</td>\n",
       "      <td>2</td>\n",
       "      <td>b</td>\n",
       "      <td>g</td>\n",
       "      <td>f</td>\n",
       "      <td>0</td>\n",
       "      <td>0</td>\n",
       "      <td>...</td>\n",
       "      <td>2</td>\n",
       "      <td>0</td>\n",
       "      <td>natural</td>\n",
       "      <td>0</td>\n",
       "      <td>1</td>\n",
       "      <td>0</td>\n",
       "      <td>0</td>\n",
       "      <td>0</td>\n",
       "      <td>0</td>\n",
       "      <td>0</td>\n",
       "    </tr>\n",
       "    <tr>\n",
       "      <th>51</th>\n",
       "      <td>52</td>\n",
       "      <td>4000</td>\n",
       "      <td>1</td>\n",
       "      <td>a</td>\n",
       "      <td>3</td>\n",
       "      <td>a</td>\n",
       "      <td>a</td>\n",
       "      <td>b</td>\n",
       "      <td>0</td>\n",
       "      <td>0</td>\n",
       "      <td>...</td>\n",
       "      <td>5</td>\n",
       "      <td>0</td>\n",
       "      <td>natural</td>\n",
       "      <td>1</td>\n",
       "      <td>1</td>\n",
       "      <td>1</td>\n",
       "      <td>0</td>\n",
       "      <td>0</td>\n",
       "      <td>0</td>\n",
       "      <td>0</td>\n",
       "    </tr>\n",
       "    <tr>\n",
       "      <th>86</th>\n",
       "      <td>87</td>\n",
       "      <td>300</td>\n",
       "      <td>1</td>\n",
       "      <td>j</td>\n",
       "      <td>3</td>\n",
       "      <td>h</td>\n",
       "      <td>h</td>\n",
       "      <td>h</td>\n",
       "      <td>0</td>\n",
       "      <td>0</td>\n",
       "      <td>...</td>\n",
       "      <td>9</td>\n",
       "      <td>0</td>\n",
       "      <td>natural</td>\n",
       "      <td>0</td>\n",
       "      <td>1</td>\n",
       "      <td>1</td>\n",
       "      <td>0</td>\n",
       "      <td>1</td>\n",
       "      <td>0</td>\n",
       "      <td>0</td>\n",
       "    </tr>\n",
       "    <tr>\n",
       "      <th>119</th>\n",
       "      <td>120</td>\n",
       "      <td>300</td>\n",
       "      <td>1</td>\n",
       "      <td>j</td>\n",
       "      <td>1</td>\n",
       "      <td>a</td>\n",
       "      <td>h</td>\n",
       "      <td>e</td>\n",
       "      <td>0</td>\n",
       "      <td>0</td>\n",
       "      <td>...</td>\n",
       "      <td>5</td>\n",
       "      <td>0</td>\n",
       "      <td>natural</td>\n",
       "      <td>1</td>\n",
       "      <td>0</td>\n",
       "      <td>0</td>\n",
       "      <td>1</td>\n",
       "      <td>0</td>\n",
       "      <td>0</td>\n",
       "      <td>0</td>\n",
       "    </tr>\n",
       "    <tr>\n",
       "      <th>150</th>\n",
       "      <td>151</td>\n",
       "      <td>2600</td>\n",
       "      <td>2</td>\n",
       "      <td>a</td>\n",
       "      <td>2</td>\n",
       "      <td>g</td>\n",
       "      <td>b</td>\n",
       "      <td>e</td>\n",
       "      <td>3</td>\n",
       "      <td>2</td>\n",
       "      <td>...</td>\n",
       "      <td>1</td>\n",
       "      <td>0</td>\n",
       "      <td>natural</td>\n",
       "      <td>1</td>\n",
       "      <td>1</td>\n",
       "      <td>1</td>\n",
       "      <td>0</td>\n",
       "      <td>0</td>\n",
       "      <td>0</td>\n",
       "      <td>0</td>\n",
       "    </tr>\n",
       "  </tbody>\n",
       "</table>\n",
       "<p>5 rows × 22 columns</p>\n",
       "</div>"
      ],
      "text/plain": [
       "      ID  SurfaceR  NumberR TypeR  VegetationR Surroundings1 Surroundings2  \\\n",
       "176  177       300        1     i            2             b             g   \n",
       "51    52      4000        1     a            3             a             a   \n",
       "86    87       300        1     j            3             h             h   \n",
       "119  120       300        1     j            1             a             h   \n",
       "150  151      2600        2     a            2             g             b   \n",
       "\n",
       "    Surroundings3  UseR  FishingR  ...  BuildingR  PollutionR   ShoreR  \\\n",
       "176             f     0         0  ...          2           0  natural   \n",
       "51              b     0         0  ...          5           0  natural   \n",
       "86              h     0         0  ...          9           0  natural   \n",
       "119             e     0         0  ...          5           0  natural   \n",
       "150             e     3         2  ...          1           0  natural   \n",
       "\n",
       "     Green frogs Brown frogs  Common toad  Fire-bellied toad  Tree frog  \\\n",
       "176            0           1            0                  0          0   \n",
       "51             1           1            1                  0          0   \n",
       "86             0           1            1                  0          1   \n",
       "119            1           0            0                  1          0   \n",
       "150            1           1            1                  0          0   \n",
       "\n",
       "     Common newt  Great crested newt  \n",
       "176            0                   0  \n",
       "51             0                   0  \n",
       "86             0                   0  \n",
       "119            0                   0  \n",
       "150            0                   0  \n",
       "\n",
       "[5 rows x 22 columns]"
      ]
     },
     "execution_count": 5,
     "metadata": {},
     "output_type": "execute_result"
    }
   ],
   "source": [
    "#getting only the data that has surfaceR value smaller then 50000\n",
    "new_sampled_data = sampled_data[sampled_data['SurfaceR']<50000]\n",
    "#peaking into the dataset\n",
    "new_sampled_data.head(5)"
   ]
  },
  {
   "cell_type": "markdown",
   "metadata": {},
   "source": [
    "   (b)  Use a boxplot to find and remove the outliers from \"SurfaceR\". Note that based on the boxplot the values greater than the upper-whisker and lower than the lower-whisker are considered as outliers. Let's call the dataset after removing the outliers \"cleaned_data\". Now you should  have three datasets (sampled_data, new_sampled_data, and cleaned_data). "
   ]
  },
  {
   "cell_type": "code",
   "execution_count": 6,
   "metadata": {},
   "outputs": [
    {
     "name": "stdout",
     "output_type": "stream",
     "text": [
      "Number of Outliers are : \n",
      "24\n"
     ]
    },
    {
     "data": {
      "text/html": [
       "<div>\n",
       "<style scoped>\n",
       "    .dataframe tbody tr th:only-of-type {\n",
       "        vertical-align: middle;\n",
       "    }\n",
       "\n",
       "    .dataframe tbody tr th {\n",
       "        vertical-align: top;\n",
       "    }\n",
       "\n",
       "    .dataframe thead th {\n",
       "        text-align: right;\n",
       "    }\n",
       "</style>\n",
       "<table border=\"1\" class=\"dataframe\">\n",
       "  <thead>\n",
       "    <tr style=\"text-align: right;\">\n",
       "      <th></th>\n",
       "      <th>ID</th>\n",
       "      <th>SurfaceR</th>\n",
       "      <th>NumberR</th>\n",
       "      <th>TypeR</th>\n",
       "      <th>VegetationR</th>\n",
       "      <th>Surroundings1</th>\n",
       "      <th>Surroundings2</th>\n",
       "      <th>Surroundings3</th>\n",
       "      <th>UseR</th>\n",
       "      <th>FishingR</th>\n",
       "      <th>...</th>\n",
       "      <th>BuildingR</th>\n",
       "      <th>PollutionR</th>\n",
       "      <th>ShoreR</th>\n",
       "      <th>Green frogs</th>\n",
       "      <th>Brown frogs</th>\n",
       "      <th>Common toad</th>\n",
       "      <th>Fire-bellied toad</th>\n",
       "      <th>Tree frog</th>\n",
       "      <th>Common newt</th>\n",
       "      <th>Great crested newt</th>\n",
       "    </tr>\n",
       "  </thead>\n",
       "  <tbody>\n",
       "    <tr>\n",
       "      <th>176</th>\n",
       "      <td>177</td>\n",
       "      <td>300</td>\n",
       "      <td>1</td>\n",
       "      <td>i</td>\n",
       "      <td>2</td>\n",
       "      <td>b</td>\n",
       "      <td>g</td>\n",
       "      <td>f</td>\n",
       "      <td>0</td>\n",
       "      <td>0</td>\n",
       "      <td>...</td>\n",
       "      <td>2</td>\n",
       "      <td>0</td>\n",
       "      <td>natural</td>\n",
       "      <td>0</td>\n",
       "      <td>1</td>\n",
       "      <td>0</td>\n",
       "      <td>0</td>\n",
       "      <td>0</td>\n",
       "      <td>0</td>\n",
       "      <td>0</td>\n",
       "    </tr>\n",
       "    <tr>\n",
       "      <th>51</th>\n",
       "      <td>52</td>\n",
       "      <td>4000</td>\n",
       "      <td>1</td>\n",
       "      <td>a</td>\n",
       "      <td>3</td>\n",
       "      <td>a</td>\n",
       "      <td>a</td>\n",
       "      <td>b</td>\n",
       "      <td>0</td>\n",
       "      <td>0</td>\n",
       "      <td>...</td>\n",
       "      <td>5</td>\n",
       "      <td>0</td>\n",
       "      <td>natural</td>\n",
       "      <td>1</td>\n",
       "      <td>1</td>\n",
       "      <td>1</td>\n",
       "      <td>0</td>\n",
       "      <td>0</td>\n",
       "      <td>0</td>\n",
       "      <td>0</td>\n",
       "    </tr>\n",
       "    <tr>\n",
       "      <th>86</th>\n",
       "      <td>87</td>\n",
       "      <td>300</td>\n",
       "      <td>1</td>\n",
       "      <td>j</td>\n",
       "      <td>3</td>\n",
       "      <td>h</td>\n",
       "      <td>h</td>\n",
       "      <td>h</td>\n",
       "      <td>0</td>\n",
       "      <td>0</td>\n",
       "      <td>...</td>\n",
       "      <td>9</td>\n",
       "      <td>0</td>\n",
       "      <td>natural</td>\n",
       "      <td>0</td>\n",
       "      <td>1</td>\n",
       "      <td>1</td>\n",
       "      <td>0</td>\n",
       "      <td>1</td>\n",
       "      <td>0</td>\n",
       "      <td>0</td>\n",
       "    </tr>\n",
       "    <tr>\n",
       "      <th>119</th>\n",
       "      <td>120</td>\n",
       "      <td>300</td>\n",
       "      <td>1</td>\n",
       "      <td>j</td>\n",
       "      <td>1</td>\n",
       "      <td>a</td>\n",
       "      <td>h</td>\n",
       "      <td>e</td>\n",
       "      <td>0</td>\n",
       "      <td>0</td>\n",
       "      <td>...</td>\n",
       "      <td>5</td>\n",
       "      <td>0</td>\n",
       "      <td>natural</td>\n",
       "      <td>1</td>\n",
       "      <td>0</td>\n",
       "      <td>0</td>\n",
       "      <td>1</td>\n",
       "      <td>0</td>\n",
       "      <td>0</td>\n",
       "      <td>0</td>\n",
       "    </tr>\n",
       "    <tr>\n",
       "      <th>150</th>\n",
       "      <td>151</td>\n",
       "      <td>2600</td>\n",
       "      <td>2</td>\n",
       "      <td>a</td>\n",
       "      <td>2</td>\n",
       "      <td>g</td>\n",
       "      <td>b</td>\n",
       "      <td>e</td>\n",
       "      <td>3</td>\n",
       "      <td>2</td>\n",
       "      <td>...</td>\n",
       "      <td>1</td>\n",
       "      <td>0</td>\n",
       "      <td>natural</td>\n",
       "      <td>1</td>\n",
       "      <td>1</td>\n",
       "      <td>1</td>\n",
       "      <td>0</td>\n",
       "      <td>0</td>\n",
       "      <td>0</td>\n",
       "      <td>0</td>\n",
       "    </tr>\n",
       "  </tbody>\n",
       "</table>\n",
       "<p>5 rows × 22 columns</p>\n",
       "</div>"
      ],
      "text/plain": [
       "      ID  SurfaceR  NumberR TypeR  VegetationR Surroundings1 Surroundings2  \\\n",
       "176  177       300        1     i            2             b             g   \n",
       "51    52      4000        1     a            3             a             a   \n",
       "86    87       300        1     j            3             h             h   \n",
       "119  120       300        1     j            1             a             h   \n",
       "150  151      2600        2     a            2             g             b   \n",
       "\n",
       "    Surroundings3  UseR  FishingR  ...  BuildingR  PollutionR   ShoreR  \\\n",
       "176             f     0         0  ...          2           0  natural   \n",
       "51              b     0         0  ...          5           0  natural   \n",
       "86              h     0         0  ...          9           0  natural   \n",
       "119             e     0         0  ...          5           0  natural   \n",
       "150             e     3         2  ...          1           0  natural   \n",
       "\n",
       "     Green frogs Brown frogs  Common toad  Fire-bellied toad  Tree frog  \\\n",
       "176            0           1            0                  0          0   \n",
       "51             1           1            1                  0          0   \n",
       "86             0           1            1                  0          1   \n",
       "119            1           0            0                  1          0   \n",
       "150            1           1            1                  0          0   \n",
       "\n",
       "     Common newt  Great crested newt  \n",
       "176            0                   0  \n",
       "51             0                   0  \n",
       "86             0                   0  \n",
       "119            0                   0  \n",
       "150            0                   0  \n",
       "\n",
       "[5 rows x 22 columns]"
      ]
     },
     "execution_count": 6,
     "metadata": {},
     "output_type": "execute_result"
    },
    {
     "data": {
      "image/png": "[encoded data removed]",
      "text/plain": [
       "<Figure size 720x720 with 1 Axes>"
      ]
     },
     "metadata": {
      "needs_background": "light"
     },
     "output_type": "display_data"
    }
   ],
   "source": [
    "#Setting values for creating the boxplot\n",
    "pl.figure(figsize=(10,10))\n",
    "\n",
    "sb.set(style=\"whitegrid\")\n",
    "plot = sb.boxplot(x='SurfaceR', data=new_sampled_data ,orient='h', fliersize=10)\n",
    "plot = sb.stripplot(x='SurfaceR', data=new_sampled_data)\n",
    "plot.set_xlabel('SurfaceR');\n",
    "\n",
    "# First quartile\n",
    "q1 = new_sampled_data['SurfaceR'].quantile(0.25)\n",
    "\n",
    "# Third quartile\n",
    "q3 = new_sampled_data['SurfaceR'].quantile(0.75)\n",
    "\n",
    "# Interquartile range\n",
    "iqr = q3 - q1  \n",
    "\n",
    "lower_whisker = q1-1.5*iqr\n",
    "\n",
    "upper_whisker = q3+1.5*iqr\n",
    "\n",
    "# filter values that are in a threshold \n",
    "is_outlier = (new_sampled_data['SurfaceR'] < (q1 - 1.5 * iqr)) | (new_sampled_data['SurfaceR'] > (q3 + 1.5 * iqr))\n",
    "#is_outlier\n",
    "\n",
    "# check how many outliers there actually are (number of 'True's)\n",
    "num_outliers = is_outlier[is_outlier == True].shape[0]\n",
    "\n",
    "print(\"Number of Outliers are : \") \n",
    "print(num_outliers)\n",
    "\n",
    "# Remove outliers\n",
    "cleaned_data = new_sampled_data.loc[(new_sampled_data['SurfaceR'] > lower_whisker) & (new_sampled_data['SurfaceR'] < upper_whisker)]\n",
    "cleaned_data.head(5)"
   ]
  },
  {
   "cell_type": "markdown",
   "metadata": {},
   "source": [
    "   (c) Compare basic statistical features of \"SurfaceR\" (median, mean, and mode, standard deviation, variance) in the new_sampled_data and cleaned_data datasets.    Interpret the differences for these statistical values between the cleaned_data and new_sampled_data datasets. Explain why the statistics of these two datasets are different."
   ]
  },
  {
   "cell_type": "code",
   "execution_count": 7,
   "metadata": {},
   "outputs": [
    {
     "data": {
      "text/html": [
       "<div>\n",
       "<style scoped>\n",
       "    .dataframe tbody tr th:only-of-type {\n",
       "        vertical-align: middle;\n",
       "    }\n",
       "\n",
       "    .dataframe tbody tr th {\n",
       "        vertical-align: top;\n",
       "    }\n",
       "\n",
       "    .dataframe thead th {\n",
       "        text-align: right;\n",
       "    }\n",
       "</style>\n",
       "<table border=\"1\" class=\"dataframe\">\n",
       "  <thead>\n",
       "    <tr style=\"text-align: right;\">\n",
       "      <th></th>\n",
       "      <th>SurfaceR (new_sampled_data)</th>\n",
       "      <th>SurfaceR (cleaned_data)</th>\n",
       "    </tr>\n",
       "  </thead>\n",
       "  <tbody>\n",
       "    <tr>\n",
       "      <th>MEAN</th>\n",
       "      <td>3250.18</td>\n",
       "      <td>1055.21</td>\n",
       "    </tr>\n",
       "    <tr>\n",
       "      <th>MEDIAN</th>\n",
       "      <td>650</td>\n",
       "      <td>450</td>\n",
       "    </tr>\n",
       "    <tr>\n",
       "      <th>MODE</th>\n",
       "      <td>[300]</td>\n",
       "      <td>[300]</td>\n",
       "    </tr>\n",
       "    <tr>\n",
       "      <th>Standard Deviation</th>\n",
       "      <td>6837.02</td>\n",
       "      <td>1178.42</td>\n",
       "    </tr>\n",
       "    <tr>\n",
       "      <th>Variance</th>\n",
       "      <td>4.67449e+07</td>\n",
       "      <td>1.38866e+06</td>\n",
       "    </tr>\n",
       "  </tbody>\n",
       "</table>\n",
       "</div>"
      ],
      "text/plain": [
       "                   SurfaceR (new_sampled_data) SurfaceR (cleaned_data)\n",
       "MEAN                                   3250.18                 1055.21\n",
       "MEDIAN                                     650                     450\n",
       "MODE                                     [300]                   [300]\n",
       "Standard Deviation                     6837.02                 1178.42\n",
       "Variance                           4.67449e+07             1.38866e+06"
      ]
     },
     "execution_count": 7,
     "metadata": {},
     "output_type": "execute_result"
    }
   ],
   "source": [
    "#setting the values for mean,mode,median,standard deviation and variance \n",
    "def basic_stats(data, column):\n",
    "    return (data[column].mean(), data[column].median(), data[column].mode().values, data[column].std(),data[column].var())\n",
    "\n",
    "comparison = pd.DataFrame.from_dict({ \n",
    "    'SurfaceR (new_sampled_data)': basic_stats(new_sampled_data, 'SurfaceR'), \n",
    "    'SurfaceR (cleaned_data)': basic_stats(cleaned_data, 'SurfaceR')\n",
    "})\n",
    "#for printing the values in the dataframe\n",
    "comparison.index = ['MEAN', 'MEDIAN', 'MODE', 'Standard Deviation', 'Variance' ]\n",
    "comparison"
   ]
  },
  {
   "cell_type": "markdown",
   "metadata": {},
   "source": [
    "Explanation: The pre-processed data is diverese and has outliers, wehereas the filtered data is free of outliers, thus the basic statistical features(median, mean, and mode, standard deviation, variance) are different.\n",
    "As interpreted from the Standard deviation and variance, it is evident that after removing the outliers, the data is more concentated. The difference in the basic statistical features of the datasets is because of the presence and absence of Outliers, which because of their huge values of SurfaceR affect the Statistical features. The total value of the outliers is 24. "
   ]
  },
  {
   "cell_type": "markdown",
   "metadata": {},
   "source": [
    "### Basic Visualization (10 points)\n",
    "(d) Visualize mean and median of \"SurfaceR\" in the cleaned dataset. Specify the \"Surroundings3\" values for which the mean and median of \"SurfaceR\" is maximal and for which it is minimal."
   ]
  },
  {
   "cell_type": "code",
   "execution_count": 8,
   "metadata": {},
   "outputs": [
    {
     "data": {
      "text/plain": [
       "<AxesSubplot:xlabel='Surroundings3', ylabel='SurfaceR'>"
      ]
     },
     "execution_count": 8,
     "metadata": {},
     "output_type": "execute_result"
    },
    {
     "data": {
      "image/png": "[encoded data removed]",
      "text/plain": [
       "<Figure size 432x288 with 1 Axes>"
      ]
     },
     "metadata": {},
     "output_type": "display_data"
    },
    {
     "data": {
      "image/png": "[encoded data removed]",
      "text/plain": [
       "<Figure size 432x288 with 1 Axes>"
      ]
     },
     "metadata": {},
     "output_type": "display_data"
    }
   ],
   "source": [
    "#setting the values for plotting the values for mean and median\n",
    "pl.figure()\n",
    "pl.suptitle(\"Mean of SurfaceR\")\n",
    "sb.barplot(x=\"Surroundings3\", y=\"SurfaceR\", data=cleaned_data, estimator=np.mean)\n",
    "\n",
    "pl.figure()\n",
    "pl.suptitle(\"Median of SurfaceR\")\n",
    "sb.barplot(x=\"Surroundings3\", y=\"SurfaceR\", data=cleaned_data, estimator=np.median)"
   ]
  },
  {
   "cell_type": "markdown",
   "metadata": {},
   "source": [
    "Explanation: For Mean and Median of SurfaceR, Surroundings3 \"i\" has the maximum value and Surroundings3 \"d\" has the minimum value."
   ]
  },
  {
   "cell_type": "markdown",
   "metadata": {},
   "source": [
    "   (e) Plot the distribution of \"SurfaceR\" in the new_sampled_data and cleaned_data datasets."
   ]
  },
  {
   "cell_type": "code",
   "execution_count": 9,
   "metadata": {},
   "outputs": [
    {
     "data": {
      "text/plain": [
       "<Figure size 1152x576 with 0 Axes>"
      ]
     },
     "execution_count": 9,
     "metadata": {},
     "output_type": "execute_result"
    },
    {
     "data": {
      "image/png": "[encoded data removed]",
      "text/plain": [
       "<Figure size 360x360 with 1 Axes>"
      ]
     },
     "metadata": {},
     "output_type": "display_data"
    },
    {
     "data": {
      "image/png": "[encoded data removed]",
      "text/plain": [
       "<Figure size 360x360 with 1 Axes>"
      ]
     },
     "metadata": {},
     "output_type": "display_data"
    },
    {
     "data": {
      "text/plain": [
       "<Figure size 1152x576 with 0 Axes>"
      ]
     },
     "metadata": {},
     "output_type": "display_data"
    }
   ],
   "source": [
    "#for plotting the values of the surfaceR for new sampled data and cleaned dataset\n",
    "sb.displot(data=new_sampled_data, x='SurfaceR')\n",
    "\n",
    "sb.displot(data=cleaned_data, x='SurfaceR')\n",
    "\n",
    "pl.figure(figsize=(16,8))"
   ]
  },
  {
   "cell_type": "markdown",
   "metadata": {},
   "source": [
    "   (f) Explore the distribution of \"SurfaceR\" and \"AcessR\" together in the new_sampled_data and cleaned_data datasets. Specify the ranges of \"SurfaceR\" and \"AcessR\" for which the frequency of the data is the highest."
   ]
  },
  {
   "cell_type": "code",
   "execution_count": 10,
   "metadata": {},
   "outputs": [
    {
     "data": {
      "image/png": "[encoded data removed]",
      "text/plain": [
       "<Figure size 432x432 with 3 Axes>"
      ]
     },
     "metadata": {},
     "output_type": "display_data"
    },
    {
     "data": {
      "image/png": "[encoded data removed]",
      "text/plain": [
       "<Figure size 432x432 with 3 Axes>"
      ]
     },
     "metadata": {},
     "output_type": "display_data"
    }
   ],
   "source": [
    "sb.jointplot(data=new_sampled_data, x=\"SurfaceR\", y=\"AcessR\", kind=\"kde\");\n",
    "sb.jointplot(data=cleaned_data, x=\"SurfaceR\", y=\"AcessR\", kind=\"kde\");"
   ]
  },
  {
   "cell_type": "markdown",
   "metadata": {},
   "source": [
    "Explanation:\n",
    "\n",
    "For both datasets, the highest frequency happens when AcessR=100 and SurfaceR=0.We can observe that due to outliers the values in the new sampled dataset is spread till 40000, whereas the cleaned dataset varies from 0 till 5000."
   ]
  },
  {
   "cell_type": "markdown",
   "metadata": {},
   "source": [
    "## Question 2 - Decision Trees (15 points):"
   ]
  },
  {
   "cell_type": "markdown",
   "metadata": {},
   "source": [
    "   (a) Add a categorical column \"number_frogs\" to the new_sampled_data which indicate the number of different frogs in each region (row). For example, if in a row we have:\n",
    "       - \"Green frogs\" = 1, \"Brown frogs\" = 1, \"Common toad\" = 0, \"Fire-bellied toad\" = 0, \"Tree frog\" = 0, \"Common newt\" = 0, and \"Great crested newt\" = 0, then \"number_frogs\" = 'two'.\n",
    "       - \"Green frogs\" = 1, \"Brown frogs\" = 1, \"Common toad\" = 0, \"Fire-bellied toad\" = 0, \"Tree frog\" = 1, \"Common newt\" = 1, and \"Great crested newt\" = 0, then \"number_frogs\" = 'four'."
   ]
  },
  {
   "cell_type": "code",
   "execution_count": 11,
   "metadata": {},
   "outputs": [
    {
     "name": "stderr",
     "output_type": "stream",
     "text": [
      "C:\\Users\\Anar\\Anaconda3\\envs\\env-IDS2020\\lib\\site-packages\\ipykernel_launcher.py:11: SettingWithCopyWarning: \n",
      "A value is trying to be set on a copy of a slice from a DataFrame.\n",
      "Try using .loc[row_indexer,col_indexer] = value instead\n",
      "\n",
      "See the caveats in the documentation: https://pandas.pydata.org/pandas-docs/stable/user_guide/indexing.html#returning-a-view-versus-a-copy\n",
      "  # This is added back by InteractiveShellApp.init_path()\n"
     ]
    },
    {
     "data": {
      "text/html": [
       "<div>\n",
       "<style scoped>\n",
       "    .dataframe tbody tr th:only-of-type {\n",
       "        vertical-align: middle;\n",
       "    }\n",
       "\n",
       "    .dataframe tbody tr th {\n",
       "        vertical-align: top;\n",
       "    }\n",
       "\n",
       "    .dataframe thead th {\n",
       "        text-align: right;\n",
       "    }\n",
       "</style>\n",
       "<table border=\"1\" class=\"dataframe\">\n",
       "  <thead>\n",
       "    <tr style=\"text-align: right;\">\n",
       "      <th></th>\n",
       "      <th>ID</th>\n",
       "      <th>SurfaceR</th>\n",
       "      <th>NumberR</th>\n",
       "      <th>TypeR</th>\n",
       "      <th>VegetationR</th>\n",
       "      <th>Surroundings1</th>\n",
       "      <th>Surroundings2</th>\n",
       "      <th>Surroundings3</th>\n",
       "      <th>UseR</th>\n",
       "      <th>FishingR</th>\n",
       "      <th>...</th>\n",
       "      <th>PollutionR</th>\n",
       "      <th>ShoreR</th>\n",
       "      <th>Green frogs</th>\n",
       "      <th>Brown frogs</th>\n",
       "      <th>Common toad</th>\n",
       "      <th>Fire-bellied toad</th>\n",
       "      <th>Tree frog</th>\n",
       "      <th>Common newt</th>\n",
       "      <th>Great crested newt</th>\n",
       "      <th>number_frogs</th>\n",
       "    </tr>\n",
       "  </thead>\n",
       "  <tbody>\n",
       "    <tr>\n",
       "      <th>176</th>\n",
       "      <td>177</td>\n",
       "      <td>300</td>\n",
       "      <td>1</td>\n",
       "      <td>i</td>\n",
       "      <td>2</td>\n",
       "      <td>b</td>\n",
       "      <td>g</td>\n",
       "      <td>f</td>\n",
       "      <td>0</td>\n",
       "      <td>0</td>\n",
       "      <td>...</td>\n",
       "      <td>0</td>\n",
       "      <td>natural</td>\n",
       "      <td>0</td>\n",
       "      <td>1</td>\n",
       "      <td>0</td>\n",
       "      <td>0</td>\n",
       "      <td>0</td>\n",
       "      <td>0</td>\n",
       "      <td>0</td>\n",
       "      <td>one</td>\n",
       "    </tr>\n",
       "    <tr>\n",
       "      <th>51</th>\n",
       "      <td>52</td>\n",
       "      <td>4000</td>\n",
       "      <td>1</td>\n",
       "      <td>a</td>\n",
       "      <td>3</td>\n",
       "      <td>a</td>\n",
       "      <td>a</td>\n",
       "      <td>b</td>\n",
       "      <td>0</td>\n",
       "      <td>0</td>\n",
       "      <td>...</td>\n",
       "      <td>0</td>\n",
       "      <td>natural</td>\n",
       "      <td>1</td>\n",
       "      <td>1</td>\n",
       "      <td>1</td>\n",
       "      <td>0</td>\n",
       "      <td>0</td>\n",
       "      <td>0</td>\n",
       "      <td>0</td>\n",
       "      <td>three</td>\n",
       "    </tr>\n",
       "  </tbody>\n",
       "</table>\n",
       "<p>2 rows × 23 columns</p>\n",
       "</div>"
      ],
      "text/plain": [
       "      ID  SurfaceR  NumberR TypeR  VegetationR Surroundings1 Surroundings2  \\\n",
       "176  177       300        1     i            2             b             g   \n",
       "51    52      4000        1     a            3             a             a   \n",
       "\n",
       "    Surroundings3  UseR  FishingR  ...  PollutionR   ShoreR  Green frogs  \\\n",
       "176             f     0         0  ...           0  natural            0   \n",
       "51              b     0         0  ...           0  natural            1   \n",
       "\n",
       "     Brown frogs Common toad  Fire-bellied toad  Tree frog  Common newt  \\\n",
       "176            1           0                  0          0            0   \n",
       "51             1           1                  0          0            0   \n",
       "\n",
       "     Great crested newt  number_frogs  \n",
       "176                   0           one  \n",
       "51                    0         three  \n",
       "\n",
       "[2 rows x 23 columns]"
      ]
     },
     "execution_count": 11,
     "metadata": {},
     "output_type": "execute_result"
    }
   ],
   "source": [
    "from p_decision_tree.DecisionTree import DecisionTree\n",
    "from sklearn.tree import export_graphviz\n",
    "\n",
    "#for making the numerical values in words \n",
    "number_dict = {0:'zero', 1:'one', 2:'two', 3:'three', 4:'four', 5:'five', 6:'six', 7:'seven'}\n",
    "def add_categorical(row):\n",
    "    count = 0\n",
    "    count += row['Green frogs'] + row['Brown frogs'] + row['Common toad'] + row['Fire-bellied toad'] + row['Tree frog'] + row['Common newt'] + row['Great crested newt']\n",
    "    return number_dict[count]\n",
    "\n",
    "new_sampled_data['number_frogs'] = new_sampled_data.apply(add_categorical, axis=1)\n",
    "new_sampled_data.head(2)"
   ]
  },
  {
   "cell_type": "markdown",
   "metadata": {},
   "source": [
    "   (b) In the new dataset (created in Section 'a'), consider \"TypeR\", \"VegetationR\", \"Surroundings1\", \"Surroundings2\", \"Surroundings3\" as    the descriptive features and \"number_frogs\" as the target feature. Generate two decision trees. Let's call them \"tree1\" and \"tree2\". In tree1 set the minimum number of samples for splitting to 15 and in tree2 set the minimum number of samples for splitting to 1. Create both decision trees based on entropy."
   ]
  },
  {
   "cell_type": "code",
   "execution_count": 13,
   "metadata": {},
   "outputs": [
    {
     "name": "stderr",
     "output_type": "stream",
     "text": [
      "C:\\Users\\Anar\\Anaconda3\\envs\\env-IDS2020\\lib\\site-packages\\ipykernel_launcher.py:15: SettingWithCopyWarning: \n",
      "A value is trying to be set on a copy of a slice from a DataFrame.\n",
      "Try using .loc[row_indexer,col_indexer] = value instead\n",
      "\n",
      "See the caveats in the documentation: https://pandas.pydata.org/pandas-docs/stable/user_guide/indexing.html#returning-a-view-versus-a-copy\n",
      "  from ipykernel import kernelapp as app\n"
     ]
    }
   ],
   "source": [
    "from p_decision_tree.DecisionTree import DecisionTree\n",
    "from sklearn.tree import export_graphviz\n",
    "\n",
    "\n",
    "columns = new_sampled_data.columns\n",
    "\n",
    "# Columns for \"TypeR\", \"VegetationR\", \"Surroundings1\", \"Surroundings2\", \"Surroundings3\" \n",
    "descriptive_features = columns[3:8]\n",
    "\n",
    "# The last column is \"number_frogs\"\n",
    "target_feature = columns[-1]\n",
    "\n",
    "descriptive_dataset = new_sampled_data[descriptive_features]\n",
    "# Coverting integers to string\n",
    "descriptive_dataset[\"VegetationR\"] = descriptive_dataset[\"VegetationR\"].apply(str)\n",
    "\n",
    "descriptive_data = descriptive_dataset.values\n",
    "target_data = new_sampled_data[target_feature].values\n",
    "\n",
    "tree1 = DecisionTree(descriptive_data.tolist(), descriptive_features.tolist(), target_data.tolist(), \"entropy\")\n",
    "tree2 = DecisionTree(descriptive_data.tolist(), descriptive_features.tolist(), target_data.tolist(), \"entropy\")\n",
    "\n",
    "# Setting the minimum number of samples for splitting to 15\n",
    "tree1.id3(0,15)\n",
    "\n",
    "# Setting the minimum number of samples for splitting to 1\n",
    "tree2.id3(0,1)\n",
    "\n",
    "#Visualizing tree1\n",
    "dot = tree1.print_visualTree( render=True )\n",
    "\n",
    "# Visualizing tree2\n",
    "dot = tree2.print_visualTree( render=True )\n"
   ]
  },
  {
   "cell_type": "markdown",
   "metadata": {},
   "source": [
    "   (c) Consider tree1. What is the best attribute (based on entropy) for splitting the tree in the second round of ID3 regarding the value of the attribute chosen in the first round of ID3?    "
   ]
  },
  {
   "cell_type": "markdown",
   "metadata": {},
   "source": [
    "Explanation: The best attributes on the basis of Entropy for splitting the tree in the second round of ID3 are \"Surroundings3\". "
   ]
  },
  {
   "cell_type": "markdown",
   "metadata": {},
   "source": [
    "   (d) Compare tree1 and tree2 in terms of the possibility of overfitting and the complexity of the decision trees."
   ]
  },
  {
   "cell_type": "markdown",
   "metadata": {},
   "source": [
    "Explanation: Tree1 is simple. At first it divides the data on the basis of TypeR and then divides it on Surronding3/Surronding2. This tree defines the dataset in a very simplistic way, On the otherhand, Tree2 builds a very complex structure even though it still starts with TypeR and on the next level use different Surroundings to explain the division of data but in doing so it builds a tree that is very hard to understand and maybe overfitting the dataset."
   ]
  },
  {
   "cell_type": "markdown",
   "metadata": {},
   "source": [
    "## Question 3 - Regression (14 points):\n",
    "\n",
    "For this question (Q3), create and use a restricted dataset by removing the columns \"ID\", \"NumberR\", \"Surrounding1\", \"Surrounding2\", \"Surrounding3\", \"Common toad\", \"Fire-bellied toad\", \"Tree frog\", \"Common newt\", \"Great crested newt\" from the sampled_data.\n",
    "\n",
    "In this question, we consider \"Green frogs\" and \"Brown frogs\" to be potential target features, while all other features are potential descriptive features."
   ]
  },
  {
   "cell_type": "code",
   "execution_count": 318,
   "metadata": {},
   "outputs": [
    {
     "data": {
      "text/html": [
       "<div>\n",
       "<style scoped>\n",
       "    .dataframe tbody tr th:only-of-type {\n",
       "        vertical-align: middle;\n",
       "    }\n",
       "\n",
       "    .dataframe tbody tr th {\n",
       "        vertical-align: top;\n",
       "    }\n",
       "\n",
       "    .dataframe thead th {\n",
       "        text-align: right;\n",
       "    }\n",
       "</style>\n",
       "<table border=\"1\" class=\"dataframe\">\n",
       "  <thead>\n",
       "    <tr style=\"text-align: right;\">\n",
       "      <th></th>\n",
       "      <th>SurfaceR</th>\n",
       "      <th>TypeR</th>\n",
       "      <th>VegetationR</th>\n",
       "      <th>UseR</th>\n",
       "      <th>FishingR</th>\n",
       "      <th>AcessR</th>\n",
       "      <th>RoadDistanceR</th>\n",
       "      <th>BuildingR</th>\n",
       "      <th>PollutionR</th>\n",
       "      <th>ShoreR</th>\n",
       "      <th>Green frogs</th>\n",
       "      <th>Brown frogs</th>\n",
       "    </tr>\n",
       "  </thead>\n",
       "  <tbody>\n",
       "    <tr>\n",
       "      <th>176</th>\n",
       "      <td>300</td>\n",
       "      <td>i</td>\n",
       "      <td>2</td>\n",
       "      <td>0</td>\n",
       "      <td>0</td>\n",
       "      <td>75</td>\n",
       "      <td>0</td>\n",
       "      <td>2</td>\n",
       "      <td>0</td>\n",
       "      <td>natural</td>\n",
       "      <td>0</td>\n",
       "      <td>1</td>\n",
       "    </tr>\n",
       "    <tr>\n",
       "      <th>51</th>\n",
       "      <td>4000</td>\n",
       "      <td>a</td>\n",
       "      <td>3</td>\n",
       "      <td>0</td>\n",
       "      <td>0</td>\n",
       "      <td>100</td>\n",
       "      <td>5</td>\n",
       "      <td>5</td>\n",
       "      <td>0</td>\n",
       "      <td>natural</td>\n",
       "      <td>1</td>\n",
       "      <td>1</td>\n",
       "    </tr>\n",
       "    <tr>\n",
       "      <th>86</th>\n",
       "      <td>300</td>\n",
       "      <td>j</td>\n",
       "      <td>3</td>\n",
       "      <td>0</td>\n",
       "      <td>0</td>\n",
       "      <td>100</td>\n",
       "      <td>9</td>\n",
       "      <td>9</td>\n",
       "      <td>0</td>\n",
       "      <td>natural</td>\n",
       "      <td>0</td>\n",
       "      <td>1</td>\n",
       "    </tr>\n",
       "    <tr>\n",
       "      <th>119</th>\n",
       "      <td>300</td>\n",
       "      <td>j</td>\n",
       "      <td>1</td>\n",
       "      <td>0</td>\n",
       "      <td>0</td>\n",
       "      <td>100</td>\n",
       "      <td>5</td>\n",
       "      <td>5</td>\n",
       "      <td>0</td>\n",
       "      <td>natural</td>\n",
       "      <td>1</td>\n",
       "      <td>0</td>\n",
       "    </tr>\n",
       "    <tr>\n",
       "      <th>150</th>\n",
       "      <td>2600</td>\n",
       "      <td>a</td>\n",
       "      <td>2</td>\n",
       "      <td>3</td>\n",
       "      <td>2</td>\n",
       "      <td>50</td>\n",
       "      <td>0</td>\n",
       "      <td>1</td>\n",
       "      <td>0</td>\n",
       "      <td>natural</td>\n",
       "      <td>1</td>\n",
       "      <td>1</td>\n",
       "    </tr>\n",
       "  </tbody>\n",
       "</table>\n",
       "</div>"
      ],
      "text/plain": [
       "     SurfaceR TypeR  VegetationR  UseR  FishingR  AcessR  RoadDistanceR  \\\n",
       "176       300     i            2     0         0      75              0   \n",
       "51       4000     a            3     0         0     100              5   \n",
       "86        300     j            3     0         0     100              9   \n",
       "119       300     j            1     0         0     100              5   \n",
       "150      2600     a            2     3         2      50              0   \n",
       "\n",
       "     BuildingR  PollutionR   ShoreR  Green frogs  Brown frogs  \n",
       "176          2           0  natural            0            1  \n",
       "51           5           0  natural            1            1  \n",
       "86           9           0  natural            0            1  \n",
       "119          5           0  natural            1            0  \n",
       "150          1           0  natural            1            1  "
      ]
     },
     "execution_count": 318,
     "metadata": {},
     "output_type": "execute_result"
    }
   ],
   "source": [
    "from sklearn.linear_model import LogisticRegression\n",
    "from sklearn.metrics import confusion_matrix\n",
    "from sklearn.metrics import mean_squared_error, mean_absolute_error, median_absolute_error\n",
    "from math import sqrt\n",
    "# first we copy the data we will work with to a new data frame\n",
    "regression_features = ['SurfaceR', 'TypeR', 'VegetationR', 'UseR', 'FishingR', 'AcessR', 'RoadDistanceR', 'BuildingR', 'PollutionR', 'ShoreR', 'Green frogs', 'Brown frogs' ];\n",
    "restricted_data = sampled_data[regression_features].copy()\n",
    "\n",
    "# Target feature for \"Green frogs\" \n",
    "target_feature_green_frogs = restricted_data['Green frogs']\n",
    "\n",
    "# Target feature for \"Brown frogs\"\n",
    "target_feature_brown_frogs = restricted_data['Brown frogs']\n",
    "\n",
    "restricted_data.head()"
   ]
  },
  {
   "cell_type": "markdown",
   "metadata": {},
   "source": [
    "   (a) Which features are suitable as input for logistic regression? Which would need to be modified first? Explain your answers."
   ]
  },
  {
   "cell_type": "code",
   "execution_count": 319,
   "metadata": {},
   "outputs": [
    {
     "data": {
      "text/html": [
       "<div>\n",
       "<style scoped>\n",
       "    .dataframe tbody tr th:only-of-type {\n",
       "        vertical-align: middle;\n",
       "    }\n",
       "\n",
       "    .dataframe tbody tr th {\n",
       "        vertical-align: top;\n",
       "    }\n",
       "\n",
       "    .dataframe thead th {\n",
       "        text-align: right;\n",
       "    }\n",
       "</style>\n",
       "<table border=\"1\" class=\"dataframe\">\n",
       "  <thead>\n",
       "    <tr style=\"text-align: right;\">\n",
       "      <th></th>\n",
       "      <th>SurfaceR</th>\n",
       "      <th>TypeR</th>\n",
       "      <th>VegetationR</th>\n",
       "      <th>UseR</th>\n",
       "      <th>FishingR</th>\n",
       "      <th>AcessR</th>\n",
       "      <th>RoadDistanceR</th>\n",
       "      <th>BuildingR</th>\n",
       "      <th>PollutionR</th>\n",
       "      <th>ShoreR</th>\n",
       "    </tr>\n",
       "  </thead>\n",
       "  <tbody>\n",
       "    <tr>\n",
       "      <th>176</th>\n",
       "      <td>300</td>\n",
       "      <td>i</td>\n",
       "      <td>2</td>\n",
       "      <td>0</td>\n",
       "      <td>0</td>\n",
       "      <td>75</td>\n",
       "      <td>0</td>\n",
       "      <td>2</td>\n",
       "      <td>0</td>\n",
       "      <td>natural</td>\n",
       "    </tr>\n",
       "    <tr>\n",
       "      <th>51</th>\n",
       "      <td>4000</td>\n",
       "      <td>a</td>\n",
       "      <td>3</td>\n",
       "      <td>0</td>\n",
       "      <td>0</td>\n",
       "      <td>100</td>\n",
       "      <td>5</td>\n",
       "      <td>5</td>\n",
       "      <td>0</td>\n",
       "      <td>natural</td>\n",
       "    </tr>\n",
       "    <tr>\n",
       "      <th>86</th>\n",
       "      <td>300</td>\n",
       "      <td>j</td>\n",
       "      <td>3</td>\n",
       "      <td>0</td>\n",
       "      <td>0</td>\n",
       "      <td>100</td>\n",
       "      <td>9</td>\n",
       "      <td>9</td>\n",
       "      <td>0</td>\n",
       "      <td>natural</td>\n",
       "    </tr>\n",
       "    <tr>\n",
       "      <th>119</th>\n",
       "      <td>300</td>\n",
       "      <td>j</td>\n",
       "      <td>1</td>\n",
       "      <td>0</td>\n",
       "      <td>0</td>\n",
       "      <td>100</td>\n",
       "      <td>5</td>\n",
       "      <td>5</td>\n",
       "      <td>0</td>\n",
       "      <td>natural</td>\n",
       "    </tr>\n",
       "    <tr>\n",
       "      <th>150</th>\n",
       "      <td>2600</td>\n",
       "      <td>a</td>\n",
       "      <td>2</td>\n",
       "      <td>3</td>\n",
       "      <td>2</td>\n",
       "      <td>50</td>\n",
       "      <td>0</td>\n",
       "      <td>1</td>\n",
       "      <td>0</td>\n",
       "      <td>natural</td>\n",
       "    </tr>\n",
       "    <tr>\n",
       "      <th>...</th>\n",
       "      <td>...</td>\n",
       "      <td>...</td>\n",
       "      <td>...</td>\n",
       "      <td>...</td>\n",
       "      <td>...</td>\n",
       "      <td>...</td>\n",
       "      <td>...</td>\n",
       "      <td>...</td>\n",
       "      <td>...</td>\n",
       "      <td>...</td>\n",
       "    </tr>\n",
       "    <tr>\n",
       "      <th>163</th>\n",
       "      <td>2300</td>\n",
       "      <td>a</td>\n",
       "      <td>1</td>\n",
       "      <td>3</td>\n",
       "      <td>3</td>\n",
       "      <td>50</td>\n",
       "      <td>1</td>\n",
       "      <td>0</td>\n",
       "      <td>0</td>\n",
       "      <td>natural</td>\n",
       "    </tr>\n",
       "    <tr>\n",
       "      <th>65</th>\n",
       "      <td>300</td>\n",
       "      <td>h</td>\n",
       "      <td>3</td>\n",
       "      <td>0</td>\n",
       "      <td>0</td>\n",
       "      <td>100</td>\n",
       "      <td>5</td>\n",
       "      <td>5</td>\n",
       "      <td>0</td>\n",
       "      <td>natural</td>\n",
       "    </tr>\n",
       "    <tr>\n",
       "      <th>8</th>\n",
       "      <td>750</td>\n",
       "      <td>d</td>\n",
       "      <td>1</td>\n",
       "      <td>0</td>\n",
       "      <td>1</td>\n",
       "      <td>50</td>\n",
       "      <td>1</td>\n",
       "      <td>0</td>\n",
       "      <td>0</td>\n",
       "      <td>natural</td>\n",
       "    </tr>\n",
       "    <tr>\n",
       "      <th>175</th>\n",
       "      <td>1000</td>\n",
       "      <td>a</td>\n",
       "      <td>4</td>\n",
       "      <td>0</td>\n",
       "      <td>0</td>\n",
       "      <td>100</td>\n",
       "      <td>1</td>\n",
       "      <td>1</td>\n",
       "      <td>0</td>\n",
       "      <td>natural</td>\n",
       "    </tr>\n",
       "    <tr>\n",
       "      <th>14</th>\n",
       "      <td>8000</td>\n",
       "      <td>a</td>\n",
       "      <td>3</td>\n",
       "      <td>0</td>\n",
       "      <td>0</td>\n",
       "      <td>100</td>\n",
       "      <td>9</td>\n",
       "      <td>9</td>\n",
       "      <td>0</td>\n",
       "      <td>natural</td>\n",
       "    </tr>\n",
       "  </tbody>\n",
       "</table>\n",
       "<p>170 rows × 10 columns</p>\n",
       "</div>"
      ],
      "text/plain": [
       "     SurfaceR TypeR  VegetationR  UseR  FishingR  AcessR  RoadDistanceR  \\\n",
       "176       300     i            2     0         0      75              0   \n",
       "51       4000     a            3     0         0     100              5   \n",
       "86        300     j            3     0         0     100              9   \n",
       "119       300     j            1     0         0     100              5   \n",
       "150      2600     a            2     3         2      50              0   \n",
       "..        ...   ...          ...   ...       ...     ...            ...   \n",
       "163      2300     a            1     3         3      50              1   \n",
       "65        300     h            3     0         0     100              5   \n",
       "8         750     d            1     0         1      50              1   \n",
       "175      1000     a            4     0         0     100              1   \n",
       "14       8000     a            3     0         0     100              9   \n",
       "\n",
       "     BuildingR  PollutionR   ShoreR  \n",
       "176          2           0  natural  \n",
       "51           5           0  natural  \n",
       "86           9           0  natural  \n",
       "119          5           0  natural  \n",
       "150          1           0  natural  \n",
       "..         ...         ...      ...  \n",
       "163          0           0  natural  \n",
       "65           5           0  natural  \n",
       "8            0           0  natural  \n",
       "175          1           0  natural  \n",
       "14           9           0  natural  \n",
       "\n",
       "[170 rows x 10 columns]"
      ]
     },
     "execution_count": 319,
     "metadata": {},
     "output_type": "execute_result"
    }
   ],
   "source": [
    "#get descriptive features from the dataset by removing the last 2 columns for the frogs\n",
    "descriptive_features_original = restricted_data[restricted_data.columns[:-2]]\n",
    "descriptive_features_original"
   ]
  },
  {
   "cell_type": "markdown",
   "metadata": {},
   "source": [
    "Explanation: \n",
    "Following features are suitable as Input for Logical Regression,\n",
    "SurfaceR\t\n",
    "TypeR\t\n",
    "VegetationR\t\n",
    "UseR\t\n",
    "FishingR\t\n",
    "AcessR\t\n",
    "RoadDistanceR\t\n",
    "BuildingR\t\n",
    "PollutionR\t\n",
    "ShoreR\n",
    "\n",
    "\n",
    "The Features TypeR and ShoreR are categorical, that means they have to be modified to be suitable to be treated as Input for Logical Regression. Hence we would be using the OHE(one hot encoding) to modify these columns before using them as an input in the logistic regression."
   ]
  },
  {
   "cell_type": "markdown",
   "metadata": {},
   "source": [
    "   (b) Implement and briefly motivate an adequate modification. Print the resulting data set limited to the first two data rows. "
   ]
  },
  {
   "cell_type": "markdown",
   "metadata": {},
   "source": [
    "Explanation:\n",
    "\n",
    "The Features TypeR and ShoreR are categorical, that means they have to be modified. We have modified them using \"one hot encoding\" scheme."
   ]
  },
  {
   "cell_type": "code",
   "execution_count": 260,
   "metadata": {
    "scrolled": true
   },
   "outputs": [
    {
     "data": {
      "text/html": [
       "<div>\n",
       "<style scoped>\n",
       "    .dataframe tbody tr th:only-of-type {\n",
       "        vertical-align: middle;\n",
       "    }\n",
       "\n",
       "    .dataframe tbody tr th {\n",
       "        vertical-align: top;\n",
       "    }\n",
       "\n",
       "    .dataframe thead th {\n",
       "        text-align: right;\n",
       "    }\n",
       "</style>\n",
       "<table border=\"1\" class=\"dataframe\">\n",
       "  <thead>\n",
       "    <tr style=\"text-align: right;\">\n",
       "      <th></th>\n",
       "      <th>SurfaceR</th>\n",
       "      <th>VegetationR</th>\n",
       "      <th>UseR</th>\n",
       "      <th>FishingR</th>\n",
       "      <th>AcessR</th>\n",
       "      <th>RoadDistanceR</th>\n",
       "      <th>BuildingR</th>\n",
       "      <th>PollutionR</th>\n",
       "      <th>TypeR_a</th>\n",
       "      <th>TypeR_b</th>\n",
       "      <th>TypeR_d</th>\n",
       "      <th>TypeR_g</th>\n",
       "      <th>TypeR_h</th>\n",
       "      <th>TypeR_i</th>\n",
       "      <th>TypeR_j</th>\n",
       "      <th>ShoreR_concrete</th>\n",
       "      <th>ShoreR_natural</th>\n",
       "    </tr>\n",
       "  </thead>\n",
       "  <tbody>\n",
       "    <tr>\n",
       "      <th>176</th>\n",
       "      <td>300</td>\n",
       "      <td>2</td>\n",
       "      <td>0</td>\n",
       "      <td>0</td>\n",
       "      <td>75</td>\n",
       "      <td>0</td>\n",
       "      <td>2</td>\n",
       "      <td>0</td>\n",
       "      <td>0</td>\n",
       "      <td>0</td>\n",
       "      <td>0</td>\n",
       "      <td>0</td>\n",
       "      <td>0</td>\n",
       "      <td>1</td>\n",
       "      <td>0</td>\n",
       "      <td>0</td>\n",
       "      <td>1</td>\n",
       "    </tr>\n",
       "    <tr>\n",
       "      <th>51</th>\n",
       "      <td>4000</td>\n",
       "      <td>3</td>\n",
       "      <td>0</td>\n",
       "      <td>0</td>\n",
       "      <td>100</td>\n",
       "      <td>5</td>\n",
       "      <td>5</td>\n",
       "      <td>0</td>\n",
       "      <td>1</td>\n",
       "      <td>0</td>\n",
       "      <td>0</td>\n",
       "      <td>0</td>\n",
       "      <td>0</td>\n",
       "      <td>0</td>\n",
       "      <td>0</td>\n",
       "      <td>0</td>\n",
       "      <td>1</td>\n",
       "    </tr>\n",
       "  </tbody>\n",
       "</table>\n",
       "</div>"
      ],
      "text/plain": [
       "     SurfaceR  VegetationR  UseR  FishingR  AcessR  RoadDistanceR  BuildingR  \\\n",
       "176       300            2     0         0      75              0          2   \n",
       "51       4000            3     0         0     100              5          5   \n",
       "\n",
       "     PollutionR  TypeR_a  TypeR_b  TypeR_d  TypeR_g  TypeR_h  TypeR_i  \\\n",
       "176           0        0        0        0        0        0        1   \n",
       "51            0        1        0        0        0        0        0   \n",
       "\n",
       "     TypeR_j  ShoreR_concrete  ShoreR_natural  \n",
       "176        0                0               1  \n",
       "51         0                0               1  "
      ]
     },
     "execution_count": 260,
     "metadata": {},
     "output_type": "execute_result"
    }
   ],
   "source": [
    "descriptive_features_transformed = pd.get_dummies(descriptive_features_original)\n",
    "descriptive_features_transformed.head(2)"
   ]
  },
  {
   "cell_type": "markdown",
   "metadata": {},
   "source": [
    "(c) We want to predict the presence of green frogs and brown frogs in the habitat, using a distinct logistic regression classifier for each frog type. \n",
    "\n",
    "Consider the set of features available in this question's unmodified data set (that is before Q3b). To get an overview of the data, choose and present some basic visualization as discussed in the lectures (e.g.  scatter matrix, scatter plots, charts, etc.). Based on this visualization, for each frog type choose the 4 most promising descriptive features to predict the presence of that frog type in the habitat. \n",
    "\n",
    "Explain your strategy and choices."
   ]
  },
  {
   "cell_type": "code",
   "execution_count": 261,
   "metadata": {
    "scrolled": false
   },
   "outputs": [
    {
     "data": {
      "image/png": "[encoded data removed]",
      "text/plain": [
       "<Figure size 432x288 with 1 Axes>"
      ]
     },
     "metadata": {},
     "output_type": "display_data"
    },
    {
     "data": {
      "image/png": "[encoded data removed]",
      "text/plain": [
       "<Figure size 432x288 with 1 Axes>"
      ]
     },
     "metadata": {},
     "output_type": "display_data"
    },
    {
     "data": {
      "image/png": "[encoded data removed]",
      "text/plain": [
       "<Figure size 432x288 with 1 Axes>"
      ]
     },
     "metadata": {},
     "output_type": "display_data"
    },
    {
     "data": {
      "image/png": "[encoded data removed]",
      "text/plain": [
       "<Figure size 432x288 with 1 Axes>"
      ]
     },
     "metadata": {},
     "output_type": "display_data"
    },
    {
     "data": {
      "image/png": "[encoded data removed]",
      "text/plain": [
       "<Figure size 432x288 with 1 Axes>"
      ]
     },
     "metadata": {},
     "output_type": "display_data"
    },
    {
     "data": {
      "image/png": "[encoded data removed]",
      "text/plain": [
       "<Figure size 432x288 with 1 Axes>"
      ]
     },
     "metadata": {},
     "output_type": "display_data"
    },
    {
     "data": {
      "image/png": "[encoded data removed]",
      "text/plain": [
       "<Figure size 432x288 with 1 Axes>"
      ]
     },
     "metadata": {},
     "output_type": "display_data"
    },
    {
     "data": {
      "image/png": "[encoded data removed]",
      "text/plain": [
       "<Figure size 432x288 with 1 Axes>"
      ]
     },
     "metadata": {},
     "output_type": "display_data"
    },
    {
     "data": {
      "image/png": "[encoded data removed]",
      "text/plain": [
       "<Figure size 432x288 with 1 Axes>"
      ]
     },
     "metadata": {},
     "output_type": "display_data"
    },
    {
     "data": {
      "image/png": "[encoded data removed]",
      "text/plain": [
       "<Figure size 432x288 with 1 Axes>"
      ]
     },
     "metadata": {},
     "output_type": "display_data"
    },
    {
     "data": {
      "image/png": "[encoded data removed]",
      "text/plain": [
       "<Figure size 432x288 with 1 Axes>"
      ]
     },
     "metadata": {},
     "output_type": "display_data"
    },
    {
     "data": {
      "image/png": "[encoded data removed]",
      "text/plain": [
       "<Figure size 432x288 with 1 Axes>"
      ]
     },
     "metadata": {},
     "output_type": "display_data"
    },
    {
     "data": {
      "image/png": "[encoded data removed]",
      "text/plain": [
       "<Figure size 432x288 with 1 Axes>"
      ]
     },
     "metadata": {},
     "output_type": "display_data"
    },
    {
     "data": {
      "image/png": "[encoded data removed]",
      "text/plain": [
       "<Figure size 432x288 with 1 Axes>"
      ]
     },
     "metadata": {},
     "output_type": "display_data"
    },
    {
     "data": {
      "image/png": "[encoded data removed]",
      "text/plain": [
       "<Figure size 432x288 with 1 Axes>"
      ]
     },
     "metadata": {},
     "output_type": "display_data"
    },
    {
     "data": {
      "image/png": "[encoded data removed]",
      "text/plain": [
       "<Figure size 432x288 with 1 Axes>"
      ]
     },
     "metadata": {},
     "output_type": "display_data"
    },
    {
     "data": {
      "image/png": "[encoded data removed]",
      "text/plain": [
       "<Figure size 432x288 with 1 Axes>"
      ]
     },
     "metadata": {},
     "output_type": "display_data"
    },
    {
     "data": {
      "image/png": "[encoded data removed]",
      "text/plain": [
       "<Figure size 432x288 with 1 Axes>"
      ]
     },
     "metadata": {},
     "output_type": "display_data"
    },
    {
     "data": {
      "image/png": "[encoded data removed]",
      "text/plain": [
       "<Figure size 432x288 with 1 Axes>"
      ]
     },
     "metadata": {},
     "output_type": "display_data"
    },
    {
     "data": {
      "image/png": "[encoded data removed]",
      "text/plain": [
       "<Figure size 432x288 with 1 Axes>"
      ]
     },
     "metadata": {},
     "output_type": "display_data"
    },
    {
     "name": "stdout",
     "output_type": "stream",
     "text": [
      "               SurfaceR  VegetationR   UseR  FishingR  AcessR  RoadDistanceR  \\\n",
      "SurfaceR          1.000        0.003  0.242     0.288   0.004         -0.061   \n",
      "VegetationR       0.003        1.000 -0.558    -0.544   0.140          0.232   \n",
      "UseR              0.242       -0.558  1.000     0.848  -0.132         -0.174   \n",
      "FishingR          0.288       -0.544  0.848     1.000  -0.105         -0.172   \n",
      "AcessR            0.004        0.140 -0.132    -0.105   1.000          0.385   \n",
      "RoadDistanceR    -0.061        0.232 -0.174    -0.172   0.385          1.000   \n",
      "BuildingR        -0.062        0.298 -0.270    -0.245   0.344          0.771   \n",
      "PollutionR       -0.033       -0.027 -0.110    -0.082   0.037         -0.002   \n",
      "Green frogs       0.168       -0.129  0.332     0.320   0.012          0.060   \n",
      "Brown frogs       0.067        0.074 -0.028    -0.005   0.166          0.058   \n",
      "\n",
      "               BuildingR  PollutionR  Green frogs  Brown frogs  \n",
      "SurfaceR          -0.062      -0.033        0.168        0.067  \n",
      "VegetationR        0.298      -0.027       -0.129        0.074  \n",
      "UseR              -0.270      -0.110        0.332       -0.028  \n",
      "FishingR          -0.245      -0.082        0.320       -0.005  \n",
      "AcessR             0.344       0.037        0.012        0.166  \n",
      "RoadDistanceR      0.771      -0.002        0.060        0.058  \n",
      "BuildingR          1.000      -0.013       -0.024        0.070  \n",
      "PollutionR        -0.013       1.000        0.079       -0.084  \n",
      "Green frogs       -0.024       0.079        1.000        0.052  \n",
      "Brown frogs        0.070      -0.084        0.052        1.000  \n"
     ]
    }
   ],
   "source": [
    "for col in descriptive_features_original.columns:\n",
    "    pl.title('Green frog habitation according to ' + col)\n",
    "    sb.barplot(x=col, y=\"Green frogs\", data=restricted_data)\n",
    "    pl.show()\n",
    "\n",
    "for col in descriptive_features_original.columns:\n",
    "    pl.title('Brown frog habitation according to ' + col)\n",
    "    sb.barplot(x=col, y=\"Brown frogs\", data=restricted_data)\n",
    "    pl.show()\n",
    "\n",
    "    \n",
    "pd.set_option('precision',3)\n",
    "correlations = restricted_data.corr(method= 'pearson')\n",
    "print(correlations)"
   ]
  },
  {
   "cell_type": "markdown",
   "metadata": {},
   "source": [
    "Explanation: \n",
    "Based on the Co-relation and above figures, independent features are to be considered for better results therefore we have chose following features on the basis of their Co-relation.\n",
    "\n",
    "Green Frogs: Surface, TypeR, UseR and AcessR\n",
    "\n",
    "Brown Frogs: Surface, TypeR, VegetationR and AcessR\n",
    "\n",
    "Their values of co-relation are close to zero which indicates they are almost independent of each other.\n",
    "Note: TypeR is used after converting it using One hot Encoding"
   ]
  },
  {
   "cell_type": "markdown",
   "metadata": {},
   "source": [
    "   (d) For both frog types, train a logistic regression classifier to predict the presence of that frog type in the habitat. Use the descriptive features as chosen in Q3c. Apply the modification from Q3b if needed."
   ]
  },
  {
   "cell_type": "code",
   "execution_count": 388,
   "metadata": {},
   "outputs": [
    {
     "name": "stdout",
     "output_type": "stream",
     "text": [
      "Prediction score for Green Frogs :  0.711764705882353\n",
      "Prediction score for Brown Frogs :  0.7705882352941177\n"
     ]
    },
    {
     "name": "stderr",
     "output_type": "stream",
     "text": [
      "C:\\Users\\HP\\anaconda3\\envs\\env-IDS2020\\lib\\site-packages\\scipy\\optimize\\linesearch.py:477: LineSearchWarning: The line search algorithm did not converge\n",
      "  warn('The line search algorithm did not converge', LineSearchWarning)\n",
      "C:\\Users\\HP\\anaconda3\\envs\\env-IDS2020\\lib\\site-packages\\scipy\\optimize\\linesearch.py:327: LineSearchWarning: The line search algorithm did not converge\n",
      "  warn('The line search algorithm did not converge', LineSearchWarning)\n"
     ]
    }
   ],
   "source": [
    "# Descriptive features\n",
    "descriptive_features_green_frogs = descriptive_features_transformed[['SurfaceR', 'TypeR_a', 'TypeR_b', 'TypeR_d', 'TypeR_g', \n",
    "                                                                     'TypeR_h', 'TypeR_i', 'TypeR_j', 'UseR', 'AcessR']]\n",
    "descriptive_features_brown_frogs = descriptive_features_transformed[['SurfaceR','TypeR_a', 'TypeR_b', 'TypeR_d', 'TypeR_g', \n",
    "                                                                     'TypeR_h', 'TypeR_i', 'TypeR_j', 'AcessR', 'VegetationR']]\n",
    "\n",
    "# Classifier for green frogs\n",
    "classifier_green = LogisticRegression(solver = 'lbfgs', multi_class = 'multinomial')\n",
    "classifier_green.fit(descriptive_features_green_frogs, target_feature_green_frogs)\n",
    "# Predicted green frogs\n",
    "targetFeature_green_frogs_pred = classifier_green.predict(descriptive_features_green_frogs)\n",
    "print(\"Prediction score for Green Frogs : \",classifier_green.score(descriptive_features_green_frogs, target_feature_green_frogs))\n",
    "\n",
    "# Classifier for brown frogs\n",
    "classifier_brown = LogisticRegression(solver = 'newton-cg', multi_class = 'multinomial')\n",
    "classifier_brown.fit(descriptive_features_brown_frogs, target_feature_brown_frogs)\n",
    "# Predicted brown frogs\n",
    "targetFeature_brown_frogs_pred = classifier_brown.predict(descriptive_features_brown_frogs)\n",
    "print(\"Prediction score for Brown Frogs : \",classifier_brown.score(descriptive_features_brown_frogs, target_feature_brown_frogs))"
   ]
  },
  {
   "cell_type": "markdown",
   "metadata": {},
   "source": [
    "   (e) For each of the two trained classifiers compute and print the confusion matrix."
   ]
  },
  {
   "cell_type": "code",
   "execution_count": 382,
   "metadata": {},
   "outputs": [
    {
     "name": "stdout",
     "output_type": "stream",
     "text": [
      "Confusion matrix for green frogs:\n",
      " [[45 32]\n",
      " [17 76]]\n",
      "Confusion matrix for brown frogs:\n",
      " [[  3  37]\n",
      " [  2 128]]\n"
     ]
    }
   ],
   "source": [
    "print('Confusion matrix for green frogs:\\n', confusion_matrix(target_feature_green_frogs, targetFeature_green_frogs_pred))\n",
    "\n",
    "print('Confusion matrix for brown frogs:\\n', confusion_matrix(target_feature_brown_frogs, targetFeature_brown_frogs_pred))"
   ]
  },
  {
   "cell_type": "markdown",
   "metadata": {},
   "source": [
    "(f) Based on the information computed in Q3 so far, interpret and evaluate the two models and compare them. Why are they similar/different? Would you recommend the models and why (not)? How do you think the applied methods could be improved to get better results?"
   ]
  },
  {
   "cell_type": "markdown",
   "metadata": {},
   "source": [
    "Explanation: \n",
    "\n",
    "Both models have most of the data categorised as True Negatives, however, the number is very huge in Confusion matrix of Brown Frogs. The True Positives in Green Frogs model is very large as compared to that of Brown frogs. \n",
    "\n",
    "As evident from the confusion matrix of Brown Frogs, the model is very biased. Most of the data is being mapped to 1, which is depicted in the Confusion matrix as more than 75% of the records are mapped as True Negative. Regardless of the high accuracy obtained via our model for brown frogs, which is because of the role of true negatives present, we wont consider it as a good model. Accuracy might be good, but other measures would have unsatisfactory results. Thats why it is not recommended to use Brwon Frogs model. This biasness is due to the uneven distribution of data in the dataset. Most of the values are 1 due to which our models mostly predicts it as 1.\n",
    "\n",
    "Whereas we see unbiasness in the model for Green frogs, data is evenly disributed. So, despite having lower accuracy as compared to that of Brwon frogs, others measures would have pretty considerate results. That's why it is recommended to use Model for Green Frogs."
   ]
  },
  {
   "cell_type": "markdown",
   "metadata": {},
   "source": [
    "## Question 4 - Support Vector Machines (8 points):\n",
    "\n",
    "For this question (Q4), restrict your data set to the same features as in Q3. Similar to Q3, we want to train two distinct classifiers predicting the presence of green frogs and brown frogs in the habitat. \n",
    "\n",
    "In this question, we will use SVMs instead of logistic regression. In the following, consider *Green frogs* and *Brown frogs* to be potential target features, while all other features are potential descriptive features."
   ]
  },
  {
   "cell_type": "code",
   "execution_count": 387,
   "metadata": {},
   "outputs": [],
   "source": [
    "from sklearn.model_selection import train_test_split\n",
    "from sklearn.svm import SVC\n",
    "from sklearn.metrics import classification_report\n",
    "# Restricting dataset \n",
    "\n",
    "svm_restricted_data = sampled_data[['SurfaceR', 'TypeR', 'VegetationR', 'UseR', 'FishingR', 'AcessR','RoadDistanceR','BuildingR', 'PollutionR', 'ShoreR', 'Green frogs', 'Brown frogs']]"
   ]
  },
  {
   "cell_type": "markdown",
   "metadata": {},
   "source": [
    "   (a) Which of the potential descriptive features are suitable as an input for SVMs and which need to be modified first? Modify the data as needed and provide a brief explanation. Print the first two data rows of the modified data set."
   ]
  },
  {
   "cell_type": "code",
   "execution_count": 266,
   "metadata": {},
   "outputs": [
    {
     "data": {
      "text/html": [
       "<div>\n",
       "<style scoped>\n",
       "    .dataframe tbody tr th:only-of-type {\n",
       "        vertical-align: middle;\n",
       "    }\n",
       "\n",
       "    .dataframe tbody tr th {\n",
       "        vertical-align: top;\n",
       "    }\n",
       "\n",
       "    .dataframe thead th {\n",
       "        text-align: right;\n",
       "    }\n",
       "</style>\n",
       "<table border=\"1\" class=\"dataframe\">\n",
       "  <thead>\n",
       "    <tr style=\"text-align: right;\">\n",
       "      <th></th>\n",
       "      <th>SurfaceR</th>\n",
       "      <th>VegetationR</th>\n",
       "      <th>UseR</th>\n",
       "      <th>FishingR</th>\n",
       "      <th>AcessR</th>\n",
       "      <th>RoadDistanceR</th>\n",
       "      <th>BuildingR</th>\n",
       "      <th>PollutionR</th>\n",
       "      <th>Green frogs</th>\n",
       "      <th>Brown frogs</th>\n",
       "      <th>TypeR_a</th>\n",
       "      <th>TypeR_b</th>\n",
       "      <th>TypeR_d</th>\n",
       "      <th>TypeR_g</th>\n",
       "      <th>TypeR_h</th>\n",
       "      <th>TypeR_i</th>\n",
       "      <th>TypeR_j</th>\n",
       "      <th>ShoreR_concrete</th>\n",
       "      <th>ShoreR_natural</th>\n",
       "    </tr>\n",
       "  </thead>\n",
       "  <tbody>\n",
       "    <tr>\n",
       "      <th>176</th>\n",
       "      <td>300</td>\n",
       "      <td>2</td>\n",
       "      <td>0</td>\n",
       "      <td>0</td>\n",
       "      <td>75</td>\n",
       "      <td>0</td>\n",
       "      <td>2</td>\n",
       "      <td>0</td>\n",
       "      <td>0</td>\n",
       "      <td>1</td>\n",
       "      <td>0</td>\n",
       "      <td>0</td>\n",
       "      <td>0</td>\n",
       "      <td>0</td>\n",
       "      <td>0</td>\n",
       "      <td>1</td>\n",
       "      <td>0</td>\n",
       "      <td>0</td>\n",
       "      <td>1</td>\n",
       "    </tr>\n",
       "    <tr>\n",
       "      <th>51</th>\n",
       "      <td>4000</td>\n",
       "      <td>3</td>\n",
       "      <td>0</td>\n",
       "      <td>0</td>\n",
       "      <td>100</td>\n",
       "      <td>5</td>\n",
       "      <td>5</td>\n",
       "      <td>0</td>\n",
       "      <td>1</td>\n",
       "      <td>1</td>\n",
       "      <td>1</td>\n",
       "      <td>0</td>\n",
       "      <td>0</td>\n",
       "      <td>0</td>\n",
       "      <td>0</td>\n",
       "      <td>0</td>\n",
       "      <td>0</td>\n",
       "      <td>0</td>\n",
       "      <td>1</td>\n",
       "    </tr>\n",
       "    <tr>\n",
       "      <th>86</th>\n",
       "      <td>300</td>\n",
       "      <td>3</td>\n",
       "      <td>0</td>\n",
       "      <td>0</td>\n",
       "      <td>100</td>\n",
       "      <td>9</td>\n",
       "      <td>9</td>\n",
       "      <td>0</td>\n",
       "      <td>0</td>\n",
       "      <td>1</td>\n",
       "      <td>0</td>\n",
       "      <td>0</td>\n",
       "      <td>0</td>\n",
       "      <td>0</td>\n",
       "      <td>0</td>\n",
       "      <td>0</td>\n",
       "      <td>1</td>\n",
       "      <td>0</td>\n",
       "      <td>1</td>\n",
       "    </tr>\n",
       "  </tbody>\n",
       "</table>\n",
       "</div>"
      ],
      "text/plain": [
       "     SurfaceR  VegetationR  UseR  FishingR  AcessR  RoadDistanceR  BuildingR  \\\n",
       "176       300            2     0         0      75              0          2   \n",
       "51       4000            3     0         0     100              5          5   \n",
       "86        300            3     0         0     100              9          9   \n",
       "\n",
       "     PollutionR  Green frogs  Brown frogs  TypeR_a  TypeR_b  TypeR_d  TypeR_g  \\\n",
       "176           0            0            1        0        0        0        0   \n",
       "51            0            1            1        1        0        0        0   \n",
       "86            0            0            1        0        0        0        0   \n",
       "\n",
       "     TypeR_h  TypeR_i  TypeR_j  ShoreR_concrete  ShoreR_natural  \n",
       "176        0        1        0                0               1  \n",
       "51         0        0        0                0               1  \n",
       "86         0        0        1                0               1  "
      ]
     },
     "execution_count": 266,
     "metadata": {},
     "output_type": "execute_result"
    }
   ],
   "source": [
    "#using OHE for the categorical data \n",
    "svm_restricted_data_transformed = pd.get_dummies(svm_restricted_data)\n",
    "svm_restricted_data_transformed.head(3)"
   ]
  },
  {
   "cell_type": "markdown",
   "metadata": {},
   "source": [
    "Explanation:\n",
    "Following features are suitable as Input,\n",
    "SurfaceR\t\n",
    "TypeR\t\n",
    "VegetationR\t\n",
    "UseR\t\n",
    "FishingR\t\n",
    "AcessR\t\n",
    "RoadDistanceR\t\n",
    "BuildingR\t\n",
    "PollutionR\t\n",
    "ShoreR\n",
    "\n",
    "\n",
    "The Features TypeR and ShoreR are categorical, that means they have to be modified to be suitable to be treated as Input for Logical Regression. Hence we would be using the OHE(one hot encoding) to modify these columns before using them as an input."
   ]
  },
  {
   "cell_type": "markdown",
   "metadata": {},
   "source": [
    "   (b) For each frog type, consider the same set of 4 descriptive features as chosen in Q3 c). Generate for both target features a training and test set based on all data rows (for example, consider the sampling strategies as explained in the lecture) of the restricted data set. Briefly explain and motivate the choice of the sampling strategy as well as the size of the training and test set."
   ]
  },
  {
   "cell_type": "code",
   "execution_count": 389,
   "metadata": {},
   "outputs": [],
   "source": [
    "svm_data_sample = svm_restricted_data_transformed.sample(frac=0.6, random_state=391825)\n",
    "svm_train_data, svm_test_data = train_test_split(svm_data_sample, test_size=0.4, random_state=391825)\n",
    "\n",
    "svm_descriptive_train_green = svm_train_data[['SurfaceR', 'TypeR_a', 'TypeR_b', 'TypeR_d', 'TypeR_g', 'TypeR_h', 'TypeR_i', 'TypeR_j', 'UseR', 'AcessR']]\n",
    "svm_descriptive_test_green = svm_test_data[['SurfaceR', 'TypeR_a', 'TypeR_b', 'TypeR_d', 'TypeR_g', 'TypeR_h', 'TypeR_i', 'TypeR_j', 'UseR', 'AcessR']]\n",
    "\n",
    "svm_descriptive_train_brown = svm_train_data[['SurfaceR', 'TypeR_a', 'TypeR_b', 'TypeR_d', 'TypeR_g', 'TypeR_h', 'TypeR_i', 'TypeR_j','VegetationR', 'AcessR']]\n",
    "svm_descriptive_test_brown = svm_test_data[['SurfaceR', 'TypeR_a', 'TypeR_b', 'TypeR_d', 'TypeR_g', 'TypeR_h', 'TypeR_i', 'TypeR_j','VegetationR', 'AcessR']]\n",
    "\n",
    "svm_target_green_train = svm_train_data[['Green frogs']]\n",
    "svm_target_green_test = svm_test_data[['Green frogs']]\n",
    "\n",
    "svm_target_brown_train = svm_train_data[['Brown frogs']]\n",
    "svm_target_brown_test = svm_test_data[['Brown frogs']]"
   ]
  },
  {
   "cell_type": "markdown",
   "metadata": {},
   "source": [
    "Explanation: We have used the sample as 60% of the complete dataset and the training data as 40% of the dataset. The reason of creating this division is that we want to have the maximal data examples covered by the sample data to make a more generic model. whereas for test set we want to cover most of the variations and new dataset"
   ]
  },
  {
   "cell_type": "markdown",
   "metadata": {},
   "source": [
    "   (c) Use the training set to train 4 different SVMs (2 per frog type) with different parameter combinations. Use at least two distinct values for the parameters *kernel* and *C*.\n",
    "\n",
    "*Hint: depending on the size of the training data and chosen parameters, training the SVMs may take some time.*"
   ]
  },
  {
   "cell_type": "code",
   "execution_count": 272,
   "metadata": {},
   "outputs": [
    {
     "name": "stderr",
     "output_type": "stream",
     "text": [
      "C:\\Users\\HP\\anaconda3\\envs\\env-IDS2020\\lib\\site-packages\\sklearn\\utils\\validation.py:72: DataConversionWarning: A column-vector y was passed when a 1d array was expected. Please change the shape of y to (n_samples, ), for example using ravel().\n",
      "  return f(**kwargs)\n",
      "C:\\Users\\HP\\anaconda3\\envs\\env-IDS2020\\lib\\site-packages\\sklearn\\utils\\validation.py:72: DataConversionWarning: A column-vector y was passed when a 1d array was expected. Please change the shape of y to (n_samples, ), for example using ravel().\n",
      "  return f(**kwargs)\n",
      "C:\\Users\\HP\\anaconda3\\envs\\env-IDS2020\\lib\\site-packages\\sklearn\\utils\\validation.py:72: DataConversionWarning: A column-vector y was passed when a 1d array was expected. Please change the shape of y to (n_samples, ), for example using ravel().\n",
      "  return f(**kwargs)\n",
      "C:\\Users\\HP\\anaconda3\\envs\\env-IDS2020\\lib\\site-packages\\sklearn\\utils\\validation.py:72: DataConversionWarning: A column-vector y was passed when a 1d array was expected. Please change the shape of y to (n_samples, ), for example using ravel().\n",
      "  return f(**kwargs)\n"
     ]
    },
    {
     "data": {
      "text/plain": [
       "SVC(C=0.5, gamma='auto')"
      ]
     },
     "execution_count": 272,
     "metadata": {},
     "output_type": "execute_result"
    }
   ],
   "source": [
    "# First SVM for Green frogs\n",
    "classifier_green1 = SVC(C=1, kernel='linear', gamma = 'auto')\n",
    "classifier_green1.fit(svm_descriptive_train_green, svm_target_green_train)\n",
    "\n",
    "# Second SVM for Green frogs\n",
    "classifier_green2 = SVC(C=3, kernel='sigmoid', gamma = 'auto')\n",
    "classifier_green2.fit(svm_descriptive_train_green, svm_target_green_train)\n",
    "\n",
    "# First SVM for Brown frogs\n",
    "classifier_brown1 = SVC(C=1, kernel='linear', gamma = 'auto')\n",
    "classifier_brown1.fit(svm_descriptive_train_brown, svm_target_brown_train)\n",
    "\n",
    "# Second SVM for Brown frogs\n",
    "classifier_brown2 = SVC(C=0.5, kernel='rbf', gamma = 'auto')\n",
    "classifier_brown2.fit(svm_descriptive_train_brown, svm_target_brown_train)"
   ]
  },
  {
   "cell_type": "markdown",
   "metadata": {},
   "source": [
    "   (d) Compute and print the mean accuracy and the classification report of the trained SVMs with respect to the test set (see instruction for examples)."
   ]
  },
  {
   "cell_type": "code",
   "execution_count": 273,
   "metadata": {},
   "outputs": [
    {
     "name": "stdout",
     "output_type": "stream",
     "text": [
      "Accuracy for the first green frogs classifier :  0.7058823529411765\n",
      "Classification report for the first green frogs classifier : \n",
      "\n",
      "               precision    recall  f1-score   support\n",
      "\n",
      "           0       0.59      0.77      0.67        13\n",
      "           1       0.82      0.67      0.74        21\n",
      "\n",
      "    accuracy                           0.71        34\n",
      "   macro avg       0.71      0.72      0.70        34\n",
      "weighted avg       0.73      0.71      0.71        34\n",
      "\n",
      "Accuracy for the second green frogs classifier :  0.6176470588235294\n",
      "Classification report for the second green frogs classifier : \n",
      "\n",
      "               precision    recall  f1-score   support\n",
      "\n",
      "           0       0.00      0.00      0.00        13\n",
      "           1       0.62      1.00      0.76        21\n",
      "\n",
      "    accuracy                           0.62        34\n",
      "   macro avg       0.31      0.50      0.38        34\n",
      "weighted avg       0.38      0.62      0.47        34\n",
      "\n",
      "Accuracy for the first brown frogs classifier :  0.7352941176470589\n",
      "Classification report for the first brown frogs classifier : \n",
      "\n",
      "               precision    recall  f1-score   support\n",
      "\n",
      "           0       0.00      0.00      0.00         9\n",
      "           1       0.74      1.00      0.85        25\n",
      "\n",
      "    accuracy                           0.74        34\n",
      "   macro avg       0.37      0.50      0.42        34\n",
      "weighted avg       0.54      0.74      0.62        34\n",
      "\n",
      "Accuracy for the second brown frogs classifier :  0.7352941176470589\n",
      "Classification report for the second brown frogs classifier : \n",
      "\n",
      "               precision    recall  f1-score   support\n",
      "\n",
      "           0       0.00      0.00      0.00         9\n",
      "           1       0.74      1.00      0.85        25\n",
      "\n",
      "    accuracy                           0.74        34\n",
      "   macro avg       0.37      0.50      0.42        34\n",
      "weighted avg       0.54      0.74      0.62        34\n",
      "\n"
     ]
    },
    {
     "name": "stderr",
     "output_type": "stream",
     "text": [
      "C:\\Users\\HP\\anaconda3\\envs\\env-IDS2020\\lib\\site-packages\\sklearn\\metrics\\_classification.py:1221: UndefinedMetricWarning: Precision and F-score are ill-defined and being set to 0.0 in labels with no predicted samples. Use `zero_division` parameter to control this behavior.\n",
      "  _warn_prf(average, modifier, msg_start, len(result))\n",
      "C:\\Users\\HP\\anaconda3\\envs\\env-IDS2020\\lib\\site-packages\\sklearn\\metrics\\_classification.py:1221: UndefinedMetricWarning: Precision and F-score are ill-defined and being set to 0.0 in labels with no predicted samples. Use `zero_division` parameter to control this behavior.\n",
      "  _warn_prf(average, modifier, msg_start, len(result))\n",
      "C:\\Users\\HP\\anaconda3\\envs\\env-IDS2020\\lib\\site-packages\\sklearn\\metrics\\_classification.py:1221: UndefinedMetricWarning: Precision and F-score are ill-defined and being set to 0.0 in labels with no predicted samples. Use `zero_division` parameter to control this behavior.\n",
      "  _warn_prf(average, modifier, msg_start, len(result))\n"
     ]
    }
   ],
   "source": [
    "svm_target_green_predict1 = classifier_green1.predict(svm_descriptive_test_green)\n",
    "print('Accuracy for the first green frogs classifier : ', classifier_green1.score(svm_descriptive_test_green, svm_target_green_test))\n",
    "print('Classification report for the first green frogs classifier : \\n\\n', classification_report(svm_target_green_test, svm_target_green_predict1))\n",
    "\n",
    "svm_target_green_predict2 = classifier_green2.predict(svm_descriptive_test_green)\n",
    "print('Accuracy for the second green frogs classifier : ', classifier_green2.score(svm_descriptive_test_green, svm_target_green_test))\n",
    "print('Classification report for the second green frogs classifier : \\n\\n', classification_report(svm_target_green_test, svm_target_green_predict2))\n",
    "\n",
    "svm_target_brown_predict1 = classifier_brown1.predict(svm_descriptive_test_brown)\n",
    "print('Accuracy for the first brown frogs classifier : ', classifier_brown1.score(svm_descriptive_test_brown, svm_target_brown_test))\n",
    "print('Classification report for the first brown frogs classifier : \\n\\n', classification_report(svm_target_brown_test, svm_target_brown_predict1))\n",
    "\n",
    "svm_target_brown_predict2 = classifier_brown2.predict(svm_descriptive_test_brown)\n",
    "print('Accuracy for the second brown frogs classifier : ', classifier_brown2.score(svm_descriptive_test_brown, svm_target_brown_test))\n",
    "print('Classification report for the second brown frogs classifier : \\n\\n', classification_report(svm_target_brown_test, svm_target_brown_predict2))\n"
   ]
  },
  {
   "cell_type": "markdown",
   "metadata": {},
   "source": [
    "   (e) Based on the information computed in Q4 so far, interpret and evaluate the 4 SVMs and compare them. Why are they similar/different? Would you recommend using these SVMs and why (not)?"
   ]
  },
  {
   "cell_type": "markdown",
   "metadata": {},
   "source": [
    "Explanation:\n",
    "Comparing the results for the accuracy for different SVMs we can easily see that the SVMs for the brown frogs evaluates a better result but considering all the values for the precision, recall, f1score and support we can easily conclude that it is a linear problem, and the linear model for the green frogs concludes the best result. whereas due to the biasness in the dataset for the brown frogs the values for precision, recall and f1 score yeilds to 0. Hence, we can easily conclude that the linear model for the green frog is recommended.\n"
   ]
  },
  {
   "cell_type": "markdown",
   "metadata": {},
   "source": [
    "## Question 5 - Neural Networks (15 points)\n",
    "In this question consider the sampled_data, which is the dataset that you have created in the *Preprocessing of Dataset* section. The target features are the *different frogs*."
   ]
  },
  {
   "cell_type": "markdown",
   "metadata": {},
   "source": [
    "   (a) What are the possible inputs of your network?\n",
    "   \n",
    "     - Give the number of possible values of the different categorical inputs.\n",
    "     - Give the number of possible input patterns for the categorical data.."
   ]
  },
  {
   "cell_type": "code",
   "execution_count": 274,
   "metadata": {},
   "outputs": [
    {
     "name": "stdout",
     "output_type": "stream",
     "text": [
      "Possible values of the different categorical inputs\n",
      "TypeR \n",
      "['i' 'a' 'j' 'b' 'h' 'd' 'g']\n",
      "Surroundings1 \n",
      "['b' 'a' 'h' 'g' 'f' 'e' 'c']\n",
      "Surroundings2 \n",
      "['g' 'a' 'h' 'b' 'e' 'f' 'i']\n",
      "Surroundings3 \n",
      "['f' 'b' 'h' 'e' 'd' 'a' 'g' 'i']\n",
      "ShoreR \n",
      "['natural' 'concrete']\n",
      "Possible input patterns for the categorical data: 2 ^ 31\n"
     ]
    },
    {
     "data": {
      "text/html": [
       "<div>\n",
       "<style scoped>\n",
       "    .dataframe tbody tr th:only-of-type {\n",
       "        vertical-align: middle;\n",
       "    }\n",
       "\n",
       "    .dataframe tbody tr th {\n",
       "        vertical-align: top;\n",
       "    }\n",
       "\n",
       "    .dataframe thead th {\n",
       "        text-align: right;\n",
       "    }\n",
       "</style>\n",
       "<table border=\"1\" class=\"dataframe\">\n",
       "  <thead>\n",
       "    <tr style=\"text-align: right;\">\n",
       "      <th></th>\n",
       "      <th>ID</th>\n",
       "      <th>SurfaceR</th>\n",
       "      <th>NumberR</th>\n",
       "      <th>TypeR</th>\n",
       "      <th>VegetationR</th>\n",
       "      <th>Surroundings1</th>\n",
       "      <th>Surroundings2</th>\n",
       "      <th>Surroundings3</th>\n",
       "      <th>UseR</th>\n",
       "      <th>FishingR</th>\n",
       "      <th>...</th>\n",
       "      <th>BuildingR</th>\n",
       "      <th>PollutionR</th>\n",
       "      <th>ShoreR</th>\n",
       "      <th>Green frogs</th>\n",
       "      <th>Brown frogs</th>\n",
       "      <th>Common toad</th>\n",
       "      <th>Fire-bellied toad</th>\n",
       "      <th>Tree frog</th>\n",
       "      <th>Common newt</th>\n",
       "      <th>Great crested newt</th>\n",
       "    </tr>\n",
       "  </thead>\n",
       "  <tbody>\n",
       "    <tr>\n",
       "      <th>176</th>\n",
       "      <td>177</td>\n",
       "      <td>300</td>\n",
       "      <td>1</td>\n",
       "      <td>i</td>\n",
       "      <td>2</td>\n",
       "      <td>b</td>\n",
       "      <td>g</td>\n",
       "      <td>f</td>\n",
       "      <td>0</td>\n",
       "      <td>0</td>\n",
       "      <td>...</td>\n",
       "      <td>2</td>\n",
       "      <td>0</td>\n",
       "      <td>natural</td>\n",
       "      <td>0</td>\n",
       "      <td>1</td>\n",
       "      <td>0</td>\n",
       "      <td>0</td>\n",
       "      <td>0</td>\n",
       "      <td>0</td>\n",
       "      <td>0</td>\n",
       "    </tr>\n",
       "    <tr>\n",
       "      <th>51</th>\n",
       "      <td>52</td>\n",
       "      <td>4000</td>\n",
       "      <td>1</td>\n",
       "      <td>a</td>\n",
       "      <td>3</td>\n",
       "      <td>a</td>\n",
       "      <td>a</td>\n",
       "      <td>b</td>\n",
       "      <td>0</td>\n",
       "      <td>0</td>\n",
       "      <td>...</td>\n",
       "      <td>5</td>\n",
       "      <td>0</td>\n",
       "      <td>natural</td>\n",
       "      <td>1</td>\n",
       "      <td>1</td>\n",
       "      <td>1</td>\n",
       "      <td>0</td>\n",
       "      <td>0</td>\n",
       "      <td>0</td>\n",
       "      <td>0</td>\n",
       "    </tr>\n",
       "    <tr>\n",
       "      <th>86</th>\n",
       "      <td>87</td>\n",
       "      <td>300</td>\n",
       "      <td>1</td>\n",
       "      <td>j</td>\n",
       "      <td>3</td>\n",
       "      <td>h</td>\n",
       "      <td>h</td>\n",
       "      <td>h</td>\n",
       "      <td>0</td>\n",
       "      <td>0</td>\n",
       "      <td>...</td>\n",
       "      <td>9</td>\n",
       "      <td>0</td>\n",
       "      <td>natural</td>\n",
       "      <td>0</td>\n",
       "      <td>1</td>\n",
       "      <td>1</td>\n",
       "      <td>0</td>\n",
       "      <td>1</td>\n",
       "      <td>0</td>\n",
       "      <td>0</td>\n",
       "    </tr>\n",
       "    <tr>\n",
       "      <th>119</th>\n",
       "      <td>120</td>\n",
       "      <td>300</td>\n",
       "      <td>1</td>\n",
       "      <td>j</td>\n",
       "      <td>1</td>\n",
       "      <td>a</td>\n",
       "      <td>h</td>\n",
       "      <td>e</td>\n",
       "      <td>0</td>\n",
       "      <td>0</td>\n",
       "      <td>...</td>\n",
       "      <td>5</td>\n",
       "      <td>0</td>\n",
       "      <td>natural</td>\n",
       "      <td>1</td>\n",
       "      <td>0</td>\n",
       "      <td>0</td>\n",
       "      <td>1</td>\n",
       "      <td>0</td>\n",
       "      <td>0</td>\n",
       "      <td>0</td>\n",
       "    </tr>\n",
       "    <tr>\n",
       "      <th>150</th>\n",
       "      <td>151</td>\n",
       "      <td>2600</td>\n",
       "      <td>2</td>\n",
       "      <td>a</td>\n",
       "      <td>2</td>\n",
       "      <td>g</td>\n",
       "      <td>b</td>\n",
       "      <td>e</td>\n",
       "      <td>3</td>\n",
       "      <td>2</td>\n",
       "      <td>...</td>\n",
       "      <td>1</td>\n",
       "      <td>0</td>\n",
       "      <td>natural</td>\n",
       "      <td>1</td>\n",
       "      <td>1</td>\n",
       "      <td>1</td>\n",
       "      <td>0</td>\n",
       "      <td>0</td>\n",
       "      <td>0</td>\n",
       "      <td>0</td>\n",
       "    </tr>\n",
       "  </tbody>\n",
       "</table>\n",
       "<p>5 rows × 22 columns</p>\n",
       "</div>"
      ],
      "text/plain": [
       "      ID  SurfaceR  NumberR TypeR  VegetationR Surroundings1 Surroundings2  \\\n",
       "176  177       300        1     i            2             b             g   \n",
       "51    52      4000        1     a            3             a             a   \n",
       "86    87       300        1     j            3             h             h   \n",
       "119  120       300        1     j            1             a             h   \n",
       "150  151      2600        2     a            2             g             b   \n",
       "\n",
       "    Surroundings3  UseR  FishingR  ...  BuildingR  PollutionR   ShoreR  \\\n",
       "176             f     0         0  ...          2           0  natural   \n",
       "51              b     0         0  ...          5           0  natural   \n",
       "86              h     0         0  ...          9           0  natural   \n",
       "119             e     0         0  ...          5           0  natural   \n",
       "150             e     3         2  ...          1           0  natural   \n",
       "\n",
       "     Green frogs Brown frogs  Common toad  Fire-bellied toad  Tree frog  \\\n",
       "176            0           1            0                  0          0   \n",
       "51             1           1            1                  0          0   \n",
       "86             0           1            1                  0          1   \n",
       "119            1           0            0                  1          0   \n",
       "150            1           1            1                  0          0   \n",
       "\n",
       "     Common newt  Great crested newt  \n",
       "176            0                   0  \n",
       "51             0                   0  \n",
       "86             0                   0  \n",
       "119            0                   0  \n",
       "150            0                   0  \n",
       "\n",
       "[5 rows x 22 columns]"
      ]
     },
     "execution_count": 274,
     "metadata": {},
     "output_type": "execute_result"
    }
   ],
   "source": [
    "from sklearn.neural_network import MLPClassifier\n",
    "import sklearn.metrics as metric\n",
    "from sklearn.metrics import accuracy_score\n",
    "\n",
    "\n",
    "print('Possible values of the different categorical inputs')\n",
    "for x in sampled_data.select_dtypes('object').columns:\n",
    "    print(x +' ')\n",
    "    print(sampled_data[x].unique())\n",
    "\n",
    "# Since possible patterns can be formulated from categorical data, we need to find the count of the domain sets of each categorical variable\n",
    "print('Possible input patterns for the categorical data: 2 ^', str(sum([len(sampled_data[x].unique()) for x in sampled_data.select_dtypes('object').columns])))\n",
    "sampled_data.head()"
   ]
  },
  {
   "cell_type": "markdown",
   "metadata": {},
   "source": [
    "Explanation:\n",
    "Different categorical features that are obtained from the function select_dtypes('object') are TypeR, Surroundings1, Surroundings2, Surroundings3 and ShoreR. The features that are ordinal in the dataset are not catered here as they do not fall under the type object."
   ]
  },
  {
   "cell_type": "markdown",
   "metadata": {},
   "source": [
    "   (b) Choose one categorical feature and two non-categorical features as input features. Create a data set with those features and the target columns (different frogs). Name this data set *NN_data*."
   ]
  },
  {
   "cell_type": "code",
   "execution_count": 276,
   "metadata": {},
   "outputs": [
    {
     "name": "stdout",
     "output_type": "stream",
     "text": [
      "                    SurfaceR  RoadDistanceR  Green frogs  Brown frogs  \\\n",
      "SurfaceR               1.000         -0.061        0.168        0.067   \n",
      "RoadDistanceR         -0.061          1.000        0.060        0.058   \n",
      "Green frogs            0.168          0.060        1.000        0.052   \n",
      "Brown frogs            0.067          0.058        0.052        1.000   \n",
      "Common toad            0.071         -0.037        0.218        0.345   \n",
      "Fire-bellied toad      0.213          0.004        0.282        0.132   \n",
      "Tree frog              0.152          0.095        0.258        0.110   \n",
      "Common newt            0.162         -0.067        0.380        0.236   \n",
      "Great crested newt     0.172         -0.111        0.083        0.101   \n",
      "\n",
      "                    Common toad  Fire-bellied toad  Tree frog  Common newt  \\\n",
      "SurfaceR                  0.071              0.213      0.152        0.162   \n",
      "RoadDistanceR            -0.037              0.004      0.095       -0.067   \n",
      "Green frogs               0.218              0.282      0.258        0.380   \n",
      "Brown frogs               0.345              0.132      0.110        0.236   \n",
      "Common toad               1.000              0.162      0.312        0.288   \n",
      "Fire-bellied toad         0.162              1.000      0.330        0.427   \n",
      "Tree frog                 0.312              0.330      1.000        0.307   \n",
      "Common newt               0.288              0.427      0.307        1.000   \n",
      "Great crested newt        0.214              0.336      0.369        0.407   \n",
      "\n",
      "                    Great crested newt  \n",
      "SurfaceR                         0.172  \n",
      "RoadDistanceR                   -0.111  \n",
      "Green frogs                      0.083  \n",
      "Brown frogs                      0.101  \n",
      "Common toad                      0.214  \n",
      "Fire-bellied toad                0.336  \n",
      "Tree frog                        0.369  \n",
      "Common newt                      0.407  \n",
      "Great crested newt               1.000  \n"
     ]
    }
   ],
   "source": [
    "# Let's take ShoreR for categorical feature, SurfaceR and VegetationR for non-categorical features\n",
    "NN_data = sampled_data [['SurfaceR', 'ShoreR', 'RoadDistanceR', 'Green frogs', 'Brown frogs', 'Common toad', 'Fire-bellied toad', \n",
    "                         'Tree frog', 'Common newt', 'Great crested newt']]\n",
    "\n",
    "pd.set_option('precision',3)\n",
    "correlations = NN_data.corr(method= 'pearson')\n",
    "print(correlations)"
   ]
  },
  {
   "cell_type": "markdown",
   "metadata": {},
   "source": [
    "   (c) Convert the features that need to be converted using One-Hot-Encoding. Explain why you need (not) to convert these features. Name the data set *NN_data_encoded*."
   ]
  },
  {
   "cell_type": "markdown",
   "metadata": {},
   "source": [
    "Explanation:\n",
    "\n",
    "The feature \"SHoreR\" needs to be modified as it is a Categorigal feature, we can not deal with Categorical features in our model. We have modified \"SHoreR\" using One-Hot-Encoding technique. \n",
    "After conversion, we have 2 further types for SHoreR.\n",
    "1. ShoreR_concrete\n",
    "2. ShoreR_natural\n",
    "\n",
    "we have used SurfaceR, ShoreR and RoadDistanceR as descriptive features for the input while considering the co relationship between them and tried to get independent values."
   ]
  },
  {
   "cell_type": "code",
   "execution_count": 277,
   "metadata": {},
   "outputs": [
    {
     "data": {
      "text/html": [
       "<div>\n",
       "<style scoped>\n",
       "    .dataframe tbody tr th:only-of-type {\n",
       "        vertical-align: middle;\n",
       "    }\n",
       "\n",
       "    .dataframe tbody tr th {\n",
       "        vertical-align: top;\n",
       "    }\n",
       "\n",
       "    .dataframe thead th {\n",
       "        text-align: right;\n",
       "    }\n",
       "</style>\n",
       "<table border=\"1\" class=\"dataframe\">\n",
       "  <thead>\n",
       "    <tr style=\"text-align: right;\">\n",
       "      <th></th>\n",
       "      <th>SurfaceR</th>\n",
       "      <th>RoadDistanceR</th>\n",
       "      <th>Green frogs</th>\n",
       "      <th>Brown frogs</th>\n",
       "      <th>Common toad</th>\n",
       "      <th>Fire-bellied toad</th>\n",
       "      <th>Tree frog</th>\n",
       "      <th>Common newt</th>\n",
       "      <th>Great crested newt</th>\n",
       "      <th>ShoreR_concrete</th>\n",
       "      <th>ShoreR_natural</th>\n",
       "    </tr>\n",
       "  </thead>\n",
       "  <tbody>\n",
       "    <tr>\n",
       "      <th>176</th>\n",
       "      <td>300</td>\n",
       "      <td>0</td>\n",
       "      <td>0</td>\n",
       "      <td>1</td>\n",
       "      <td>0</td>\n",
       "      <td>0</td>\n",
       "      <td>0</td>\n",
       "      <td>0</td>\n",
       "      <td>0</td>\n",
       "      <td>0</td>\n",
       "      <td>1</td>\n",
       "    </tr>\n",
       "    <tr>\n",
       "      <th>51</th>\n",
       "      <td>4000</td>\n",
       "      <td>5</td>\n",
       "      <td>1</td>\n",
       "      <td>1</td>\n",
       "      <td>1</td>\n",
       "      <td>0</td>\n",
       "      <td>0</td>\n",
       "      <td>0</td>\n",
       "      <td>0</td>\n",
       "      <td>0</td>\n",
       "      <td>1</td>\n",
       "    </tr>\n",
       "    <tr>\n",
       "      <th>86</th>\n",
       "      <td>300</td>\n",
       "      <td>9</td>\n",
       "      <td>0</td>\n",
       "      <td>1</td>\n",
       "      <td>1</td>\n",
       "      <td>0</td>\n",
       "      <td>1</td>\n",
       "      <td>0</td>\n",
       "      <td>0</td>\n",
       "      <td>0</td>\n",
       "      <td>1</td>\n",
       "    </tr>\n",
       "    <tr>\n",
       "      <th>119</th>\n",
       "      <td>300</td>\n",
       "      <td>5</td>\n",
       "      <td>1</td>\n",
       "      <td>0</td>\n",
       "      <td>0</td>\n",
       "      <td>1</td>\n",
       "      <td>0</td>\n",
       "      <td>0</td>\n",
       "      <td>0</td>\n",
       "      <td>0</td>\n",
       "      <td>1</td>\n",
       "    </tr>\n",
       "    <tr>\n",
       "      <th>150</th>\n",
       "      <td>2600</td>\n",
       "      <td>0</td>\n",
       "      <td>1</td>\n",
       "      <td>1</td>\n",
       "      <td>1</td>\n",
       "      <td>0</td>\n",
       "      <td>0</td>\n",
       "      <td>0</td>\n",
       "      <td>0</td>\n",
       "      <td>0</td>\n",
       "      <td>1</td>\n",
       "    </tr>\n",
       "  </tbody>\n",
       "</table>\n",
       "</div>"
      ],
      "text/plain": [
       "     SurfaceR  RoadDistanceR  Green frogs  Brown frogs  Common toad  \\\n",
       "176       300              0            0            1            0   \n",
       "51       4000              5            1            1            1   \n",
       "86        300              9            0            1            1   \n",
       "119       300              5            1            0            0   \n",
       "150      2600              0            1            1            1   \n",
       "\n",
       "     Fire-bellied toad  Tree frog  Common newt  Great crested newt  \\\n",
       "176                  0          0            0                   0   \n",
       "51                   0          0            0                   0   \n",
       "86                   0          1            0                   0   \n",
       "119                  1          0            0                   0   \n",
       "150                  0          0            0                   0   \n",
       "\n",
       "     ShoreR_concrete  ShoreR_natural  \n",
       "176                0               1  \n",
       "51                 0               1  \n",
       "86                 0               1  \n",
       "119                0               1  \n",
       "150                0               1  "
      ]
     },
     "execution_count": 277,
     "metadata": {},
     "output_type": "execute_result"
    }
   ],
   "source": [
    "NN_data_encoded = pd.get_dummies(NN_data)\n",
    "NN_data_encoded.head(5)"
   ]
  },
  {
   "cell_type": "markdown",
   "metadata": {},
   "source": [
    "   (d) Create a training and test set with 90% of the rows of your *NN_data_encoded* data set for training and 10% as test data set. Name them *train_NN* and *test_NN*"
   ]
  },
  {
   "cell_type": "code",
   "execution_count": 279,
   "metadata": {},
   "outputs": [],
   "source": [
    "NN_descriptive = NN_data[['SurfaceR', 'RoadDistanceR', 'ShoreR']]\n",
    "NN_target = NN_data[['Green frogs', 'Brown frogs', 'Common toad', 'Fire-bellied toad', 'Tree frog', 'Common newt', 'Great crested newt']]\n",
    "\n",
    "X_data = pd.get_dummies(NN_data.drop(NN_target, axis=1))\n",
    "Y_data = NN_target\n",
    "\n",
    "train_NN_X,test_NN_X,train_NN_Y,test_NN_Y = train_test_split(X_data,Y_data, test_size=0.1, random_state=391825)\n"
   ]
  },
  {
   "cell_type": "markdown",
   "metadata": {},
   "source": [
    "   (e) Train two different Neural Networks, one with a linear activation function and one with a non-linear activation function. All other settings stay default. Give the accuracy of each Neural Network for the training and test set (*train_NN* and *test_NN*. Which activation function seems to be better?"
   ]
  },
  {
   "cell_type": "code",
   "execution_count": 395,
   "metadata": {},
   "outputs": [
    {
     "name": "stdout",
     "output_type": "stream",
     "text": [
      "Accuracy for the Classifier 1 Liner Activation Function :  0.5966386554621849\n"
     ]
    }
   ],
   "source": [
    "# (linear activation function):\n",
    "classifier1 = MLPClassifier(activation = 'identity')\n",
    "classifier1.fit(train_NN_X,train_NN_Y)\n",
    "print(\"Accuracy for the Classifier 1 Liner Activation Function : \",accuracy_score(np.array(test_NN_Y).flatten(),np.array(classifier1.predict(test_NN_X)).flatten(),normalize=True))"
   ]
  },
  {
   "cell_type": "code",
   "execution_count": 399,
   "metadata": {},
   "outputs": [
    {
     "name": "stdout",
     "output_type": "stream",
     "text": [
      "Accuracy for the Classifier 2 NON Liner Activation Function :  0.5126050420168067\n"
     ]
    }
   ],
   "source": [
    "#  (non-linear activation function):\n",
    "\n",
    "classifier2 = MLPClassifier()\n",
    "classifier2.fit(train_NN_X,train_NN_Y)\n",
    "print(\"Accuracy for the Classifier 2 NON Liner Activation Function : \",accuracy_score(np.array(test_NN_Y).flatten(),np.array(classifier2.predict(test_NN_X)).flatten(),normalize=True))"
   ]
  },
  {
   "cell_type": "markdown",
   "metadata": {},
   "source": [
    "Explanation:\n",
    "In the first model we have used identity as the activation function which comes under the linear activation function. the accuracy results ranges from 55% to 65% which are decent. whereas for the non linear function we have used Relu as the activation function and the accuracy results are quiet near to the linear activiation function. But in most of the cases the linear activation function performs better then non linear function."
   ]
  },
  {
   "cell_type": "markdown",
   "metadata": {},
   "source": [
    "   (f) Based on your result of (e) train 2 more Neural Networks with different settings (change at least 4 parameters (2 each)). Explain your parameters and the choice of the activation function. Evaluate the different Neural Networks with your test set by giving the accuracy. Try to increase the accuracy and analyse the factors that prohibit better accuracy."
   ]
  },
  {
   "cell_type": "code",
   "execution_count": 408,
   "metadata": {},
   "outputs": [
    {
     "name": "stderr",
     "output_type": "stream",
     "text": [
      "C:\\Users\\HP\\anaconda3\\envs\\env-IDS2020\\lib\\site-packages\\sklearn\\neural_network\\_multilayer_perceptron.py:471: ConvergenceWarning: lbfgs failed to converge (status=2):\n",
      "ABNORMAL_TERMINATION_IN_LNSRCH.\n",
      "\n",
      "Increase the number of iterations (max_iter) or scale the data as shown in:\n",
      "    https://scikit-learn.org/stable/modules/preprocessing.html\n",
      "  self.n_iter_ = _check_optimize_result(\"lbfgs\", opt_res, self.max_iter)\n"
     ]
    },
    {
     "name": "stdout",
     "output_type": "stream",
     "text": [
      "Accuracy for the Classifier 3 Liner Activation Function :  0.6386554621848739\n",
      "Accuracy for the Classifier 4 NON Liner Activation Function :  0.6554621848739496\n"
     ]
    }
   ],
   "source": [
    "# code for 2 more NN\n",
    "classifier3 = MLPClassifier(activation = 'identity',random_state= 5,alpha=0.0005,solver='lbfgs',)\n",
    "classifier3.fit(train_NN_X,train_NN_Y)\n",
    "print(\"Accuracy for the Classifier 3 Liner Activation Function : \",accuracy_score(np.array(test_NN_Y).flatten(),np.array(classifier3.predict(test_NN_X)).flatten(),normalize=True))\n",
    "\n",
    "classifier4 = MLPClassifier(activation = 'logistic',random_state= 5,solver='adam',hidden_layer_sizes=(100,100),alpha=0.0001)\n",
    "classifier4.fit(train_NN_X,train_NN_Y)\n",
    "print(\"Accuracy for the Classifier 4 NON Liner Activation Function : \",accuracy_score(np.array(test_NN_Y).flatten(),np.array(classifier4.predict(test_NN_X)).flatten(),normalize=True))"
   ]
  },
  {
   "cell_type": "markdown",
   "metadata": {},
   "source": [
    "Explanation:\n",
    "We have used identity and logistic activation functions with different parameters and can observe that the results are better then the one used before. now the accuracy for both the models is above 60% whereas the accuracy for the non linear logistic function is better then the linear identity function which is due to the additional hidden layers that are used and the function. The solver lbfgs improves the accuracy for the linear activation function as it works well with the small dataset and converges the dataset better then the other solvers."
   ]
  },
  {
   "cell_type": "markdown",
   "metadata": {},
   "source": [
    "## Question 6 - Evaluation (10 Points)"
   ]
  },
  {
   "cell_type": "markdown",
   "metadata": {},
   "source": [
    "   (a) Consider two models of question 5 of your choice with the respective datasets (training and test data)."
   ]
  },
  {
   "cell_type": "markdown",
   "metadata": {},
   "source": [
    "- Create training and test data for 3-fold cross validation."
   ]
  },
  {
   "cell_type": "code",
   "execution_count": 409,
   "metadata": {},
   "outputs": [],
   "source": [
    "from sklearn.model_selection import KFold\n",
    "from sklearn.metrics import confusion_matrix, precision_recall_fscore_support, accuracy_score\n",
    "from sklearn.metrics import multilabel_confusion_matrix\n",
    "\n",
    "kf = KFold(n_splits=3, shuffle = True, random_state=5)\n",
    "kf.get_n_splits(NN_data)\n",
    "\n",
    "#code for classifier 1\n",
    "sum_confusion_train1=[]\n",
    "sum_confusion_test1=[]\n",
    "prfs1 = []\n",
    "acc1 = []\n",
    "for train_index, test_index in kf.split(NN_data):\n",
    "    #print(\"TRAIN:\", train_index, \"TEST:\", test_index)\n",
    "    X_train, X_test = X_data[X_data.index.isin(train_index)], X_data[X_data.index.isin(test_index)]\n",
    "    y_train, y_test = Y_data[Y_data.index.isin(train_index)], Y_data[Y_data.index.isin(test_index)]\n",
    "    sum_confusion_train1.append(multilabel_confusion_matrix(y_train,classifier1.predict(X_train)))\n",
    "    sum_confusion_test1.append(multilabel_confusion_matrix(y_test, classifier1.predict(X_test)))\n",
    "    prfs1.append(precision_recall_fscore_support(y_test, classifier1.predict(X_test), average='micro'))\n",
    "    acc1.append((accuracy_score(y_train, classifier1.predict(X_train)), accuracy_score(y_test, classifier1.predict(X_test))))\n",
    "\n",
    "    \n",
    "#code for classifier 4\n",
    "sum_confusion_train2=[]\n",
    "sum_confusion_test2=[]\n",
    "prfs2 = []\n",
    "acc2 = []\n",
    "for train_index, test_index in kf.split(NN_data):\n",
    "    #print(\"TRAIN:\", train_index, \"TEST:\", test_index)\n",
    "    X_train, X_test = X_data[X_data.index.isin(train_index)], X_data[X_data.index.isin(test_index)]\n",
    "    y_train, y_test = Y_data[Y_data.index.isin(train_index)], Y_data[Y_data.index.isin(test_index)]\n",
    "    sum_confusion_train2.append(multilabel_confusion_matrix(y_train,classifier4.predict(X_train)))\n",
    "    sum_confusion_test2.append(multilabel_confusion_matrix(y_test, classifier4.predict(X_test)))\n",
    "    prfs2.append(precision_recall_fscore_support(y_test, classifier4.predict(X_test), average='micro'))\n",
    "    acc2.append((accuracy_score(y_train, classifier4.predict(X_train)), accuracy_score(y_test, classifier4.predict(X_test))))\n"
   ]
  },
  {
   "cell_type": "markdown",
   "metadata": {},
   "source": [
    "- Print confusion matrices on the training data and the cell-by-cell summation of the results."
   ]
  },
  {
   "cell_type": "code",
   "execution_count": 323,
   "metadata": {},
   "outputs": [
    {
     "name": "stdout",
     "output_type": "stream",
     "text": [
      "Fold 1 : \n",
      " [[[ 0 44]\n",
      "  [ 0 56]]\n",
      "\n",
      " [[ 0 22]\n",
      "  [ 2 76]]\n",
      "\n",
      " [[ 0 34]\n",
      "  [ 1 65]]\n",
      "\n",
      " [[ 1 71]\n",
      "  [ 1 27]]\n",
      "\n",
      " [[ 0 61]\n",
      "  [ 0 39]]\n",
      "\n",
      " [[71  0]\n",
      "  [29  0]]\n",
      "\n",
      " [[91  0]\n",
      "  [ 9  0]]] \n",
      "Fold 2 : \n",
      " [[[ 0 44]\n",
      "  [ 0 56]]\n",
      "\n",
      " [[ 0 26]\n",
      "  [ 3 71]]\n",
      "\n",
      " [[ 0 40]\n",
      "  [ 0 60]]\n",
      "\n",
      " [[ 2 69]\n",
      "  [ 1 28]]\n",
      "\n",
      " [[ 0 61]\n",
      "  [ 0 39]]\n",
      "\n",
      " [[73  0]\n",
      "  [27  0]]\n",
      "\n",
      " [[90  0]\n",
      "  [10  0]]] \n",
      "Fold 3 : \n",
      " [[[ 0 44]\n",
      "  [ 0 64]]\n",
      "\n",
      " [[ 0 28]\n",
      "  [ 3 77]]\n",
      "\n",
      " [[ 0 34]\n",
      "  [ 1 73]]\n",
      "\n",
      " [[ 1 74]\n",
      "  [ 2 31]]\n",
      "\n",
      " [[ 0 72]\n",
      "  [ 0 36]]\n",
      "\n",
      " [[74  0]\n",
      "  [34  0]]\n",
      "\n",
      " [[99  0]\n",
      "  [ 9  0]]]\n",
      "Confusion matrices for the Classifier 1 : \n",
      "[[[  0 132]\n",
      "  [  0 176]]\n",
      "\n",
      " [[  0  76]\n",
      "  [  8 224]]\n",
      "\n",
      " [[  0 108]\n",
      "  [  2 198]]\n",
      "\n",
      " [[  4 214]\n",
      "  [  4  86]]\n",
      "\n",
      " [[  0 194]\n",
      "  [  0 114]]\n",
      "\n",
      " [[218   0]\n",
      "  [ 90   0]]\n",
      "\n",
      " [[280   0]\n",
      "  [ 28   0]]]\n"
     ]
    }
   ],
   "source": [
    "print(\"Fold 1 : \\n\",sum_confusion_train1[0],\"\\nFold 2 : \\n\",sum_confusion_train1[1],\"\\nFold 3 : \\n\",sum_confusion_train1[2])\n",
    "print(\"Confusion matrices for the Classifier 1 : \")\n",
    "print(sum_confusion_train1[0]+sum_confusion_train1[1]+sum_confusion_train1[2])"
   ]
  },
  {
   "cell_type": "code",
   "execution_count": 324,
   "metadata": {},
   "outputs": [
    {
     "name": "stdout",
     "output_type": "stream",
     "text": [
      "Fold 1 : \n",
      " [[[30 14]\n",
      "  [20 36]]\n",
      "\n",
      " [[ 0 22]\n",
      "  [ 0 78]]\n",
      "\n",
      " [[ 0 34]\n",
      "  [ 0 66]]\n",
      "\n",
      " [[72  0]\n",
      "  [28  0]]\n",
      "\n",
      " [[61  0]\n",
      "  [39  0]]\n",
      "\n",
      " [[71  0]\n",
      "  [28  1]]\n",
      "\n",
      " [[91  0]\n",
      "  [ 9  0]]] \n",
      "Fold 2 : \n",
      " [[[29 15]\n",
      "  [19 37]]\n",
      "\n",
      " [[ 0 26]\n",
      "  [ 0 74]]\n",
      "\n",
      " [[ 0 40]\n",
      "  [ 2 58]]\n",
      "\n",
      " [[71  0]\n",
      "  [29  0]]\n",
      "\n",
      " [[61  0]\n",
      "  [39  0]]\n",
      "\n",
      " [[73  0]\n",
      "  [27  0]]\n",
      "\n",
      " [[90  0]\n",
      "  [10  0]]] \n",
      "Fold 3 : \n",
      " [[[31 13]\n",
      "  [19 45]]\n",
      "\n",
      " [[ 0 28]\n",
      "  [ 0 80]]\n",
      "\n",
      " [[ 0 34]\n",
      "  [ 2 72]]\n",
      "\n",
      " [[75  0]\n",
      "  [33  0]]\n",
      "\n",
      " [[72  0]\n",
      "  [36  0]]\n",
      "\n",
      " [[74  0]\n",
      "  [33  1]]\n",
      "\n",
      " [[99  0]\n",
      "  [ 9  0]]]\n",
      "Confusion matrices for the Classifier 4 : \n",
      "[[[ 90  42]\n",
      "  [ 58 118]]\n",
      "\n",
      " [[  0  76]\n",
      "  [  0 232]]\n",
      "\n",
      " [[  0 108]\n",
      "  [  4 196]]\n",
      "\n",
      " [[218   0]\n",
      "  [ 90   0]]\n",
      "\n",
      " [[194   0]\n",
      "  [114   0]]\n",
      "\n",
      " [[218   0]\n",
      "  [ 88   2]]\n",
      "\n",
      " [[280   0]\n",
      "  [ 28   0]]]\n"
     ]
    }
   ],
   "source": [
    "print(\"Fold 1 : \\n\",sum_confusion_train2[0],\"\\nFold 2 : \\n\",sum_confusion_train2[1],\"\\nFold 3 : \\n\",sum_confusion_train2[2])\n",
    "print(\"Confusion matrices for the Classifier 4 : \") \n",
    "print(sum_confusion_train2[0]+sum_confusion_train2[1]+sum_confusion_train2[2])"
   ]
  },
  {
   "cell_type": "markdown",
   "metadata": {},
   "source": [
    "- Print the cell-by-cell summation of the confusion matrices on the test data."
   ]
  },
  {
   "cell_type": "code",
   "execution_count": 325,
   "metadata": {},
   "outputs": [
    {
     "name": "stdout",
     "output_type": "stream",
     "text": [
      "Fold 1 : \n",
      " [[[ 0 22]\n",
      "  [ 0 32]]\n",
      "\n",
      " [[ 0 16]\n",
      "  [ 2 36]]\n",
      "\n",
      " [[ 0 20]\n",
      "  [ 0 34]]\n",
      "\n",
      " [[ 1 36]\n",
      "  [ 1 16]]\n",
      "\n",
      " [[ 0 36]\n",
      "  [ 0 18]]\n",
      "\n",
      " [[38  0]\n",
      "  [16  0]]\n",
      "\n",
      " [[49  0]\n",
      "  [ 5  0]]] \n",
      "Fold 2 : \n",
      " [[[ 0 22]\n",
      "  [ 0 32]]\n",
      "\n",
      " [[ 0 12]\n",
      "  [ 1 41]]\n",
      "\n",
      " [[ 0 14]\n",
      "  [ 1 39]]\n",
      "\n",
      " [[ 0 38]\n",
      "  [ 1 15]]\n",
      "\n",
      " [[ 0 36]\n",
      "  [ 0 18]]\n",
      "\n",
      " [[36  0]\n",
      "  [18  0]]\n",
      "\n",
      " [[50  0]\n",
      "  [ 4  0]]] \n",
      "Fold 3 : \n",
      " [[[ 0 22]\n",
      "  [ 0 24]]\n",
      "\n",
      " [[ 0 10]\n",
      "  [ 1 35]]\n",
      "\n",
      " [[ 0 20]\n",
      "  [ 0 26]]\n",
      "\n",
      " [[ 1 33]\n",
      "  [ 0 12]]\n",
      "\n",
      " [[ 0 25]\n",
      "  [ 0 21]]\n",
      "\n",
      " [[35  0]\n",
      "  [11  0]]\n",
      "\n",
      " [[41  0]\n",
      "  [ 5  0]]]\n",
      "Confusion matrices for the Classifier 4 : \n",
      "[[[  0  66]\n",
      "  [  0  88]]\n",
      "\n",
      " [[  0  38]\n",
      "  [  4 112]]\n",
      "\n",
      " [[  0  54]\n",
      "  [  1  99]]\n",
      "\n",
      " [[  2 107]\n",
      "  [  2  43]]\n",
      "\n",
      " [[  0  97]\n",
      "  [  0  57]]\n",
      "\n",
      " [[109   0]\n",
      "  [ 45   0]]\n",
      "\n",
      " [[140   0]\n",
      "  [ 14   0]]]\n"
     ]
    }
   ],
   "source": [
    "print(\"Fold 1 : \\n\",sum_confusion_test1[0],\"\\nFold 2 : \\n\",sum_confusion_test1[1],\"\\nFold 3 : \\n\",sum_confusion_test1[2])\n",
    "print(\"Confusion matrices for the Classifier 4 : \") \n",
    "print(sum_confusion_test1[0]+sum_confusion_test1[1]+sum_confusion_test1[2])"
   ]
  },
  {
   "cell_type": "code",
   "execution_count": 380,
   "metadata": {},
   "outputs": [
    {
     "name": "stdout",
     "output_type": "stream",
     "text": [
      "Fold 1 : \n",
      " [[[15  7]\n",
      "  [ 9 23]]\n",
      "\n",
      " [[ 0 16]\n",
      "  [ 0 38]]\n",
      "\n",
      " [[ 0 20]\n",
      "  [ 2 32]]\n",
      "\n",
      " [[37  0]\n",
      "  [17  0]]\n",
      "\n",
      " [[36  0]\n",
      "  [18  0]]\n",
      "\n",
      " [[38  0]\n",
      "  [16  0]]\n",
      "\n",
      " [[49  0]\n",
      "  [ 5  0]]] \n",
      "Fold 2 : \n",
      " [[[16  6]\n",
      "  [10 22]]\n",
      "\n",
      " [[ 0 12]\n",
      "  [ 0 42]]\n",
      "\n",
      " [[ 0 14]\n",
      "  [ 0 40]]\n",
      "\n",
      " [[38  0]\n",
      "  [16  0]]\n",
      "\n",
      " [[36  0]\n",
      "  [18  0]]\n",
      "\n",
      " [[36  0]\n",
      "  [17  1]]\n",
      "\n",
      " [[50  0]\n",
      "  [ 4  0]]] \n",
      "Fold 3 : \n",
      " [[[14  8]\n",
      "  [10 14]]\n",
      "\n",
      " [[ 0 10]\n",
      "  [ 0 36]]\n",
      "\n",
      " [[ 0 20]\n",
      "  [ 0 26]]\n",
      "\n",
      " [[34  0]\n",
      "  [12  0]]\n",
      "\n",
      " [[25  0]\n",
      "  [21  0]]\n",
      "\n",
      " [[35  0]\n",
      "  [11  0]]\n",
      "\n",
      " [[41  0]\n",
      "  [ 5  0]]]\n",
      "Confusion matrices for the Classifier 4 : \n",
      "[[[ 45  21]\n",
      "  [ 29  59]]\n",
      "\n",
      " [[  0  38]\n",
      "  [  0 116]]\n",
      "\n",
      " [[  0  54]\n",
      "  [  2  98]]\n",
      "\n",
      " [[109   0]\n",
      "  [ 45   0]]\n",
      "\n",
      " [[ 97   0]\n",
      "  [ 57   0]]\n",
      "\n",
      " [[109   0]\n",
      "  [ 44   1]]\n",
      "\n",
      " [[140   0]\n",
      "  [ 14   0]]]\n"
     ]
    }
   ],
   "source": [
    "print(\"Fold 1 : \\n\",sum_confusion_test2[0],\"\\nFold 2 : \\n\",sum_confusion_test2[1],\"\\nFold 3 : \\n\",sum_confusion_test2[2])\n",
    "print(\"Confusion matrices for the Classifier 4 : \") \n",
    "print(sum_confusion_test2[0]+sum_confusion_test2[1]+sum_confusion_test2[2])"
   ]
  },
  {
   "cell_type": "markdown",
   "metadata": {},
   "source": [
    "- Print the precision, recall and f1-scores on the test data for each fold and model. Give the unaggregated results."
   ]
  },
  {
   "cell_type": "code",
   "execution_count": 378,
   "metadata": {},
   "outputs": [
    {
     "name": "stdout",
     "output_type": "stream",
     "text": [
      "precision, recall and f1-scores for Classifier 1 \n",
      "\t\tFold 1  Fold 2  Fold 3\n",
      "Precision : \t 0.51 \t 0.85 \t 0.64 \n",
      "   Recall : \t 0.54 \t 0.85 \t 0.66 \n",
      "       F1 : \t 0.52 \t 0.87 \t 0.65\n"
     ]
    }
   ],
   "source": [
    "print(\"precision, recall and f1-scores for Classifier 1 \")\n",
    "print(\"\\t\\tFold 1\",\" Fold 2\",\" Fold 3\" )\n",
    "print(\"Precision :\",\"\\t\",round(prfs1[0][0],2),\"\\t\",round(prfs1[0][1],2),\"\\t\",round(prfs1[0][2],2), \n",
    "    \"\\n   Recall :\",\"\\t\",round(prfs1[1][0],2),\"\\t\",round(prfs1[1][1],2),\"\\t\",round(prfs1[1][2],2), \n",
    "    \"\\n       F1 :\",\"\\t\",round(prfs1[2][0],2),\"\\t\",round(prfs1[2][1],2),\"\\t\",round(prfs1[2][2],2))"
   ]
  },
  {
   "cell_type": "code",
   "execution_count": 377,
   "metadata": {},
   "outputs": [
    {
     "name": "stdout",
     "output_type": "stream",
     "text": [
      "precision, recall and f1-scores for Classifier 4 \n",
      "\t\tFold 1  Fold 2  Fold 3\n",
      "Precision : \t 0.68 \t 0.58 \t 0.63 \n",
      "   Recall : \t 0.77 \t 0.62 \t 0.68 \n",
      "       F1 : \t 0.67 \t 0.56 \t 0.61\n"
     ]
    }
   ],
   "source": [
    "print(\"precision, recall and f1-scores for Classifier 4 \")\n",
    "print(\"\\t\\tFold 1\",\" Fold 2\",\" Fold 3\" )\n",
    "print(\"Precision :\",\"\\t\",round(prfs2[0][0],2),\"\\t\",round(prfs2[0][1],2),\"\\t\",round(prfs2[0][2],2), \n",
    "    \"\\n   Recall :\",\"\\t\",round(prfs2[1][0],2),\"\\t\",round(prfs2[1][1],2),\"\\t\",round(prfs2[1][2],2), \n",
    "    \"\\n       F1 :\",\"\\t\",round(prfs2[2][0],2),\"\\t\",round(prfs2[2][1],2),\"\\t\",round(prfs2[2][2],2))"
   ]
  },
  {
   "cell_type": "markdown",
   "metadata": {},
   "source": [
    "- Compute accuracy scores on training and test data (give explicitly the result for each fold)."
   ]
  },
  {
   "cell_type": "code",
   "execution_count": 369,
   "metadata": {},
   "outputs": [
    {
     "name": "stdout",
     "output_type": "stream",
     "text": [
      "\t\t Fold 1 Fold 2 Fold 3\n",
      "Training : \t 0.05 \t 0.03 \t 0.04 \n",
      " Testing : \t 0.02 \t 0.06 \t 0.04\n"
     ]
    }
   ],
   "source": [
    "print(\"\\t\\t Fold 1\",\"Fold 2\",\"Fold 3\" )\n",
    "print(\"Training :\",\"\\t\", round(acc1[0][0],2),\"\\t\",round(acc1[1][0],2),\"\\t\",round(acc1[2][0],2), \n",
    "    \"\\n Testing :\",\"\\t\", round(acc1[0][1],2),\"\\t\",round(acc1[1][1],2),\"\\t\",round(acc1[2][1],2))"
   ]
  },
  {
   "cell_type": "code",
   "execution_count": 368,
   "metadata": {},
   "outputs": [
    {
     "name": "stdout",
     "output_type": "stream",
     "text": [
      "\t\t Fold 1 Fold 2 Fold 3\n",
      "Training : \t 0.11 \t 0.08 \t 0.1 \n",
      " Testing : \t 0.07 \t 0.13 \t 0.09\n"
     ]
    }
   ],
   "source": [
    "print(\"\\t\\t Fold 1\",\"Fold 2\",\"Fold 3\" )\n",
    "print(\"Training :\",\"\\t\", round(acc2[0][0],2),\"\\t\",round(acc2[1][0],2),\"\\t\",round(acc2[2][0],2), \n",
    "    \"\\n Testing :\",\"\\t\", round(acc2[0][1],2),\"\\t\",round(acc2[1][1],2),\"\\t\",round(acc2[2][1],2))"
   ]
  },
  {
   "cell_type": "markdown",
   "metadata": {},
   "source": [
    "In order to turn numbers into insights, please comment on your findings. Motivate the answers to the following questions using the metrics and the findings in the **questions 2 through 5** of the assignment."
   ]
  },
  {
   "cell_type": "markdown",
   "metadata": {},
   "source": [
    "   (b) What is, in your opinion, the best model? Motivate your answer with the findings above."
   ]
  },
  {
   "cell_type": "markdown",
   "metadata": {},
   "source": [
    "Explanation:\n",
    "\n",
    "Based on the quality measures extracted for both types of frogs, we have concluded that the models,\n",
    "1. SVM Linear for Green Frogs\n",
    "2. Regression for Green Frogs\n",
    "are better than all other models, as the quality measures \"Precision, recall and f1-scores\" in the extracted matrices are considerate and depicts that these above mentioned models are better. (Shown int he quality matrices calculated above). "
   ]
  },
  {
   "cell_type": "markdown",
   "metadata": {},
   "source": [
    "   (c) Does any model suffer from underfitting or overfitting? Motivate your answer with the findings above."
   ]
  },
  {
   "cell_type": "markdown",
   "metadata": {},
   "source": [
    "Explanation:\n",
    "Yes, the models,\n",
    "1. Decision tree for Green frogs\n",
    "2. Decision tree for Brown frogs\n",
    "3. Regression for Brown Frogs\n",
    "4. SVM for Brown Frogs\n",
    "5. Neural Network for Green Frogs\n",
    "6. Neural Network for Brown Frogs\n",
    "\n",
    "are underfit and does not have adequete quality measures.\n"
   ]
  },
  {
   "cell_type": "markdown",
   "metadata": {},
   "source": [
    "## Question 7 - Clustering (8 points): "
   ]
  },
  {
   "cell_type": "markdown",
   "metadata": {},
   "source": [
    "(a) For this question, use the extracted data set you created in the preprocessing step (sampled_data). Drop all the columns expect \"VegetationR\", \"UseR\", \"FishingR\", \"RoadDistanceR\", \"BuildingR\", \"RoadDistanceR\", and \"PollutionR\". Use a dendogram to find the overview of the clusters that you can extract for the remaining columns."
   ]
  },
  {
   "cell_type": "code",
   "execution_count": 308,
   "metadata": {},
   "outputs": [
    {
     "name": "stdout",
     "output_type": "stream",
     "text": [
      "   VegetationR   UseR  FishingR  RoadDistanceR  BuildingR  PollutionR\n",
      "0        0.707  0.000     0.000          0.000      0.707         0.0\n",
      "1        0.391  0.000     0.000          0.651      0.651         0.0\n",
      "2        0.229  0.000     0.000          0.688      0.688         0.0\n",
      "3        0.140  0.000     0.000          0.700      0.700         0.0\n",
      "4        0.471  0.707     0.471          0.000      0.236         0.0\n"
     ]
    },
    {
     "data": {
      "image/png": "[encoded data removed]",
      "text/plain": [
       "<Figure size 720x504 with 1 Axes>"
      ]
     },
     "metadata": {},
     "output_type": "display_data"
    }
   ],
   "source": [
    "import scipy.cluster.hierarchy as shc\n",
    "from sklearn.preprocessing import normalize\n",
    "\n",
    "extracted_data = sampled_data[[\"VegetationR\", \"UseR\", \"FishingR\", \"RoadDistanceR\", \"BuildingR\", \"PollutionR\"]]\n",
    "normalized_data = normalize(extracted_data)\n",
    "normalized_data = pd.DataFrame(normalized_data, columns=extracted_data.columns)\n",
    "print(normalized_data.head())\n",
    "\n",
    "pl.figure(figsize=(10, 7))\n",
    "pl.title(\"Dendrograms\")\n",
    "dend = shc.dendrogram(shc.linkage(normalized_data, method='ward'))"
   ]
  },
  {
   "cell_type": "markdown",
   "metadata": {},
   "source": [
    "(b) What does the vertical and horizontal axis show in the dendogram? Why the distance between the clusters in the dendogram generally decreases, when we go from top to down in the dendogram?"
   ]
  },
  {
   "cell_type": "markdown",
   "metadata": {},
   "source": [
    "Explanation:\n",
    "    \n",
    "Y axis shows the Level of dendograms and X axis shows the data points.\n",
    "    The Concentration is higher at lower levels because of the presence of data points, as the data points are very concentrated and close to eachother. \n",
    "    Whereas at the higher levels, the data points are encapsulated in to clusters and the clusters are daviant to eachother(as compared to the datapoints), that is why the distance keeps on decreasing generally. "
   ]
  },
  {
   "cell_type": "markdown",
   "metadata": {},
   "source": [
    "(c) Split the diagram at 3 and find the number the clusters at this point."
   ]
  },
  {
   "cell_type": "code",
   "execution_count": 230,
   "metadata": {},
   "outputs": [
    {
     "data": {
      "image/png": "[encoded data removed]",
      "text/plain": [
       "<Figure size 720x504 with 1 Axes>"
      ]
     },
     "metadata": {},
     "output_type": "display_data"
    }
   ],
   "source": [
    "# Your code\n",
    "pl.figure(figsize=(10, 7))\n",
    "pl.title(\"Dendrograms\")\n",
    "dend = shc.dendrogram(shc.linkage(normalized_data, method='ward'))\n",
    "pl.axhline(y=3, color='b', linestyle='--')\n",
    "\n",
    "pl.show()"
   ]
  },
  {
   "cell_type": "markdown",
   "metadata": {},
   "source": [
    "(d) Using agglomerative clustering with the number of clusters found in the previous section and a scatter diagram, show the discovered cluster for \"VegetationR\" and \"UseR\" in different colors. "
   ]
  },
  {
   "cell_type": "code",
   "execution_count": 231,
   "metadata": {},
   "outputs": [
    {
     "data": {
      "image/png": "[encoded data removed]",
      "text/plain": [
       "<Figure size 720x504 with 1 Axes>"
      ]
     },
     "metadata": {},
     "output_type": "display_data"
    }
   ],
   "source": [
    "from sklearn.cluster import AgglomerativeClustering\n",
    "\n",
    "cluster = AgglomerativeClustering(n_clusters=3, affinity='euclidean', linkage='ward')\n",
    "cluster.fit_predict(normalized_data)\n",
    "pl.figure(figsize=(10, 7))\n",
    "pl.scatter(normalized_data['VegetationR'], normalized_data['UseR'], c=cluster.labels_)\n",
    "pl.show()"
   ]
  }
 ],
 "metadata": {
  "kernelspec": {
   "display_name": "Python 3 (ipykernel)",
   "language": "python",
   "name": "python3"
  },
  "language_info": {
   "codemirror_mode": {
    "name": "ipython",
    "version": 3
   },
   "file_extension": ".py",
   "mimetype": "text/x-python",
   "name": "python",
   "nbconvert_exporter": "python",
   "pygments_lexer": "ipython3",
   "version": "3.7.11"
  },
  "toc": {
   "base_numbering": 1,
   "nav_menu": {},
   "number_sections": true,
   "sideBar": true,
   "skip_h1_title": false,
   "title_cell": "Table of Contents",
   "title_sidebar": "Contents",
   "toc_cell": false,
   "toc_position": {},
   "toc_section_display": true,
   "toc_window_display": false
  }
 },
 "nbformat": 4,
 "nbformat_minor": 2
}
