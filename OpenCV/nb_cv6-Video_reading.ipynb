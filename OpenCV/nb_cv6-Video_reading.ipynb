{
 "cells": [
  {
   "cell_type": "markdown",
   "id": "550620d8",
   "metadata": {},
   "source": [
    "# Open CV - Chapter 6 - Video Reading"
   ]
  },
  {
   "cell_type": "markdown",
   "id": "48a09759",
   "metadata": {},
   "source": [
    "## Reading Video"
   ]
  },
  {
   "cell_type": "code",
   "execution_count": 2,
   "id": "3cd815f6",
   "metadata": {},
   "outputs": [],
   "source": [
    "import cv2 as cv\n",
    "import sys\n",
    "cap = cv.VideoCapture(\"Resources/video1.mp4\")\n",
    "\n",
    "if (cap.isOpened()== False):\n",
    "    print('video not found')\n",
    "\n",
    "while(cap.isOpened()):\n",
    "    ret, frame = cap.read()\n",
    "    if ret == True:\n",
    "        cv.imshow('video',frame)\n",
    "        if cv.waitKey(1) & 0xFF == ord('q'):\n",
    "            break\n",
    "    else:\n",
    "        break \n",
    "cap.release()\n",
    "\n",
    "cv.destroyAllWindows()\n"
   ]
  },
  {
   "cell_type": "code",
   "execution_count": null,
   "id": "6b18bd67",
   "metadata": {},
   "outputs": [],
   "source": []
  }
 ],
 "metadata": {
  "interpreter": {
   "hash": "1966dafd80ff2ad7b71103e2924f5fe8b232f86773653e465ec1741b67332d79"
  },
  "kernelspec": {
   "display_name": "Python [conda env:env-IDS2020] *",
   "language": "python",
   "name": "python3"
  },
  "language_info": {
   "codemirror_mode": {
    "name": "ipython",
    "version": 3
   },
   "file_extension": ".py",
   "mimetype": "text/x-python",
   "name": "python",
   "nbconvert_exporter": "python",
   "pygments_lexer": "ipython3",
   "version": "3.7.7"
  },
  "toc": {
   "base_numbering": 1,
   "nav_menu": {},
   "number_sections": true,
   "sideBar": true,
   "skip_h1_title": false,
   "title_cell": "Table of Contents",
   "title_sidebar": "Contents",
   "toc_cell": false,
   "toc_position": {},
   "toc_section_display": true,
   "toc_window_display": false
  }
 },
 "nbformat": 4,
 "nbformat_minor": 5
}
