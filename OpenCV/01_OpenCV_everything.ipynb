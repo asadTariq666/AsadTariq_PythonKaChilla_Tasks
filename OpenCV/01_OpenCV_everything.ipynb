{
 "cells": [
  {
   "cell_type": "markdown",
   "metadata": {},
   "source": [
    "# Open CV - All Chapters"
   ]
  },
  {
   "cell_type": "markdown",
   "id": "550620d8",
   "metadata": {},
   "source": [
    "# Open CV - Chapter 1"
   ]
  },
  {
   "cell_type": "markdown",
   "id": "48a09759",
   "metadata": {},
   "source": [
    "## Reading Image"
   ]
  },
  {
   "cell_type": "code",
   "execution_count": null,
   "id": "3cd815f6",
   "metadata": {},
   "outputs": [],
   "source": [
    "import cv2 as cv\n",
    "import sys\n",
    "img = cv.imread(\"Resources/1.jpeg\")\n",
    "cv.imshow(\"MyImage\",img)\n",
    "cv.waitKey(5000)\n",
    "cv.destroyAllWindows()"
   ]
  },
  {
   "cell_type": "markdown",
   "id": "550620d8",
   "metadata": {},
   "source": [
    "# Open CV - Chapter 2 - Image Operations"
   ]
  },
  {
   "cell_type": "markdown",
   "id": "48a09759",
   "metadata": {},
   "source": [
    "## Resizing Image"
   ]
  },
  {
   "cell_type": "code",
   "execution_count": null,
   "id": "3cd815f6",
   "metadata": {},
   "outputs": [],
   "source": [
    "import cv2 as cv\n",
    "import sys\n",
    "img = cv.imread(\"Resources/1.jpeg\")\n",
    "img = cv.resize(img,(400,300))\n",
    "cv.imshow(\"MyImage\",img)\n",
    "cv.waitKey(0)\n",
    "cv.destroyAllWindows()"
   ]
  },
  {
   "cell_type": "markdown",
   "id": "550620d8",
   "metadata": {},
   "source": [
    "# Open CV - Chapter 3 - Image Operations"
   ]
  },
  {
   "cell_type": "markdown",
   "id": "8c474542",
   "metadata": {},
   "source": [
    "## Changing in to  Grey Scale"
   ]
  },
  {
   "cell_type": "code",
   "execution_count": null,
   "id": "b8e10106",
   "metadata": {},
   "outputs": [],
   "source": [
    "import cv2 as cv\n",
    "import sys\n",
    "img = cv.imread(\"Resources/2.jpg\")\n",
    "img = cv.resize(img,(400,300))\n",
    "gray_img = cv.cvtColor(img,cv.COLOR_BGR2GRAY)\n",
    "cv.imshow(\"MyImage\",img)\n",
    "cv.imshow(\"MyImage_gray\",gray_img)\n",
    "cv.waitKey(0)\n",
    "cv.destroyAllWindows()"
   ]
  },
  {
   "cell_type": "markdown",
   "id": "550620d8",
   "metadata": {},
   "source": [
    "# Open CV - Chapter 4 - Image Operations"
   ]
  },
  {
   "cell_type": "markdown",
   "id": "8c474542",
   "metadata": {},
   "source": [
    "## Converting Colored image into  Black and White"
   ]
  },
  {
   "cell_type": "code",
   "execution_count": null,
   "id": "b8e10106",
   "metadata": {},
   "outputs": [],
   "source": [
    "import cv2 as cv\n",
    "import sys\n",
    "img = cv.imread(\"Resources/2.jpg\")\n",
    "img = cv.resize(img,(400,300))\n",
    "gray_img = cv.cvtColor(img,cv.COLOR_BGR2GRAY)\n",
    "(thresh, b_w) = cv.threshold(gray_img,127,255,cv.THRESH_BINARY)\n",
    "cv.imshow(\"MyImage\",img)\n",
    "cv.imshow(\"MyImage_gray\",gray_img)\n",
    "cv.imshow(\"MyImage_black_White\",b_w)\n",
    "cv.waitKey(0)\n",
    "cv.destroyAllWindows()"
   ]
  },
  {
   "cell_type": "markdown",
   "id": "550620d8",
   "metadata": {},
   "source": [
    "# Open CV - Chapter 5 - Image Operations"
   ]
  },
  {
   "cell_type": "markdown",
   "id": "48a09759",
   "metadata": {},
   "source": [
    "## Writing Image (Saving edited image)"
   ]
  },
  {
   "cell_type": "code",
   "execution_count": null,
   "id": "3cd815f6",
   "metadata": {},
   "outputs": [],
   "source": [
    "import cv2 as cv\n",
    "import sys\n",
    "img = cv.imread(\"Resources/2.jpg\")\n",
    "img = cv.resize(img,(400,300))\n",
    "gray_img = cv.cvtColor(img,cv.COLOR_BGR2GRAY)\n",
    "#cv.imshow(\"MyImage\",img)\n",
    "#cv.imshow(\"MyImage_gray\",gray_img)\n",
    "cv.imwrite('Resources/2_gray.png',gray_img)\n",
    "cv.waitKey(0)\n",
    "cv.destroyAllWindows()"
   ]
  },
  {
   "cell_type": "markdown",
   "id": "550620d8",
   "metadata": {},
   "source": [
    "# Open CV - Chapter 6 - Video Reading"
   ]
  },
  {
   "cell_type": "markdown",
   "id": "48a09759",
   "metadata": {},
   "source": [
    "## Reading Video"
   ]
  },
  {
   "cell_type": "code",
   "execution_count": null,
   "id": "3cd815f6",
   "metadata": {},
   "outputs": [],
   "source": [
    "import cv2 as cv\n",
    "import sys\n",
    "cap = cv.VideoCapture(\"Resources/video1.mp4\")\n",
    "\n",
    "if (cap.isOpened()== False):\n",
    "    print('video not found')\n",
    "\n",
    "while(cap.isOpened()):\n",
    "    ret, frame = cap.read()\n",
    "    if ret == True:\n",
    "        cv.imshow('video',frame)\n",
    "        if cv.waitKey(1) & 0xFF == ord('q'):\n",
    "            break\n",
    "    else:\n",
    "        break \n",
    "cap.release()\n",
    "\n",
    "cv.destroyAllWindows()\n"
   ]
  },
  {
   "cell_type": "markdown",
   "id": "550620d8",
   "metadata": {},
   "source": [
    "# Open CV - Chapter 7 - Video COnversion to Grayscale"
   ]
  },
  {
   "cell_type": "markdown",
   "id": "48a09759",
   "metadata": {},
   "source": [
    "## converting Video into grayscale"
   ]
  },
  {
   "cell_type": "code",
   "execution_count": null,
   "id": "3cd815f6",
   "metadata": {},
   "outputs": [
    {
     "ename": "error",
     "evalue": "OpenCV(4.5.5) /Users/runner/work/opencv-python/opencv-python/opencv/modules/imgproc/src/color.cpp:182: error: (-215:Assertion failed) !_src.empty() in function 'cvtColor'\n",
     "output_type": "error",
     "traceback": [
      "\u001b[0;31m---------------------------------------------------------------------------\u001b[0m\n",
      "\u001b[0;31merror\u001b[0m                                     Traceback (most recent call last)\n",
      "\u001b[0;32m/var/folders/dk/9q84mn0j1nzfg85t9zx5d1480000gn/T/ipykernel_1702/968752095.py\u001b[0m in \u001b[0;36m<module>\u001b[0;34m\u001b[0m\n",
      "\u001b[1;32m      5\u001b[0m \u001b[0;32mwhile\u001b[0m\u001b[0;34m(\u001b[0m\u001b[0;36m1\u001b[0m\u001b[0;34m)\u001b[0m\u001b[0;34m:\u001b[0m\u001b[0;34m\u001b[0m\u001b[0;34m\u001b[0m\u001b[0m\n",
      "\u001b[1;32m      6\u001b[0m     \u001b[0;34m(\u001b[0m\u001b[0mret\u001b[0m\u001b[0;34m,\u001b[0m\u001b[0mframe\u001b[0m\u001b[0;34m)\u001b[0m \u001b[0;34m=\u001b[0m \u001b[0mcap\u001b[0m\u001b[0;34m.\u001b[0m\u001b[0mread\u001b[0m\u001b[0;34m(\u001b[0m\u001b[0;34m)\u001b[0m\u001b[0;34m\u001b[0m\u001b[0;34m\u001b[0m\u001b[0m\n",
      "\u001b[0;32m----> 7\u001b[0;31m     \u001b[0mgrayframe\u001b[0m \u001b[0;34m=\u001b[0m \u001b[0mcv\u001b[0m\u001b[0;34m.\u001b[0m\u001b[0mcvtColor\u001b[0m\u001b[0;34m(\u001b[0m\u001b[0mframe\u001b[0m\u001b[0;34m,\u001b[0m \u001b[0mcv\u001b[0m\u001b[0;34m.\u001b[0m\u001b[0mCOLOR_BGR2GRAY\u001b[0m\u001b[0;34m)\u001b[0m\u001b[0;34m\u001b[0m\u001b[0;34m\u001b[0m\u001b[0m\n",
      "\u001b[0m\u001b[1;32m      8\u001b[0m \u001b[0;34m\u001b[0m\u001b[0m\n",
      "\u001b[1;32m      9\u001b[0m     \u001b[0;32mif\u001b[0m \u001b[0mret\u001b[0m \u001b[0;34m==\u001b[0m \u001b[0;32mTrue\u001b[0m\u001b[0;34m:\u001b[0m\u001b[0;34m\u001b[0m\u001b[0;34m\u001b[0m\u001b[0m\n",
      "\n",
      "\u001b[0;31merror\u001b[0m: OpenCV(4.5.5) /Users/runner/work/opencv-python/opencv-python/opencv/modules/imgproc/src/color.cpp:182: error: (-215:Assertion failed) !_src.empty() in function 'cvtColor'\n"
     ]
    }
   ],
   "source": [
    "import cv2 as cv\n",
    "import sys\n",
    "cap = cv.VideoCapture(\"Resources/video1.mp4\")\n",
    "\n",
    "while(True):\n",
    "    (ret,frame) = cap.read()\n",
    "    grayframe = cv.cvtColor(frame, cv.COLOR_BGR2GRAY)\n",
    "\n",
    "    if ret == True:\n",
    "        cv.imshow('video',grayframe)\n",
    "        if cv.waitKey(1) & 0xFF == ord('q'):\n",
    "            break\n",
    "    else:\n",
    "        break \n",
    "\n",
    "cap.release()\n",
    "cv.destroyAllWindows()\n"
   ]
  },
  {
   "cell_type": "markdown",
   "id": "550620d8",
   "metadata": {},
   "source": [
    "# Open CV - Chapter 8 - Video Conversion to Black and white"
   ]
  },
  {
   "cell_type": "markdown",
   "id": "48a09759",
   "metadata": {},
   "source": [
    "## converting Video into Black and White"
   ]
  },
  {
   "cell_type": "code",
   "execution_count": null,
   "id": "3cd815f6",
   "metadata": {},
   "outputs": [
    {
     "ename": "error",
     "evalue": "OpenCV(4.5.5) /Users/runner/work/opencv-python/opencv-python/opencv/modules/imgproc/src/color.cpp:182: error: (-215:Assertion failed) !_src.empty() in function 'cvtColor'\n",
     "output_type": "error",
     "traceback": [
      "\u001b[0;31m---------------------------------------------------------------------------\u001b[0m\n",
      "\u001b[0;31merror\u001b[0m                                     Traceback (most recent call last)\n",
      "\u001b[0;32m/var/folders/dk/9q84mn0j1nzfg85t9zx5d1480000gn/T/ipykernel_1646/4119991923.py\u001b[0m in \u001b[0;36m<module>\u001b[0;34m\u001b[0m\n",
      "\u001b[1;32m      5\u001b[0m \u001b[0;32mwhile\u001b[0m\u001b[0;34m(\u001b[0m\u001b[0;36m1\u001b[0m\u001b[0;34m)\u001b[0m\u001b[0;34m:\u001b[0m\u001b[0;34m\u001b[0m\u001b[0;34m\u001b[0m\u001b[0m\n",
      "\u001b[1;32m      6\u001b[0m     \u001b[0;34m(\u001b[0m\u001b[0mret\u001b[0m\u001b[0;34m,\u001b[0m\u001b[0mframe\u001b[0m\u001b[0;34m)\u001b[0m \u001b[0;34m=\u001b[0m \u001b[0mcap\u001b[0m\u001b[0;34m.\u001b[0m\u001b[0mread\u001b[0m\u001b[0;34m(\u001b[0m\u001b[0;34m)\u001b[0m\u001b[0;34m\u001b[0m\u001b[0;34m\u001b[0m\u001b[0m\n",
      "\u001b[0;32m----> 7\u001b[0;31m     \u001b[0mgrayframe\u001b[0m \u001b[0;34m=\u001b[0m \u001b[0mcv\u001b[0m\u001b[0;34m.\u001b[0m\u001b[0mcvtColor\u001b[0m\u001b[0;34m(\u001b[0m\u001b[0mframe\u001b[0m\u001b[0;34m,\u001b[0m \u001b[0mcv\u001b[0m\u001b[0;34m.\u001b[0m\u001b[0mCOLOR_BGR2GRAY\u001b[0m\u001b[0;34m)\u001b[0m\u001b[0;34m\u001b[0m\u001b[0;34m\u001b[0m\u001b[0m\n",
      "\u001b[0m\u001b[1;32m      8\u001b[0m     \u001b[0;34m(\u001b[0m\u001b[0mthresh\u001b[0m\u001b[0;34m,\u001b[0m \u001b[0mb_w\u001b[0m\u001b[0;34m)\u001b[0m \u001b[0;34m=\u001b[0m \u001b[0mcv\u001b[0m\u001b[0;34m.\u001b[0m\u001b[0mthreshold\u001b[0m\u001b[0;34m(\u001b[0m\u001b[0mgrayframe\u001b[0m\u001b[0;34m,\u001b[0m\u001b[0;36m127\u001b[0m\u001b[0;34m,\u001b[0m\u001b[0;36m255\u001b[0m\u001b[0;34m,\u001b[0m\u001b[0mcv\u001b[0m\u001b[0;34m.\u001b[0m\u001b[0mTHRESH_BINARY\u001b[0m\u001b[0;34m)\u001b[0m\u001b[0;34m\u001b[0m\u001b[0;34m\u001b[0m\u001b[0m\n",
      "\u001b[1;32m      9\u001b[0m     \u001b[0;32mif\u001b[0m \u001b[0mret\u001b[0m \u001b[0;34m==\u001b[0m \u001b[0;32mTrue\u001b[0m\u001b[0;34m:\u001b[0m\u001b[0;34m\u001b[0m\u001b[0;34m\u001b[0m\u001b[0m\n",
      "\n",
      "\u001b[0;31merror\u001b[0m: OpenCV(4.5.5) /Users/runner/work/opencv-python/opencv-python/opencv/modules/imgproc/src/color.cpp:182: error: (-215:Assertion failed) !_src.empty() in function 'cvtColor'\n"
     ]
    }
   ],
   "source": [
    "import cv2 as cv\n",
    "import sys\n",
    "cap = cv.VideoCapture(\"Resources/video1.mp4\")\n",
    "\n",
    "while(1):\n",
    "    (ret,frame) = cap.read()\n",
    "    grayframe = cv.cvtColor(frame, cv.COLOR_BGR2GRAY)\n",
    "    (thresh, b_w) = cv.threshold(grayframe,127,255,cv.THRESH_BINARY)\n",
    "    if ret == True:\n",
    "        cv.imshow('video',b_w)\n",
    "        if cv.waitKey(1) & 0xFF == ord('q'):\n",
    "            break\n",
    "    else:\n",
    "        break \n",
    "\n",
    "cap.release()\n",
    "cv.destroyAllWindows()\n"
   ]
  },
  {
   "cell_type": "markdown",
   "id": "550620d8",
   "metadata": {},
   "source": [
    "# Open CV - Chapter 9 - Video Saving"
   ]
  },
  {
   "cell_type": "markdown",
   "id": "48a09759",
   "metadata": {},
   "source": [
    "## converting Video into grayscale and Saving"
   ]
  },
  {
   "cell_type": "code",
   "execution_count": null,
   "id": "3cd815f6",
   "metadata": {},
   "outputs": [
    {
     "name": "stderr",
     "output_type": "stream",
     "text": [
      "OpenCV: FFMPEG: tag 0x47504a4d/'MJPG' is not supported with codec id 7 and format 'mp4 / MP4 (MPEG-4 Part 14)'\n",
      "OpenCV: FFMPEG: fallback to use tag 0x7634706d/'mp4v'\n",
      "OpenCV: FFMPEG: tag 0x47504a4d/'MJPG' is not supported with codec id 7 and format 'mp4 / MP4 (MPEG-4 Part 14)'\n",
      "OpenCV: FFMPEG: fallback to use tag 0x7634706d/'mp4v'\n"
     ]
    },
    {
     "ename": "error",
     "evalue": "OpenCV(4.5.5) /Users/runner/work/opencv-python/opencv-python/opencv/modules/imgproc/src/color.cpp:182: error: (-215:Assertion failed) !_src.empty() in function 'cvtColor'\n",
     "output_type": "error",
     "traceback": [
      "\u001b[0;31m---------------------------------------------------------------------------\u001b[0m\n",
      "\u001b[0;31merror\u001b[0m                                     Traceback (most recent call last)\n",
      "\u001b[0;32m/var/folders/dk/9q84mn0j1nzfg85t9zx5d1480000gn/T/ipykernel_1768/1429620700.py\u001b[0m in \u001b[0;36m<module>\u001b[0;34m\u001b[0m\n",
      "\u001b[1;32m     10\u001b[0m \u001b[0;32mwhile\u001b[0m\u001b[0;34m(\u001b[0m\u001b[0;36m1\u001b[0m\u001b[0;34m)\u001b[0m\u001b[0;34m:\u001b[0m\u001b[0;34m\u001b[0m\u001b[0;34m\u001b[0m\u001b[0m\n",
      "\u001b[1;32m     11\u001b[0m     \u001b[0;34m(\u001b[0m\u001b[0mret\u001b[0m\u001b[0;34m,\u001b[0m\u001b[0mframe\u001b[0m\u001b[0;34m)\u001b[0m \u001b[0;34m=\u001b[0m \u001b[0mcap\u001b[0m\u001b[0;34m.\u001b[0m\u001b[0mread\u001b[0m\u001b[0;34m(\u001b[0m\u001b[0;34m)\u001b[0m\u001b[0;34m\u001b[0m\u001b[0;34m\u001b[0m\u001b[0m\n",
      "\u001b[0;32m---> 12\u001b[0;31m     \u001b[0mgrayframe\u001b[0m \u001b[0;34m=\u001b[0m \u001b[0mcv\u001b[0m\u001b[0;34m.\u001b[0m\u001b[0mcvtColor\u001b[0m\u001b[0;34m(\u001b[0m\u001b[0mframe\u001b[0m\u001b[0;34m,\u001b[0m \u001b[0mcv\u001b[0m\u001b[0;34m.\u001b[0m\u001b[0mCOLOR_BGR2GRAY\u001b[0m\u001b[0;34m)\u001b[0m\u001b[0;34m\u001b[0m\u001b[0;34m\u001b[0m\u001b[0m\n",
      "\u001b[0m\u001b[1;32m     13\u001b[0m     \u001b[0;34m(\u001b[0m\u001b[0mthresh\u001b[0m\u001b[0;34m,\u001b[0m \u001b[0mb_w\u001b[0m\u001b[0;34m)\u001b[0m \u001b[0;34m=\u001b[0m \u001b[0mcv\u001b[0m\u001b[0;34m.\u001b[0m\u001b[0mthreshold\u001b[0m\u001b[0;34m(\u001b[0m\u001b[0mgrayframe\u001b[0m\u001b[0;34m,\u001b[0m\u001b[0;36m127\u001b[0m\u001b[0;34m,\u001b[0m\u001b[0;36m255\u001b[0m\u001b[0;34m,\u001b[0m\u001b[0mcv\u001b[0m\u001b[0;34m.\u001b[0m\u001b[0mTHRESH_BINARY\u001b[0m\u001b[0;34m)\u001b[0m\u001b[0;34m\u001b[0m\u001b[0;34m\u001b[0m\u001b[0m\n",
      "\u001b[1;32m     14\u001b[0m     \u001b[0;32mif\u001b[0m \u001b[0mret\u001b[0m \u001b[0;34m==\u001b[0m \u001b[0;32mTrue\u001b[0m\u001b[0;34m:\u001b[0m\u001b[0;34m\u001b[0m\u001b[0;34m\u001b[0m\u001b[0m\n",
      "\n",
      "\u001b[0;31merror\u001b[0m: OpenCV(4.5.5) /Users/runner/work/opencv-python/opencv-python/opencv/modules/imgproc/src/color.cpp:182: error: (-215:Assertion failed) !_src.empty() in function 'cvtColor'\n"
     ]
    }
   ],
   "source": [
    "import cv2 as cv\n",
    "import sys\n",
    "cap = cv.VideoCapture(\"Resources/video1.mp4\")\n",
    "\n",
    "# writing Format, video writer object and file Output\n",
    "frame_width =int(cap.get(3))  # 4:3\n",
    "frame_height =int(cap.get(4)) # 4:3\n",
    "out = cv.VideoWriter('Resources/video1_gray.mp4', cv.VideoWriter_fourcc(*'MJPG'), 10, (frame_width,frame_height),isColor=False)\n",
    "out2 = cv.VideoWriter('Resources/video1_BW.mp4', cv.VideoWriter_fourcc(*'MJPG'), 10, (frame_width,frame_height),isColor=False)\n",
    "while(1):\n",
    "    (ret,frame) = cap.read()\n",
    "    grayframe = cv.cvtColor(frame, cv.COLOR_BGR2GRAY)\n",
    "    (thresh, b_w) = cv.threshold(grayframe,127,255,cv.THRESH_BINARY)\n",
    "    if ret == True:\n",
    "        out.write(grayframe)\n",
    "        out2.write(b_w)\n",
    "        #cv.imshow('video',b_w)\n",
    "        if cv.waitKey(1) & 0xFF == ord('q'):\n",
    "            break\n",
    "    else:\n",
    "        break \n",
    "\n",
    "cap.release()\n",
    "cv.destroyAllWindows()\n",
    "\n"
   ]
  },
  {
   "cell_type": "markdown",
   "metadata": {},
   "source": [
    "# Chapter 10 - Reading from Webcam"
   ]
  },
  {
   "cell_type": "code",
   "execution_count": null,
   "metadata": {},
   "outputs": [],
   "source": [
    "#step1 - Import Libraries\n",
    "import cv2 as cv\n",
    "import numpy as np\n",
    "\n",
    "#Step2 - Read frames from Camera\n",
    "cap = cv.VideoCapture(0) # webcam number 1\n",
    "if(cap.isOpened()==False):\n",
    "    print('there is an error')\n",
    "\n",
    "# read until the end\n",
    "#Step3 - Display frame by frame\n",
    "while(cap.isOpened()):\n",
    "    #capture Frame by frame\n",
    "    ret, frame =cap.read()\n",
    "    if ret == True:\n",
    "        cv.imshow('Frame',frame)\n",
    "        if cv.waitKey(1) & 0xFF == ord('q'):\n",
    "            break\n",
    "    else:\n",
    "        break \n",
    "\n",
    "# Step4 - Release and close windows\n",
    "cap.release()\n",
    "cv.destroyAllWindows()\n"
   ]
  },
  {
   "cell_type": "markdown",
   "metadata": {},
   "source": [
    "# Chapter 11 - Capturing Webcam Video and saving to file"
   ]
  },
  {
   "cell_type": "code",
   "execution_count": null,
   "metadata": {},
   "outputs": [],
   "source": [
    "import cv2 as cv\n",
    "import numpy as np\n",
    "cap = cv.VideoCapture(0)\n",
    "\n",
    "# writing Format, video writer object and file Output\n",
    "frame_width =int(cap.get(3))  # 4:3\n",
    "frame_height =int(cap.get(4)) # 4:3\n",
    "#Saving actual video\n",
    "out = cv.VideoWriter('OpenCV/Resources/webcam_video.avi', cv.VideoWriter_fourcc('M','J','P','G'), 10, (frame_width,frame_height))\n",
    "out2 = cv.VideoWriter('OpenCV/Resources/webcam_video2.avi', cv.VideoWriter_fourcc('M','J','P','G'), 10, (frame_width,frame_height), isColor=False)\n",
    "#Converting actual video in  grayscale\n",
    "while(1):\n",
    "    (ret,frame) = cap.read()\n",
    "    gray =cv.cvtColor(frame,cv.COLOR_BGR2GRAY)\n",
    "    if ret == True:\n",
    "        out.write(frame)\n",
    "        out2.write(gray)\n",
    "        cv.imshow('video',frame)\n",
    "        if cv.waitKey(1) & 0xFF == ord('q'):\n",
    "            break\n",
    "    else:\n",
    "        break \n",
    "\n",
    "cap.release()\n",
    "out.release()\n",
    "out2.release()\n",
    "\n",
    "cv.destroyAllWindows()\n",
    "\n"
   ]
  },
  {
   "cell_type": "markdown",
   "metadata": {},
   "source": [
    "# Chapter 12 - Changing colors of video from webcam and saving it"
   ]
  },
  {
   "cell_type": "code",
   "execution_count": null,
   "metadata": {},
   "outputs": [],
   "source": [
    "import cv2 as cv\n",
    "import numpy as np\n",
    "cap = cv.VideoCapture(0)\n",
    "\n",
    "# writing Format, video writer object and file Output\n",
    "frame_width =int(cap.get(3))  # 4:3\n",
    "frame_height =int(cap.get(4)) # 4:3\n",
    "#Saving actual video\n",
    "out = cv.VideoWriter('OpenCV/Resources/webcam_video.avi', cv.VideoWriter_fourcc('M','J','P','G'), 10, (frame_width,frame_height))\n",
    "out2 = cv.VideoWriter('OpenCV/Resources/webcam_video2.avi', cv.VideoWriter_fourcc('M','J','P','G'), 10, (frame_width,frame_height), isColor=False)\n",
    "#Converting actual video in  grayscale\n",
    "while(1):\n",
    "    (ret,frame) = cap.read()\n",
    "    gray =cv.cvtColor(frame,cv.COLOR_BGR2GRAY)\n",
    "    if ret == True:\n",
    "        out.write(frame)\n",
    "        out2.write(gray)\n",
    "        cv.imshow('video',frame)\n",
    "        if cv.waitKey(1) & 0xFF == ord('q'):\n",
    "            break\n",
    "    else:\n",
    "        break \n",
    "\n",
    "cap.release()\n",
    "out.release()\n",
    "out2.release()\n",
    "\n",
    "cv.destroyAllWindows()\n",
    "\n"
   ]
  },
  {
   "cell_type": "markdown",
   "metadata": {},
   "source": [
    "# Chapter 13 - Changing settings of webcam video"
   ]
  },
  {
   "cell_type": "code",
   "execution_count": null,
   "metadata": {},
   "outputs": [],
   "source": [
    "import cv2 as cv\n",
    "import numpy as np\n",
    "cap = cv.VideoCapture(0)\n",
    "\n",
    "#Setting Brightness - Key for brightness is 10. (50 = 50% brightness)\n",
    "cap.set(10,100)\n",
    "\n",
    "#Setting width and Height (Keys = 3:4)\n",
    "cap.set(cv.CAP_PROP_FRAME_WIDTH, 640)\n",
    "cap.set(cv.CAP_PROP_FRAME_HEIGHT, 360)\n",
    "\n",
    "\n",
    "#Converting actual video in  grayscale\n",
    "while(1):\n",
    "    (ret,frame) = cap.read()\n",
    "    if ret == True:\n",
    "        cap.set\n",
    "        cv.imshow('video',frame)\n",
    "        if cv.waitKey(1) & 0xFF == ord('q'):\n",
    "            break\n",
    "    else:\n",
    "        break \n",
    "\n",
    "cap.release()\n",
    "cv.destroyAllWindows()\n",
    "\n"
   ]
  },
  {
   "cell_type": "markdown",
   "metadata": {},
   "source": [
    "# Chapter 14 - Open CV Functions"
   ]
  },
  {
   "cell_type": "code",
   "execution_count": null,
   "metadata": {},
   "outputs": [],
   "source": [
    "import cv2 as cv\n",
    "import numpy as np\n",
    "# Reading Image\n",
    "img = cv.imread(\"OpenCV/Resources/2.jpg\")\n",
    "\n",
    "#Image Resizing\n",
    "resized_img = cv.resize(img,(300,500))\n",
    "\n",
    "#Gray Scaling\n",
    "gray_img = cv.cvtColor(img,cv.COLOR_BGR2GRAY)\n",
    "\n",
    "#Black and Wight\n",
    "(thresh, b_w) = cv.threshold(gray_img,127,255,cv.THRESH_BINARY)\n",
    "\n",
    "#Blurred Image\n",
    "blurred = cv.GaussianBlur(img,(7,7),0)\n",
    "\n",
    "#Edge Detection\n",
    "edge_img = cv.Canny(img,48,48)\n",
    "\n",
    "# Thickness of Lines (Image Dilation)\n",
    "mat_kernel = np.ones((3,3), np.uint8)   # matrix of 3x3 with every element 1\n",
    "dilated_image = cv.dilate(edge_img,mat_kernel,iterations=1)\n",
    "\n",
    "# Make Thinner Image\n",
    "ero_img = cv.erode(edge_img,mat_kernel,iterations=1)\n",
    "\n",
    "#Cropping with Numpy\n",
    "img2 = cv.imread(\"OpenCV/Resources/2.jpg\")\n",
    "#get shape of Image img i.e (2208,1242,3) \n",
    "print('the size of resized image is:',resized_img.shape) \n",
    "cropped_img = resized_img[0:300,0:200]\n",
    "\n",
    "\n",
    "\n",
    "#Displaying Image\n",
    "cv.imshow(\"MyImage\",img)\n",
    "cv.imshow('Resized Image',resized_img)\n",
    "cv.imshow(\"MyImage_gray\",gray_img)\n",
    "cv.imshow(\"MyImage_black_White\",b_w)\n",
    "cv.imshow(\"MyImage_Blurred\",blurred)\n",
    "cv.imshow(\"MyImage_edge\",edge_img)\n",
    "cv.imshow(\"MyImage_dilated\",dilated_image)\n",
    "cv.imshow(\"MyImage_Erosion\",ero_img)\n",
    "cv.imshow('Cropped Image',cropped_img)\n",
    "\n",
    "\n",
    "cv.waitKey(0)\n",
    "cv.destroyAllWindows()"
   ]
  },
  {
   "cell_type": "markdown",
   "metadata": {},
   "source": [
    "# Chapter 15 - Open CV - Shapes and Lines"
   ]
  },
  {
   "cell_type": "code",
   "execution_count": null,
   "metadata": {},
   "outputs": [],
   "source": [
    "import cv2 as cv\n",
    "import numpy as np\n",
    "from pyparsing import col\n",
    "\n",
    "# Draw Canvas\n",
    "img1 = np.zeros((600,600))  # Black image (0)\n",
    "img2 = np.ones((600,600))   # White image (1)\n",
    "\n",
    "# Print sizes\n",
    "print('size of black image is: ', img1.shape)\n",
    "print('size of white image is: ', img2.shape)\n",
    "\n",
    "#print(img1)\n",
    "\n",
    "# Adding colors to the image\n",
    "\n",
    "colored_img = np.zeros((600,600,3), np.uint8) # color channel addition\n",
    "\n",
    "# Coloring whole image\n",
    "colored_img[:] = 55,100,200 # [:] means whole image\n",
    "\n",
    "# Coloring part of image\n",
    "colored_img[100:500,100:500] = 190,100,200 \n",
    "\n",
    "#Adding line\n",
    "cv.line(colored_img,(200,100),(400,500), (200,0,0),10)\n",
    "cv.line(colored_img,(400,500),(00,100), (0,100,90),10)\n",
    "\n",
    "#Adding Rectangles\n",
    "cv.rectangle(colored_img,(50,200),(300,400),(20,00,200),4)\n",
    "cv.rectangle(colored_img,(150,150),(250,250),(0,00,2),cv.FILLED)\n",
    "\n",
    "# Adding Circles\n",
    "cv.circle(colored_img,(300,300),100,(255,0,0),5)\n",
    "cv.circle(colored_img,(300,300),30,(255,255,255),cv.FILLED)\n",
    "\n",
    "# Adding text\n",
    "\n",
    "cv.putText(colored_img,'Practice session', (200,500),cv.FONT_HERSHEY_DUPLEX,1,(255,255,255),3)\n",
    "cv.putText(colored_img,'next line', (200,550),cv.FONT_HERSHEY_DUPLEX,1,(255,255,255),3)\n",
    "# cv.imshow('Black Image',img1)\n",
    "# cv.imshow('White Image',img2)\n",
    "cv.imshow('Colored Image',colored_img)\n",
    "\n",
    "\n",
    "\n",
    "\n",
    "cv.waitKey(0)\n",
    "cv.destroyAllWindows()"
   ]
  },
  {
   "cell_type": "markdown",
   "metadata": {},
   "source": [
    "# Chapter 16 - Changing Resolution"
   ]
  },
  {
   "cell_type": "code",
   "execution_count": null,
   "metadata": {},
   "outputs": [],
   "source": [
    "#step1 - Import Libraries\n",
    "import cv2 as cv\n",
    "import numpy as np\n",
    "\n",
    "#Step2 - Read frames from Camera\n",
    "cap = cv.VideoCapture(0) # webcam number 1\n",
    "if(cap.isOpened()==False):\n",
    "    print('there is an error')\n",
    "\n",
    "#Setting Resolution Function\n",
    "def make_1080p():\n",
    "    cap.set(3, 1920)\n",
    "    cap.set(4, 1080)\n",
    "\n",
    "def make_720p():\n",
    "    cap.set(3, 1280)\n",
    "    cap.set(4, 720)\n",
    "\n",
    "def make_480p():\n",
    "    cap.set(3, 640.0)\n",
    "    cap.set(4, 480.0)\n",
    "\n",
    "def make_320p():\n",
    "    cap.set(3, 320)\n",
    "    cap.set(4, 240)\n",
    "\n",
    "def change_res(width, height):\n",
    "    cap.set(3, width)\n",
    "    cap.set(4, height)\n",
    "\n",
    "\n",
    "#Calling Resolution Function\n",
    "make_720p()\n",
    "#change_res(1280, 720)\n",
    "\n",
    "cap.set(cv.CAP_PROP_FRAME_WIDTH, 640.0)\n",
    "cap.set(cv.CAP_PROP_FRAME_HEIGHT, 480.0)\n",
    "#Changing frames per second\n",
    "cap.set(cv.CAP_PROP_FPS, 40)\n",
    "\n",
    "#Printing Resolution and FPS\n",
    "print(cap.get(cv.CAP_PROP_FPS))\n",
    "print(cap.get(3))\n",
    "print(cap.get(4))\n",
    "\n",
    "# read until the end\n",
    "#Step3 - Display frame by frame\n",
    "while(cap.isOpened()):\n",
    "    #capture Frame by frame\n",
    "    ret, frame =cap.read()\n",
    "    if ret == True:\n",
    "        cap.set(cv.CAP_PROP_FRAME_WIDTH, 640.0)\n",
    "        cap.set(cv.CAP_PROP_FRAME_HEIGHT, 480.0)\n",
    "        cv.imshow('Frame',frame)\n",
    "        if cv.waitKey(1) & 0xFF == ord('q'):\n",
    "            break\n",
    "    else:\n",
    "        break \n",
    "\n",
    "# Step4 - Release and close windows\n",
    "cap.release()\n",
    "cv.destroyAllWindows()"
   ]
  },
  {
   "cell_type": "markdown",
   "metadata": {},
   "source": [
    "# Chapter 17 - Saving HD Video From Webcam"
   ]
  },
  {
   "cell_type": "code",
   "execution_count": null,
   "metadata": {},
   "outputs": [],
   "source": [
    "#step1 - Import Libraries\n",
    "import cv2 as cv\n",
    "import numpy as np\n",
    "\n",
    "#Step2 - Read frames from Camera\n",
    "cap = cv.VideoCapture(0) # webcam number 1\n",
    "if(cap.isOpened()==False):\n",
    "    print('there is an error')\n",
    "\n",
    "#Setting Resolution Function\n",
    "def make_1080p():\n",
    "    cap.set(3, 1920)\n",
    "    cap.set(4, 1080)\n",
    "\n",
    "def make_720p():\n",
    "    cap.set(3, 1280)\n",
    "    cap.set(4, 720)\n",
    "\n",
    "def make_480p():\n",
    "    cap.set(3, 640.0)\n",
    "    cap.set(4, 480.0)\n",
    "\n",
    "def make_320p():\n",
    "    cap.set(3, 320)\n",
    "    cap.set(4, 240)\n",
    "\n",
    "def change_res(width, height):\n",
    "    cap.set(3, width)\n",
    "    cap.set(4, height)\n",
    "\n",
    "\n",
    "#Calling Resolution Function\n",
    "make_720p()\n",
    "#change_res(1280, 720)\n",
    "\n",
    "cap.set(cv.CAP_PROP_FRAME_WIDTH, 640.0)\n",
    "cap.set(cv.CAP_PROP_FRAME_HEIGHT, 480.0)\n",
    "#Changing frames per second\n",
    "cap.set(cv.CAP_PROP_FPS, 40)\n",
    "\n",
    "#Printing Resolution and FPS\n",
    "print(cap.get(cv.CAP_PROP_FPS))\n",
    "print(cap.get(3))\n",
    "print(cap.get(4))\n",
    "\n",
    "\n",
    "# writing Format, video writer object and file Output\n",
    "frame_width =int(cap.get(3))  # 4:3\n",
    "frame_height =int(cap.get(4)) # 4:3\n",
    "#Saving actual video\n",
    "out = cv.VideoWriter('OpenCV/Resources/webcam_video.avi', cv.VideoWriter_fourcc('M','J','P','G'),30, (frame_width,frame_height))\n",
    "# read until the end\n",
    "#Step3 - Display frame by frame\n",
    "while(cap.isOpened()):\n",
    "    #capture Frame by frame\n",
    "    ret, frame =cap.read()\n",
    "    if ret == True:\n",
    "        out.write(frame)\n",
    "        cv.imshow('Frame',frame)\n",
    "        if cv.waitKey(1) & 0xFF == ord('q'):\n",
    "            break\n",
    "    else:\n",
    "        break \n",
    "\n",
    "# Step4 - Release and close windows\n",
    "cap.release()\n",
    "cv.destroyAllWindows()"
   ]
  },
  {
   "cell_type": "markdown",
   "metadata": {},
   "source": [
    "# Chapter 18 - Joining Images"
   ]
  },
  {
   "cell_type": "code",
   "execution_count": null,
   "metadata": {},
   "outputs": [],
   "source": [
    "import cv2 as cv\n",
    "import numpy as np\n",
    "img = cv.imread(\"OpenCV/Resources/1.jpeg\")\n",
    "img2 = cv.imread(\"OpenCV/Resources/2.jpg\")\n",
    "# Stacking same Image\n",
    "\n",
    "#1- Horizontal stacking\n",
    "hor_img = np.hstack((img,img))\n",
    "\n",
    "#2- Vertical stacking\n",
    "ver_img = np.vstack((img,img))\n",
    "\n",
    "#Stacking Images of Different sizes\n",
    "\n",
    "#Vertical \n",
    "def vconcat_resize_min(im_list, interpolation=cv.INTER_CUBIC):\n",
    "    w_min = min(im.shape[1] for im in im_list)\n",
    "    im_list_resize = [cv.resize(im, (w_min, int(im.shape[0] * w_min / im.shape[1])), interpolation=interpolation)\n",
    "                      for im in im_list]\n",
    "    return cv.vconcat(im_list_resize)\n",
    "\n",
    "im_v_resize = vconcat_resize_min([img, img2])\n",
    "\n",
    "\n",
    "#Horizontal\n",
    "def hconcat_resize_min(im_list, interpolation=cv.INTER_CUBIC):\n",
    "    h_min = min(im.shape[0] for im in im_list)\n",
    "    im_list_resize = [cv.resize(im, (int(im.shape[1] * h_min / im.shape[0]), h_min), interpolation=interpolation)\n",
    "                      for im in im_list]\n",
    "    return cv.hconcat(im_list_resize)\n",
    "\n",
    "im_h_resize = hconcat_resize_min([img, img2])\n",
    "\n",
    "print(img.shape, img2.shape,im_v_resize.shape,im_h_resize.shape)\n",
    "\n",
    "\n",
    "#ver_img = np.vstack((img,img2))\n",
    "\n",
    "cv.imshow(\"Vertical different images\",im_v_resize)\n",
    "cv.imshow(\"Horizontal different images\",im_h_resize)\n",
    "#cv.imshow(\"MyImage2\",img2)\n",
    "\n",
    "# cv.imshow(\"Horizontal\",hor_img)\n",
    "# cv.imshow(\"Vertical\",ver_img)\n",
    "\n",
    "cv.waitKey(0)\n",
    "cv.destroyAllWindows() "
   ]
  },
  {
   "cell_type": "markdown",
   "metadata": {},
   "source": [
    "# Chapter 19 - Changing Perspective of image"
   ]
  },
  {
   "cell_type": "code",
   "execution_count": null,
   "metadata": {},
   "outputs": [],
   "source": [
    "import cv2 as cv\n",
    "import numpy as np\n",
    "img = cv.imread(\"OpenCV/Resources/3.png\")\n",
    "\n",
    "#Finding width and height\n",
    "print(img.shape)\n",
    "height = 1376\n",
    "width = 1036\n",
    "#width,height = 1036,1376 \n",
    "\n",
    "\n",
    "#Defining Points\n",
    "point1 = np.float32([[237,600],[749,638],[48,955],[823,963]])\n",
    "\n",
    "\n",
    "# Setting required starting and ending points to the start of processed image i.e 0,0  and ending  point of processed image (max width and height)\n",
    "point2 = np.float32([[0,0],[width,0],[0,height],[width,height]])\n",
    "\n",
    "matrix = cv.getPerspectiveTransform(point1,point2)\n",
    "\n",
    "#creating output image\n",
    "out_img = cv.warpPerspective(img,matrix,(width,height))\n",
    "\n",
    "cv.imshow(\"Original image\",img)\n",
    "cv.imshow(\"transformed image\",out_img)\n",
    "cv.waitKey(0)\n",
    "cv.destroyAllWindows() "
   ]
  },
  {
   "cell_type": "markdown",
   "metadata": {},
   "source": [
    "# Chapter 20 - Get coordinates and colors in an image"
   ]
  },
  {
   "cell_type": "code",
   "execution_count": null,
   "metadata": {},
   "outputs": [],
   "source": [
    "import cv2 as cv\n",
    "import numpy as np\n",
    "from sympy import Q\n",
    "\n",
    "# Define function to get coordinates\n",
    "def find_coordinates(event,x,y, flags, params):\n",
    "\n",
    "     #event = left muse click\n",
    "    if(event ==cv.EVENT_FLAG_LBUTTON):\n",
    "        print(x ,'', y )\n",
    "        font = cv.FONT_ITALIC\n",
    "        cv.putText(img,str(x)+ ',' + str(y),(x,y), font ,1, (255,0,0),1)\n",
    "\n",
    "        # show text on image\n",
    "        cv.imshow(\"image\",img)\n",
    "    \n",
    "    # event = Right click to get color\n",
    "    if(event==cv.EVENT_FLAG_RBUTTON):\n",
    "        print(x ,'', y )\n",
    "        font = cv.FONT_ITALIC\n",
    "\n",
    "        # Definig colors from image\n",
    "        b = img[y,x,0]\n",
    "        g = img[y,x,1]\n",
    "        r = img[y,x,2]\n",
    "\n",
    "        cv.putText(img,str(b)+ ',' + str(g)+',' + str(r) ,(x,y), font ,1, (255,0,0),2)\n",
    "        cv.imshow(\"image\",img)\n",
    "\n",
    "\n",
    "# Final function to read and Display\n",
    "if __name__== \"__main__\":\n",
    "    \n",
    "    #reading image\n",
    "    img = cv.imread(\"OpenCV/Resources/2.jpg\",1)\n",
    "\n",
    "    #Display image\n",
    "    cv.imshow(\"image\",img)\n",
    "\n",
    "    #Setting callback function\n",
    "    cv.setMouseCallback(\"image\",find_coordinates)\n",
    "\n",
    "    cv.waitKey(0)\n",
    "    cv.destroyAllWindows()  \n"
   ]
  },
  {
   "cell_type": "markdown",
   "metadata": {},
   "source": [
    "# Chapter 21 - Split Video in to image frames"
   ]
  },
  {
   "cell_type": "code",
   "execution_count": null,
   "metadata": {},
   "outputs": [],
   "source": [
    "import cv2 as cv\n",
    "import sys\n",
    "cap = cv.VideoCapture(\"OpenCV/Resources/video1.mp4\")\n",
    "\n",
    "if (cap.isOpened()== False):\n",
    "    print('video not found')\n",
    "\n",
    "frame_num = 0\n",
    "\n",
    "while(1):\n",
    "    success, frame = cap.read()\n",
    "    if success:\n",
    "        cv.imwrite(f\"OpenCV/Resources/frames/frame_{frame_num}.jpg\",frame)\n",
    "    else:\n",
    "        break\n",
    "    frame_num = frame_num+1\n",
    "\n",
    "cap.release()\n",
    "cv.destroyAllWindows()\n",
    " "
   ]
  },
  {
   "cell_type": "markdown",
   "metadata": {},
   "source": [
    "# Chapter 22 - Detect specific colors "
   ]
  },
  {
   "cell_type": "code",
   "execution_count": null,
   "metadata": {},
   "outputs": [],
   "source": [
    "import cv2 as cv\n",
    "import numpy as np\n",
    "\n",
    "# # Reading Image\n",
    "# img = cv.imread(\"OpenCV/Resources/2.jpg\")\n",
    "\n",
    "# # Convert in HSV (Hue, Saturation, value)\n",
    "# hsv_img = cv.cvtColor(img, cv.COLOR_BGR2HSV)\n",
    "#print(img.shape)\n",
    "\n",
    "\n",
    "# sliders\n",
    "\n",
    "def slider():\n",
    "    pass\n",
    "path = \"OpenCV/Resources/2.jpg\"\n",
    "\n",
    "cv.namedWindow(\"Bars\")\n",
    "cv.resizeWindow(\"Bars\",2208,1242)\n",
    "\n",
    "#Hue\n",
    "cv.createTrackbar(\"Hue Min\",\"Bars\",0,179,slider)\n",
    "cv.createTrackbar(\"Hue Max\",\"Bars\",179,179,slider)\n",
    "#Saturation\n",
    "cv.createTrackbar(\"Saturation Min\",\"Bars\",0,255,slider)\n",
    "cv.createTrackbar(\"Saturation Max\",\"Bars\",255,255,slider)\n",
    "#Value\n",
    "cv.createTrackbar(\"Value Min\",\"Bars\",0,255,slider)\n",
    "cv.createTrackbar(\"Value Max\",\"Bars\",255,255,slider)\n",
    "\n",
    "img = cv.imread(path)\n",
    "hsv_img = cv.cvtColor(img, cv.COLOR_BGR2HSV)\n",
    "\n",
    "hue_min = cv.getTrackbarPos(\"Hue min\",\"Bars\")\n",
    "\n",
    "\n",
    "while True:\n",
    "    img = cv.imread(path)\n",
    "    hsv_img = cv.cvtColor(img, cv.COLOR_BGR2HSV)\n",
    "    hue_min = cv.getTrackbarPos(\"Hue Min\",\"Bars\")\n",
    "    hue_max = cv.getTrackbarPos(\"Hue Max\",\"Bars\")\n",
    "    sat_min = cv.getTrackbarPos(\"Saturation Min\",\"Bars\")\n",
    "    sat_max = cv.getTrackbarPos(\"Saturation Max\",\"Bars\")\n",
    "    val_min = cv.getTrackbarPos(\"Value Min\",\"Bars\")\n",
    "    val_max = cv.getTrackbarPos(\"Value Max\",\"Bars\")\n",
    "    print(hue_min,hue_max,sat_min,sat_max,val_min,val_max)\n",
    "\n",
    "    #Reflect changes in image\n",
    "    lower =np.array([hue_min,sat_min,val_min])\n",
    "    upper =np.array([hue_max,sat_max,val_max])\n",
    "    mask_img =cv.inRange(hsv_img,lower,upper)\n",
    "    out_img =cv.bitwise_and(img,img,mask=mask_img)\n",
    "\n",
    "    cv.imshow(\"Original\",img)\n",
    "    cv.imshow(\"HSV\",hsv_img)\n",
    "    cv.imshow('masked',mask_img)\n",
    "    cv.imshow('final',out_img)\n",
    "    if cv.waitKey(1) & 0xFF == ord('q'):\n",
    "            break\n",
    "cv.destroyAllWindows()\n",
    "     \n",
    "\n",
    " "
   ]
  },
  {
   "cell_type": "markdown",
   "metadata": {},
   "source": [
    "# Chapter 23 - Face Detection"
   ]
  },
  {
   "cell_type": "code",
   "execution_count": 1,
   "metadata": {},
   "outputs": [
    {
     "name": "stderr",
     "output_type": "stream",
     "text": [
      "[ WARN:0@3.351] global /Users/runner/work/opencv-python/opencv-python/opencv/modules/imgcodecs/src/loadsave.cpp (239) findDecoder imread_('OpenCV/Resources/2.jpg'): can't open/read file: check file path/integrity\n"
     ]
    },
    {
     "ename": "error",
     "evalue": "OpenCV(4.5.5) /Users/runner/work/opencv-python/opencv-python/opencv/modules/imgproc/src/color.cpp:182: error: (-215:Assertion failed) !_src.empty() in function 'cvtColor'\n",
     "output_type": "error",
     "traceback": [
      "\u001b[0;31m---------------------------------------------------------------------------\u001b[0m",
      "\u001b[0;31merror\u001b[0m                                     Traceback (most recent call last)",
      "\u001b[0;32m/var/folders/dk/9q84mn0j1nzfg85t9zx5d1480000gn/T/ipykernel_53475/897207497.py\u001b[0m in \u001b[0;36m<module>\u001b[0;34m\u001b[0m\n\u001b[1;32m      6\u001b[0m \u001b[0;34m\u001b[0m\u001b[0m\n\u001b[1;32m      7\u001b[0m \u001b[0;31m#converting in to grayscale\u001b[0m\u001b[0;34m\u001b[0m\u001b[0;34m\u001b[0m\u001b[0;34m\u001b[0m\u001b[0m\n\u001b[0;32m----> 8\u001b[0;31m \u001b[0mgray_img\u001b[0m \u001b[0;34m=\u001b[0m \u001b[0mcv\u001b[0m\u001b[0;34m.\u001b[0m\u001b[0mcvtColor\u001b[0m\u001b[0;34m(\u001b[0m\u001b[0mimg\u001b[0m\u001b[0;34m,\u001b[0m\u001b[0mcv\u001b[0m\u001b[0;34m.\u001b[0m\u001b[0mCOLOR_BGR2GRAY\u001b[0m\u001b[0;34m)\u001b[0m\u001b[0;34m\u001b[0m\u001b[0;34m\u001b[0m\u001b[0m\n\u001b[0m\u001b[1;32m      9\u001b[0m \u001b[0;34m\u001b[0m\u001b[0m\n\u001b[1;32m     10\u001b[0m \u001b[0;31m#face detection\u001b[0m\u001b[0;34m\u001b[0m\u001b[0;34m\u001b[0m\u001b[0;34m\u001b[0m\u001b[0m\n",
      "\u001b[0;31merror\u001b[0m: OpenCV(4.5.5) /Users/runner/work/opencv-python/opencv-python/opencv/modules/imgproc/src/color.cpp:182: error: (-215:Assertion failed) !_src.empty() in function 'cvtColor'\n"
     ]
    }
   ],
   "source": [
    "import cv2 as cv\n",
    "import numpy as np\n",
    "#Creating cascade to detect face\n",
    "face_cascade = cv.CascadeClassifier('OpenCV/Resources/haarcascade_frontalface_default.xml')\n",
    "img = cv.imread(\"OpenCV/Resources/2.jpg\")\n",
    "\n",
    "#converting in to grayscale\n",
    "gray_img = cv.cvtColor(img,cv.COLOR_BGR2GRAY)\n",
    "\n",
    "#face detection\n",
    "faces = face_cascade.detectMultiScale(gray_img,1.1,4)\n",
    "\n",
    "#Draw Rectangle\n",
    "for(x,y,w,h) in faces:\n",
    "    cv.rectangle(img,(x,y),(x+w,y+h),(255,0,0),2)\n",
    "\n",
    "print(img.shape) #(2208, 1242, 3)\n",
    "#dividing in 2 images\n",
    "#img =cv.resize(img,(621,1104))\n",
    "print(img.shape) #(2208, 1242, 3)\n",
    "cv.imwrite(\"OpenCV/Resources/face.jpg\",img)\n",
    "\n",
    "cv.imshow(\"MyImage\",img)  \n",
    "cv.waitKey(0)\n",
    "cv.destroyAllWindows()"
   ]
  }
 ],
 "metadata": {
  "interpreter": {
   "hash": "68b05c9bfdb91354079bf16310792c8d1ef79f18475fa28e8e70b295c6c72f0c"
  },
  "kernelspec": {
   "display_name": "Python 3.7.11 ('env-IDS2020')",
   "language": "python",
   "name": "python3"
  },
  "language_info": {
   "codemirror_mode": {
    "name": "ipython",
    "version": 3
   },
   "file_extension": ".py",
   "mimetype": "text/x-python",
   "name": "python",
   "nbconvert_exporter": "python",
   "pygments_lexer": "ipython3",
   "version": "3.7.7"
  },
  "orig_nbformat": 4
 },
 "nbformat": 4,
 "nbformat_minor": 2
}
