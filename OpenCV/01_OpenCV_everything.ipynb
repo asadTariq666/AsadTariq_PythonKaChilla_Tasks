{
 "cells": [
  {
   "cell_type": "markdown",
   "metadata": {},
   "source": [
    "# Open CV - All Chapters"
   ]
  },
  {
   "cell_type": "markdown",
   "id": "550620d8",
   "metadata": {},
   "source": [
    "# Open CV - Chapter 1"
   ]
  },
  {
   "cell_type": "markdown",
   "id": "48a09759",
   "metadata": {},
   "source": [
    "## Reading Image"
   ]
  },
  {
   "cell_type": "code",
   "execution_count": null,
   "id": "3cd815f6",
   "metadata": {},
   "outputs": [],
   "source": [
    "import cv2 as cv\n",
    "import sys\n",
    "img = cv.imread(\"Resources/1.jpeg\")\n",
    "cv.imshow(\"MyImage\",img)\n",
    "cv.waitKey(5000)\n",
    "cv.destroyAllWindows()"
   ]
  },
  {
   "cell_type": "markdown",
   "id": "550620d8",
   "metadata": {},
   "source": [
    "# Open CV - Chapter 2 - Image Operations"
   ]
  },
  {
   "cell_type": "markdown",
   "id": "48a09759",
   "metadata": {},
   "source": [
    "## Resizing Image"
   ]
  },
  {
   "cell_type": "code",
   "execution_count": null,
   "id": "3cd815f6",
   "metadata": {},
   "outputs": [],
   "source": [
    "import cv2 as cv\n",
    "import sys\n",
    "img = cv.imread(\"Resources/1.jpeg\")\n",
    "img = cv.resize(img,(400,300))\n",
    "cv.imshow(\"MyImage\",img)\n",
    "cv.waitKey(0)\n",
    "cv.destroyAllWindows()"
   ]
  },
  {
   "cell_type": "markdown",
   "id": "550620d8",
   "metadata": {},
   "source": [
    "# Open CV - Chapter 3 - Image Operations"
   ]
  },
  {
   "cell_type": "markdown",
   "id": "8c474542",
   "metadata": {},
   "source": [
    "## Changing in to  Grey Scale"
   ]
  },
  {
   "cell_type": "code",
   "execution_count": null,
   "id": "b8e10106",
   "metadata": {},
   "outputs": [],
   "source": [
    "import cv2 as cv\n",
    "import sys\n",
    "img = cv.imread(\"Resources/2.jpg\")\n",
    "img = cv.resize(img,(400,300))\n",
    "gray_img = cv.cvtColor(img,cv.COLOR_BGR2GRAY)\n",
    "cv.imshow(\"MyImage\",img)\n",
    "cv.imshow(\"MyImage_gray\",gray_img)\n",
    "cv.waitKey(0)\n",
    "cv.destroyAllWindows()"
   ]
  },
  {
   "cell_type": "markdown",
   "id": "550620d8",
   "metadata": {},
   "source": [
    "# Open CV - Chapter 4 - Image Operations"
   ]
  },
  {
   "cell_type": "markdown",
   "id": "8c474542",
   "metadata": {},
   "source": [
    "## Converting Colored image into  Black and White"
   ]
  },
  {
   "cell_type": "code",
   "execution_count": null,
   "id": "b8e10106",
   "metadata": {},
   "outputs": [],
   "source": [
    "import cv2 as cv\n",
    "import sys\n",
    "img = cv.imread(\"Resources/2.jpg\")\n",
    "img = cv.resize(img,(400,300))\n",
    "gray_img = cv.cvtColor(img,cv.COLOR_BGR2GRAY)\n",
    "(thresh, b_w) = cv.threshold(gray_img,127,255,cv.THRESH_BINARY)\n",
    "cv.imshow(\"MyImage\",img)\n",
    "cv.imshow(\"MyImage_gray\",gray_img)\n",
    "cv.imshow(\"MyImage_black_White\",b_w)\n",
    "cv.waitKey(0)\n",
    "cv.destroyAllWindows()"
   ]
  },
  {
   "cell_type": "markdown",
   "id": "550620d8",
   "metadata": {},
   "source": [
    "# Open CV - Chapter 5 - Image Operations"
   ]
  },
  {
   "cell_type": "markdown",
   "id": "48a09759",
   "metadata": {},
   "source": [
    "## Writing Image (Saving edited image)"
   ]
  },
  {
   "cell_type": "code",
   "execution_count": null,
   "id": "3cd815f6",
   "metadata": {},
   "outputs": [],
   "source": [
    "import cv2 as cv\n",
    "import sys\n",
    "img = cv.imread(\"Resources/2.jpg\")\n",
    "img = cv.resize(img,(400,300))\n",
    "gray_img = cv.cvtColor(img,cv.COLOR_BGR2GRAY)\n",
    "#cv.imshow(\"MyImage\",img)\n",
    "#cv.imshow(\"MyImage_gray\",gray_img)\n",
    "cv.imwrite('Resources/2_gray.png',gray_img)\n",
    "cv.waitKey(0)\n",
    "cv.destroyAllWindows()"
   ]
  },
  {
   "cell_type": "markdown",
   "id": "550620d8",
   "metadata": {},
   "source": [
    "# Open CV - Chapter 6 - Video Reading"
   ]
  },
  {
   "cell_type": "markdown",
   "id": "48a09759",
   "metadata": {},
   "source": [
    "## Reading Video"
   ]
  },
  {
   "cell_type": "code",
   "execution_count": null,
   "id": "3cd815f6",
   "metadata": {},
   "outputs": [],
   "source": [
    "import cv2 as cv\n",
    "import sys\n",
    "cap = cv.VideoCapture(\"Resources/video1.mp4\")\n",
    "\n",
    "if (cap.isOpened()== False):\n",
    "    print('video not found')\n",
    "\n",
    "while(cap.isOpened()):\n",
    "    ret, frame = cap.read()\n",
    "    if ret == True:\n",
    "        cv.imshow('video',frame)\n",
    "        if cv.waitKey(1) & 0xFF == ord('q'):\n",
    "            break\n",
    "    else:\n",
    "        break \n",
    "cap.release()\n",
    "\n",
    "cv.destroyAllWindows()\n"
   ]
  },
  {
   "cell_type": "markdown",
   "id": "550620d8",
   "metadata": {},
   "source": [
    "# Open CV - Chapter 7 - Video COnversion to Grayscale"
   ]
  },
  {
   "cell_type": "markdown",
   "id": "48a09759",
   "metadata": {},
   "source": [
    "## converting Video into grayscale"
   ]
  },
  {
   "cell_type": "code",
   "execution_count": null,
   "id": "3cd815f6",
   "metadata": {},
   "outputs": [
    {
     "ename": "error",
     "evalue": "OpenCV(4.5.5) /Users/runner/work/opencv-python/opencv-python/opencv/modules/imgproc/src/color.cpp:182: error: (-215:Assertion failed) !_src.empty() in function 'cvtColor'\n",
     "output_type": "error",
     "traceback": [
      "\u001b[0;31m---------------------------------------------------------------------------\u001b[0m\n",
      "\u001b[0;31merror\u001b[0m                                     Traceback (most recent call last)\n",
      "\u001b[0;32m/var/folders/dk/9q84mn0j1nzfg85t9zx5d1480000gn/T/ipykernel_1702/968752095.py\u001b[0m in \u001b[0;36m<module>\u001b[0;34m\u001b[0m\n",
      "\u001b[1;32m      5\u001b[0m \u001b[0;32mwhile\u001b[0m\u001b[0;34m(\u001b[0m\u001b[0;36m1\u001b[0m\u001b[0;34m)\u001b[0m\u001b[0;34m:\u001b[0m\u001b[0;34m\u001b[0m\u001b[0;34m\u001b[0m\u001b[0m\n",
      "\u001b[1;32m      6\u001b[0m     \u001b[0;34m(\u001b[0m\u001b[0mret\u001b[0m\u001b[0;34m,\u001b[0m\u001b[0mframe\u001b[0m\u001b[0;34m)\u001b[0m \u001b[0;34m=\u001b[0m \u001b[0mcap\u001b[0m\u001b[0;34m.\u001b[0m\u001b[0mread\u001b[0m\u001b[0;34m(\u001b[0m\u001b[0;34m)\u001b[0m\u001b[0;34m\u001b[0m\u001b[0;34m\u001b[0m\u001b[0m\n",
      "\u001b[0;32m----> 7\u001b[0;31m     \u001b[0mgrayframe\u001b[0m \u001b[0;34m=\u001b[0m \u001b[0mcv\u001b[0m\u001b[0;34m.\u001b[0m\u001b[0mcvtColor\u001b[0m\u001b[0;34m(\u001b[0m\u001b[0mframe\u001b[0m\u001b[0;34m,\u001b[0m \u001b[0mcv\u001b[0m\u001b[0;34m.\u001b[0m\u001b[0mCOLOR_BGR2GRAY\u001b[0m\u001b[0;34m)\u001b[0m\u001b[0;34m\u001b[0m\u001b[0;34m\u001b[0m\u001b[0m\n",
      "\u001b[0m\u001b[1;32m      8\u001b[0m \u001b[0;34m\u001b[0m\u001b[0m\n",
      "\u001b[1;32m      9\u001b[0m     \u001b[0;32mif\u001b[0m \u001b[0mret\u001b[0m \u001b[0;34m==\u001b[0m \u001b[0;32mTrue\u001b[0m\u001b[0;34m:\u001b[0m\u001b[0;34m\u001b[0m\u001b[0;34m\u001b[0m\u001b[0m\n",
      "\n",
      "\u001b[0;31merror\u001b[0m: OpenCV(4.5.5) /Users/runner/work/opencv-python/opencv-python/opencv/modules/imgproc/src/color.cpp:182: error: (-215:Assertion failed) !_src.empty() in function 'cvtColor'\n"
     ]
    }
   ],
   "source": [
    "import cv2 as cv\n",
    "import sys\n",
    "cap = cv.VideoCapture(\"Resources/video1.mp4\")\n",
    "\n",
    "while(True):\n",
    "    (ret,frame) = cap.read()\n",
    "    grayframe = cv.cvtColor(frame, cv.COLOR_BGR2GRAY)\n",
    "\n",
    "    if ret == True:\n",
    "        cv.imshow('video',grayframe)\n",
    "        if cv.waitKey(1) & 0xFF == ord('q'):\n",
    "            break\n",
    "    else:\n",
    "        break \n",
    "\n",
    "cap.release()\n",
    "cv.destroyAllWindows()\n"
   ]
  },
  {
   "cell_type": "markdown",
   "id": "550620d8",
   "metadata": {},
   "source": [
    "# Open CV - Chapter 8 - Video Conversion to Black and white"
   ]
  },
  {
   "cell_type": "markdown",
   "id": "48a09759",
   "metadata": {},
   "source": [
    "## converting Video into Black and White"
   ]
  },
  {
   "cell_type": "code",
   "execution_count": null,
   "id": "3cd815f6",
   "metadata": {},
   "outputs": [
    {
     "ename": "error",
     "evalue": "OpenCV(4.5.5) /Users/runner/work/opencv-python/opencv-python/opencv/modules/imgproc/src/color.cpp:182: error: (-215:Assertion failed) !_src.empty() in function 'cvtColor'\n",
     "output_type": "error",
     "traceback": [
      "\u001b[0;31m---------------------------------------------------------------------------\u001b[0m\n",
      "\u001b[0;31merror\u001b[0m                                     Traceback (most recent call last)\n",
      "\u001b[0;32m/var/folders/dk/9q84mn0j1nzfg85t9zx5d1480000gn/T/ipykernel_1646/4119991923.py\u001b[0m in \u001b[0;36m<module>\u001b[0;34m\u001b[0m\n",
      "\u001b[1;32m      5\u001b[0m \u001b[0;32mwhile\u001b[0m\u001b[0;34m(\u001b[0m\u001b[0;36m1\u001b[0m\u001b[0;34m)\u001b[0m\u001b[0;34m:\u001b[0m\u001b[0;34m\u001b[0m\u001b[0;34m\u001b[0m\u001b[0m\n",
      "\u001b[1;32m      6\u001b[0m     \u001b[0;34m(\u001b[0m\u001b[0mret\u001b[0m\u001b[0;34m,\u001b[0m\u001b[0mframe\u001b[0m\u001b[0;34m)\u001b[0m \u001b[0;34m=\u001b[0m \u001b[0mcap\u001b[0m\u001b[0;34m.\u001b[0m\u001b[0mread\u001b[0m\u001b[0;34m(\u001b[0m\u001b[0;34m)\u001b[0m\u001b[0;34m\u001b[0m\u001b[0;34m\u001b[0m\u001b[0m\n",
      "\u001b[0;32m----> 7\u001b[0;31m     \u001b[0mgrayframe\u001b[0m \u001b[0;34m=\u001b[0m \u001b[0mcv\u001b[0m\u001b[0;34m.\u001b[0m\u001b[0mcvtColor\u001b[0m\u001b[0;34m(\u001b[0m\u001b[0mframe\u001b[0m\u001b[0;34m,\u001b[0m \u001b[0mcv\u001b[0m\u001b[0;34m.\u001b[0m\u001b[0mCOLOR_BGR2GRAY\u001b[0m\u001b[0;34m)\u001b[0m\u001b[0;34m\u001b[0m\u001b[0;34m\u001b[0m\u001b[0m\n",
      "\u001b[0m\u001b[1;32m      8\u001b[0m     \u001b[0;34m(\u001b[0m\u001b[0mthresh\u001b[0m\u001b[0;34m,\u001b[0m \u001b[0mb_w\u001b[0m\u001b[0;34m)\u001b[0m \u001b[0;34m=\u001b[0m \u001b[0mcv\u001b[0m\u001b[0;34m.\u001b[0m\u001b[0mthreshold\u001b[0m\u001b[0;34m(\u001b[0m\u001b[0mgrayframe\u001b[0m\u001b[0;34m,\u001b[0m\u001b[0;36m127\u001b[0m\u001b[0;34m,\u001b[0m\u001b[0;36m255\u001b[0m\u001b[0;34m,\u001b[0m\u001b[0mcv\u001b[0m\u001b[0;34m.\u001b[0m\u001b[0mTHRESH_BINARY\u001b[0m\u001b[0;34m)\u001b[0m\u001b[0;34m\u001b[0m\u001b[0;34m\u001b[0m\u001b[0m\n",
      "\u001b[1;32m      9\u001b[0m     \u001b[0;32mif\u001b[0m \u001b[0mret\u001b[0m \u001b[0;34m==\u001b[0m \u001b[0;32mTrue\u001b[0m\u001b[0;34m:\u001b[0m\u001b[0;34m\u001b[0m\u001b[0;34m\u001b[0m\u001b[0m\n",
      "\n",
      "\u001b[0;31merror\u001b[0m: OpenCV(4.5.5) /Users/runner/work/opencv-python/opencv-python/opencv/modules/imgproc/src/color.cpp:182: error: (-215:Assertion failed) !_src.empty() in function 'cvtColor'\n"
     ]
    }
   ],
   "source": [
    "import cv2 as cv\n",
    "import sys\n",
    "cap = cv.VideoCapture(\"Resources/video1.mp4\")\n",
    "\n",
    "while(1):\n",
    "    (ret,frame) = cap.read()\n",
    "    grayframe = cv.cvtColor(frame, cv.COLOR_BGR2GRAY)\n",
    "    (thresh, b_w) = cv.threshold(grayframe,127,255,cv.THRESH_BINARY)\n",
    "    if ret == True:\n",
    "        cv.imshow('video',b_w)\n",
    "        if cv.waitKey(1) & 0xFF == ord('q'):\n",
    "            break\n",
    "    else:\n",
    "        break \n",
    "\n",
    "cap.release()\n",
    "cv.destroyAllWindows()\n"
   ]
  },
  {
   "cell_type": "markdown",
   "id": "550620d8",
   "metadata": {},
   "source": [
    "# Open CV - Chapter 9 - Video Saving"
   ]
  },
  {
   "cell_type": "markdown",
   "id": "48a09759",
   "metadata": {},
   "source": [
    "## converting Video into grayscale and Saving"
   ]
  },
  {
   "cell_type": "code",
   "execution_count": null,
   "id": "3cd815f6",
   "metadata": {},
   "outputs": [
    {
     "name": "stderr",
     "output_type": "stream",
     "text": [
      "OpenCV: FFMPEG: tag 0x47504a4d/'MJPG' is not supported with codec id 7 and format 'mp4 / MP4 (MPEG-4 Part 14)'\n",
      "OpenCV: FFMPEG: fallback to use tag 0x7634706d/'mp4v'\n",
      "OpenCV: FFMPEG: tag 0x47504a4d/'MJPG' is not supported with codec id 7 and format 'mp4 / MP4 (MPEG-4 Part 14)'\n",
      "OpenCV: FFMPEG: fallback to use tag 0x7634706d/'mp4v'\n"
     ]
    },
    {
     "ename": "error",
     "evalue": "OpenCV(4.5.5) /Users/runner/work/opencv-python/opencv-python/opencv/modules/imgproc/src/color.cpp:182: error: (-215:Assertion failed) !_src.empty() in function 'cvtColor'\n",
     "output_type": "error",
     "traceback": [
      "\u001b[0;31m---------------------------------------------------------------------------\u001b[0m\n",
      "\u001b[0;31merror\u001b[0m                                     Traceback (most recent call last)\n",
      "\u001b[0;32m/var/folders/dk/9q84mn0j1nzfg85t9zx5d1480000gn/T/ipykernel_1768/1429620700.py\u001b[0m in \u001b[0;36m<module>\u001b[0;34m\u001b[0m\n",
      "\u001b[1;32m     10\u001b[0m \u001b[0;32mwhile\u001b[0m\u001b[0;34m(\u001b[0m\u001b[0;36m1\u001b[0m\u001b[0;34m)\u001b[0m\u001b[0;34m:\u001b[0m\u001b[0;34m\u001b[0m\u001b[0;34m\u001b[0m\u001b[0m\n",
      "\u001b[1;32m     11\u001b[0m     \u001b[0;34m(\u001b[0m\u001b[0mret\u001b[0m\u001b[0;34m,\u001b[0m\u001b[0mframe\u001b[0m\u001b[0;34m)\u001b[0m \u001b[0;34m=\u001b[0m \u001b[0mcap\u001b[0m\u001b[0;34m.\u001b[0m\u001b[0mread\u001b[0m\u001b[0;34m(\u001b[0m\u001b[0;34m)\u001b[0m\u001b[0;34m\u001b[0m\u001b[0;34m\u001b[0m\u001b[0m\n",
      "\u001b[0;32m---> 12\u001b[0;31m     \u001b[0mgrayframe\u001b[0m \u001b[0;34m=\u001b[0m \u001b[0mcv\u001b[0m\u001b[0;34m.\u001b[0m\u001b[0mcvtColor\u001b[0m\u001b[0;34m(\u001b[0m\u001b[0mframe\u001b[0m\u001b[0;34m,\u001b[0m \u001b[0mcv\u001b[0m\u001b[0;34m.\u001b[0m\u001b[0mCOLOR_BGR2GRAY\u001b[0m\u001b[0;34m)\u001b[0m\u001b[0;34m\u001b[0m\u001b[0;34m\u001b[0m\u001b[0m\n",
      "\u001b[0m\u001b[1;32m     13\u001b[0m     \u001b[0;34m(\u001b[0m\u001b[0mthresh\u001b[0m\u001b[0;34m,\u001b[0m \u001b[0mb_w\u001b[0m\u001b[0;34m)\u001b[0m \u001b[0;34m=\u001b[0m \u001b[0mcv\u001b[0m\u001b[0;34m.\u001b[0m\u001b[0mthreshold\u001b[0m\u001b[0;34m(\u001b[0m\u001b[0mgrayframe\u001b[0m\u001b[0;34m,\u001b[0m\u001b[0;36m127\u001b[0m\u001b[0;34m,\u001b[0m\u001b[0;36m255\u001b[0m\u001b[0;34m,\u001b[0m\u001b[0mcv\u001b[0m\u001b[0;34m.\u001b[0m\u001b[0mTHRESH_BINARY\u001b[0m\u001b[0;34m)\u001b[0m\u001b[0;34m\u001b[0m\u001b[0;34m\u001b[0m\u001b[0m\n",
      "\u001b[1;32m     14\u001b[0m     \u001b[0;32mif\u001b[0m \u001b[0mret\u001b[0m \u001b[0;34m==\u001b[0m \u001b[0;32mTrue\u001b[0m\u001b[0;34m:\u001b[0m\u001b[0;34m\u001b[0m\u001b[0;34m\u001b[0m\u001b[0m\n",
      "\n",
      "\u001b[0;31merror\u001b[0m: OpenCV(4.5.5) /Users/runner/work/opencv-python/opencv-python/opencv/modules/imgproc/src/color.cpp:182: error: (-215:Assertion failed) !_src.empty() in function 'cvtColor'\n"
     ]
    }
   ],
   "source": [
    "import cv2 as cv\n",
    "import sys\n",
    "cap = cv.VideoCapture(\"Resources/video1.mp4\")\n",
    "\n",
    "# writing Format, video writer object and file Output\n",
    "frame_width =int(cap.get(3))  # 4:3\n",
    "frame_height =int(cap.get(4)) # 4:3\n",
    "out = cv.VideoWriter('Resources/video1_gray.mp4', cv.VideoWriter_fourcc(*'MJPG'), 10, (frame_width,frame_height),isColor=False)\n",
    "out2 = cv.VideoWriter('Resources/video1_BW.mp4', cv.VideoWriter_fourcc(*'MJPG'), 10, (frame_width,frame_height),isColor=False)\n",
    "while(1):\n",
    "    (ret,frame) = cap.read()\n",
    "    grayframe = cv.cvtColor(frame, cv.COLOR_BGR2GRAY)\n",
    "    (thresh, b_w) = cv.threshold(grayframe,127,255,cv.THRESH_BINARY)\n",
    "    if ret == True:\n",
    "        out.write(grayframe)\n",
    "        out2.write(b_w)\n",
    "        #cv.imshow('video',b_w)\n",
    "        if cv.waitKey(1) & 0xFF == ord('q'):\n",
    "            break\n",
    "    else:\n",
    "        break \n",
    "\n",
    "cap.release()\n",
    "cv.destroyAllWindows()\n",
    "\n"
   ]
  },
  {
   "cell_type": "markdown",
   "metadata": {},
   "source": [
    "# Chapter 10 - Reading from Webcam"
   ]
  },
  {
   "cell_type": "code",
   "execution_count": null,
   "metadata": {},
   "outputs": [],
   "source": [
    "#step1 - Import Libraries\n",
    "import cv2 as cv\n",
    "import numpy as np\n",
    "\n",
    "#Step2 - Read frames from Camera\n",
    "cap = cv.VideoCapture(0) # webcam number 1\n",
    "if(cap.isOpened()==False):\n",
    "    print('there is an error')\n",
    "\n",
    "# read until the end\n",
    "#Step3 - Display frame by frame\n",
    "while(cap.isOpened()):\n",
    "    #capture Frame by frame\n",
    "    ret, frame =cap.read()\n",
    "    if ret == True:\n",
    "        cv.imshow('Frame',frame)\n",
    "        if cv.waitKey(1) & 0xFF == ord('q'):\n",
    "            break\n",
    "    else:\n",
    "        break \n",
    "\n",
    "# Step4 - Release and close windows\n",
    "cap.release()\n",
    "cv.destroyAllWindows()\n"
   ]
  },
  {
   "cell_type": "markdown",
   "metadata": {},
   "source": [
    "# Chapter 11 - Capturing Webcam Video and saving to file"
   ]
  },
  {
   "cell_type": "code",
   "execution_count": null,
   "metadata": {},
   "outputs": [],
   "source": [
    "import cv2 as cv\n",
    "import numpy as np\n",
    "cap = cv.VideoCapture(0)\n",
    "\n",
    "# writing Format, video writer object and file Output\n",
    "frame_width =int(cap.get(3))  # 4:3\n",
    "frame_height =int(cap.get(4)) # 4:3\n",
    "#Saving actual video\n",
    "out = cv.VideoWriter('OpenCV/Resources/webcam_video.avi', cv.VideoWriter_fourcc('M','J','P','G'), 10, (frame_width,frame_height))\n",
    "out2 = cv.VideoWriter('OpenCV/Resources/webcam_video2.avi', cv.VideoWriter_fourcc('M','J','P','G'), 10, (frame_width,frame_height), isColor=False)\n",
    "#Converting actual video in  grayscale\n",
    "while(1):\n",
    "    (ret,frame) = cap.read()\n",
    "    gray =cv.cvtColor(frame,cv.COLOR_BGR2GRAY)\n",
    "    if ret == True:\n",
    "        out.write(frame)\n",
    "        out2.write(gray)\n",
    "        cv.imshow('video',frame)\n",
    "        if cv.waitKey(1) & 0xFF == ord('q'):\n",
    "            break\n",
    "    else:\n",
    "        break \n",
    "\n",
    "cap.release()\n",
    "out.release()\n",
    "out2.release()\n",
    "\n",
    "cv.destroyAllWindows()\n",
    "\n"
   ]
  },
  {
   "cell_type": "markdown",
   "metadata": {},
   "source": [
    "# Chapter 12 - Changing colors of video from webcam and saving it"
   ]
  },
  {
   "cell_type": "code",
   "execution_count": null,
   "metadata": {},
   "outputs": [],
   "source": [
    "import cv2 as cv\n",
    "import numpy as np\n",
    "cap = cv.VideoCapture(0)\n",
    "\n",
    "# writing Format, video writer object and file Output\n",
    "frame_width =int(cap.get(3))  # 4:3\n",
    "frame_height =int(cap.get(4)) # 4:3\n",
    "#Saving actual video\n",
    "out = cv.VideoWriter('OpenCV/Resources/webcam_video.avi', cv.VideoWriter_fourcc('M','J','P','G'), 10, (frame_width,frame_height))\n",
    "out2 = cv.VideoWriter('OpenCV/Resources/webcam_video2.avi', cv.VideoWriter_fourcc('M','J','P','G'), 10, (frame_width,frame_height), isColor=False)\n",
    "#Converting actual video in  grayscale\n",
    "while(1):\n",
    "    (ret,frame) = cap.read()\n",
    "    gray =cv.cvtColor(frame,cv.COLOR_BGR2GRAY)\n",
    "    if ret == True:\n",
    "        out.write(frame)\n",
    "        out2.write(gray)\n",
    "        cv.imshow('video',frame)\n",
    "        if cv.waitKey(1) & 0xFF == ord('q'):\n",
    "            break\n",
    "    else:\n",
    "        break \n",
    "\n",
    "cap.release()\n",
    "out.release()\n",
    "out2.release()\n",
    "\n",
    "cv.destroyAllWindows()\n",
    "\n"
   ]
  },
  {
   "cell_type": "markdown",
   "metadata": {},
   "source": [
    "# Chapter 13 - Changing settings of webcam video"
   ]
  },
  {
   "cell_type": "code",
   "execution_count": null,
   "metadata": {},
   "outputs": [],
   "source": [
    "import cv2 as cv\n",
    "import numpy as np\n",
    "cap = cv.VideoCapture(0)\n",
    "\n",
    "#Setting Brightness - Key for brightness is 10. (50 = 50% brightness)\n",
    "cap.set(10,100)\n",
    "\n",
    "#Setting width and Height (Keys = 3:4)\n",
    "cap.set(cv.CAP_PROP_FRAME_WIDTH, 640)\n",
    "cap.set(cv.CAP_PROP_FRAME_HEIGHT, 360)\n",
    "\n",
    "\n",
    "#Converting actual video in  grayscale\n",
    "while(1):\n",
    "    (ret,frame) = cap.read()\n",
    "    if ret == True:\n",
    "        cap.set\n",
    "        cv.imshow('video',frame)\n",
    "        if cv.waitKey(1) & 0xFF == ord('q'):\n",
    "            break\n",
    "    else:\n",
    "        break \n",
    "\n",
    "cap.release()\n",
    "cv.destroyAllWindows()\n",
    "\n"
   ]
  },
  {
   "cell_type": "markdown",
   "metadata": {},
   "source": [
    "# Chapter 14 - Open CV Functions"
   ]
  },
  {
   "cell_type": "code",
   "execution_count": null,
   "metadata": {},
   "outputs": [],
   "source": [
    "import cv2 as cv\n",
    "import numpy as np\n",
    "# Reading Image\n",
    "img = cv.imread(\"OpenCV/Resources/2.jpg\")\n",
    "\n",
    "#Image Resizing\n",
    "resized_img = cv.resize(img,(300,500))\n",
    "\n",
    "#Gray Scaling\n",
    "gray_img = cv.cvtColor(img,cv.COLOR_BGR2GRAY)\n",
    "\n",
    "#Black and Wight\n",
    "(thresh, b_w) = cv.threshold(gray_img,127,255,cv.THRESH_BINARY)\n",
    "\n",
    "#Blurred Image\n",
    "blurred = cv.GaussianBlur(img,(7,7),0)\n",
    "\n",
    "#Edge Detection\n",
    "edge_img = cv.Canny(img,48,48)\n",
    "\n",
    "# Thickness of Lines (Image Dilation)\n",
    "mat_kernel = np.ones((3,3), np.uint8)   # matrix of 3x3 with every element 1\n",
    "dilated_image = cv.dilate(edge_img,mat_kernel,iterations=1)\n",
    "\n",
    "# Make Thinner Image\n",
    "ero_img = cv.erode(edge_img,mat_kernel,iterations=1)\n",
    "\n",
    "#Cropping with Numpy\n",
    "img2 = cv.imread(\"OpenCV/Resources/2.jpg\")\n",
    "#get shape of Image img i.e (2208,1242,3) \n",
    "print('the size of resized image is:',resized_img.shape) \n",
    "cropped_img = resized_img[0:300,0:200]\n",
    "\n",
    "\n",
    "\n",
    "#Displaying Image\n",
    "cv.imshow(\"MyImage\",img)\n",
    "cv.imshow('Resized Image',resized_img)\n",
    "cv.imshow(\"MyImage_gray\",gray_img)\n",
    "cv.imshow(\"MyImage_black_White\",b_w)\n",
    "cv.imshow(\"MyImage_Blurred\",blurred)\n",
    "cv.imshow(\"MyImage_edge\",edge_img)\n",
    "cv.imshow(\"MyImage_dilated\",dilated_image)\n",
    "cv.imshow(\"MyImage_Erosion\",ero_img)\n",
    "cv.imshow('Cropped Image',cropped_img)\n",
    "\n",
    "\n",
    "cv.waitKey(0)\n",
    "cv.destroyAllWindows()"
   ]
  }
 ],
 "metadata": {
  "language_info": {
   "name": "python"
  },
  "orig_nbformat": 4
 },
 "nbformat": 4,
 "nbformat_minor": 2
}
