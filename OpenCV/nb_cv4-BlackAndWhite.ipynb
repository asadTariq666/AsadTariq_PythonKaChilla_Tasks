{
 "cells": [
  {
   "cell_type": "markdown",
   "id": "550620d8",
   "metadata": {},
   "source": [
    "# Open CV - Chapter 4 - Image Operations"
   ]
  },
  {
   "cell_type": "markdown",
   "id": "8c474542",
   "metadata": {},
   "source": [
    "## Converting Colored image into  Black and White"
   ]
  },
  {
   "cell_type": "code",
   "execution_count": 1,
   "id": "b8e10106",
   "metadata": {},
   "outputs": [],
   "source": [
    "import cv2 as cv\n",
    "import sys\n",
    "img = cv.imread(\"Resources/2.jpg\")\n",
    "img = cv.resize(img,(400,300))\n",
    "gray_img = cv.cvtColor(img,cv.COLOR_BGR2GRAY)\n",
    "(thresh, b_w) = cv.threshold(gray_img,127,255,cv.THRESH_BINARY)\n",
    "cv.imshow(\"MyImage\",img)\n",
    "cv.imshow(\"MyImage_gray\",gray_img)\n",
    "cv.imshow(\"MyImage_black_White\",b_w)\n",
    "cv.waitKey(0)\n",
    "cv.destroyAllWindows()"
   ]
  }
 ],
 "metadata": {
  "interpreter": {
   "hash": "1966dafd80ff2ad7b71103e2924f5fe8b232f86773653e465ec1741b67332d79"
  },
  "kernelspec": {
   "display_name": "Python [conda env:env-IDS2020] *",
   "language": "python",
   "name": "python3"
  },
  "language_info": {
   "codemirror_mode": {
    "name": "ipython",
    "version": 3
   },
   "file_extension": ".py",
   "mimetype": "text/x-python",
   "name": "python",
   "nbconvert_exporter": "python",
   "pygments_lexer": "ipython3",
   "version": "3.7.7"
  },
  "toc": {
   "base_numbering": 1,
   "nav_menu": {},
   "number_sections": true,
   "sideBar": true,
   "skip_h1_title": false,
   "title_cell": "Table of Contents",
   "title_sidebar": "Contents",
   "toc_cell": false,
   "toc_position": {},
   "toc_section_display": true,
   "toc_window_display": false
  }
 },
 "nbformat": 4,
 "nbformat_minor": 5
}
