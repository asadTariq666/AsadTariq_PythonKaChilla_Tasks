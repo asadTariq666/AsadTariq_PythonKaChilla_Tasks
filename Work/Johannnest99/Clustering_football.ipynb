{
 "cells": [
  {
   "cell_type": "markdown",
   "metadata": {},
   "source": [
    "# Clustering data"
   ]
  },
  {
   "cell_type": "markdown",
   "id": "f7c2effc",
   "metadata": {},
   "source": [
    "## Importing Libraries"
   ]
  },
  {
   "cell_type": "code",
   "execution_count": 1,
   "id": "451bb908",
   "metadata": {},
   "outputs": [],
   "source": [
    "# Importing Libraries\n",
    "import pandas as pd \n",
    "import numpy as np\n",
    "import seaborn as sns\n",
    "import matplotlib.pyplot as plt\n"
   ]
  },
  {
   "cell_type": "code",
   "execution_count": 3,
   "metadata": {},
   "outputs": [
    {
     "name": "stdout",
     "output_type": "stream",
     "text": [
      "Collecting openpyxl\n",
      "  Using cached openpyxl-3.0.9-py2.py3-none-any.whl (242 kB)\n",
      "Collecting et-xmlfile\n",
      "  Using cached et_xmlfile-1.1.0-py3-none-any.whl (4.7 kB)\n",
      "Installing collected packages: et-xmlfile, openpyxl\n",
      "Successfully installed et-xmlfile-1.1.0 openpyxl-3.0.9\n",
      "Note: you may need to restart the kernel to use updated packages.\n"
     ]
    }
   ],
   "source": [
    "pip install openpyxl"
   ]
  },
  {
   "cell_type": "markdown",
   "id": "431125c2",
   "metadata": {},
   "source": [
    "## Importing data set"
   ]
  },
  {
   "cell_type": "code",
   "execution_count": 4,
   "id": "c65c5a5e",
   "metadata": {},
   "outputs": [
    {
     "name": "stdout",
     "output_type": "stream",
     "text": [
      "      Spieler      Tore  Torvorlage  Progressive Pässe  Rückpässe  \\\n",
      "0  E. Haaland  5.784805    0.924841          -2.099532  -0.527450   \n",
      "1   J. Sancho  3.239380    5.564156           0.198022   2.474467   \n",
      "2  J. Kimmich -0.175215    1.768353           1.397004   1.372626   \n",
      "3  K. Havertz  1.873542    0.713963          -0.254736   2.154695   \n",
      "4   A. Davies  0.011036    0.503085           0.779202   1.570474   \n",
      "\n",
      "   seitliche Pässe  lange Pässe  kurze Pässe  Dribbeln  Grätschen  ...  \\\n",
      "0        -1.350979    -2.142148    -1.430170  0.100861  -1.392833  ...   \n",
      "1         0.620473    -1.272420     1.427465  1.393588  -1.392833  ...   \n",
      "2         1.908364     1.548869     1.899620 -0.352134   0.917628  ...   \n",
      "3         0.047055    -0.646972     0.890738  1.104575  -0.797036  ...   \n",
      "4         1.046607    -0.587813     1.426581  1.400708   0.090625  ...   \n",
      "\n",
      "    Schüsse  Ballberührungen im 16er  erlittene Fouls   Flanken  \\\n",
      "0  1.524427                 1.783461        -1.061558 -0.433364   \n",
      "1  0.994731                 1.664423        -0.810551  0.308628   \n",
      "2 -0.389088                -0.488539         0.399594  0.501108   \n",
      "3  1.053056                 1.492230         0.155675 -0.008817   \n",
      "4 -0.701413                 0.409628         0.371839  1.230801   \n",
      "\n",
      "   clevere Pässe  Progressive Läufe  Besschleunigungen  erhaltene Pässe  \\\n",
      "0       0.068768          -0.250572          -0.161448        -1.136759   \n",
      "1       2.225275           1.891940           1.547451         1.531222   \n",
      "2       1.156993           0.085164          -0.528285         1.961430   \n",
      "3       0.955218           1.017857           0.916497         0.981757   \n",
      "4       0.087508           1.814248           1.259604         1.161058   \n",
      "\n",
      "   Angriffsläufe     Fouls  \n",
      "0       0.772772 -0.553050  \n",
      "1       3.045627 -1.824754  \n",
      "2       1.891424 -0.705659  \n",
      "3       1.739431 -0.727938  \n",
      "4       0.691518 -0.385413  \n",
      "\n",
      "[5 rows x 23 columns]\n"
     ]
    }
   ],
   "source": [
    "data = pd.read_excel('Data Fiver.xlsx')\n",
    "print(data.head())"
   ]
  },
  {
   "cell_type": "markdown",
   "metadata": {},
   "source": [
    "## Removing the Player , we will deal with Descriptive features only."
   ]
  },
  {
   "cell_type": "code",
   "execution_count": 5,
   "metadata": {},
   "outputs": [
    {
     "data": {
      "text/html": [
       "<div>\n",
       "<style scoped>\n",
       "    .dataframe tbody tr th:only-of-type {\n",
       "        vertical-align: middle;\n",
       "    }\n",
       "\n",
       "    .dataframe tbody tr th {\n",
       "        vertical-align: top;\n",
       "    }\n",
       "\n",
       "    .dataframe thead th {\n",
       "        text-align: right;\n",
       "    }\n",
       "</style>\n",
       "<table border=\"1\" class=\"dataframe\">\n",
       "  <thead>\n",
       "    <tr style=\"text-align: right;\">\n",
       "      <th></th>\n",
       "      <th>Tore</th>\n",
       "      <th>Torvorlage</th>\n",
       "      <th>Progressive Pässe</th>\n",
       "      <th>Rückpässe</th>\n",
       "      <th>seitliche Pässe</th>\n",
       "      <th>lange Pässe</th>\n",
       "      <th>kurze Pässe</th>\n",
       "      <th>Dribbeln</th>\n",
       "      <th>Grätschen</th>\n",
       "      <th>Abfangen</th>\n",
       "      <th>...</th>\n",
       "      <th>Schüsse</th>\n",
       "      <th>Ballberührungen im 16er</th>\n",
       "      <th>erlittene Fouls</th>\n",
       "      <th>Flanken</th>\n",
       "      <th>clevere Pässe</th>\n",
       "      <th>Progressive Läufe</th>\n",
       "      <th>Besschleunigungen</th>\n",
       "      <th>erhaltene Pässe</th>\n",
       "      <th>Angriffsläufe</th>\n",
       "      <th>Fouls</th>\n",
       "    </tr>\n",
       "  </thead>\n",
       "  <tbody>\n",
       "    <tr>\n",
       "      <th>0</th>\n",
       "      <td>5.784805</td>\n",
       "      <td>0.924841</td>\n",
       "      <td>-2.099532</td>\n",
       "      <td>-0.527450</td>\n",
       "      <td>-1.350979</td>\n",
       "      <td>-2.142148</td>\n",
       "      <td>-1.430170</td>\n",
       "      <td>0.100861</td>\n",
       "      <td>-1.392833</td>\n",
       "      <td>-1.073046</td>\n",
       "      <td>...</td>\n",
       "      <td>1.524427</td>\n",
       "      <td>1.783461</td>\n",
       "      <td>-1.061558</td>\n",
       "      <td>-0.433364</td>\n",
       "      <td>0.068768</td>\n",
       "      <td>-0.250572</td>\n",
       "      <td>-0.161448</td>\n",
       "      <td>-1.136759</td>\n",
       "      <td>0.772772</td>\n",
       "      <td>-0.553050</td>\n",
       "    </tr>\n",
       "    <tr>\n",
       "      <th>1</th>\n",
       "      <td>3.239380</td>\n",
       "      <td>5.564156</td>\n",
       "      <td>0.198022</td>\n",
       "      <td>2.474467</td>\n",
       "      <td>0.620473</td>\n",
       "      <td>-1.272420</td>\n",
       "      <td>1.427465</td>\n",
       "      <td>1.393588</td>\n",
       "      <td>-1.392833</td>\n",
       "      <td>-1.327431</td>\n",
       "      <td>...</td>\n",
       "      <td>0.994731</td>\n",
       "      <td>1.664423</td>\n",
       "      <td>-0.810551</td>\n",
       "      <td>0.308628</td>\n",
       "      <td>2.225275</td>\n",
       "      <td>1.891940</td>\n",
       "      <td>1.547451</td>\n",
       "      <td>1.531222</td>\n",
       "      <td>3.045627</td>\n",
       "      <td>-1.824754</td>\n",
       "    </tr>\n",
       "    <tr>\n",
       "      <th>2</th>\n",
       "      <td>-0.175215</td>\n",
       "      <td>1.768353</td>\n",
       "      <td>1.397004</td>\n",
       "      <td>1.372626</td>\n",
       "      <td>1.908364</td>\n",
       "      <td>1.548869</td>\n",
       "      <td>1.899620</td>\n",
       "      <td>-0.352134</td>\n",
       "      <td>0.917628</td>\n",
       "      <td>1.177042</td>\n",
       "      <td>...</td>\n",
       "      <td>-0.389088</td>\n",
       "      <td>-0.488539</td>\n",
       "      <td>0.399594</td>\n",
       "      <td>0.501108</td>\n",
       "      <td>1.156993</td>\n",
       "      <td>0.085164</td>\n",
       "      <td>-0.528285</td>\n",
       "      <td>1.961430</td>\n",
       "      <td>1.891424</td>\n",
       "      <td>-0.705659</td>\n",
       "    </tr>\n",
       "    <tr>\n",
       "      <th>3</th>\n",
       "      <td>1.873542</td>\n",
       "      <td>0.713963</td>\n",
       "      <td>-0.254736</td>\n",
       "      <td>2.154695</td>\n",
       "      <td>0.047055</td>\n",
       "      <td>-0.646972</td>\n",
       "      <td>0.890738</td>\n",
       "      <td>1.104575</td>\n",
       "      <td>-0.797036</td>\n",
       "      <td>-0.661339</td>\n",
       "      <td>...</td>\n",
       "      <td>1.053056</td>\n",
       "      <td>1.492230</td>\n",
       "      <td>0.155675</td>\n",
       "      <td>-0.008817</td>\n",
       "      <td>0.955218</td>\n",
       "      <td>1.017857</td>\n",
       "      <td>0.916497</td>\n",
       "      <td>0.981757</td>\n",
       "      <td>1.739431</td>\n",
       "      <td>-0.727938</td>\n",
       "    </tr>\n",
       "    <tr>\n",
       "      <th>4</th>\n",
       "      <td>0.011036</td>\n",
       "      <td>0.503085</td>\n",
       "      <td>0.779202</td>\n",
       "      <td>1.570474</td>\n",
       "      <td>1.046607</td>\n",
       "      <td>-0.587813</td>\n",
       "      <td>1.426581</td>\n",
       "      <td>1.400708</td>\n",
       "      <td>0.090625</td>\n",
       "      <td>1.710778</td>\n",
       "      <td>...</td>\n",
       "      <td>-0.701413</td>\n",
       "      <td>0.409628</td>\n",
       "      <td>0.371839</td>\n",
       "      <td>1.230801</td>\n",
       "      <td>0.087508</td>\n",
       "      <td>1.814248</td>\n",
       "      <td>1.259604</td>\n",
       "      <td>1.161058</td>\n",
       "      <td>0.691518</td>\n",
       "      <td>-0.385413</td>\n",
       "    </tr>\n",
       "    <tr>\n",
       "      <th>...</th>\n",
       "      <td>...</td>\n",
       "      <td>...</td>\n",
       "      <td>...</td>\n",
       "      <td>...</td>\n",
       "      <td>...</td>\n",
       "      <td>...</td>\n",
       "      <td>...</td>\n",
       "      <td>...</td>\n",
       "      <td>...</td>\n",
       "      <td>...</td>\n",
       "      <td>...</td>\n",
       "      <td>...</td>\n",
       "      <td>...</td>\n",
       "      <td>...</td>\n",
       "      <td>...</td>\n",
       "      <td>...</td>\n",
       "      <td>...</td>\n",
       "      <td>...</td>\n",
       "      <td>...</td>\n",
       "      <td>...</td>\n",
       "      <td>...</td>\n",
       "    </tr>\n",
       "    <tr>\n",
       "      <th>1272</th>\n",
       "      <td>-0.733966</td>\n",
       "      <td>0.081329</td>\n",
       "      <td>0.848617</td>\n",
       "      <td>-1.991376</td>\n",
       "      <td>0.860062</td>\n",
       "      <td>0.798960</td>\n",
       "      <td>0.369085</td>\n",
       "      <td>-1.951584</td>\n",
       "      <td>0.299024</td>\n",
       "      <td>1.286284</td>\n",
       "      <td>...</td>\n",
       "      <td>-1.156367</td>\n",
       "      <td>-0.585955</td>\n",
       "      <td>-1.381500</td>\n",
       "      <td>-1.181373</td>\n",
       "      <td>-1.035425</td>\n",
       "      <td>-0.752440</td>\n",
       "      <td>-1.432215</td>\n",
       "      <td>0.265115</td>\n",
       "      <td>-1.072731</td>\n",
       "      <td>0.479787</td>\n",
       "    </tr>\n",
       "    <tr>\n",
       "      <th>1273</th>\n",
       "      <td>1.749375</td>\n",
       "      <td>-0.762183</td>\n",
       "      <td>-1.952773</td>\n",
       "      <td>0.170887</td>\n",
       "      <td>-1.448086</td>\n",
       "      <td>-1.783394</td>\n",
       "      <td>-1.414592</td>\n",
       "      <td>0.414955</td>\n",
       "      <td>-1.392833</td>\n",
       "      <td>-0.835924</td>\n",
       "      <td>...</td>\n",
       "      <td>1.019894</td>\n",
       "      <td>1.108325</td>\n",
       "      <td>0.200084</td>\n",
       "      <td>-0.838141</td>\n",
       "      <td>-1.262574</td>\n",
       "      <td>-0.177506</td>\n",
       "      <td>-0.054467</td>\n",
       "      <td>-1.357008</td>\n",
       "      <td>0.344816</td>\n",
       "      <td>-0.750341</td>\n",
       "    </tr>\n",
       "    <tr>\n",
       "      <th>1274</th>\n",
       "      <td>-0.733966</td>\n",
       "      <td>-0.762183</td>\n",
       "      <td>0.734451</td>\n",
       "      <td>-0.561013</td>\n",
       "      <td>0.532536</td>\n",
       "      <td>1.248445</td>\n",
       "      <td>0.126650</td>\n",
       "      <td>-0.276228</td>\n",
       "      <td>0.066707</td>\n",
       "      <td>0.054994</td>\n",
       "      <td>...</td>\n",
       "      <td>-1.713187</td>\n",
       "      <td>-1.133146</td>\n",
       "      <td>-0.540483</td>\n",
       "      <td>0.807511</td>\n",
       "      <td>-0.799180</td>\n",
       "      <td>0.243341</td>\n",
       "      <td>-0.272848</td>\n",
       "      <td>0.336782</td>\n",
       "      <td>-0.650954</td>\n",
       "      <td>0.275861</td>\n",
       "    </tr>\n",
       "    <tr>\n",
       "      <th>1275</th>\n",
       "      <td>-0.733966</td>\n",
       "      <td>-0.762183</td>\n",
       "      <td>0.486326</td>\n",
       "      <td>0.060247</td>\n",
       "      <td>0.699246</td>\n",
       "      <td>1.324764</td>\n",
       "      <td>0.371126</td>\n",
       "      <td>-0.543247</td>\n",
       "      <td>2.351819</td>\n",
       "      <td>0.027803</td>\n",
       "      <td>...</td>\n",
       "      <td>-0.374453</td>\n",
       "      <td>-1.690191</td>\n",
       "      <td>0.521616</td>\n",
       "      <td>-0.214257</td>\n",
       "      <td>-1.262574</td>\n",
       "      <td>-0.189544</td>\n",
       "      <td>-1.059609</td>\n",
       "      <td>0.205447</td>\n",
       "      <td>0.591288</td>\n",
       "      <td>-0.447465</td>\n",
       "    </tr>\n",
       "    <tr>\n",
       "      <th>1276</th>\n",
       "      <td>0.507704</td>\n",
       "      <td>1.346597</td>\n",
       "      <td>-1.133685</td>\n",
       "      <td>-0.243980</td>\n",
       "      <td>-0.948397</td>\n",
       "      <td>-1.282873</td>\n",
       "      <td>-0.778098</td>\n",
       "      <td>0.608010</td>\n",
       "      <td>2.937469</td>\n",
       "      <td>-1.655582</td>\n",
       "      <td>...</td>\n",
       "      <td>1.789382</td>\n",
       "      <td>0.844164</td>\n",
       "      <td>-0.060075</td>\n",
       "      <td>-0.136974</td>\n",
       "      <td>-0.248475</td>\n",
       "      <td>-0.664268</td>\n",
       "      <td>-0.024664</td>\n",
       "      <td>-0.472853</td>\n",
       "      <td>0.724261</td>\n",
       "      <td>2.119350</td>\n",
       "    </tr>\n",
       "  </tbody>\n",
       "</table>\n",
       "<p>1277 rows × 22 columns</p>\n",
       "</div>"
      ],
      "text/plain": [
       "          Tore  Torvorlage  Progressive Pässe  Rückpässe  seitliche Pässe  \\\n",
       "0     5.784805    0.924841          -2.099532  -0.527450        -1.350979   \n",
       "1     3.239380    5.564156           0.198022   2.474467         0.620473   \n",
       "2    -0.175215    1.768353           1.397004   1.372626         1.908364   \n",
       "3     1.873542    0.713963          -0.254736   2.154695         0.047055   \n",
       "4     0.011036    0.503085           0.779202   1.570474         1.046607   \n",
       "...        ...         ...                ...        ...              ...   \n",
       "1272 -0.733966    0.081329           0.848617  -1.991376         0.860062   \n",
       "1273  1.749375   -0.762183          -1.952773   0.170887        -1.448086   \n",
       "1274 -0.733966   -0.762183           0.734451  -0.561013         0.532536   \n",
       "1275 -0.733966   -0.762183           0.486326   0.060247         0.699246   \n",
       "1276  0.507704    1.346597          -1.133685  -0.243980        -0.948397   \n",
       "\n",
       "      lange Pässe  kurze Pässe  Dribbeln  Grätschen  Abfangen  ...   Schüsse  \\\n",
       "0       -2.142148    -1.430170  0.100861  -1.392833 -1.073046  ...  1.524427   \n",
       "1       -1.272420     1.427465  1.393588  -1.392833 -1.327431  ...  0.994731   \n",
       "2        1.548869     1.899620 -0.352134   0.917628  1.177042  ... -0.389088   \n",
       "3       -0.646972     0.890738  1.104575  -0.797036 -0.661339  ...  1.053056   \n",
       "4       -0.587813     1.426581  1.400708   0.090625  1.710778  ... -0.701413   \n",
       "...           ...          ...       ...        ...       ...  ...       ...   \n",
       "1272     0.798960     0.369085 -1.951584   0.299024  1.286284  ... -1.156367   \n",
       "1273    -1.783394    -1.414592  0.414955  -1.392833 -0.835924  ...  1.019894   \n",
       "1274     1.248445     0.126650 -0.276228   0.066707  0.054994  ... -1.713187   \n",
       "1275     1.324764     0.371126 -0.543247   2.351819  0.027803  ... -0.374453   \n",
       "1276    -1.282873    -0.778098  0.608010   2.937469 -1.655582  ...  1.789382   \n",
       "\n",
       "      Ballberührungen im 16er  erlittene Fouls   Flanken  clevere Pässe  \\\n",
       "0                    1.783461        -1.061558 -0.433364       0.068768   \n",
       "1                    1.664423        -0.810551  0.308628       2.225275   \n",
       "2                   -0.488539         0.399594  0.501108       1.156993   \n",
       "3                    1.492230         0.155675 -0.008817       0.955218   \n",
       "4                    0.409628         0.371839  1.230801       0.087508   \n",
       "...                       ...              ...       ...            ...   \n",
       "1272                -0.585955        -1.381500 -1.181373      -1.035425   \n",
       "1273                 1.108325         0.200084 -0.838141      -1.262574   \n",
       "1274                -1.133146        -0.540483  0.807511      -0.799180   \n",
       "1275                -1.690191         0.521616 -0.214257      -1.262574   \n",
       "1276                 0.844164        -0.060075 -0.136974      -0.248475   \n",
       "\n",
       "      Progressive Läufe  Besschleunigungen  erhaltene Pässe  Angriffsläufe  \\\n",
       "0             -0.250572          -0.161448        -1.136759       0.772772   \n",
       "1              1.891940           1.547451         1.531222       3.045627   \n",
       "2              0.085164          -0.528285         1.961430       1.891424   \n",
       "3              1.017857           0.916497         0.981757       1.739431   \n",
       "4              1.814248           1.259604         1.161058       0.691518   \n",
       "...                 ...                ...              ...            ...   \n",
       "1272          -0.752440          -1.432215         0.265115      -1.072731   \n",
       "1273          -0.177506          -0.054467        -1.357008       0.344816   \n",
       "1274           0.243341          -0.272848         0.336782      -0.650954   \n",
       "1275          -0.189544          -1.059609         0.205447       0.591288   \n",
       "1276          -0.664268          -0.024664        -0.472853       0.724261   \n",
       "\n",
       "         Fouls  \n",
       "0    -0.553050  \n",
       "1    -1.824754  \n",
       "2    -0.705659  \n",
       "3    -0.727938  \n",
       "4    -0.385413  \n",
       "...        ...  \n",
       "1272  0.479787  \n",
       "1273 -0.750341  \n",
       "1274  0.275861  \n",
       "1275 -0.447465  \n",
       "1276  2.119350  \n",
       "\n",
       "[1277 rows x 22 columns]"
      ]
     },
     "execution_count": 5,
     "metadata": {},
     "output_type": "execute_result"
    }
   ],
   "source": [
    "descriptive_features = data.iloc[:,1:]\n",
    "descriptive_features"
   ]
  },
  {
   "cell_type": "markdown",
   "metadata": {},
   "source": [
    "## Converting in to np Array"
   ]
  },
  {
   "cell_type": "code",
   "execution_count": 53,
   "metadata": {},
   "outputs": [
    {
     "data": {
      "text/plain": [
       "(array([[ 5.78480479,  0.92484095, -2.09953172, ...,  1.        ,\n",
       "          3.        ,  1.        ],\n",
       "        [ 3.23937984,  5.56415562,  0.19802171, ...,  7.        ,\n",
       "          1.        ,  3.        ],\n",
       "        [-0.17521461,  1.76835271,  1.39700416, ...,  2.        ,\n",
       "          0.        ,  0.        ],\n",
       "        ...,\n",
       "        [-0.73396643, -0.76218256,  0.73445102, ...,  6.        ,\n",
       "          2.        ,  2.        ],\n",
       "        [-0.73396643, -0.76218256,  0.486326  , ...,  6.        ,\n",
       "          0.        ,  4.        ],\n",
       "        [ 0.50770428,  1.34659683, -1.1336849 , ...,  1.        ,\n",
       "          3.        ,  1.        ]]),\n",
       " numpy.ndarray)"
      ]
     },
     "execution_count": 53,
     "metadata": {},
     "output_type": "execute_result"
    }
   ],
   "source": [
    "descriptive_features = data.iloc[:,1:].values\n",
    "descriptive_features"
   ]
  },
  {
   "cell_type": "markdown",
   "metadata": {},
   "source": [
    "## Finding the optimum number of clusters for k-means classification"
   ]
  },
  {
   "cell_type": "markdown",
   "metadata": {},
   "source": [
    "The K-means algorithm aims to choose centroids that minimize the inertia, or within-cluster sum-of-squares criterion. Inertia can be recognized as a measure of how internally coherent clusters are. This is what the KMeans tries to minimize with each iteration."
   ]
  },
  {
   "cell_type": "code",
   "execution_count": 7,
   "metadata": {},
   "outputs": [
    {
     "data": {
      "image/png": "[encoded data removed]",
      "text/plain": [
       "<Figure size 432x288 with 1 Axes>"
      ]
     },
     "metadata": {
      "needs_background": "light"
     },
     "output_type": "display_data"
    }
   ],
   "source": [
    "#  Elbow Method \n",
    "from sklearn.cluster import KMeans\n",
    "within_cluster_sum_of_squares = []\n",
    "\n",
    "for i in range(1, 11):\n",
    "    kmeans = KMeans(n_clusters = i, init = 'k-means++', max_iter = 300, n_init = 10, random_state = 0)\n",
    "    kmeans.fit(descriptive_features)\n",
    "    within_cluster_sum_of_squares.append(kmeans.inertia_)\n",
    "    \n",
    "#Plotting the results onto a line graph, allowing us to observe 'The elbow'\n",
    "plt.plot(range(1, 11), within_cluster_sum_of_squares)\n",
    "plt.title('The elbow method')\n",
    "plt.xlabel('Number of clusters')\n",
    "plt.ylabel('within_cluster_sum_of_squares') #within cluster sum of squares\n",
    "plt.show()\n"
   ]
  },
  {
   "cell_type": "markdown",
   "metadata": {},
   "source": [
    "## Apply K-means Clustering for 4 clusters"
   ]
  },
  {
   "cell_type": "code",
   "execution_count": 11,
   "metadata": {},
   "outputs": [],
   "source": [
    "#Applying kmeans to the dataset / Creating the kmeans classifier\n",
    "kmeans = KMeans(n_clusters=4, init='k-means++', n_init=10, max_iter=300, tol=0.0001, verbose=0, random_state=None, copy_x=True, algorithm='auto')\n",
    "k_means_4_clusters = kmeans.fit_predict(descriptive_features)"
   ]
  },
  {
   "cell_type": "code",
   "execution_count": 12,
   "metadata": {},
   "outputs": [
    {
     "data": {
      "text/plain": [
       "array([1, 2, 3, ..., 3, 3, 1], dtype=int32)"
      ]
     },
     "execution_count": 12,
     "metadata": {},
     "output_type": "execute_result"
    }
   ],
   "source": [
    "k_means_4_clusters"
   ]
  },
  {
   "cell_type": "markdown",
   "metadata": {},
   "source": [
    "## checking size of each cluster"
   ]
  },
  {
   "cell_type": "code",
   "execution_count": 13,
   "metadata": {},
   "outputs": [
    {
     "name": "stdout",
     "output_type": "stream",
     "text": [
      "[263 221 296 497]\n"
     ]
    }
   ],
   "source": [
    "count_arr = np.bincount(k_means_4_clusters)\n",
    "print(count_arr)"
   ]
  },
  {
   "cell_type": "markdown",
   "metadata": {},
   "source": [
    "## Apply K-means Clustering for 8 clusters"
   ]
  },
  {
   "cell_type": "code",
   "execution_count": 14,
   "metadata": {},
   "outputs": [],
   "source": [
    "#Applying kmeans to the dataset / Creating the kmeans classifier\n",
    "kmeans = KMeans(n_clusters=8, init='k-means++', n_init=10, max_iter=300, tol=0.0001, verbose=0, random_state=None, copy_x=True, algorithm='auto')\n",
    "k_means_8_clusters = kmeans.fit_predict(descriptive_features)"
   ]
  },
  {
   "cell_type": "code",
   "execution_count": 16,
   "metadata": {},
   "outputs": [
    {
     "data": {
      "text/plain": [
       "array([2, 0, 6, ..., 4, 1, 2], dtype=int32)"
      ]
     },
     "execution_count": 16,
     "metadata": {},
     "output_type": "execute_result"
    }
   ],
   "source": [
    "k_means_8_clusters\n"
   ]
  },
  {
   "cell_type": "markdown",
   "metadata": {},
   "source": [
    "## checking size of each cluster"
   ]
  },
  {
   "cell_type": "code",
   "execution_count": 17,
   "metadata": {},
   "outputs": [
    {
     "name": "stdout",
     "output_type": "stream",
     "text": [
      "[118 180 162 209 193 144 155 116]\n"
     ]
    }
   ],
   "source": [
    "count_arr = np.bincount(k_means_8_clusters)\n",
    "print(count_arr)"
   ]
  },
  {
   "cell_type": "markdown",
   "metadata": {},
   "source": [
    "## Adding Cluster column in to CSV File"
   ]
  },
  {
   "cell_type": "code",
   "execution_count": 21,
   "metadata": {},
   "outputs": [
    {
     "name": "stdout",
     "output_type": "stream",
     "text": [
      "      Spieler      Tore  Torvorlage  Progressive Pässe  Rückpässe  \\\n",
      "0  E. Haaland  5.784805    0.924841          -2.099532  -0.527450   \n",
      "1   J. Sancho  3.239380    5.564156           0.198022   2.474467   \n",
      "2  J. Kimmich -0.175215    1.768353           1.397004   1.372626   \n",
      "3  K. Havertz  1.873542    0.713963          -0.254736   2.154695   \n",
      "4   A. Davies  0.011036    0.503085           0.779202   1.570474   \n",
      "\n",
      "   seitliche Pässe  lange Pässe  kurze Pässe  Dribbeln  Grätschen  ...  \\\n",
      "0        -1.350979    -2.142148    -1.430170  0.100861  -1.392833  ...   \n",
      "1         0.620473    -1.272420     1.427465  1.393588  -1.392833  ...   \n",
      "2         1.908364     1.548869     1.899620 -0.352134   0.917628  ...   \n",
      "3         0.047055    -0.646972     0.890738  1.104575  -0.797036  ...   \n",
      "4         1.046607    -0.587813     1.426581  1.400708   0.090625  ...   \n",
      "\n",
      "    Flanken  clevere Pässe  Progressive Läufe  Besschleunigungen  \\\n",
      "0 -0.433364       0.068768          -0.250572          -0.161448   \n",
      "1  0.308628       2.225275           1.891940           1.547451   \n",
      "2  0.501108       1.156993           0.085164          -0.528285   \n",
      "3 -0.008817       0.955218           1.017857           0.916497   \n",
      "4  1.230801       0.087508           1.814248           1.259604   \n",
      "\n",
      "   erhaltene Pässe  Angriffsläufe     Fouls  KmeansClusterPredicted  \\\n",
      "0        -1.136759       0.772772 -0.553050                       1   \n",
      "1         1.531222       3.045627 -1.824754                       2   \n",
      "2         1.961430       1.891424 -0.705659                       3   \n",
      "3         0.981757       1.739431 -0.727938                       2   \n",
      "4         1.161058       0.691518 -0.385413                       2   \n",
      "\n",
      "   Kmeans_4_clusters  Kmeans_8_clusters  \n",
      "0                  1                  2  \n",
      "1                  2                  0  \n",
      "2                  3                  6  \n",
      "3                  2                  0  \n",
      "4                  2                  6  \n",
      "\n",
      "[5 rows x 26 columns]\n"
     ]
    }
   ],
   "source": [
    "df = pd.DataFrame(data=k_means_4_clusters,columns=[\"Column1\"])\n",
    "data = data.assign(Kmeans_4_clusters =k_means_4_clusters)\n",
    "df = pd.DataFrame(data=k_means_8_clusters,columns=[\"Column1\"])\n",
    "data = data.assign(Kmeans_8_clusters =k_means_8_clusters)\n",
    "\n",
    "\n",
    "#print(data)\n",
    "data.to_csv('Clustered.csv')\n",
    "print(data.head())"
   ]
  },
  {
   "cell_type": "markdown",
   "metadata": {},
   "source": [
    "# K Medoids"
   ]
  },
  {
   "cell_type": "code",
   "execution_count": 22,
   "metadata": {},
   "outputs": [
    {
     "name": "stdout",
     "output_type": "stream",
     "text": [
      "Collecting scikit-learn-extra\n",
      "  Using cached scikit_learn_extra-0.2.0-cp37-cp37m-macosx_10_9_x86_64.whl (383 kB)\n",
      "Requirement already satisfied: numpy>=1.13.3 in /Users/asadtariq/opt/anaconda3/envs/pythonProject/lib/python3.7/site-packages (from scikit-learn-extra) (1.21.2)\n",
      "Requirement already satisfied: scikit-learn>=0.23.0 in /Users/asadtariq/opt/anaconda3/envs/pythonProject/lib/python3.7/site-packages (from scikit-learn-extra) (1.0.2)\n",
      "Requirement already satisfied: scipy>=0.19.1 in /Users/asadtariq/opt/anaconda3/envs/pythonProject/lib/python3.7/site-packages (from scikit-learn-extra) (1.7.1)\n",
      "Requirement already satisfied: joblib>=0.11 in /Users/asadtariq/opt/anaconda3/envs/pythonProject/lib/python3.7/site-packages (from scikit-learn>=0.23.0->scikit-learn-extra) (1.1.0)\n",
      "Requirement already satisfied: threadpoolctl>=2.0.0 in /Users/asadtariq/opt/anaconda3/envs/pythonProject/lib/python3.7/site-packages (from scikit-learn>=0.23.0->scikit-learn-extra) (3.1.0)\n",
      "Installing collected packages: scikit-learn-extra\n",
      "Successfully installed scikit-learn-extra-0.2.0\n",
      "Note: you may need to restart the kernel to use updated packages.\n"
     ]
    }
   ],
   "source": [
    "pip install scikit-learn-extra"
   ]
  },
  {
   "cell_type": "code",
   "execution_count": 28,
   "metadata": {},
   "outputs": [],
   "source": [
    "#Applying kmeans to the dataset / Creating the kmeans classifier\n",
    "from sklearn_extra.cluster import KMedoids\n",
    "k_medions = KMedoids(n_clusters=4, metric='manhattan', method='alternate', init='heuristic', max_iter=600, random_state=False)\n",
    "k_medions_4_clusters = k_medions.fit_predict(descriptive_features)"
   ]
  },
  {
   "cell_type": "markdown",
   "metadata": {},
   "source": [
    "## checking size of each cluster"
   ]
  },
  {
   "cell_type": "code",
   "execution_count": 29,
   "metadata": {},
   "outputs": [
    {
     "name": "stdout",
     "output_type": "stream",
     "text": [
      "[316 339 346 276]\n"
     ]
    }
   ],
   "source": [
    "k_medions_4_clusters\n",
    "count_arr = np.bincount(k_medions_4_clusters)\n",
    "print(count_arr)"
   ]
  },
  {
   "cell_type": "code",
   "execution_count": 30,
   "metadata": {},
   "outputs": [],
   "source": [
    "#Applying kmeans to the dataset / Creating the kmeans classifier\n",
    "from sklearn_extra.cluster import KMedoids\n",
    "k_medions = KMedoids(n_clusters=8, metric='manhattan', method='alternate', init='heuristic', max_iter=600, random_state=False)\n",
    "k_medions_8_clusters = k_medions.fit_predict(descriptive_features)"
   ]
  },
  {
   "cell_type": "markdown",
   "metadata": {},
   "source": [
    "## checking size of each cluster"
   ]
  },
  {
   "cell_type": "code",
   "execution_count": 31,
   "metadata": {},
   "outputs": [
    {
     "name": "stdout",
     "output_type": "stream",
     "text": [
      "[107 208 153 155  68  98 298 190]\n"
     ]
    }
   ],
   "source": [
    "k_medions_8_clusters\n",
    "count_arr = np.bincount(k_medions_8_clusters)\n",
    "print(count_arr)"
   ]
  },
  {
   "cell_type": "markdown",
   "metadata": {},
   "source": [
    "## Adding Cluster column in to CSV File"
   ]
  },
  {
   "cell_type": "code",
   "execution_count": 32,
   "metadata": {},
   "outputs": [
    {
     "name": "stdout",
     "output_type": "stream",
     "text": [
      "      Spieler      Tore  Torvorlage  Progressive Pässe  Rückpässe  \\\n",
      "0  E. Haaland  5.784805    0.924841          -2.099532  -0.527450   \n",
      "1   J. Sancho  3.239380    5.564156           0.198022   2.474467   \n",
      "2  J. Kimmich -0.175215    1.768353           1.397004   1.372626   \n",
      "3  K. Havertz  1.873542    0.713963          -0.254736   2.154695   \n",
      "4   A. Davies  0.011036    0.503085           0.779202   1.570474   \n",
      "\n",
      "   seitliche Pässe  lange Pässe  kurze Pässe  Dribbeln  Grätschen  ...  \\\n",
      "0        -1.350979    -2.142148    -1.430170  0.100861  -1.392833  ...   \n",
      "1         0.620473    -1.272420     1.427465  1.393588  -1.392833  ...   \n",
      "2         1.908364     1.548869     1.899620 -0.352134   0.917628  ...   \n",
      "3         0.047055    -0.646972     0.890738  1.104575  -0.797036  ...   \n",
      "4         1.046607    -0.587813     1.426581  1.400708   0.090625  ...   \n",
      "\n",
      "   Progressive Läufe  Besschleunigungen  erhaltene Pässe  Angriffsläufe  \\\n",
      "0          -0.250572          -0.161448        -1.136759       0.772772   \n",
      "1           1.891940           1.547451         1.531222       3.045627   \n",
      "2           0.085164          -0.528285         1.961430       1.891424   \n",
      "3           1.017857           0.916497         0.981757       1.739431   \n",
      "4           1.814248           1.259604         1.161058       0.691518   \n",
      "\n",
      "      Fouls  KmeansClusterPredicted  Kmeans_4_clusters  Kmeans_8_clusters  \\\n",
      "0 -0.553050                       1                  1                  2   \n",
      "1 -1.824754                       2                  2                  0   \n",
      "2 -0.705659                       3                  3                  6   \n",
      "3 -0.727938                       2                  2                  0   \n",
      "4 -0.385413                       2                  2                  6   \n",
      "\n",
      "   k_medions_4_clusters  k_medions_8_clusters  \n",
      "0                     1                     1  \n",
      "1                     3                     7  \n",
      "2                     0                     2  \n",
      "3                     3                     7  \n",
      "4                     3                     3  \n",
      "\n",
      "[5 rows x 28 columns]\n"
     ]
    }
   ],
   "source": [
    "df = pd.DataFrame(data=k_medions_4_clusters,columns=[\"Column1\"])\n",
    "data = data.assign(k_medions_4_clusters =k_medions_4_clusters)\n",
    "df = pd.DataFrame(data=k_medions_8_clusters,columns=[\"Column1\"])\n",
    "data = data.assign(k_medions_8_clusters =k_medions_8_clusters)\n",
    "\n",
    "\n",
    "#print(data)\n",
    "data.to_csv('Clustered.csv')\n",
    "print(data.head())"
   ]
  },
  {
   "cell_type": "markdown",
   "metadata": {},
   "source": [
    "## Hierarchical Clustering"
   ]
  },
  {
   "cell_type": "code",
   "execution_count": 48,
   "metadata": {},
   "outputs": [
    {
     "data": {
      "text/plain": [
       "array([3, 1, 0, ..., 2, 0, 3])"
      ]
     },
     "execution_count": 48,
     "metadata": {},
     "output_type": "execute_result"
    }
   ],
   "source": [
    "from sklearn.cluster import AgglomerativeClustering\n",
    "cluster = AgglomerativeClustering(n_clusters=4, affinity='euclidean', memory=None, connectivity=None, compute_full_tree='auto', linkage='ward', distance_threshold=None, compute_distances=False)\n",
    "Hierarchical_clustering_4_clusters=cluster.fit_predict(descriptive_features)\n",
    "Hierarchical_clustering_4_clusters"
   ]
  },
  {
   "cell_type": "markdown",
   "metadata": {},
   "source": [
    "## checking size of each cluster"
   ]
  },
  {
   "cell_type": "code",
   "execution_count": 49,
   "metadata": {},
   "outputs": [
    {
     "name": "stdout",
     "output_type": "stream",
     "text": [
      "[532 319 237 189]\n"
     ]
    }
   ],
   "source": [
    "Hierarchical_clustering_4_clusters\n",
    "count_arr = np.bincount(Hierarchical_clustering_4_clusters)\n",
    "print(count_arr)"
   ]
  },
  {
   "cell_type": "code",
   "execution_count": 50,
   "metadata": {},
   "outputs": [
    {
     "data": {
      "text/plain": [
       "array([1, 3, 0, ..., 2, 4, 1])"
      ]
     },
     "execution_count": 50,
     "metadata": {},
     "output_type": "execute_result"
    }
   ],
   "source": [
    "from sklearn.cluster import AgglomerativeClustering\n",
    "cluster = AgglomerativeClustering(n_clusters=8, affinity='euclidean', memory=None, connectivity=None, compute_full_tree='auto', linkage='ward', distance_threshold=None, compute_distances=False)\n",
    "\n",
    "Hierarchical_clustering_8_clusters=cluster.fit_predict(descriptive_features)\n",
    "Hierarchical_clustering_8_clusters"
   ]
  },
  {
   "cell_type": "markdown",
   "metadata": {},
   "source": [
    "## checking size of each cluster"
   ]
  },
  {
   "cell_type": "code",
   "execution_count": 51,
   "metadata": {},
   "outputs": [
    {
     "name": "stdout",
     "output_type": "stream",
     "text": [
      "[192 189 237  83 151 233 189   3]\n"
     ]
    }
   ],
   "source": [
    "Hierarchical_clustering_8_clusters\n",
    "count_arr = np.bincount(Hierarchical_clustering_8_clusters)\n",
    "print(count_arr)"
   ]
  },
  {
   "cell_type": "markdown",
   "metadata": {},
   "source": [
    "## Adding Cluster column in to CSV File"
   ]
  },
  {
   "cell_type": "code",
   "execution_count": 52,
   "metadata": {},
   "outputs": [
    {
     "name": "stdout",
     "output_type": "stream",
     "text": [
      "      Spieler      Tore  Torvorlage  Progressive Pässe  Rückpässe  \\\n",
      "0  E. Haaland  5.784805    0.924841          -2.099532  -0.527450   \n",
      "1   J. Sancho  3.239380    5.564156           0.198022   2.474467   \n",
      "2  J. Kimmich -0.175215    1.768353           1.397004   1.372626   \n",
      "3  K. Havertz  1.873542    0.713963          -0.254736   2.154695   \n",
      "4   A. Davies  0.011036    0.503085           0.779202   1.570474   \n",
      "\n",
      "   seitliche Pässe  lange Pässe  kurze Pässe  Dribbeln  Grätschen  ...  \\\n",
      "0        -1.350979    -2.142148    -1.430170  0.100861  -1.392833  ...   \n",
      "1         0.620473    -1.272420     1.427465  1.393588  -1.392833  ...   \n",
      "2         1.908364     1.548869     1.899620 -0.352134   0.917628  ...   \n",
      "3         0.047055    -0.646972     0.890738  1.104575  -0.797036  ...   \n",
      "4         1.046607    -0.587813     1.426581  1.400708   0.090625  ...   \n",
      "\n",
      "   erhaltene Pässe  Angriffsläufe     Fouls  KmeansClusterPredicted  \\\n",
      "0        -1.136759       0.772772 -0.553050                       1   \n",
      "1         1.531222       3.045627 -1.824754                       2   \n",
      "2         1.961430       1.891424 -0.705659                       3   \n",
      "3         0.981757       1.739431 -0.727938                       2   \n",
      "4         1.161058       0.691518 -0.385413                       2   \n",
      "\n",
      "   Kmeans_4_clusters  Kmeans_8_clusters  k_medions_4_clusters  \\\n",
      "0                  1                  2                     1   \n",
      "1                  2                  0                     3   \n",
      "2                  3                  6                     0   \n",
      "3                  2                  0                     3   \n",
      "4                  2                  6                     3   \n",
      "\n",
      "   k_medions_8_clusters  Hierarchical_clustering_4_clusters  \\\n",
      "0                     1                                   3   \n",
      "1                     7                                   1   \n",
      "2                     2                                   0   \n",
      "3                     7                                   1   \n",
      "4                     3                                   0   \n",
      "\n",
      "   Hierarchical_clustering_8_clusters  \n",
      "0                                   1  \n",
      "1                                   3  \n",
      "2                                   0  \n",
      "3                                   3  \n",
      "4                                   6  \n",
      "\n",
      "[5 rows x 30 columns]\n"
     ]
    }
   ],
   "source": [
    "df = pd.DataFrame(data=Hierarchical_clustering_4_clusters,columns=[\"Column1\"])\n",
    "data = data.assign(Hierarchical_clustering_4_clusters =Hierarchical_clustering_4_clusters)\n",
    "df = pd.DataFrame(data=Hierarchical_clustering_8_clusters,columns=[\"Column1\"])\n",
    "data = data.assign(Hierarchical_clustering_8_clusters =Hierarchical_clustering_8_clusters)\n",
    "\n",
    "\n",
    "#print(data)\n",
    "data.to_csv('Clustered.csv')\n",
    "print(data.head())"
   ]
  }
 ],
 "metadata": {
  "interpreter": {
   "hash": "f293f16398db128e85df277de8eb5f9ab0a1b28857fa0f1c8543245825f1b931"
  },
  "kernelspec": {
   "display_name": "Python 3.7.7 ('pythonProject')",
   "language": "python",
   "name": "python3"
  },
  "language_info": {
   "codemirror_mode": {
    "name": "ipython",
    "version": 3
   },
   "file_extension": ".py",
   "mimetype": "text/x-python",
   "name": "python",
   "nbconvert_exporter": "python",
   "pygments_lexer": "ipython3",
   "version": "3.7.7"
  },
  "orig_nbformat": 4
 },
 "nbformat": 4,
 "nbformat_minor": 2
}
