{
 "cells": [
  {
   "cell_type": "markdown",
   "metadata": {},
   "source": [
    "# Day 23 - SciKit Learn Algorithms\n"
   ]
  },
  {
   "cell_type": "markdown",
   "metadata": {},
   "source": [
    "# Types of Machine Learning\n",
    "1. Supervised Learning\n",
    "2. Unsupervised Learning\n",
    "3. Semisupervised Learning\n",
    "4. Reinforcement Learning"
   ]
  },
  {
   "cell_type": "markdown",
   "metadata": {},
   "source": [
    "## Supervised Learning\n",
    "Supervised learning is the machine learning task of learning a function that maps an input to an output based on example input-output pairs. It infers a function from labeled training data consisting of a set of training examples."
   ]
  },
  {
   "cell_type": "markdown",
   "id": "f7c2effc",
   "metadata": {},
   "source": [
    "## Importing Libraries"
   ]
  },
  {
   "cell_type": "code",
   "execution_count": 30,
   "id": "451bb908",
   "metadata": {},
   "outputs": [],
   "source": [
    "# Importing Libraries\n",
    "import pandas as pd \n",
    "import numpy as np\n",
    "import seaborn as sns\n",
    "import matplotlib.pyplot as plt\n",
    "import warnings\n",
    "warnings.filterwarnings('ignore')"
   ]
  },
  {
   "cell_type": "markdown",
   "id": "431125c2",
   "metadata": {},
   "source": [
    "## Importing data set"
   ]
  },
  {
   "cell_type": "code",
   "execution_count": 2,
   "id": "c65c5a5e",
   "metadata": {},
   "outputs": [
    {
     "name": "stdout",
     "output_type": "stream",
     "text": [
      "   sepal_length  sepal_width  petal_length  petal_width species\n",
      "0           5.1          3.5           1.4          0.2  setosa\n",
      "1           4.9          3.0           1.4          0.2  setosa\n",
      "2           4.7          3.2           1.3          0.2  setosa\n",
      "3           4.6          3.1           1.5          0.2  setosa\n",
      "4           5.0          3.6           1.4          0.2  setosa\n"
     ]
    }
   ],
   "source": [
    "\n",
    "flower = sns.load_dataset('iris')\n",
    "print(flower.head())"
   ]
  },
  {
   "cell_type": "code",
   "execution_count": 7,
   "metadata": {},
   "outputs": [
    {
     "data": {
      "text/plain": [
       "array(['setosa', 'versicolor', 'virginica'], dtype=object)"
      ]
     },
     "execution_count": 7,
     "metadata": {},
     "output_type": "execute_result"
    }
   ],
   "source": [
    "flower['species'].unique()"
   ]
  },
  {
   "cell_type": "markdown",
   "metadata": {},
   "source": [
    "## Setting Descriptive and Target Features"
   ]
  },
  {
   "cell_type": "code",
   "execution_count": 35,
   "metadata": {},
   "outputs": [
    {
     "data": {
      "text/plain": [
       "(     sepal_length  sepal_width  petal_length  petal_width\n",
       " 0             5.1          3.5           1.4          0.2\n",
       " 1             4.9          3.0           1.4          0.2\n",
       " 2             4.7          3.2           1.3          0.2\n",
       " 3             4.6          3.1           1.5          0.2\n",
       " 4             5.0          3.6           1.4          0.2\n",
       " ..            ...          ...           ...          ...\n",
       " 145           6.7          3.0           5.2          2.3\n",
       " 146           6.3          2.5           5.0          1.9\n",
       " 147           6.5          3.0           5.2          2.0\n",
       " 148           6.2          3.4           5.4          2.3\n",
       " 149           5.9          3.0           5.1          1.8\n",
       " \n",
       " [150 rows x 4 columns],\n",
       "      species\n",
       " 0          0\n",
       " 1          0\n",
       " 2          0\n",
       " 3          0\n",
       " 4          0\n",
       " ..       ...\n",
       " 145        2\n",
       " 146        2\n",
       " 147        2\n",
       " 148        2\n",
       " 149        2\n",
       " \n",
       " [150 rows x 1 columns])"
      ]
     },
     "execution_count": 35,
     "metadata": {},
     "output_type": "execute_result"
    }
   ],
   "source": [
    "#Changing Categorical in to Numeric data\n",
    "flower['species'] = flower['species'].replace('setosa',0)\n",
    "flower['species'] = flower['species'].replace('versicolor',1)\n",
    "flower['species'] = flower['species'].replace('virginica',2)\n",
    "flower['species']\n",
    "descriptive_features = flower.iloc[:,:-1]\n",
    "target_feature = flower.iloc[:,-1:]\n",
    "descriptive_features, target_feature\n"
   ]
  },
  {
   "cell_type": "markdown",
   "metadata": {},
   "source": [
    "## Splitting data in to Training and Test data"
   ]
  },
  {
   "cell_type": "code",
   "execution_count": 51,
   "metadata": {},
   "outputs": [],
   "source": [
    "# Splitting data\n",
    "from sklearn.model_selection import train_test_split \n",
    "x_train, x_test, y_train, y_test = train_test_split(descriptive_features, target_feature, test_size=1/5, random_state=True)"
   ]
  },
  {
   "cell_type": "code",
   "execution_count": 52,
   "metadata": {},
   "outputs": [
    {
     "data": {
      "text/plain": [
       "(     sepal_length  sepal_width  petal_length  petal_width\n",
       " 14            5.8          4.0           1.2          0.2\n",
       " 98            5.1          2.5           3.0          1.1\n",
       " 75            6.6          3.0           4.4          1.4\n",
       " 16            5.4          3.9           1.3          0.4\n",
       " 131           7.9          3.8           6.4          2.0\n",
       " 56            6.3          3.3           4.7          1.6\n",
       " 141           6.9          3.1           5.1          2.3\n",
       " 44            5.1          3.8           1.9          0.4\n",
       " 29            4.7          3.2           1.6          0.2\n",
       " 120           6.9          3.2           5.7          2.3\n",
       " 94            5.6          2.7           4.2          1.3\n",
       " 5             5.4          3.9           1.7          0.4\n",
       " 102           7.1          3.0           5.9          2.1\n",
       " 51            6.4          3.2           4.5          1.5\n",
       " 78            6.0          2.9           4.5          1.5\n",
       " 42            4.4          3.2           1.3          0.2\n",
       " 92            5.8          2.6           4.0          1.2\n",
       " 66            5.6          3.0           4.5          1.5\n",
       " 31            5.4          3.4           1.5          0.4\n",
       " 35            5.0          3.2           1.2          0.2\n",
       " 90            5.5          2.6           4.4          1.2\n",
       " 84            5.4          3.0           4.5          1.5\n",
       " 77            6.7          3.0           5.0          1.7\n",
       " 40            5.0          3.5           1.3          0.3\n",
       " 125           7.2          3.2           6.0          1.8\n",
       " 99            5.7          2.8           4.1          1.3\n",
       " 33            5.5          4.2           1.4          0.2\n",
       " 19            5.1          3.8           1.5          0.3\n",
       " 73            6.1          2.8           4.7          1.2\n",
       " 146           6.3          2.5           5.0          1.9,\n",
       "      sepal_length  sepal_width  petal_length  petal_width\n",
       " 91            6.1          3.0           4.6          1.4\n",
       " 135           7.7          3.0           6.1          2.3\n",
       " 69            5.6          2.5           3.9          1.1\n",
       " 128           6.4          2.8           5.6          2.1\n",
       " 114           5.8          2.8           5.1          2.4\n",
       " ..            ...          ...           ...          ...\n",
       " 133           6.3          2.8           5.1          1.5\n",
       " 137           6.4          3.1           5.5          1.8\n",
       " 72            6.3          2.5           4.9          1.5\n",
       " 140           6.7          3.1           5.6          2.4\n",
       " 37            4.9          3.6           1.4          0.1\n",
       " \n",
       " [120 rows x 4 columns],\n",
       "      species\n",
       " 91         1\n",
       " 135        2\n",
       " 69         1\n",
       " 128        2\n",
       " 114        2\n",
       " ..       ...\n",
       " 133        2\n",
       " 137        2\n",
       " 72         1\n",
       " 140        2\n",
       " 37         0\n",
       " \n",
       " [120 rows x 1 columns],\n",
       "      species\n",
       " 14         0\n",
       " 98         1\n",
       " 75         1\n",
       " 16         0\n",
       " 131        2\n",
       " 56         1\n",
       " 141        2\n",
       " 44         0\n",
       " 29         0\n",
       " 120        2\n",
       " 94         1\n",
       " 5          0\n",
       " 102        2\n",
       " 51         1\n",
       " 78         1\n",
       " 42         0\n",
       " 92         1\n",
       " 66         1\n",
       " 31         0\n",
       " 35         0\n",
       " 90         1\n",
       " 84         1\n",
       " 77         1\n",
       " 40         0\n",
       " 125        2\n",
       " 99         1\n",
       " 33         0\n",
       " 19         0\n",
       " 73         1\n",
       " 146        2)"
      ]
     },
     "execution_count": 52,
     "metadata": {},
     "output_type": "execute_result"
    }
   ],
   "source": [
    "x_test,x_train,y_train,y_test"
   ]
  },
  {
   "cell_type": "markdown",
   "metadata": {},
   "source": [
    "#### Linear Regression\n",
    "In statistics, linear regression is a linear approach for modelling the relationship between a scalar response and one or more explanatory variables"
   ]
  },
  {
   "cell_type": "code",
   "execution_count": 53,
   "metadata": {},
   "outputs": [
    {
     "data": {
      "text/plain": [
       "0.9357134357932776"
      ]
     },
     "execution_count": 53,
     "metadata": {},
     "output_type": "execute_result"
    }
   ],
   "source": [
    "# Importing Linear regression from sklearn \n",
    "from sklearn.linear_model import LinearRegression\n",
    "## Fitting Linear Regression on Data\n",
    "regressor = LinearRegression()\n",
    "regressor.fit(x_train, y_train)\n",
    "# Predicting the Test set results\n",
    "predicted_feature = regressor.predict(x_test)\n",
    "regressor.score(x_train,y_train)\n"
   ]
  },
  {
   "cell_type": "markdown",
   "metadata": {},
   "source": [
    "### Logistic Regression\n",
    "Logistic regression is a statistical model that in its basic form uses a logistic function (Sigmoid function) to model a binary dependent variable. In regression analysis, logistic regression estimates the parameters of a logistic model (a form of binary regression)."
   ]
  },
  {
   "cell_type": "code",
   "execution_count": 54,
   "metadata": {},
   "outputs": [
    {
     "data": {
      "text/plain": [
       "0.9833333333333333"
      ]
     },
     "execution_count": 54,
     "metadata": {},
     "output_type": "execute_result"
    }
   ],
   "source": [
    "# Importing Linear regression from sklearn \n",
    "from sklearn.linear_model import LogisticRegression\n",
    "regressor = LogisticRegression(random_state=0)\n",
    "# Fitting Logistic Regression to the  Data\n",
    "regressor.fit(x_train, y_train)\n",
    "# Predicting the Test set results\n",
    "predicted_feature = regressor.predict(x_test)\n",
    "regressor.score(x_train,y_train)\n"
   ]
  },
  {
   "cell_type": "code",
   "execution_count": 32,
   "metadata": {},
   "outputs": [
    {
     "data": {
      "text/plain": [
       "0.9733333333333334"
      ]
     },
     "execution_count": 32,
     "metadata": {},
     "output_type": "execute_result"
    }
   ],
   "source": [
    "from sklearn.datasets import load_iris\n",
    "from sklearn.linear_model import LogisticRegression\n",
    "X, y = load_iris(return_X_y=True)\n",
    "clf = LogisticRegression(random_state=0).fit(X, y)\n",
    "clf.predict(X[:2, :])\n",
    "\n",
    "clf.predict_proba(X[:2, :])\n",
    "clf.score(X, y)\n"
   ]
  },
  {
   "cell_type": "markdown",
   "metadata": {},
   "source": [
    "### KNN Algorithm\n",
    "The k-nearest neighbors algorithm is a non-parametric classification method. It is used for classification and regression. In both cases, the input consists of the k closest training examples in a data set."
   ]
  },
  {
   "cell_type": "code",
   "execution_count": 56,
   "metadata": {},
   "outputs": [
    {
     "data": {
      "text/plain": [
       "0.95"
      ]
     },
     "execution_count": 56,
     "metadata": {},
     "output_type": "execute_result"
    }
   ],
   "source": [
    "\n",
    "from sklearn.neighbors import KNeighborsClassifier\n",
    "classifier = KNeighborsClassifier(n_neighbors=3)\n",
    "classifier.fit(x_train, y_train)\n",
    "# Predicting the Test set results\n",
    "y_pred = regressor.predict(x_test)\n",
    "classifier.score(x_train,y_train)\n"
   ]
  },
  {
   "cell_type": "markdown",
   "metadata": {},
   "source": [
    "### SVM\n",
    "Support-vector machines are supervised learning models with associated learning algorithms that analyze data for classification and regression analysis. It is non sensitive to Outliers."
   ]
  },
  {
   "cell_type": "code",
   "execution_count": 41,
   "metadata": {},
   "outputs": [
    {
     "name": "stdout",
     "output_type": "stream",
     "text": [
      "[1]\n"
     ]
    }
   ],
   "source": [
    "import numpy as np\n",
    "from sklearn.pipeline import make_pipeline\n",
    "from sklearn.preprocessing import StandardScaler\n",
    "X = np.array([[-1, -1], [-2, -1], [1, 1], [2, 1]])\n",
    "y = np.array([1, 1, 2, 2])\n",
    "from sklearn.svm import SVC\n",
    "clf = make_pipeline(StandardScaler(), SVC(gamma='auto'))\n",
    "clf.fit(X, y)\n",
    "print(clf.predict([[-0.8, -1]]))"
   ]
  },
  {
   "cell_type": "code",
   "execution_count": 58,
   "metadata": {},
   "outputs": [
    {
     "data": {
      "text/plain": [
       "0.9833333333333333"
      ]
     },
     "execution_count": 58,
     "metadata": {},
     "output_type": "execute_result"
    }
   ],
   "source": [
    "from sklearn.svm import SVC\n",
    "classifier = SVC(C=1, kernel='linear', gamma = 'auto')\n",
    "classifier.fit(x_train, y_train)\n",
    "# Predicting the Test set results\n",
    "y_pred = regressor.predict(x_test)\n",
    "classifier.score(x_train,y_train)"
   ]
  },
  {
   "cell_type": "code",
   "execution_count": 59,
   "metadata": {},
   "outputs": [
    {
     "name": "stdout",
     "output_type": "stream",
     "text": [
      "Accuracy: \n",
      " 0.9833333333333333\n",
      "Classification report: \n",
      "\n",
      "              precision    recall  f1-score   support\n",
      "\n",
      "           0       1.00      1.00      1.00        11\n",
      "           1       1.00      0.92      0.96        13\n",
      "           2       0.86      1.00      0.92         6\n",
      "\n",
      "    accuracy                           0.97        30\n",
      "   macro avg       0.95      0.97      0.96        30\n",
      "weighted avg       0.97      0.97      0.97        30\n",
      "\n"
     ]
    }
   ],
   "source": [
    "from sklearn.metrics import classification_report\n",
    "classifier.decision_function(descriptive_features)\n",
    "print('Accuracy: \\n', classifier.score(x_train,y_train))\n",
    "print('Classification report: \\n')\n",
    "print(classification_report(y_test, y_pred))  "
   ]
  },
  {
   "cell_type": "markdown",
   "metadata": {},
   "source": [
    "### SVM kernel\n",
    "SVM algorithms use a set of mathematical functions that are defined as the kernel. The function of kernel is to take data as input and transform it into the required form. Different SVM algorithms use different types of kernel functions. These functions can be different types. For example linear, nonlinear, polynomial, radial basis function (RBF), and sigmoid.\n",
    "Introduce Kernel functions for sequence data, graphs, text, images, as well as vectors. The most used type of kernel function is RBF. Because it has localized and finite response along the entire x-axis.\n",
    "The kernel functions return the inner product between two points in a suitable feature space. Thus by defining a notion of similarity, with little computational cost even in very high-dimensional spaces.\n",
    "\n"
   ]
  },
  {
   "cell_type": "code",
   "execution_count": 62,
   "metadata": {},
   "outputs": [
    {
     "name": "stdout",
     "output_type": "stream",
     "text": [
      "Accuracy of linear SVC on data set: 0.90\n"
     ]
    }
   ],
   "source": [
    "from sklearn.svm import LinearSVC\n",
    "classifier = LinearSVC(penalty='l2', loss='squared_hinge',\n",
    "                dual=True, tol=0.0001, C=100, multi_class='ovr',\n",
    "                fit_intercept=True, intercept_scaling=1, class_weight=None,verbose=0\n",
    "                , random_state=0, max_iter=1000)\n",
    "classifier.fit(x_train, y_train)\n",
    "# Predicting the Test set results\n",
    "y_pred = regressor.predict(x_test)\n",
    "classifier.score(x_train,y_train)\n",
    "print('Accuracy of linear SVC on data set: {:.2f}'.format(clf.score(x_test, y_pred)))\n",
    "\n"
   ]
  },
  {
   "cell_type": "markdown",
   "metadata": {},
   "source": [
    "### Naive Bayes \n",
    "In statistics, naive Bayes classifiers are a family of simple \"probabilistic classifiers\" based on applying Bayes' theorem with strong independence assumptions between the features. They are among the simplest Bayesian network models, but coupled with kernel density estimation, they can achieve higher accuracy levels."
   ]
  },
  {
   "cell_type": "code",
   "execution_count": 63,
   "metadata": {},
   "outputs": [
    {
     "data": {
      "text/plain": [
       "0.95"
      ]
     },
     "execution_count": 63,
     "metadata": {},
     "output_type": "execute_result"
    }
   ],
   "source": [
    "from sklearn.naive_bayes import GaussianNB\n",
    "nb = GaussianNB()\n",
    "nb.fit(descriptive_features, target_feature)\n",
    "nb.fit(x_train, y_train)\n",
    "# Predicting the Test set results\n",
    "y_pred = regressor.predict(x_test)\n",
    "nb.score(x_train,y_train)"
   ]
  },
  {
   "cell_type": "markdown",
   "metadata": {},
   "source": [
    "### Decision Tree\n",
    "A decision tree is a decision support tool that uses a tree-like model of decisions and their possible consequences, including chance event outcomes, resource costs, and utility. It is one way to display an algorithm that only contains conditional control statements."
   ]
  },
  {
   "cell_type": "code",
   "execution_count": 64,
   "metadata": {},
   "outputs": [
    {
     "data": {
      "text/plain": [
       "1.0"
      ]
     },
     "execution_count": 64,
     "metadata": {},
     "output_type": "execute_result"
    }
   ],
   "source": [
    "\n",
    "from sklearn.tree import DecisionTreeClassifier\n",
    "classifier = DecisionTreeClassifier()\n",
    "classifier.fit(x_train, y_train)\n",
    "# Predicting the Test set results\n",
    "y_pred = regressor.predict(x_test)\n",
    "classifier.score(x_train,y_train)"
   ]
  },
  {
   "cell_type": "markdown",
   "metadata": {},
   "source": [
    "### Random Forest Classifier\n",
    "A random forest is a meta estimator that fits a number of decision tree classifiers on various sub-samples of the dataset and uses averaging to improve the predictive accuracy and control over-fitting"
   ]
  },
  {
   "cell_type": "code",
   "execution_count": 66,
   "metadata": {},
   "outputs": [
    {
     "data": {
      "text/plain": [
       "1.0"
      ]
     },
     "execution_count": 66,
     "metadata": {},
     "output_type": "execute_result"
    }
   ],
   "source": [
    "from sklearn.ensemble import RandomForestClassifier\n",
    "classifier = RandomForestClassifier(n_estimators=200)\n",
    "classifier.fit(x_train, y_train)\n",
    "# Predicting the Test set results\n",
    "y_pred = regressor.predict(x_test)\n",
    "classifier.score(x_train,y_train)\n"
   ]
  },
  {
   "cell_type": "markdown",
   "metadata": {},
   "source": [
    "## Unsupervised Learning\n",
    "Unsupervised learning is a type of algorithm that learns patterns from untagged data."
   ]
  },
  {
   "cell_type": "markdown",
   "metadata": {},
   "source": [
    "### k-means clustering\n",
    "k-means clustering is a method of vector quantization, originally from signal processing, that aims to partition n observations into k clusters in which each observation belongs to the cluster with the nearest mean, serving as a prototype of the cluster."
   ]
  },
  {
   "cell_type": "code",
   "execution_count": 70,
   "metadata": {},
   "outputs": [
    {
     "name": "stdout",
     "output_type": "stream",
     "text": [
      "[0 0 0 0 0 0 0 0 0 0 0 0 0 0 0 0 0 0 0 0 0 0 0 0 0 0 0 0 0 0 0 0 0 0 0 0 0\n",
      " 0 0 0 0 0 0 0 0 0 0 0 0 0 1 1 2 1 1 1 1 1 1 1 1 1 1 1 1 1 1 1 1 1 1 1 1 1\n",
      " 1 1 1 2 1 1 1 1 1 1 1 1 1 1 1 1 1 1 1 1 1 1 1 1 1 1 2 1 2 2 2 2 1 2 2 2 2\n",
      " 2 2 1 1 2 2 2 2 1 2 1 2 1 2 2 1 1 2 2 2 2 2 1 2 2 2 2 1 2 2 2 1 2 2 2 1 2\n",
      " 2 1]\n"
     ]
    }
   ],
   "source": [
    "from sklearn.cluster import KMeans\n",
    "\n",
    "kmeans = KMeans(n_clusters=3, init='k-means++',n_init=100, max_iter=1000, tol=0.0001, verbose=0, random_state=None)\n",
    "KmeansClusterPredicted = kmeans.fit_predict(descriptive_features)\n",
    "\n",
    "print(KmeansClusterPredicted)"
   ]
  },
  {
   "cell_type": "code",
   "execution_count": 75,
   "metadata": {},
   "outputs": [
    {
     "data": {
      "text/plain": [
       "<matplotlib.collections.PathCollection at 0x7fa8417575b0>"
      ]
     },
     "execution_count": 75,
     "metadata": {},
     "output_type": "execute_result"
    },
    {
     "data": {
      "image/png": "[encoded data removed]",
      "text/plain": [
       "<Figure size 432x288 with 1 Axes>"
      ]
     },
     "metadata": {
      "needs_background": "light"
     },
     "output_type": "display_data"
    }
   ],
   "source": [
    "# Analysis on the basis of Sepal features \n",
    "sepal_data = np.array(list(zip(flower['sepal_length'], flower['sepal_width'])))\n",
    "sepal_data\n",
    "cluster_num = 3\n",
    "kmeans = KMeans(cluster_num).fit(sepal_data)\n",
    "clusters = kmeans.labels_\n",
    "centroids = kmeans.cluster_centers_\n",
    "fig, plots = plt.subplots()\n",
    "colors = ['r', 'g', 'b', 'y', 'm']\n",
    "for cluster_index in range(cluster_num) :\n",
    "    sub_set = np.array([sepal_data[i] for i in range(len(sepal_data)) if clusters[i] == cluster_index])\n",
    "    if len(sub_set) == 0 :\n",
    "        continue\n",
    "    plots.scatter(sub_set[:,0], sub_set[:,1], s = 10, c = colors[cluster_index])\n",
    "plots.scatter(centroids[:,0], centroids[:,1], marker = '*', s = 300, c = 'k')"
   ]
  },
  {
   "cell_type": "markdown",
   "metadata": {},
   "source": [
    "### Hierarchical clustering\n",
    "In data mining and statistics, hierarchical clustering is a method of cluster analysis which seeks to build a hierarchy of clusters."
   ]
  },
  {
   "cell_type": "code",
   "execution_count": 77,
   "metadata": {},
   "outputs": [
    {
     "data": {
      "image/png": "[encoded data removed]",
      "text/plain": [
       "<Figure size 432x288 with 1 Axes>"
      ]
     },
     "metadata": {},
     "output_type": "display_data"
    }
   ],
   "source": [
    "from scipy.cluster.hierarchy import dendrogram\n",
    "from sklearn.datasets import load_iris\n",
    "from sklearn.cluster import AgglomerativeClustering\n",
    "sns.set_style(\"whitegrid\")\n",
    "\n",
    "def plot_dendrogram(model, **kwargs):\n",
    "    # Create linkage matrix and then plot the dendrogram\n",
    "\n",
    "    # create the counts of samples under each node\n",
    "    counts = np.zeros(model.children_.shape[0])\n",
    "    n_samples = len(model.labels_)\n",
    "    for i, merge in enumerate(model.children_):\n",
    "        current_count = 0\n",
    "        for child_idx in merge:\n",
    "            if child_idx < n_samples:\n",
    "                current_count += 1  # leaf node\n",
    "            else:\n",
    "                current_count += counts[child_idx - n_samples]\n",
    "        counts[i] = current_count\n",
    "\n",
    "    linkage_matrix = np.column_stack(\n",
    "        [model.children_, model.distances_, counts]\n",
    "    ).astype(float)\n",
    "\n",
    "    # Plot the corresponding dendrogram\n",
    "    dendrogram(linkage_matrix, **kwargs)\n",
    "\n",
    "\n",
    "iris = load_iris()\n",
    "X = iris.data\n",
    "\n",
    "# setting distance_threshold=0 ensures we compute the full tree.\n",
    "model = AgglomerativeClustering(distance_threshold=0, n_clusters=None)\n",
    "\n",
    "model = model.fit(X)\n",
    "plt.title(\"Hierarchical Clustering Dendrogram\")\n",
    "# plot the top three levels of the dendrogram\n",
    "plot_dendrogram(model, truncate_mode=\"level\", p=3)\n",
    "plt.xlabel(\"Number of points in node (or index of point if no parenthesis).\")\n",
    "plt.show()"
   ]
  },
  {
   "cell_type": "markdown",
   "metadata": {},
   "source": [
    "### DB Scan\n"
   ]
  },
  {
   "cell_type": "code",
   "execution_count": 80,
   "metadata": {},
   "outputs": [
    {
     "name": "stdout",
     "output_type": "stream",
     "text": [
      "[0]\n"
     ]
    },
    {
     "data": {
      "image/png": "[encoded data removed]",
      "text/plain": [
       "<Figure size 432x288 with 1 Axes>"
      ]
     },
     "metadata": {},
     "output_type": "display_data"
    }
   ],
   "source": [
    "# Analysis on the basis of Petal features \n",
    "from sklearn.cluster import DBSCAN\n",
    "petal_data = np.array(list(zip(flower['petal_length'], flower['petal_width'])))\n",
    "\n",
    "#Define 'eps' variable 4 and min_samples varibale 8.\n",
    "\n",
    "dbscan = DBSCAN(eps = 4, min_samples=8).fit(sepal_data)\n",
    "clusters = dbscan.labels_\n",
    "cluster_indexs = np.unique(clusters).tolist()\n",
    "print(cluster_indexs)\n",
    "\n",
    "fig, plots = plt.subplots()\n",
    "colors = ['r', 'g', 'b', 'y', 'm']\n",
    "for cluster_index in cluster_indexs :\n",
    "    sub_set = np.array([sepal_data[i] for i in range(len(sepal_data)) if clusters[i] == cluster_index])\n",
    "    if len(sub_set) == 0 :\n",
    "        continue\n",
    "    plots.scatter(sub_set[:,0], sub_set[:,1], s = 10, c = colors[cluster_index])"
   ]
  },
  {
   "cell_type": "markdown",
   "metadata": {},
   "source": [
    "### Agglomerative Clustering"
   ]
  },
  {
   "cell_type": "code",
   "execution_count": 81,
   "metadata": {},
   "outputs": [
    {
     "data": {
      "image/png": "[encoded data removed]",
      "text/plain": [
       "<Figure size 720x504 with 1 Axes>"
      ]
     },
     "metadata": {},
     "output_type": "display_data"
    }
   ],
   "source": [
    "from sklearn.cluster import AgglomerativeClustering\n",
    "cluster = AgglomerativeClustering(n_clusters=2, affinity='euclidean', linkage='ward')\n",
    "cluster.fit_predict(descriptive_features)\n",
    "\n",
    "plt.figure(figsize=(10, 7))\n",
    "plt.scatter(flower['petal_length'], flower['petal_width'], c=cluster.labels_)\n",
    "\n",
    "plt.show()"
   ]
  }
 ],
 "metadata": {
  "interpreter": {
   "hash": "1966dafd80ff2ad7b71103e2924f5fe8b232f86773653e465ec1741b67332d79"
  },
  "kernelspec": {
   "display_name": "Python 3 (ipykernel)",
   "language": "python",
   "name": "python3"
  },
  "language_info": {
   "codemirror_mode": {
    "name": "ipython",
    "version": 3
   },
   "file_extension": ".py",
   "mimetype": "text/x-python",
   "name": "python",
   "nbconvert_exporter": "python",
   "pygments_lexer": "ipython3",
   "version": "3.7.11"
  },
  "toc": {
   "base_numbering": 1,
   "nav_menu": {},
   "number_sections": false,
   "sideBar": true,
   "skip_h1_title": false,
   "title_cell": "Table of Contents",
   "title_sidebar": "Contents",
   "toc_cell": false,
   "toc_position": {},
   "toc_section_display": true,
   "toc_window_display": true
  }
 },
 "nbformat": 4,
 "nbformat_minor": 2
}
