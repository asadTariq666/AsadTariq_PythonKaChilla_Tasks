{
 "cells": [
  {
   "cell_type": "markdown",
   "metadata": {},
   "source": [
    "# Day 20 - 02 - Machine Learning - Multiple Linear Regrssion"
   ]
  },
  {
   "cell_type": "markdown",
   "metadata": {},
   "source": [
    "## Importing Libraries"
   ]
  },
  {
   "cell_type": "code",
   "execution_count": 1,
   "metadata": {},
   "outputs": [],
   "source": [
    "# Importing Libraries\n",
    "import pandas as pd \n",
    "import numpy as np\n",
    "import seaborn as sns\n",
    "import matplotlib.pyplot as plt\n"
   ]
  },
  {
   "cell_type": "markdown",
   "metadata": {},
   "source": [
    "## Importing data set"
   ]
  },
  {
   "cell_type": "code",
   "execution_count": 82,
   "metadata": {},
   "outputs": [
    {
     "name": "stdout",
     "output_type": "stream",
     "text": [
      "    age  distance  YearsExperience  Salary\n",
      "0  31.1     77.75              1.1   39343\n",
      "1  31.3     78.25              1.3   46205\n",
      "2  31.5     78.75              1.5   37731\n",
      "3  32.0     80.00              2.0   43525\n",
      "4  32.2     80.50              2.2   39891\n"
     ]
    }
   ],
   "source": [
    "df = pd.read_csv('ml_data_salary.csv')\n",
    "print(df.head())"
   ]
  },
  {
   "cell_type": "code",
   "execution_count": 83,
   "metadata": {},
   "outputs": [
    {
     "data": {
      "text/plain": [
       "(    age  distance  YearsExperience\n",
       " 0  31.1     77.75              1.1\n",
       " 1  31.3     78.25              1.3\n",
       " 2  31.5     78.75              1.5\n",
       " 3  32.0     80.00              2.0\n",
       " 4  32.2     80.50              2.2,\n",
       "    Salary\n",
       " 0   39343\n",
       " 1   46205\n",
       " 2   37731\n",
       " 3   43525\n",
       " 4   39891)"
      ]
     },
     "execution_count": 83,
     "metadata": {},
     "output_type": "execute_result"
    }
   ],
   "source": [
    "descriptive_features = df[['age','distance','YearsExperience']]\n",
    "target_feature = df[['Salary']]\n",
    "descriptive_features.head(), target_feature.head()"
   ]
  },
  {
   "cell_type": "markdown",
   "metadata": {},
   "source": [
    "## Importing Linear regression and efficiency measures from sklearn "
   ]
  },
  {
   "cell_type": "code",
   "execution_count": 93,
   "metadata": {},
   "outputs": [],
   "source": [
    "# Importing Linear regression from sklearn \n",
    "from sklearn.linear_model import LinearRegression\n",
    "from sklearn.metrics import mean_squared_error, mean_absolute_error"
   ]
  },
  {
   "cell_type": "markdown",
   "metadata": {},
   "source": [
    "## Fitting Multiple Linear Regression to the data set"
   ]
  },
  {
   "cell_type": "code",
   "execution_count": 94,
   "metadata": {},
   "outputs": [
    {
     "data": {
      "text/plain": [
       "LinearRegression()"
      ]
     },
     "execution_count": 94,
     "metadata": {},
     "output_type": "execute_result"
    }
   ],
   "source": [
    "# Fitting Multiple Linear Regression to the data set\n",
    "from sklearn.linear_model import LinearRegression\n",
    "regressor = LinearRegression()\n",
    "regressor.fit(descriptive_features, target_feature)"
   ]
  },
  {
   "cell_type": "markdown",
   "metadata": {},
   "source": [
    "## Predicting  results"
   ]
  },
  {
   "cell_type": "code",
   "execution_count": 95,
   "metadata": {},
   "outputs": [
    {
     "data": {
      "text/plain": [
       "array([[ 36202.25 ],\n",
       "       [ 38095.   ],\n",
       "       [ 39987.75 ],\n",
       "       [ 44711.625],\n",
       "       [ 46588.5  ],\n",
       "       [ 53221.125],\n",
       "       [ 54159.5  ],\n",
       "       [ 56036.125],\n",
       "       [ 56036.125],\n",
       "       [ 60760.125],\n",
       "       [ 62668.75 ],\n",
       "       [ 63607.25 ],\n",
       "       [ 63607.25 ],\n",
       "       [ 64545.625],\n",
       "       [ 68331.125],\n",
       "       [ 72116.625],\n",
       "       [ 73993.25 ],\n",
       "       [ 75902.125],\n",
       "       [ 81564.375],\n",
       "       [ 82502.75 ],\n",
       "       [ 90073.75 ],\n",
       "       [ 92888.875],\n",
       "       [100459.875],\n",
       "       [103290.875],\n",
       "       [108014.875],\n",
       "       [110846.   ],\n",
       "       [115569.875],\n",
       "       [116524.25 ],\n",
       "       [123140.875],\n",
       "       [125033.75 ]])"
      ]
     },
     "execution_count": 95,
     "metadata": {},
     "output_type": "execute_result"
    }
   ],
   "source": [
    "# Predicting the Test set results\n",
    "y_pred = regressor.predict(descriptive_features)\n",
    "y_pred"
   ]
  },
  {
   "cell_type": "markdown",
   "metadata": {},
   "source": [
    "## Score of model"
   ]
  },
  {
   "cell_type": "code",
   "execution_count": 114,
   "metadata": {},
   "outputs": [
    {
     "data": {
      "text/plain": [
       "0.9566800483849375"
      ]
     },
     "execution_count": 114,
     "metadata": {},
     "output_type": "execute_result"
    }
   ],
   "source": [
    "regressor.score(descriptive_features,target_feature)"
   ]
  },
  {
   "cell_type": "markdown",
   "metadata": {},
   "source": [
    "## Evaluation by Mean Squared Error"
   ]
  },
  {
   "cell_type": "code",
   "execution_count": 96,
   "metadata": {},
   "outputs": [
    {
     "name": "stdout",
     "output_type": "stream",
     "text": [
      "Mean squared error model 1: 31263309.63\n",
      "Mean Absolute error model 1: 4644.36\n"
     ]
    }
   ],
   "source": [
    "## Evaluation by Mean Squared Error\n",
    "#computing the squared error of the first model\n",
    "print(\"Mean squared error model 1: %.2f\" % mean_squared_error(target_feature, y_pred))\n",
    "print(\"Mean Absolute error model 1: %.2f\" % mean_absolute_error(target_feature, y_pred))"
   ]
  },
  {
   "cell_type": "markdown",
   "metadata": {},
   "source": [
    "## Coefficient and Intercept"
   ]
  },
  {
   "cell_type": "code",
   "execution_count": 97,
   "metadata": {},
   "outputs": [
    {
     "name": "stdout",
     "output_type": "stream",
     "text": [
      "Coefficients: \n",
      " [[-2.79782201e+15  1.10953700e+15  2.39795093e+13]]\n",
      "Intercept: \n",
      " [7.19385278e+14]\n"
     ]
    }
   ],
   "source": [
    "\n",
    "#print coefficient and intercept\n",
    "print('Coefficients: \\n', regressor.coef_)\n",
    "print('Intercept: \\n', regressor.intercept_)"
   ]
  },
  {
   "cell_type": "markdown",
   "metadata": {},
   "source": [
    "## Splitting data set in training and testing data"
   ]
  },
  {
   "cell_type": "code",
   "execution_count": 98,
   "metadata": {},
   "outputs": [],
   "source": [
    "from sklearn.model_selection import train_test_split \n",
    "x_train, x_test, y_train, y_test = train_test_split(descriptive_features, target_feature, test_size=1/5, random_state=0)"
   ]
  },
  {
   "cell_type": "markdown",
   "metadata": {},
   "source": [
    "## Imporing Linear Regression from SKLEARN"
   ]
  },
  {
   "cell_type": "code",
   "execution_count": 99,
   "metadata": {},
   "outputs": [],
   "source": [
    "# Importing Linear regression from sklearn \n",
    "from sklearn.linear_model import LinearRegression\n",
    "from sklearn.metrics import mean_squared_error, mean_absolute_error"
   ]
  },
  {
   "cell_type": "markdown",
   "metadata": {},
   "source": [
    "## Fitting Linear Regression on training Data"
   ]
  },
  {
   "cell_type": "code",
   "execution_count": 100,
   "metadata": {},
   "outputs": [
    {
     "data": {
      "text/plain": [
       "LinearRegression()"
      ]
     },
     "execution_count": 100,
     "metadata": {},
     "output_type": "execute_result"
    }
   ],
   "source": [
    "# Fitting Simple Linear Regression to the Training set\n",
    "from sklearn.linear_model import LinearRegression\n",
    "regressor = LinearRegression()\n",
    "regressor.fit(x_train, y_train)"
   ]
  },
  {
   "cell_type": "markdown",
   "metadata": {},
   "source": [
    "## Predicting test results"
   ]
  },
  {
   "cell_type": "code",
   "execution_count": 101,
   "metadata": {},
   "outputs": [],
   "source": [
    "# Predicting the Test set results\n",
    "y_pred = regressor.predict(x_test)"
   ]
  },
  {
   "cell_type": "code",
   "execution_count": 102,
   "metadata": {},
   "outputs": [
    {
     "data": {
      "text/plain": [
       "array([[ 40736.],\n",
       "       [122720.],\n",
       "       [ 64928.],\n",
       "       [ 63104.],\n",
       "       [115264.],\n",
       "       [107776.]])"
      ]
     },
     "execution_count": 102,
     "metadata": {},
     "output_type": "execute_result"
    }
   ],
   "source": [
    "\n",
    "y_pred "
   ]
  },
  {
   "cell_type": "markdown",
   "metadata": {},
   "source": [
    "## Coefficient and Intercept"
   ]
  },
  {
   "cell_type": "code",
   "execution_count": 103,
   "metadata": {},
   "outputs": [
    {
     "name": "stdout",
     "output_type": "stream",
     "text": [
      "Coefficients: \n",
      " [[-7.88818945e+15  1.95412592e+14  7.39965797e+15]]\n",
      "Intercept: \n",
      " [2.21989739e+17]\n"
     ]
    }
   ],
   "source": [
    "\n",
    "#print coefficient and intercept\n",
    "print('Coefficients: \\n', regressor.coef_)\n",
    "print('Intercept: \\n', regressor.intercept_)"
   ]
  },
  {
   "cell_type": "markdown",
   "metadata": {},
   "source": [
    "## Visualizing training Results\n",
    "### As 3 Descriptive features, we have to make 3 separate plots with each descriptive feature and the target feature"
   ]
  },
  {
   "cell_type": "markdown",
   "metadata": {},
   "source": [
    "##### Visualizing the Training set results for Age and Salary\n",
    "\n"
   ]
  },
  {
   "cell_type": "code",
   "execution_count": 104,
   "metadata": {},
   "outputs": [
    {
     "data": {
      "image/png": "[encoded data removed]",
      "text/plain": [
       "<Figure size 432x288 with 1 Axes>"
      ]
     },
     "metadata": {
      "needs_background": "light"
     },
     "output_type": "display_data"
    }
   ],
   "source": [
    "# Visualizing the Training set results for Age and Salary\n",
    "viz_train = plt\n",
    "viz_train.scatter(x_train.iloc[:,0], y_train, color='red')\n",
    "viz_train.plot(x_train.iloc[:,0], regressor.predict(x_train), color='blue')\n",
    "viz_train.title('Age  vs Salary (Training set)')\n",
    "viz_train.xlabel('Age ')\n",
    "viz_train.ylabel('Salary')\n",
    "viz_train.show()\n",
    "\n",
    "\n"
   ]
  },
  {
   "cell_type": "markdown",
   "metadata": {},
   "source": [
    "##### Visualizing the Training set results for Distance and Salary\n",
    "\n"
   ]
  },
  {
   "cell_type": "code",
   "execution_count": 105,
   "metadata": {},
   "outputs": [
    {
     "data": {
      "image/png": "[encoded data removed]",
      "text/plain": [
       "<Figure size 432x288 with 1 Axes>"
      ]
     },
     "metadata": {
      "needs_background": "light"
     },
     "output_type": "display_data"
    }
   ],
   "source": [
    "# Visualizing the Training set results for Distance and Salary\n",
    "viz_train = plt\n",
    "viz_train.scatter(x_train.iloc[:,1], y_train, color='red')\n",
    "viz_train.plot(x_train.iloc[:,1], regressor.predict(x_train), color='blue')\n",
    "viz_train.title('Distance  vs Salary (Training set)')\n",
    "viz_train.xlabel('Distance ')\n",
    "viz_train.ylabel('Salary')\n",
    "viz_train.show()\n",
    "\n",
    "\n"
   ]
  },
  {
   "cell_type": "markdown",
   "metadata": {},
   "source": [
    "##### Visualizing the Training set results for Experience and Salary\n",
    "\n"
   ]
  },
  {
   "cell_type": "code",
   "execution_count": 106,
   "metadata": {},
   "outputs": [
    {
     "data": {
      "image/png": "[encoded data removed]",
      "text/plain": [
       "<Figure size 432x288 with 1 Axes>"
      ]
     },
     "metadata": {
      "needs_background": "light"
     },
     "output_type": "display_data"
    }
   ],
   "source": [
    "# Visualizing the Training set results for Experience and Salary\n",
    "viz_train = plt\n",
    "viz_train.scatter(x_train.iloc[:,2], y_train, color='red')\n",
    "viz_train.plot(x_train.iloc[:,2], regressor.predict(x_train), color='blue')\n",
    "viz_train.title('Experience  vs Salary (Training set)')\n",
    "viz_train.xlabel('Experience ')\n",
    "viz_train.ylabel('Salary')\n",
    "viz_train.show()\n",
    "\n"
   ]
  },
  {
   "cell_type": "markdown",
   "metadata": {},
   "source": [
    "## Visualizing Testing Results"
   ]
  },
  {
   "cell_type": "markdown",
   "metadata": {},
   "source": [
    "##### Visualizing the Test set results for Age and Salary\n",
    "\n"
   ]
  },
  {
   "cell_type": "code",
   "execution_count": 108,
   "metadata": {},
   "outputs": [
    {
     "data": {
      "image/png": "[encoded data removed]",
      "text/plain": [
       "<Figure size 432x288 with 1 Axes>"
      ]
     },
     "metadata": {
      "needs_background": "light"
     },
     "output_type": "display_data"
    }
   ],
   "source": [
    "# Visualizing the Training set results for Age and Salary\n",
    "viz_train = plt\n",
    "viz_train.scatter(x_test.iloc[:,0], y_test, color='red')\n",
    "viz_train.plot(x_test.iloc[:,0], regressor.predict(x_test), color='blue')\n",
    "viz_train.title('Age  vs Salary (Training set)')\n",
    "viz_train.xlabel('Age ')\n",
    "viz_train.ylabel('Salary')\n",
    "viz_train.show()\n",
    "\n",
    "\n"
   ]
  },
  {
   "cell_type": "markdown",
   "metadata": {},
   "source": [
    "##### Visualizing the Test set results for Distance and Salary\n",
    "\n"
   ]
  },
  {
   "cell_type": "code",
   "execution_count": 109,
   "metadata": {},
   "outputs": [
    {
     "data": {
      "image/png": "[encoded data removed]",
      "text/plain": [
       "<Figure size 432x288 with 1 Axes>"
      ]
     },
     "metadata": {
      "needs_background": "light"
     },
     "output_type": "display_data"
    }
   ],
   "source": [
    "# Visualizing the Test set results for Distance and Salary\n",
    "viz_train = plt\n",
    "viz_train.scatter(x_test.iloc[:,1], y_test, color='red')\n",
    "viz_train.plot(x_test.iloc[:,1], regressor.predict(x_test), color='blue')\n",
    "viz_train.title('Distance  vs Salary (Training set)')\n",
    "viz_train.xlabel('Distance ')\n",
    "viz_train.ylabel('Salary')\n",
    "viz_train.show()\n",
    "\n",
    "\n"
   ]
  },
  {
   "cell_type": "markdown",
   "metadata": {},
   "source": [
    "##### Visualizing the Test set results for Experience and Salary\n",
    "\n"
   ]
  },
  {
   "cell_type": "code",
   "execution_count": 110,
   "metadata": {},
   "outputs": [
    {
     "data": {
      "image/png": "[encoded data removed]",
      "text/plain": [
       "<Figure size 432x288 with 1 Axes>"
      ]
     },
     "metadata": {
      "needs_background": "light"
     },
     "output_type": "display_data"
    }
   ],
   "source": [
    "# Visualizing the Test set results for Experience and Salary\n",
    "viz_train = plt\n",
    "viz_train.scatter(x_test.iloc[:,2], y_test, color='red')\n",
    "viz_train.plot(x_test.iloc[:,2], regressor.predict(x_test), color='blue')\n",
    "viz_train.title('Experience  vs Salary (Training set)')\n",
    "viz_train.xlabel('Experience ')\n",
    "viz_train.ylabel('Salary')\n",
    "viz_train.show()\n",
    "\n"
   ]
  },
  {
   "cell_type": "markdown",
   "metadata": {},
   "source": [
    "## Evaluating Model"
   ]
  },
  {
   "cell_type": "code",
   "execution_count": 111,
   "metadata": {},
   "outputs": [
    {
     "data": {
      "text/plain": [
       "0.9411819089155802"
      ]
     },
     "execution_count": 111,
     "metadata": {},
     "output_type": "execute_result"
    }
   ],
   "source": [
    "regressor.score(x_train,y_train)"
   ]
  },
  {
   "cell_type": "code",
   "execution_count": 112,
   "metadata": {},
   "outputs": [
    {
     "data": {
      "text/plain": [
       "0.9882568142614382"
      ]
     },
     "execution_count": 112,
     "metadata": {},
     "output_type": "execute_result"
    }
   ],
   "source": [
    "regressor.score(x_test,y_test)"
   ]
  },
  {
   "cell_type": "markdown",
   "metadata": {},
   "source": [
    "## Prediciting for new values"
   ]
  },
  {
   "cell_type": "code",
   "execution_count": 113,
   "metadata": {},
   "outputs": [
    {
     "data": {
      "text/plain": [
       "array([[37024.]])"
      ]
     },
     "execution_count": 113,
     "metadata": {},
     "output_type": "execute_result"
    }
   ],
   "source": [
    "# Predicting the Test set results\n",
    "y_pred2 = regressor.predict([[31.1,77.75,1.1]])\n",
    "y_pred2"
   ]
  }
 ],
 "metadata": {
  "interpreter": {
   "hash": "1966dafd80ff2ad7b71103e2924f5fe8b232f86773653e465ec1741b67332d79"
  },
  "kernelspec": {
   "display_name": "Python 3 (ipykernel)",
   "language": "python",
   "name": "python3"
  },
  "language_info": {
   "codemirror_mode": {
    "name": "ipython",
    "version": 3
   },
   "file_extension": ".py",
   "mimetype": "text/x-python",
   "name": "python",
   "nbconvert_exporter": "python",
   "pygments_lexer": "ipython3",
   "version": "3.7.11"
  },
  "toc": {
   "base_numbering": 1,
   "nav_menu": {},
   "number_sections": false,
   "sideBar": true,
   "skip_h1_title": false,
   "title_cell": "Table of Contents",
   "title_sidebar": "Contents",
   "toc_cell": false,
   "toc_position": {},
   "toc_section_display": true,
   "toc_window_display": true
  }
 },
 "nbformat": 4,
 "nbformat_minor": 2
}
