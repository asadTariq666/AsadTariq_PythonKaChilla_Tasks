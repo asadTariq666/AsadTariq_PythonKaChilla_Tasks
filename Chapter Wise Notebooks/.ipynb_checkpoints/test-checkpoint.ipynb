{
 "cells": [
  {
   "cell_type": "code",
   "execution_count": 3,
   "metadata": {},
   "outputs": [],
   "source": [
    "import matplotlib.pyplot as plt\n",
    "import neurolab as nl"
   ]
  },
  {
   "cell_type": "code",
   "execution_count": 2,
   "metadata": {},
   "outputs": [
    {
     "name": "stdout",
     "output_type": "stream",
     "text": [
      "Collecting neurolab\n",
      "  Downloading neurolab-0.3.5.tar.gz (645 kB)\n",
      "\u001b[K     |████████████████████████████████| 645 kB 2.5 MB/s eta 0:00:01     |██████████████████████████▍     | 532 kB 2.5 MB/s eta 0:00:01\n",
      "\u001b[?25hBuilding wheels for collected packages: neurolab\n",
      "  Building wheel for neurolab (setup.py) ... \u001b[?25ldone\n",
      "\u001b[?25h  Created wheel for neurolab: filename=neurolab-0.3.5-py3-none-any.whl size=22179 sha256=c05268ababb0dcad9de0cce7cd596b233f99df1afe34467cc7ab28c32186cf38\n",
      "  Stored in directory: /Users/asadtariq/Library/Caches/pip/wheels/ca/11/83/54cf6b9b67600d6501e849f165ed365d7bd6612cd08c8fc589\n",
      "Successfully built neurolab\n",
      "Installing collected packages: neurolab\n",
      "Successfully installed neurolab-0.3.5\n",
      "Note: you may need to restart the kernel to use updated packages.\n"
     ]
    }
   ],
   "source": [
    "pip install neurolab"
   ]
  },
  {
   "cell_type": "code",
   "execution_count": 18,
   "metadata": {},
   "outputs": [],
   "source": [
    "input = [[1280, 720], [1920,1080], [1920, 1200], [2560, 1440]]  # Number of Horizontal pixels and vertical pixels\n",
    "target = [[1], [2], [3], [4]] #target = [['hd'], ['fullHd'], ['fullHd+'], ['QHD']]"
   ]
  },
  {
   "cell_type": "code",
   "execution_count": 24,
   "metadata": {},
   "outputs": [],
   "source": [
    "net = nl.net.newp([[1280, 720], [2560,1440]], 1)\n"
   ]
  },
  {
   "cell_type": "code",
   "execution_count": 25,
   "metadata": {},
   "outputs": [
    {
     "name": "stdout",
     "output_type": "stream",
     "text": [
      "Epoch: 10; Error: 7.0;\n",
      "Epoch: 20; Error: 7.0;\n",
      "Epoch: 30; Error: 7.0;\n",
      "Epoch: 40; Error: 7.0;\n",
      "Epoch: 50; Error: 7.0;\n",
      "Epoch: 60; Error: 7.0;\n",
      "Epoch: 70; Error: 7.0;\n",
      "Epoch: 80; Error: 7.0;\n",
      "Epoch: 90; Error: 7.0;\n",
      "Epoch: 100; Error: 7.0;\n",
      "The maximum number of train epochs is reached\n"
     ]
    }
   ],
   "source": [
    "error_progress = net.train(input, target, epochs=100, show=1, lr=0.1)\n"
   ]
  },
  {
   "cell_type": "code",
   "execution_count": 26,
   "metadata": {},
   "outputs": [
    {
     "data": {
      "image/png": "[encoded data removed]",
      "text/plain": [
       "<Figure size 432x288 with 1 Axes>"
      ]
     },
     "metadata": {
      "needs_background": "light"
     },
     "output_type": "display_data"
    }
   ],
   "source": [
    "plt.figure()\n",
    "plt.plot(error_progress)\n",
    "plt.xlabel('Number of epochs')\n",
    "plt.ylabel('Training error')\n",
    "plt.grid()\n",
    "plt.show()"
   ]
  },
  {
   "cell_type": "markdown",
   "metadata": {},
   "source": [
    "Ignore this code. "
   ]
  },
  {
   "cell_type": "code",
   "execution_count": 13,
   "metadata": {},
   "outputs": [
    {
     "name": "stderr",
     "output_type": "stream",
     "text": [
      "2022-01-27 10:46:51.824284: I tensorflow/core/platform/cpu_feature_guard.cc:151] This TensorFlow binary is optimized with oneAPI Deep Neural Network Library (oneDNN) to use the following CPU instructions in performance-critical operations:  AVX2 FMA\n",
      "To enable them in other operations, rebuild TensorFlow with the appropriate compiler flags.\n"
     ]
    },
    {
     "name": "stdout",
     "output_type": "stream",
     "text": [
      "Epoch 1/10\n",
      "1/1 [==============================] - 3s 3s/step - loss: 5691.3530 - accuracy: 0.0000e+00 - val_loss: 5782.3936 - val_accuracy: 0.0000e+00\n",
      "Epoch 2/10\n",
      "1/1 [==============================] - 1s 942ms/step - loss: 5691.3076 - accuracy: 0.0000e+00 - val_loss: 5782.5596 - val_accuracy: 0.0000e+00\n",
      "Epoch 3/10\n",
      "1/1 [==============================] - 1s 966ms/step - loss: 5691.3501 - accuracy: 0.0000e+00 - val_loss: 5782.8032 - val_accuracy: 0.0000e+00\n",
      "Epoch 4/10\n",
      "1/1 [==============================] - 1s 856ms/step - loss: 5691.4688 - accuracy: 0.0000e+00 - val_loss: 5783.1201 - val_accuracy: 0.0000e+00\n",
      "Epoch 5/10\n",
      "1/1 [==============================] - 1s 1s/step - loss: 5691.6611 - accuracy: 0.0000e+00 - val_loss: 5783.5103 - val_accuracy: 0.0000e+00\n",
      "Epoch 6/10\n",
      "1/1 [==============================] - 1s 908ms/step - loss: 5691.9253 - accuracy: 0.0000e+00 - val_loss: 5783.9712 - val_accuracy: 0.0000e+00\n",
      "Epoch 7/10\n",
      "1/1 [==============================] - 1s 741ms/step - loss: 5692.2612 - accuracy: 0.0000e+00 - val_loss: 5784.5029 - val_accuracy: 0.0000e+00\n",
      "Epoch 8/10\n",
      "1/1 [==============================] - 1s 814ms/step - loss: 5692.6670 - accuracy: 0.0000e+00 - val_loss: 5785.1035 - val_accuracy: 0.0000e+00\n",
      "Epoch 9/10\n",
      "1/1 [==============================] - 1s 754ms/step - loss: 5693.1416 - accuracy: 0.0000e+00 - val_loss: 5785.7734 - val_accuracy: 0.0000e+00\n",
      "Epoch 10/10\n",
      "1/1 [==============================] - 1s 1s/step - loss: 5693.6865 - accuracy: 0.0000e+00 - val_loss: 5786.5107 - val_accuracy: 0.0000e+00\n",
      "Test score: 5786.5107421875\n",
      "Test accuracy: 0.0\n"
     ]
    }
   ],
   "source": [
    "from __future__ import print_function\n",
    "import numpy as np\n",
    "np.random.seed(1337)  # for reproducibility\n",
    "\n",
    "from keras.datasets import mnist\n",
    "from keras.models import Sequential\n",
    "from keras.layers import Dense, Activation, Flatten\n",
    "from keras.utils import np_utils\n",
    "\n",
    "batch_size = 128\n",
    "nb_epoch = 10\n",
    "nb_regions = 1496\n",
    "\n",
    "# input image dimensions\n",
    "img_rows, img_cols = 850, 1100\n",
    "\n",
    "# create random test and train sets\n",
    "X_train = np.random.randint(256, size=(10, img_rows, img_cols))\n",
    "Y_train = np.random.randint(2, size=(10, nb_regions))\n",
    "\n",
    "X_test = np.random.randint(256, size=(10, img_rows, img_cols))\n",
    "Y_test = np.random.randint(2, size=(10, nb_regions))\n",
    "\n",
    "\n",
    "X_train = X_train.reshape(X_train.shape[0], 1, img_rows, img_cols)\n",
    "X_test = X_test.reshape(X_test.shape[0], 1, img_rows, img_cols)\n",
    "X_train = X_train.astype('float32')\n",
    "X_test = X_test.astype('float32')\n",
    "X_train /= 255\n",
    "X_test /= 255\n",
    "\n",
    "model = Sequential([\n",
    "    Dense(32, input_shape=(1, img_rows, img_cols)),\n",
    "    Activation('relu'),\n",
    "    Flatten(),\n",
    "    Dense(nb_regions),\n",
    "    Activation('softmax'),\n",
    "])\n",
    "\n",
    "model.compile(loss='categorical_crossentropy',\n",
    "              optimizer='adadelta',\n",
    "              metrics=['accuracy'])\n",
    "\n",
    "model.fit(X_train, Y_train, batch_size=batch_size, epochs=nb_epoch,\n",
    "          verbose=1, validation_data=(X_test, Y_test))\n",
    "\n",
    "score = model.evaluate(X_test, Y_test, verbose=0)\n",
    "\n",
    "print('Test score:', score[0])\n",
    "print('Test accuracy:', score[1])"
   ]
  }
 ],
 "metadata": {
  "interpreter": {
   "hash": "1966dafd80ff2ad7b71103e2924f5fe8b232f86773653e465ec1741b67332d79"
  },
  "kernelspec": {
   "display_name": "Python 3 (ipykernel)",
   "language": "python",
   "name": "python3"
  },
  "language_info": {
   "codemirror_mode": {
    "name": "ipython",
    "version": 3
   },
   "file_extension": ".py",
   "mimetype": "text/x-python",
   "name": "python",
   "nbconvert_exporter": "python",
   "pygments_lexer": "ipython3",
   "version": "3.7.11"
  },
  "toc": {
   "base_numbering": 1,
   "nav_menu": {},
   "number_sections": true,
   "sideBar": true,
   "skip_h1_title": false,
   "title_cell": "Table of Contents",
   "title_sidebar": "Contents",
   "toc_cell": false,
   "toc_position": {},
   "toc_section_display": true,
   "toc_window_display": false
  }
 },
 "nbformat": 4,
 "nbformat_minor": 2
}
