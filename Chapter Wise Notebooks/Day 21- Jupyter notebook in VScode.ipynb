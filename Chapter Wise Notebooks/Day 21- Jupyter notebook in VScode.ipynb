{
 "cells": [
  {
   "cell_type": "markdown",
   "id": "56785d70",
   "metadata": {},
   "source": [
    "# 21- Jupyter notebook in VScode"
   ]
  },
  {
   "cell_type": "markdown",
   "id": "7c803777",
   "metadata": {},
   "source": [
    "# Day9 - Jupyter notebook in VScode\n"
   ]
  },
  {
   "cell_type": "code",
   "execution_count": 10,
   "id": "d6b04234",
   "metadata": {},
   "outputs": [
    {
     "name": "stdout",
     "output_type": "stream",
     "text": [
      "Python Jupyter Notebook in  VS Code\n"
     ]
    }
   ],
   "source": [
    "print('Python Jupyter Notebook in  VS Code')"
   ]
  },
  {
   "cell_type": "markdown",
   "id": "b115d076",
   "metadata": {},
   "source": [
    "## Print my name"
   ]
  },
  {
   "cell_type": "code",
   "execution_count": 11,
   "id": "ad1c7a3f",
   "metadata": {},
   "outputs": [
    {
     "name": "stdout",
     "output_type": "stream",
     "text": [
      "my name is  asad\n"
     ]
    }
   ],
   "source": [
    "name = 'asad'\n",
    "print('my name is ' , name)"
   ]
  },
  {
   "cell_type": "code",
   "execution_count": 12,
   "id": "9a163090",
   "metadata": {},
   "outputs": [
    {
     "data": {
      "text/plain": [
       "array([1, 2, 3, 4, 5, 6, 7])"
      ]
     },
     "execution_count": 12,
     "metadata": {},
     "output_type": "execute_result"
    }
   ],
   "source": [
    "import numpy as np\n",
    "x = np.array([1,2,3,4,5,6,7])\n",
    "x"
   ]
  },
  {
   "cell_type": "markdown",
   "id": "27887848",
   "metadata": {},
   "source": [
    "## Importing Data set using Pandas"
   ]
  },
  {
   "cell_type": "code",
   "execution_count": 13,
   "id": "3d431d49",
   "metadata": {},
   "outputs": [
    {
     "data": {
      "text/html": [
       "<div>\n",
       "<style scoped>\n",
       "    .dataframe tbody tr th:only-of-type {\n",
       "        vertical-align: middle;\n",
       "    }\n",
       "\n",
       "    .dataframe tbody tr th {\n",
       "        vertical-align: top;\n",
       "    }\n",
       "\n",
       "    .dataframe thead th {\n",
       "        text-align: right;\n",
       "    }\n",
       "</style>\n",
       "<table border=\"1\" class=\"dataframe\">\n",
       "  <thead>\n",
       "    <tr style=\"text-align: right;\">\n",
       "      <th></th>\n",
       "      <th>Timestamp</th>\n",
       "      <th>Gender</th>\n",
       "      <th>Location</th>\n",
       "      <th>Age</th>\n",
       "      <th>Qualification</th>\n",
       "      <th>field_of_study</th>\n",
       "      <th>Purpose_for_chilla</th>\n",
       "      <th>Experience</th>\n",
       "      <th>Age1</th>\n",
       "      <th>What are you?</th>\n",
       "      <th>...</th>\n",
       "      <th>Weight</th>\n",
       "      <th>Height</th>\n",
       "      <th>Glasses</th>\n",
       "      <th>First line of code</th>\n",
       "      <th>Programming language</th>\n",
       "      <th>Marital Status</th>\n",
       "      <th>Coding Hours</th>\n",
       "      <th>Vaccinated</th>\n",
       "      <th>Load shedding</th>\n",
       "      <th>Area</th>\n",
       "    </tr>\n",
       "  </thead>\n",
       "  <tbody>\n",
       "    <tr>\n",
       "      <th>0</th>\n",
       "      <td>1/4/22 18:05</td>\n",
       "      <td>Male</td>\n",
       "      <td>Pakistan</td>\n",
       "      <td>21-25</td>\n",
       "      <td>Bachelors</td>\n",
       "      <td>CS/IT</td>\n",
       "      <td>to boost my skill set</td>\n",
       "      <td>0</td>\n",
       "      <td>90.0</td>\n",
       "      <td>Unemplyed</td>\n",
       "      <td>...</td>\n",
       "      <td>90.0</td>\n",
       "      <td>1.40</td>\n",
       "      <td>No</td>\n",
       "      <td>In this chilla</td>\n",
       "      <td>Python</td>\n",
       "      <td>No</td>\n",
       "      <td>4.0</td>\n",
       "      <td>Yes</td>\n",
       "      <td>5</td>\n",
       "      <td>Rural</td>\n",
       "    </tr>\n",
       "    <tr>\n",
       "      <th>1</th>\n",
       "      <td>1/4/22 18:09</td>\n",
       "      <td>Female</td>\n",
       "      <td>Pakistan</td>\n",
       "      <td>46-60</td>\n",
       "      <td>Masters</td>\n",
       "      <td>Others</td>\n",
       "      <td>Awen</td>\n",
       "      <td>10.1</td>\n",
       "      <td>46.4</td>\n",
       "      <td>Employed</td>\n",
       "      <td>...</td>\n",
       "      <td>90.0</td>\n",
       "      <td>158.00</td>\n",
       "      <td>Yes</td>\n",
       "      <td>In this chilla</td>\n",
       "      <td>Python</td>\n",
       "      <td>Yes</td>\n",
       "      <td>5.0</td>\n",
       "      <td>Yes</td>\n",
       "      <td>1</td>\n",
       "      <td>Rural</td>\n",
       "    </tr>\n",
       "    <tr>\n",
       "      <th>2</th>\n",
       "      <td>1/4/22 18:05</td>\n",
       "      <td>Male</td>\n",
       "      <td>Pakistan</td>\n",
       "      <td>41-45</td>\n",
       "      <td>Masters</td>\n",
       "      <td>CS/IT</td>\n",
       "      <td>to boost my skill set</td>\n",
       "      <td>20.5</td>\n",
       "      <td>44.8</td>\n",
       "      <td>Employed</td>\n",
       "      <td>...</td>\n",
       "      <td>70.5</td>\n",
       "      <td>1.76</td>\n",
       "      <td>Yes</td>\n",
       "      <td>&lt;3 years ago</td>\n",
       "      <td>Python</td>\n",
       "      <td>Yes</td>\n",
       "      <td>1.0</td>\n",
       "      <td>Yes</td>\n",
       "      <td>3</td>\n",
       "      <td>Urbun</td>\n",
       "    </tr>\n",
       "    <tr>\n",
       "      <th>3</th>\n",
       "      <td>1/4/22 18:05</td>\n",
       "      <td>Male</td>\n",
       "      <td>West</td>\n",
       "      <td>41-45</td>\n",
       "      <td>Masters</td>\n",
       "      <td>CS/IT</td>\n",
       "      <td>to boost my skill set</td>\n",
       "      <td>20</td>\n",
       "      <td>43.0</td>\n",
       "      <td>Employed</td>\n",
       "      <td>...</td>\n",
       "      <td>82.5</td>\n",
       "      <td>182.50</td>\n",
       "      <td>Yes</td>\n",
       "      <td>&gt;3 years ago</td>\n",
       "      <td>Others</td>\n",
       "      <td>Yes</td>\n",
       "      <td>1.0</td>\n",
       "      <td>Yes</td>\n",
       "      <td>0</td>\n",
       "      <td>International</td>\n",
       "    </tr>\n",
       "    <tr>\n",
       "      <th>4</th>\n",
       "      <td>1/4/22 18:05</td>\n",
       "      <td>Female</td>\n",
       "      <td>Pakistan</td>\n",
       "      <td>41-45</td>\n",
       "      <td>Masters</td>\n",
       "      <td>Enginnering</td>\n",
       "      <td>to boost my skill set</td>\n",
       "      <td>4</td>\n",
       "      <td>43.0</td>\n",
       "      <td>Employed</td>\n",
       "      <td>...</td>\n",
       "      <td>70.0</td>\n",
       "      <td>1615.00</td>\n",
       "      <td>Yes</td>\n",
       "      <td>&gt;3 years ago</td>\n",
       "      <td>C++</td>\n",
       "      <td>Yes</td>\n",
       "      <td>1.0</td>\n",
       "      <td>Yes</td>\n",
       "      <td>4</td>\n",
       "      <td>Rural</td>\n",
       "    </tr>\n",
       "  </tbody>\n",
       "</table>\n",
       "<p>5 rows × 26 columns</p>\n",
       "</div>"
      ],
      "text/plain": [
       "      Timestamp  Gender  Location    Age Qualification field_of_study  \\\n",
       "0  1/4/22 18:05    Male  Pakistan  21-25     Bachelors          CS/IT   \n",
       "1  1/4/22 18:09  Female  Pakistan  46-60       Masters         Others   \n",
       "2  1/4/22 18:05    Male  Pakistan  41-45       Masters          CS/IT   \n",
       "3  1/4/22 18:05    Male      West  41-45       Masters          CS/IT   \n",
       "4  1/4/22 18:05  Female  Pakistan  41-45       Masters    Enginnering   \n",
       "\n",
       "      Purpose_for_chilla Experience  Age1 What are you?  ... Weight   Height  \\\n",
       "0  to boost my skill set          0  90.0     Unemplyed  ...   90.0     1.40   \n",
       "1                   Awen       10.1  46.4      Employed  ...   90.0   158.00   \n",
       "2  to boost my skill set       20.5  44.8      Employed  ...   70.5     1.76   \n",
       "3  to boost my skill set         20  43.0      Employed  ...   82.5   182.50   \n",
       "4  to boost my skill set          4  43.0      Employed  ...   70.0  1615.00   \n",
       "\n",
       "  Glasses First line of code Programming language Marital Status  \\\n",
       "0      No     In this chilla               Python             No   \n",
       "1     Yes     In this chilla               Python            Yes   \n",
       "2     Yes       <3 years ago               Python            Yes   \n",
       "3     Yes       >3 years ago               Others            Yes   \n",
       "4     Yes       >3 years ago                  C++            Yes   \n",
       "\n",
       "   Coding Hours  Vaccinated Load shedding           Area  \n",
       "0           4.0         Yes             5          Rural  \n",
       "1           5.0         Yes             1          Rural  \n",
       "2           1.0         Yes             3          Urbun  \n",
       "3           1.0         Yes             0  International  \n",
       "4           1.0         Yes             4          Rural  \n",
       "\n",
       "[5 rows x 26 columns]"
      ]
     },
     "execution_count": 13,
     "metadata": {},
     "output_type": "execute_result"
    }
   ],
   "source": [
    "import seaborn as sns\n",
    "import matplotlib.pyplot as plt\n",
    "import pandas as pd\n",
    "chilla = pd.read_csv('ChillaData.csv')\n",
    "chilla.head()"
   ]
  },
  {
   "cell_type": "markdown",
   "id": "f6ee63d0",
   "metadata": {},
   "source": []
  },
  {
   "cell_type": "code",
   "execution_count": null,
   "id": "51419445",
   "metadata": {},
   "outputs": [],
   "source": []
  }
 ],
 "metadata": {
  "kernelspec": {
   "display_name": "Python 3 (ipykernel)",
   "language": "python",
   "name": "python3"
  },
  "language_info": {
   "codemirror_mode": {
    "name": "ipython",
    "version": 3
   },
   "file_extension": ".py",
   "mimetype": "text/x-python",
   "name": "python",
   "nbconvert_exporter": "python",
   "pygments_lexer": "ipython3",
   "version": "3.7.11"
  },
  "toc": {
   "base_numbering": 1,
   "nav_menu": {},
   "number_sections": false,
   "sideBar": true,
   "skip_h1_title": false,
   "title_cell": "Table of Contents",
   "title_sidebar": "Contents",
   "toc_cell": false,
   "toc_position": {},
   "toc_section_display": true,
   "toc_window_display": true
  }
 },
 "nbformat": 4,
 "nbformat_minor": 5
}
