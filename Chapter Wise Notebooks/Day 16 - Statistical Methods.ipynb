{
 "cells": [
  {
   "cell_type": "markdown",
   "metadata": {},
   "source": [
    "# Day 16 - Statisticals Method"
   ]
  },
  {
   "cell_type": "markdown",
   "metadata": {},
   "source": [
    "## Importing Libraries"
   ]
  },
  {
   "cell_type": "code",
   "execution_count": 1,
   "metadata": {},
   "outputs": [],
   "source": [
    "# Importing Libraries\n",
    "import pandas as pd \n",
    "import numpy as np\n",
    "import seaborn as sns\n",
    "import matplotlib.pyplot as plt"
   ]
  },
  {
   "cell_type": "markdown",
   "metadata": {},
   "source": [
    "## Important steps before starting Data Analysis"
   ]
  },
  {
   "cell_type": "markdown",
   "metadata": {},
   "source": [
    "\n",
    "### Step1 - Normality Test \n",
    "#### Tests to be used\n",
    "- Shapiro-Wilk Test (Specific(Reliable))\n",
    "- Kolmogorov-Smirnov Test (General(Less Reliable))\n",
    "### Step2 - Homogeneity Test (The Variance of variables in the data are to be equal)\n",
    "#### Test to be used\n",
    "- Levene's Test \n",
    "### Step 3 - Purpose\n",
    "- Know the Purpose of your Research Question\n",
    "#### Types of Purposes\n",
    "- Comparison (Difference - How many people love Football)\n",
    "  At least 2 groups ( Male vs Female - Diabetic level before and after taking insulin shot)\n",
    "- Relationship (If one purpose likes Football, does he play as well?)\n",
    "  \n",
    "   -Connection\n",
    "  \n",
    "   -Correlation\n",
    "  \n",
    "   -Causation\n",
    "  \n",
    "   -Prediction\n",
    "  \n",
    "  Examples:\n",
    "  \n",
    "  Eating food will cause weight gain or not\n",
    "  \n",
    "  Covid Death rate in Unvaccinated people\n",
    "\n",
    "\n",
    "  ### Step4- Know your Data types\n",
    "  - Categorical (Qualitiative (yes/no))\n",
    "  - Continuous (Quantitative (0,1,2,3,4,5,....))\n",
    "\n",
    "### Step5- Statistical Types\n",
    "Choose statistical test from 3 main Families\n",
    "\n",
    "1- Chi-Squared Test (Comparison - Categorical variables only)\n",
    "\n",
    "2- t-Test/Anova (Comparison - Categorical variables and Continuous)\n",
    "\n",
    "3- Correlation (Relationship - Continuous only)\n",
    "  - Pearson's Correlation (1 dependent and 1 independent variable)\n",
    "\n",
    "    Tells the relation between 2 variables.\n",
    "    \n",
    "    \n",
    "  - Regression (1 dependent and 1 independent variable)\n",
    "\n",
    "    Gives a mathematical equation between the variables (to predict future values)\n",
    "\n",
    "\n",
    "  "
   ]
  },
  {
   "cell_type": "markdown",
   "metadata": {},
   "source": [
    "### Assumptions about Data\n",
    "Data should be Normally distibuted (Gaussian Distributed)\n",
    "\n",
    "### Normalize data\n",
    "If data is not Normally distributed, Normalise it by using Normalizing techniques\n",
    "- Min Max Normalization\n",
    "- Scaling to a range\n",
    "- square root Scaling\n",
    "- Log scaling\n",
    "- z-score scaling\n",
    "- SD normalization"
   ]
  },
  {
   "cell_type": "markdown",
   "metadata": {},
   "source": [
    "### Non Parametric Alternatives\n",
    "If data is not Normally distributed we have Non Parametric alternatives\n",
    "\n",
    "1- Chi-Squared Test (Comparison - Categorical variables only)\n",
    "- **Chi-Squared**\n",
    "\n",
    "2- t-Test/Anova (Comparison - Categorical variables and Continuous)\n",
    "\n",
    "1. sample T-test : \n",
    "  \n",
    "  **One Sample Wilcoxon Signed rant test**\n",
    "  \n",
    "\n",
    "2. sample T-test : \n",
    "- a. **Unpaired T-test (Mann whitney#s U-Test)**\n",
    "- b. **Paired T-test (Wilcoxon)**\n",
    "\n",
    "3. ANOVA (Krushal-Wallis test)\n",
    "  \n",
    "\n",
    "\n",
    "3- Correlation (Relationship - Continuous only)\n",
    "\n",
    "\n",
    "  - Pearson's Correlation (1 dependent and 1 independent variable)\n",
    "  \n",
    "  **(Spearman' Correlation) & (Kendall's Tau) Regression**"
   ]
  },
  {
   "cell_type": "markdown",
   "metadata": {},
   "source": [
    "### Types of Anova\n",
    "\n",
    "ANOVA = Analysis of Variance (3+ levels or groups are involved)\n",
    "\n"
   ]
  },
  {
   "cell_type": "markdown",
   "metadata": {},
   "source": [
    "1. One-way ANOVA \n",
    "    (Even one group is significant you will get significant results, but doesnt tell you which one)\n",
    "\n",
    "2. Two-way ANOVA\n",
    "    (Two factors involved)\n",
    "\n",
    "3. Repeated Measures of ANOVA (3+ paired groups, scale up of Paired T-test)\n",
    "\n",
    "4. ANCOVA\n",
    "   (Analyis of Covariance)\n",
    "\n",
    "5. MANOVA\n",
    "   Multivariate analysis of Variance\n",
    "\n",
    "\n",
    "6. MANCOVA\n",
    "   Multivariate analysis of Co-Variance"
   ]
  }
 ],
 "metadata": {
  "interpreter": {
   "hash": "1966dafd80ff2ad7b71103e2924f5fe8b232f86773653e465ec1741b67332d79"
  },
  "kernelspec": {
   "display_name": "Python 3.9.7 64-bit ('base': conda)",
   "language": "python",
   "name": "python3"
  },
  "language_info": {
   "codemirror_mode": {
    "name": "ipython",
    "version": 3
   },
   "file_extension": ".py",
   "mimetype": "text/x-python",
   "name": "python",
   "nbconvert_exporter": "python",
   "pygments_lexer": "ipython3",
   "version": "3.9.7"
  },
  "orig_nbformat": 4
 },
 "nbformat": 4,
 "nbformat_minor": 2
}
