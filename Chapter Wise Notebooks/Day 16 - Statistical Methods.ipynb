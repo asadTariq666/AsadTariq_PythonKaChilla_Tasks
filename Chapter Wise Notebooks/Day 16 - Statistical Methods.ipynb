{
 "cells": [
  {
   "cell_type": "markdown",
   "metadata": {},
   "source": [
    "# Day 16 - Statisticals Method"
   ]
  },
  {
   "cell_type": "markdown",
   "metadata": {},
   "source": [
    "## Importing Libraries"
   ]
  },
  {
   "cell_type": "code",
   "execution_count": null,
   "metadata": {},
   "outputs": [],
   "source": [
    "# Importing Libraries\n",
    "import pandas as pd \n",
    "import numpy as np\n",
    "import seaborn as sns\n",
    "import matplotlib.pyplot as plt"
   ]
  },
  {
   "cell_type": "markdown",
   "metadata": {},
   "source": [
    "## Important steps before starting Data Analysis"
   ]
  },
  {
   "cell_type": "markdown",
   "metadata": {},
   "source": [
    "\n",
    "### Step1 - Normality Test \n",
    "#### Tests to be used\n",
    "- Shapiro-Wilk Test (Specific(Reliable))\n",
    "- Kolmogorov-Smirnov Test (General(Less Reliable))\n",
    "### Step2 - Homogeneity Test (The Variance of variables in the data are to be equal)\n",
    "#### Test to be used\n",
    "- Levene's Test \n",
    "### Step 3 - Purpose\n",
    "- Know the Purpose of your Research Question\n",
    "#### Types of Purposes\n",
    "- Comparison (Difference - How many people love Football)\n",
    "  At least 2 groups ( Male vs Female - Diabetic level before and after taking insulin shot)\n",
    "- Relationship (If one purpose likes Football, does he play as well?)\n",
    "  \n",
    "   -Connection\n",
    "  \n",
    "   -Correlation\n",
    "  \n",
    "   -Causation\n",
    "  \n",
    "   -Prediction\n",
    "  \n",
    "  Examples:\n",
    "  \n",
    "  Eating food will cause weight gain or not\n",
    "  \n",
    "  Covid Death rate in Unvaccinated people\n",
    "\n",
    "\n",
    "  ### Step4- Know your Data types\n",
    "  \n",
    "  "
   ]
  }
 ],
 "metadata": {
  "interpreter": {
   "hash": "1966dafd80ff2ad7b71103e2924f5fe8b232f86773653e465ec1741b67332d79"
  },
  "kernelspec": {
   "display_name": "Python 3.9.7 64-bit ('base': conda)",
   "language": "python",
   "name": "python3"
  },
  "language_info": {
   "name": "python",
   "version": "3.9.7"
  },
  "orig_nbformat": 4
 },
 "nbformat": 4,
 "nbformat_minor": 2
}
