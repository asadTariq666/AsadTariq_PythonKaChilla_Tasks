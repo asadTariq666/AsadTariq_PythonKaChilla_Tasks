{
 "cells": [
  {
   "cell_type": "markdown",
   "id": "fab969a0",
   "metadata": {},
   "source": [
    "# Day 11 - Pandas Tutorial"
   ]
  },
  {
   "cell_type": "code",
   "execution_count": null,
   "id": "0e845a85",
   "metadata": {},
   "outputs": [],
   "source": [
    "!pip install panda"
   ]
  },
  {
   "cell_type": "markdown",
   "id": "12ad61f4",
   "metadata": {},
   "source": [
    "## Import necessary libraries\n"
   ]
  },
  {
   "cell_type": "code",
   "execution_count": 4,
   "id": "6bc728b6",
   "metadata": {},
   "outputs": [],
   "source": [
    "import pandas as pd \n",
    "import numpy as np"
   ]
  },
  {
   "cell_type": "markdown",
   "id": "5ce0c0d0",
   "metadata": {},
   "source": [
    "## Object Creation"
   ]
  },
  {
   "cell_type": "code",
   "execution_count": 6,
   "id": "66ae230d",
   "metadata": {},
   "outputs": [
    {
     "data": {
      "text/plain": [
       "0    1.0\n",
       "1    2.0\n",
       "2    3.0\n",
       "3    4.0\n",
       "4    5.0\n",
       "5    6.0\n",
       "6    7.0\n",
       "7    NaN\n",
       "8    8.0\n",
       "9    9.0\n",
       "dtype: float64"
      ]
     },
     "execution_count": 6,
     "metadata": {},
     "output_type": "execute_result"
    }
   ],
   "source": [
    "# series\n",
    "ser = pd.Series([1,2,3,4,5,6,7,np.nan,8,9])\n",
    "ser"
   ]
  },
  {
   "cell_type": "code",
   "execution_count": 14,
   "id": "48a28155",
   "metadata": {},
   "outputs": [
    {
     "data": {
      "text/plain": [
       "DatetimeIndex(['2020-11-22', '2020-11-23', '2020-11-24', '2020-11-25',\n",
       "               '2020-11-26', '2020-11-27'],\n",
       "              dtype='datetime64[ns]', freq='D')"
      ]
     },
     "execution_count": 14,
     "metadata": {},
     "output_type": "execute_result"
    }
   ],
   "source": [
    "# Dates\n",
    "dates = pd.date_range('20201122', periods=6)\n",
    "dates"
   ]
  },
  {
   "cell_type": "code",
   "execution_count": 15,
   "id": "e86cca27",
   "metadata": {},
   "outputs": [
    {
     "data": {
      "text/html": [
       "<div>\n",
       "<style scoped>\n",
       "    .dataframe tbody tr th:only-of-type {\n",
       "        vertical-align: middle;\n",
       "    }\n",
       "\n",
       "    .dataframe tbody tr th {\n",
       "        vertical-align: top;\n",
       "    }\n",
       "\n",
       "    .dataframe thead th {\n",
       "        text-align: right;\n",
       "    }\n",
       "</style>\n",
       "<table border=\"1\" class=\"dataframe\">\n",
       "  <thead>\n",
       "    <tr style=\"text-align: right;\">\n",
       "      <th></th>\n",
       "      <th>A</th>\n",
       "      <th>B</th>\n",
       "      <th>C</th>\n",
       "      <th>D</th>\n",
       "      <th>E</th>\n",
       "    </tr>\n",
       "  </thead>\n",
       "  <tbody>\n",
       "    <tr>\n",
       "      <th>2020-11-22</th>\n",
       "      <td>0.830079</td>\n",
       "      <td>0.990057</td>\n",
       "      <td>0.882648</td>\n",
       "      <td>0.411474</td>\n",
       "      <td>0.375247</td>\n",
       "    </tr>\n",
       "    <tr>\n",
       "      <th>2020-11-23</th>\n",
       "      <td>0.988036</td>\n",
       "      <td>0.609333</td>\n",
       "      <td>0.603759</td>\n",
       "      <td>0.333452</td>\n",
       "      <td>0.892577</td>\n",
       "    </tr>\n",
       "    <tr>\n",
       "      <th>2020-11-24</th>\n",
       "      <td>0.504776</td>\n",
       "      <td>0.218446</td>\n",
       "      <td>0.431538</td>\n",
       "      <td>0.107195</td>\n",
       "      <td>0.479038</td>\n",
       "    </tr>\n",
       "    <tr>\n",
       "      <th>2020-11-25</th>\n",
       "      <td>0.000716</td>\n",
       "      <td>0.740718</td>\n",
       "      <td>0.188350</td>\n",
       "      <td>0.485501</td>\n",
       "      <td>0.059689</td>\n",
       "    </tr>\n",
       "    <tr>\n",
       "      <th>2020-11-26</th>\n",
       "      <td>0.775930</td>\n",
       "      <td>0.195408</td>\n",
       "      <td>0.963751</td>\n",
       "      <td>0.807434</td>\n",
       "      <td>0.270156</td>\n",
       "    </tr>\n",
       "    <tr>\n",
       "      <th>2020-11-27</th>\n",
       "      <td>0.598173</td>\n",
       "      <td>0.883474</td>\n",
       "      <td>0.871991</td>\n",
       "      <td>0.078669</td>\n",
       "      <td>0.888228</td>\n",
       "    </tr>\n",
       "  </tbody>\n",
       "</table>\n",
       "</div>"
      ],
      "text/plain": [
       "                   A         B         C         D         E\n",
       "2020-11-22  0.830079  0.990057  0.882648  0.411474  0.375247\n",
       "2020-11-23  0.988036  0.609333  0.603759  0.333452  0.892577\n",
       "2020-11-24  0.504776  0.218446  0.431538  0.107195  0.479038\n",
       "2020-11-25  0.000716  0.740718  0.188350  0.485501  0.059689\n",
       "2020-11-26  0.775930  0.195408  0.963751  0.807434  0.270156\n",
       "2020-11-27  0.598173  0.883474  0.871991  0.078669  0.888228"
      ]
     },
     "execution_count": 15,
     "metadata": {},
     "output_type": "execute_result"
    }
   ],
   "source": [
    "# DataFrame\n",
    "df = pd.DataFrame(np.random.rand(6,5), index=dates, columns=list('ABCDE'))\n",
    "df"
   ]
  },
  {
   "cell_type": "markdown",
   "id": "dd2e72ff",
   "metadata": {},
   "source": [
    "## View Data"
   ]
  },
  {
   "cell_type": "code",
   "execution_count": 25,
   "id": "bac44446",
   "metadata": {},
   "outputs": [
    {
     "data": {
      "text/html": [
       "<div>\n",
       "<style scoped>\n",
       "    .dataframe tbody tr th:only-of-type {\n",
       "        vertical-align: middle;\n",
       "    }\n",
       "\n",
       "    .dataframe tbody tr th {\n",
       "        vertical-align: top;\n",
       "    }\n",
       "\n",
       "    .dataframe thead th {\n",
       "        text-align: right;\n",
       "    }\n",
       "</style>\n",
       "<table border=\"1\" class=\"dataframe\">\n",
       "  <thead>\n",
       "    <tr style=\"text-align: right;\">\n",
       "      <th></th>\n",
       "      <th>A</th>\n",
       "      <th>B</th>\n",
       "      <th>C</th>\n",
       "      <th>D</th>\n",
       "      <th>E</th>\n",
       "    </tr>\n",
       "  </thead>\n",
       "  <tbody>\n",
       "    <tr>\n",
       "      <th>2020-11-22</th>\n",
       "      <td>0.830079</td>\n",
       "      <td>0.990057</td>\n",
       "      <td>0.882648</td>\n",
       "      <td>0.411474</td>\n",
       "      <td>0.375247</td>\n",
       "    </tr>\n",
       "    <tr>\n",
       "      <th>2020-11-23</th>\n",
       "      <td>0.988036</td>\n",
       "      <td>0.609333</td>\n",
       "      <td>0.603759</td>\n",
       "      <td>0.333452</td>\n",
       "      <td>0.892577</td>\n",
       "    </tr>\n",
       "  </tbody>\n",
       "</table>\n",
       "</div>"
      ],
      "text/plain": [
       "                   A         B         C         D         E\n",
       "2020-11-22  0.830079  0.990057  0.882648  0.411474  0.375247\n",
       "2020-11-23  0.988036  0.609333  0.603759  0.333452  0.892577"
      ]
     },
     "execution_count": 25,
     "metadata": {},
     "output_type": "execute_result"
    }
   ],
   "source": [
    "df.head(2)"
   ]
  },
  {
   "cell_type": "code",
   "execution_count": 26,
   "id": "74234522",
   "metadata": {},
   "outputs": [
    {
     "data": {
      "text/html": [
       "<div>\n",
       "<style scoped>\n",
       "    .dataframe tbody tr th:only-of-type {\n",
       "        vertical-align: middle;\n",
       "    }\n",
       "\n",
       "    .dataframe tbody tr th {\n",
       "        vertical-align: top;\n",
       "    }\n",
       "\n",
       "    .dataframe thead th {\n",
       "        text-align: right;\n",
       "    }\n",
       "</style>\n",
       "<table border=\"1\" class=\"dataframe\">\n",
       "  <thead>\n",
       "    <tr style=\"text-align: right;\">\n",
       "      <th></th>\n",
       "      <th>A</th>\n",
       "      <th>B</th>\n",
       "      <th>C</th>\n",
       "      <th>D</th>\n",
       "      <th>E</th>\n",
       "    </tr>\n",
       "  </thead>\n",
       "  <tbody>\n",
       "    <tr>\n",
       "      <th>2020-11-26</th>\n",
       "      <td>0.775930</td>\n",
       "      <td>0.195408</td>\n",
       "      <td>0.963751</td>\n",
       "      <td>0.807434</td>\n",
       "      <td>0.270156</td>\n",
       "    </tr>\n",
       "    <tr>\n",
       "      <th>2020-11-27</th>\n",
       "      <td>0.598173</td>\n",
       "      <td>0.883474</td>\n",
       "      <td>0.871991</td>\n",
       "      <td>0.078669</td>\n",
       "      <td>0.888228</td>\n",
       "    </tr>\n",
       "  </tbody>\n",
       "</table>\n",
       "</div>"
      ],
      "text/plain": [
       "                   A         B         C         D         E\n",
       "2020-11-26  0.775930  0.195408  0.963751  0.807434  0.270156\n",
       "2020-11-27  0.598173  0.883474  0.871991  0.078669  0.888228"
      ]
     },
     "execution_count": 26,
     "metadata": {},
     "output_type": "execute_result"
    }
   ],
   "source": [
    "df.tail(2)"
   ]
  },
  {
   "cell_type": "markdown",
   "id": "f8472628",
   "metadata": {},
   "source": [
    "## Creating DataFrame"
   ]
  },
  {
   "cell_type": "code",
   "execution_count": 24,
   "id": "243b5fb6",
   "metadata": {},
   "outputs": [
    {
     "data": {
      "text/html": [
       "<div>\n",
       "<style scoped>\n",
       "    .dataframe tbody tr th:only-of-type {\n",
       "        vertical-align: middle;\n",
       "    }\n",
       "\n",
       "    .dataframe tbody tr th {\n",
       "        vertical-align: top;\n",
       "    }\n",
       "\n",
       "    .dataframe thead th {\n",
       "        text-align: right;\n",
       "    }\n",
       "</style>\n",
       "<table border=\"1\" class=\"dataframe\">\n",
       "  <thead>\n",
       "    <tr style=\"text-align: right;\">\n",
       "      <th></th>\n",
       "      <th>a</th>\n",
       "      <th>b</th>\n",
       "      <th>c</th>\n",
       "    </tr>\n",
       "  </thead>\n",
       "  <tbody>\n",
       "    <tr>\n",
       "      <th>0</th>\n",
       "      <td>1</td>\n",
       "      <td>2</td>\n",
       "      <td>3</td>\n",
       "    </tr>\n",
       "    <tr>\n",
       "      <th>1</th>\n",
       "      <td>a</td>\n",
       "      <td>g</td>\n",
       "      <td>2</td>\n",
       "    </tr>\n",
       "    <tr>\n",
       "      <th>2</th>\n",
       "      <td>7</td>\n",
       "      <td>8</td>\n",
       "      <td>9</td>\n",
       "    </tr>\n",
       "  </tbody>\n",
       "</table>\n",
       "</div>"
      ],
      "text/plain": [
       "   a  b  c\n",
       "0  1  2  3\n",
       "1  a  g  2\n",
       "2  7  8  9"
      ]
     },
     "execution_count": 24,
     "metadata": {},
     "output_type": "execute_result"
    }
   ],
   "source": [
    "# Creating Dataframe\n",
    "df2 = pd.DataFrame(np.array([[1, 2, 3], ['a','g',2], [7, 8, 9]]),\n",
    "                   columns=['a', 'b', 'c'])\n",
    "df2\n"
   ]
  },
  {
   "cell_type": "markdown",
   "id": "6cd79f79",
   "metadata": {},
   "source": [
    "## Dataframe Type"
   ]
  },
  {
   "cell_type": "code",
   "execution_count": 23,
   "id": "cfb69679",
   "metadata": {},
   "outputs": [
    {
     "data": {
      "text/plain": [
       "a    object\n",
       "b    object\n",
       "c    object\n",
       "dtype: object"
      ]
     },
     "execution_count": 23,
     "metadata": {},
     "output_type": "execute_result"
    }
   ],
   "source": [
    "df2.dtypes"
   ]
  },
  {
   "cell_type": "code",
   "execution_count": 27,
   "id": "405d0fc7",
   "metadata": {},
   "outputs": [
    {
     "data": {
      "text/plain": [
       "RangeIndex(start=0, stop=3, step=1)"
      ]
     },
     "execution_count": 27,
     "metadata": {},
     "output_type": "execute_result"
    }
   ],
   "source": [
    "df2.index"
   ]
  },
  {
   "cell_type": "code",
   "execution_count": 28,
   "id": "a1ec1e3b",
   "metadata": {},
   "outputs": [
    {
     "data": {
      "text/plain": [
       "DatetimeIndex(['2020-11-22', '2020-11-23', '2020-11-24', '2020-11-25',\n",
       "               '2020-11-26', '2020-11-27'],\n",
       "              dtype='datetime64[ns]', freq='D')"
      ]
     },
     "execution_count": 28,
     "metadata": {},
     "output_type": "execute_result"
    }
   ],
   "source": [
    "df.index"
   ]
  },
  {
   "cell_type": "markdown",
   "id": "eae9f4a9",
   "metadata": {},
   "source": [
    "## Dataframe to Numpy"
   ]
  },
  {
   "cell_type": "code",
   "execution_count": 29,
   "id": "fa5bf280",
   "metadata": {},
   "outputs": [
    {
     "data": {
      "text/plain": [
       "array([[8.30079189e-01, 9.90056888e-01, 8.82648281e-01, 4.11473615e-01,\n",
       "        3.75246653e-01],\n",
       "       [9.88035695e-01, 6.09332735e-01, 6.03759114e-01, 3.33452277e-01,\n",
       "        8.92577042e-01],\n",
       "       [5.04776498e-01, 2.18445989e-01, 4.31538274e-01, 1.07195220e-01,\n",
       "        4.79038390e-01],\n",
       "       [7.16470203e-04, 7.40718047e-01, 1.88349513e-01, 4.85500673e-01,\n",
       "        5.96885015e-02],\n",
       "       [7.75930022e-01, 1.95407580e-01, 9.63751090e-01, 8.07433627e-01,\n",
       "        2.70156253e-01],\n",
       "       [5.98172819e-01, 8.83474321e-01, 8.71990976e-01, 7.86686504e-02,\n",
       "        8.88227519e-01]])"
      ]
     },
     "execution_count": 29,
     "metadata": {},
     "output_type": "execute_result"
    }
   ],
   "source": [
    "df.to_numpy()"
   ]
  },
  {
   "cell_type": "code",
   "execution_count": 30,
   "id": "607c7f44",
   "metadata": {},
   "outputs": [
    {
     "data": {
      "text/plain": [
       "<bound method NDFrame.describe of                    A         B         C         D         E\n",
       "2020-11-22  0.830079  0.990057  0.882648  0.411474  0.375247\n",
       "2020-11-23  0.988036  0.609333  0.603759  0.333452  0.892577\n",
       "2020-11-24  0.504776  0.218446  0.431538  0.107195  0.479038\n",
       "2020-11-25  0.000716  0.740718  0.188350  0.485501  0.059689\n",
       "2020-11-26  0.775930  0.195408  0.963751  0.807434  0.270156\n",
       "2020-11-27  0.598173  0.883474  0.871991  0.078669  0.888228>"
      ]
     },
     "execution_count": 30,
     "metadata": {},
     "output_type": "execute_result"
    }
   ],
   "source": [
    "df.describe"
   ]
  },
  {
   "cell_type": "code",
   "execution_count": 31,
   "id": "8c22b303",
   "metadata": {},
   "outputs": [
    {
     "data": {
      "text/html": [
       "<div>\n",
       "<style scoped>\n",
       "    .dataframe tbody tr th:only-of-type {\n",
       "        vertical-align: middle;\n",
       "    }\n",
       "\n",
       "    .dataframe tbody tr th {\n",
       "        vertical-align: top;\n",
       "    }\n",
       "\n",
       "    .dataframe thead th {\n",
       "        text-align: right;\n",
       "    }\n",
       "</style>\n",
       "<table border=\"1\" class=\"dataframe\">\n",
       "  <thead>\n",
       "    <tr style=\"text-align: right;\">\n",
       "      <th></th>\n",
       "      <th>A</th>\n",
       "      <th>B</th>\n",
       "      <th>C</th>\n",
       "      <th>D</th>\n",
       "      <th>E</th>\n",
       "    </tr>\n",
       "  </thead>\n",
       "  <tbody>\n",
       "    <tr>\n",
       "      <th>count</th>\n",
       "      <td>6.000000</td>\n",
       "      <td>6.000000</td>\n",
       "      <td>6.000000</td>\n",
       "      <td>6.000000</td>\n",
       "      <td>6.000000</td>\n",
       "    </tr>\n",
       "    <tr>\n",
       "      <th>mean</th>\n",
       "      <td>0.616285</td>\n",
       "      <td>0.606239</td>\n",
       "      <td>0.657006</td>\n",
       "      <td>0.370621</td>\n",
       "      <td>0.494156</td>\n",
       "    </tr>\n",
       "    <tr>\n",
       "      <th>std</th>\n",
       "      <td>0.346722</td>\n",
       "      <td>0.335093</td>\n",
       "      <td>0.304807</td>\n",
       "      <td>0.268954</td>\n",
       "      <td>0.336849</td>\n",
       "    </tr>\n",
       "    <tr>\n",
       "      <th>min</th>\n",
       "      <td>0.000716</td>\n",
       "      <td>0.195408</td>\n",
       "      <td>0.188350</td>\n",
       "      <td>0.078669</td>\n",
       "      <td>0.059689</td>\n",
       "    </tr>\n",
       "    <tr>\n",
       "      <th>25%</th>\n",
       "      <td>0.528126</td>\n",
       "      <td>0.316168</td>\n",
       "      <td>0.474593</td>\n",
       "      <td>0.163759</td>\n",
       "      <td>0.296429</td>\n",
       "    </tr>\n",
       "    <tr>\n",
       "      <th>50%</th>\n",
       "      <td>0.687051</td>\n",
       "      <td>0.675025</td>\n",
       "      <td>0.737875</td>\n",
       "      <td>0.372463</td>\n",
       "      <td>0.427143</td>\n",
       "    </tr>\n",
       "    <tr>\n",
       "      <th>75%</th>\n",
       "      <td>0.816542</td>\n",
       "      <td>0.847785</td>\n",
       "      <td>0.879984</td>\n",
       "      <td>0.466994</td>\n",
       "      <td>0.785930</td>\n",
       "    </tr>\n",
       "    <tr>\n",
       "      <th>max</th>\n",
       "      <td>0.988036</td>\n",
       "      <td>0.990057</td>\n",
       "      <td>0.963751</td>\n",
       "      <td>0.807434</td>\n",
       "      <td>0.892577</td>\n",
       "    </tr>\n",
       "  </tbody>\n",
       "</table>\n",
       "</div>"
      ],
      "text/plain": [
       "              A         B         C         D         E\n",
       "count  6.000000  6.000000  6.000000  6.000000  6.000000\n",
       "mean   0.616285  0.606239  0.657006  0.370621  0.494156\n",
       "std    0.346722  0.335093  0.304807  0.268954  0.336849\n",
       "min    0.000716  0.195408  0.188350  0.078669  0.059689\n",
       "25%    0.528126  0.316168  0.474593  0.163759  0.296429\n",
       "50%    0.687051  0.675025  0.737875  0.372463  0.427143\n",
       "75%    0.816542  0.847785  0.879984  0.466994  0.785930\n",
       "max    0.988036  0.990057  0.963751  0.807434  0.892577"
      ]
     },
     "execution_count": 31,
     "metadata": {},
     "output_type": "execute_result"
    }
   ],
   "source": [
    "df.describe()"
   ]
  },
  {
   "cell_type": "markdown",
   "id": "1e4421e3",
   "metadata": {},
   "source": [
    "## Transpose"
   ]
  },
  {
   "cell_type": "code",
   "execution_count": 33,
   "id": "54bc50d3",
   "metadata": {},
   "outputs": [
    {
     "data": {
      "text/html": [
       "<div>\n",
       "<style scoped>\n",
       "    .dataframe tbody tr th:only-of-type {\n",
       "        vertical-align: middle;\n",
       "    }\n",
       "\n",
       "    .dataframe tbody tr th {\n",
       "        vertical-align: top;\n",
       "    }\n",
       "\n",
       "    .dataframe thead th {\n",
       "        text-align: right;\n",
       "    }\n",
       "</style>\n",
       "<table border=\"1\" class=\"dataframe\">\n",
       "  <thead>\n",
       "    <tr style=\"text-align: right;\">\n",
       "      <th></th>\n",
       "      <th>2020-11-22</th>\n",
       "      <th>2020-11-23</th>\n",
       "      <th>2020-11-24</th>\n",
       "      <th>2020-11-25</th>\n",
       "      <th>2020-11-26</th>\n",
       "      <th>2020-11-27</th>\n",
       "    </tr>\n",
       "  </thead>\n",
       "  <tbody>\n",
       "    <tr>\n",
       "      <th>A</th>\n",
       "      <td>0.830079</td>\n",
       "      <td>0.988036</td>\n",
       "      <td>0.504776</td>\n",
       "      <td>0.000716</td>\n",
       "      <td>0.775930</td>\n",
       "      <td>0.598173</td>\n",
       "    </tr>\n",
       "    <tr>\n",
       "      <th>B</th>\n",
       "      <td>0.990057</td>\n",
       "      <td>0.609333</td>\n",
       "      <td>0.218446</td>\n",
       "      <td>0.740718</td>\n",
       "      <td>0.195408</td>\n",
       "      <td>0.883474</td>\n",
       "    </tr>\n",
       "    <tr>\n",
       "      <th>C</th>\n",
       "      <td>0.882648</td>\n",
       "      <td>0.603759</td>\n",
       "      <td>0.431538</td>\n",
       "      <td>0.188350</td>\n",
       "      <td>0.963751</td>\n",
       "      <td>0.871991</td>\n",
       "    </tr>\n",
       "    <tr>\n",
       "      <th>D</th>\n",
       "      <td>0.411474</td>\n",
       "      <td>0.333452</td>\n",
       "      <td>0.107195</td>\n",
       "      <td>0.485501</td>\n",
       "      <td>0.807434</td>\n",
       "      <td>0.078669</td>\n",
       "    </tr>\n",
       "    <tr>\n",
       "      <th>E</th>\n",
       "      <td>0.375247</td>\n",
       "      <td>0.892577</td>\n",
       "      <td>0.479038</td>\n",
       "      <td>0.059689</td>\n",
       "      <td>0.270156</td>\n",
       "      <td>0.888228</td>\n",
       "    </tr>\n",
       "  </tbody>\n",
       "</table>\n",
       "</div>"
      ],
      "text/plain": [
       "   2020-11-22  2020-11-23  2020-11-24  2020-11-25  2020-11-26  2020-11-27\n",
       "A    0.830079    0.988036    0.504776    0.000716    0.775930    0.598173\n",
       "B    0.990057    0.609333    0.218446    0.740718    0.195408    0.883474\n",
       "C    0.882648    0.603759    0.431538    0.188350    0.963751    0.871991\n",
       "D    0.411474    0.333452    0.107195    0.485501    0.807434    0.078669\n",
       "E    0.375247    0.892577    0.479038    0.059689    0.270156    0.888228"
      ]
     },
     "execution_count": 33,
     "metadata": {},
     "output_type": "execute_result"
    }
   ],
   "source": [
    "#Transpose\n",
    "df.T"
   ]
  },
  {
   "cell_type": "markdown",
   "id": "1503f91c",
   "metadata": {},
   "source": [
    "## Selecting column"
   ]
  },
  {
   "cell_type": "code",
   "execution_count": 34,
   "id": "53cc50df",
   "metadata": {},
   "outputs": [
    {
     "data": {
      "text/plain": [
       "2020-11-22    0.830079\n",
       "2020-11-23    0.988036\n",
       "2020-11-24    0.504776\n",
       "2020-11-25    0.000716\n",
       "2020-11-26    0.775930\n",
       "2020-11-27    0.598173\n",
       "Freq: D, Name: A, dtype: float64"
      ]
     },
     "execution_count": 34,
     "metadata": {},
     "output_type": "execute_result"
    }
   ],
   "source": [
    "# Selecting column\n",
    "df['A']"
   ]
  },
  {
   "cell_type": "code",
   "execution_count": 35,
   "id": "f3dba6f1",
   "metadata": {},
   "outputs": [
    {
     "data": {
      "text/html": [
       "<div>\n",
       "<style scoped>\n",
       "    .dataframe tbody tr th:only-of-type {\n",
       "        vertical-align: middle;\n",
       "    }\n",
       "\n",
       "    .dataframe tbody tr th {\n",
       "        vertical-align: top;\n",
       "    }\n",
       "\n",
       "    .dataframe thead th {\n",
       "        text-align: right;\n",
       "    }\n",
       "</style>\n",
       "<table border=\"1\" class=\"dataframe\">\n",
       "  <thead>\n",
       "    <tr style=\"text-align: right;\">\n",
       "      <th></th>\n",
       "      <th>A</th>\n",
       "      <th>B</th>\n",
       "      <th>C</th>\n",
       "      <th>D</th>\n",
       "      <th>E</th>\n",
       "    </tr>\n",
       "  </thead>\n",
       "  <tbody>\n",
       "    <tr>\n",
       "      <th>2020-11-22</th>\n",
       "      <td>0.830079</td>\n",
       "      <td>0.990057</td>\n",
       "      <td>0.882648</td>\n",
       "      <td>0.411474</td>\n",
       "      <td>0.375247</td>\n",
       "    </tr>\n",
       "    <tr>\n",
       "      <th>2020-11-23</th>\n",
       "      <td>0.988036</td>\n",
       "      <td>0.609333</td>\n",
       "      <td>0.603759</td>\n",
       "      <td>0.333452</td>\n",
       "      <td>0.892577</td>\n",
       "    </tr>\n",
       "  </tbody>\n",
       "</table>\n",
       "</div>"
      ],
      "text/plain": [
       "                   A         B         C         D         E\n",
       "2020-11-22  0.830079  0.990057  0.882648  0.411474  0.375247\n",
       "2020-11-23  0.988036  0.609333  0.603759  0.333452  0.892577"
      ]
     },
     "execution_count": 35,
     "metadata": {},
     "output_type": "execute_result"
    }
   ],
   "source": [
    "#Row wise selection\n",
    "df[0:2]"
   ]
  },
  {
   "cell_type": "code",
   "execution_count": 38,
   "id": "a4af1ad5",
   "metadata": {},
   "outputs": [
    {
     "data": {
      "text/plain": [
       "A    0.830079\n",
       "B    0.990057\n",
       "C    0.882648\n",
       "D    0.411474\n",
       "E    0.375247\n",
       "Name: 2020-11-22 00:00:00, dtype: float64"
      ]
     },
     "execution_count": 38,
     "metadata": {},
     "output_type": "execute_result"
    }
   ],
   "source": [
    "#Getting all data for day1\n",
    "df.loc[dates[0]]"
   ]
  },
  {
   "cell_type": "code",
   "execution_count": 39,
   "id": "dd833436",
   "metadata": {},
   "outputs": [
    {
     "data": {
      "text/html": [
       "<div>\n",
       "<style scoped>\n",
       "    .dataframe tbody tr th:only-of-type {\n",
       "        vertical-align: middle;\n",
       "    }\n",
       "\n",
       "    .dataframe tbody tr th {\n",
       "        vertical-align: top;\n",
       "    }\n",
       "\n",
       "    .dataframe thead th {\n",
       "        text-align: right;\n",
       "    }\n",
       "</style>\n",
       "<table border=\"1\" class=\"dataframe\">\n",
       "  <thead>\n",
       "    <tr style=\"text-align: right;\">\n",
       "      <th></th>\n",
       "      <th>A</th>\n",
       "      <th>B</th>\n",
       "      <th>C</th>\n",
       "    </tr>\n",
       "  </thead>\n",
       "  <tbody>\n",
       "    <tr>\n",
       "      <th>2020-11-22</th>\n",
       "      <td>0.830079</td>\n",
       "      <td>0.990057</td>\n",
       "      <td>0.882648</td>\n",
       "    </tr>\n",
       "    <tr>\n",
       "      <th>2020-11-23</th>\n",
       "      <td>0.988036</td>\n",
       "      <td>0.609333</td>\n",
       "      <td>0.603759</td>\n",
       "    </tr>\n",
       "    <tr>\n",
       "      <th>2020-11-24</th>\n",
       "      <td>0.504776</td>\n",
       "      <td>0.218446</td>\n",
       "      <td>0.431538</td>\n",
       "    </tr>\n",
       "  </tbody>\n",
       "</table>\n",
       "</div>"
      ],
      "text/plain": [
       "                   A         B         C\n",
       "2020-11-22  0.830079  0.990057  0.882648\n",
       "2020-11-23  0.988036  0.609333  0.603759\n",
       "2020-11-24  0.504776  0.218446  0.431538"
      ]
     },
     "execution_count": 39,
     "metadata": {},
     "output_type": "execute_result"
    }
   ],
   "source": [
    "df.loc['2020-11-22':'2020-11-24', ['A','B','C']]"
   ]
  },
  {
   "cell_type": "code",
   "execution_count": 41,
   "id": "c63778d8",
   "metadata": {},
   "outputs": [
    {
     "data": {
      "text/html": [
       "<div>\n",
       "<style scoped>\n",
       "    .dataframe tbody tr th:only-of-type {\n",
       "        vertical-align: middle;\n",
       "    }\n",
       "\n",
       "    .dataframe tbody tr th {\n",
       "        vertical-align: top;\n",
       "    }\n",
       "\n",
       "    .dataframe thead th {\n",
       "        text-align: right;\n",
       "    }\n",
       "</style>\n",
       "<table border=\"1\" class=\"dataframe\">\n",
       "  <thead>\n",
       "    <tr style=\"text-align: right;\">\n",
       "      <th></th>\n",
       "      <th>A</th>\n",
       "      <th>B</th>\n",
       "      <th>C</th>\n",
       "      <th>D</th>\n",
       "    </tr>\n",
       "  </thead>\n",
       "  <tbody>\n",
       "    <tr>\n",
       "      <th>2020-11-22</th>\n",
       "      <td>0.830079</td>\n",
       "      <td>0.990057</td>\n",
       "      <td>0.882648</td>\n",
       "      <td>0.411474</td>\n",
       "    </tr>\n",
       "    <tr>\n",
       "      <th>2020-11-23</th>\n",
       "      <td>0.988036</td>\n",
       "      <td>0.609333</td>\n",
       "      <td>0.603759</td>\n",
       "      <td>0.333452</td>\n",
       "    </tr>\n",
       "    <tr>\n",
       "      <th>2020-11-24</th>\n",
       "      <td>0.504776</td>\n",
       "      <td>0.218446</td>\n",
       "      <td>0.431538</td>\n",
       "      <td>0.107195</td>\n",
       "    </tr>\n",
       "  </tbody>\n",
       "</table>\n",
       "</div>"
      ],
      "text/plain": [
       "                   A         B         C         D\n",
       "2020-11-22  0.830079  0.990057  0.882648  0.411474\n",
       "2020-11-23  0.988036  0.609333  0.603759  0.333452\n",
       "2020-11-24  0.504776  0.218446  0.431538  0.107195"
      ]
     },
     "execution_count": 41,
     "metadata": {},
     "output_type": "execute_result"
    }
   ],
   "source": [
    "df.loc['2020-11-22':'2020-11-24', 'A':'D']"
   ]
  },
  {
   "cell_type": "code",
   "execution_count": 42,
   "id": "4da199e9",
   "metadata": {},
   "outputs": [
    {
     "data": {
      "text/plain": [
       "0.9880356953853331"
      ]
     },
     "execution_count": 42,
     "metadata": {},
     "output_type": "execute_result"
    }
   ],
   "source": [
    "df.at[dates[1],'A']"
   ]
  },
  {
   "cell_type": "code",
   "execution_count": 43,
   "id": "8965b5c7",
   "metadata": {},
   "outputs": [
    {
     "data": {
      "text/html": [
       "<div>\n",
       "<style scoped>\n",
       "    .dataframe tbody tr th:only-of-type {\n",
       "        vertical-align: middle;\n",
       "    }\n",
       "\n",
       "    .dataframe tbody tr th {\n",
       "        vertical-align: top;\n",
       "    }\n",
       "\n",
       "    .dataframe thead th {\n",
       "        text-align: right;\n",
       "    }\n",
       "</style>\n",
       "<table border=\"1\" class=\"dataframe\">\n",
       "  <thead>\n",
       "    <tr style=\"text-align: right;\">\n",
       "      <th></th>\n",
       "      <th>A</th>\n",
       "      <th>B</th>\n",
       "    </tr>\n",
       "  </thead>\n",
       "  <tbody>\n",
       "    <tr>\n",
       "      <th>2020-11-22</th>\n",
       "      <td>0.830079</td>\n",
       "      <td>0.990057</td>\n",
       "    </tr>\n",
       "    <tr>\n",
       "      <th>2020-11-23</th>\n",
       "      <td>0.988036</td>\n",
       "      <td>0.609333</td>\n",
       "    </tr>\n",
       "    <tr>\n",
       "      <th>2020-11-24</th>\n",
       "      <td>0.504776</td>\n",
       "      <td>0.218446</td>\n",
       "    </tr>\n",
       "    <tr>\n",
       "      <th>2020-11-25</th>\n",
       "      <td>0.000716</td>\n",
       "      <td>0.740718</td>\n",
       "    </tr>\n",
       "    <tr>\n",
       "      <th>2020-11-26</th>\n",
       "      <td>0.775930</td>\n",
       "      <td>0.195408</td>\n",
       "    </tr>\n",
       "    <tr>\n",
       "      <th>2020-11-27</th>\n",
       "      <td>0.598173</td>\n",
       "      <td>0.883474</td>\n",
       "    </tr>\n",
       "  </tbody>\n",
       "</table>\n",
       "</div>"
      ],
      "text/plain": [
       "                   A         B\n",
       "2020-11-22  0.830079  0.990057\n",
       "2020-11-23  0.988036  0.609333\n",
       "2020-11-24  0.504776  0.218446\n",
       "2020-11-25  0.000716  0.740718\n",
       "2020-11-26  0.775930  0.195408\n",
       "2020-11-27  0.598173  0.883474"
      ]
     },
     "execution_count": 43,
     "metadata": {},
     "output_type": "execute_result"
    }
   ],
   "source": [
    "df.iloc[0:24,0:2]"
   ]
  },
  {
   "cell_type": "markdown",
   "id": "016bbad5",
   "metadata": {},
   "source": [
    "## Boolean conditions"
   ]
  },
  {
   "cell_type": "code",
   "execution_count": 45,
   "id": "2844397c",
   "metadata": {},
   "outputs": [
    {
     "data": {
      "text/html": [
       "<div>\n",
       "<style scoped>\n",
       "    .dataframe tbody tr th:only-of-type {\n",
       "        vertical-align: middle;\n",
       "    }\n",
       "\n",
       "    .dataframe tbody tr th {\n",
       "        vertical-align: top;\n",
       "    }\n",
       "\n",
       "    .dataframe thead th {\n",
       "        text-align: right;\n",
       "    }\n",
       "</style>\n",
       "<table border=\"1\" class=\"dataframe\">\n",
       "  <thead>\n",
       "    <tr style=\"text-align: right;\">\n",
       "      <th></th>\n",
       "      <th>A</th>\n",
       "      <th>B</th>\n",
       "      <th>C</th>\n",
       "      <th>D</th>\n",
       "      <th>E</th>\n",
       "    </tr>\n",
       "  </thead>\n",
       "  <tbody>\n",
       "    <tr>\n",
       "      <th>2020-11-22</th>\n",
       "      <td>0.830079</td>\n",
       "      <td>0.990057</td>\n",
       "      <td>0.882648</td>\n",
       "      <td>0.411474</td>\n",
       "      <td>0.375247</td>\n",
       "    </tr>\n",
       "    <tr>\n",
       "      <th>2020-11-23</th>\n",
       "      <td>0.988036</td>\n",
       "      <td>0.609333</td>\n",
       "      <td>0.603759</td>\n",
       "      <td>0.333452</td>\n",
       "      <td>0.892577</td>\n",
       "    </tr>\n",
       "    <tr>\n",
       "      <th>2020-11-26</th>\n",
       "      <td>0.775930</td>\n",
       "      <td>0.195408</td>\n",
       "      <td>0.963751</td>\n",
       "      <td>0.807434</td>\n",
       "      <td>0.270156</td>\n",
       "    </tr>\n",
       "  </tbody>\n",
       "</table>\n",
       "</div>"
      ],
      "text/plain": [
       "                   A         B         C         D         E\n",
       "2020-11-22  0.830079  0.990057  0.882648  0.411474  0.375247\n",
       "2020-11-23  0.988036  0.609333  0.603759  0.333452  0.892577\n",
       "2020-11-26  0.775930  0.195408  0.963751  0.807434  0.270156"
      ]
     },
     "execution_count": 45,
     "metadata": {},
     "output_type": "execute_result"
    }
   ],
   "source": [
    "# Boolean condition to retrieve specific values\n",
    "df[df['A']>0.6]"
   ]
  },
  {
   "cell_type": "markdown",
   "id": "fc042fe3",
   "metadata": {},
   "source": [
    "## Boolean condition on more than 1 column"
   ]
  },
  {
   "cell_type": "code",
   "execution_count": 51,
   "id": "09591b23",
   "metadata": {},
   "outputs": [
    {
     "data": {
      "text/html": [
       "<div>\n",
       "<style scoped>\n",
       "    .dataframe tbody tr th:only-of-type {\n",
       "        vertical-align: middle;\n",
       "    }\n",
       "\n",
       "    .dataframe tbody tr th {\n",
       "        vertical-align: top;\n",
       "    }\n",
       "\n",
       "    .dataframe thead th {\n",
       "        text-align: right;\n",
       "    }\n",
       "</style>\n",
       "<table border=\"1\" class=\"dataframe\">\n",
       "  <thead>\n",
       "    <tr style=\"text-align: right;\">\n",
       "      <th></th>\n",
       "      <th>A</th>\n",
       "      <th>B</th>\n",
       "      <th>C</th>\n",
       "      <th>D</th>\n",
       "      <th>E</th>\n",
       "    </tr>\n",
       "  </thead>\n",
       "  <tbody>\n",
       "    <tr>\n",
       "      <th>2020-11-22</th>\n",
       "      <td>0.830079</td>\n",
       "      <td>0.990057</td>\n",
       "      <td>0.882648</td>\n",
       "      <td>0.411474</td>\n",
       "      <td>0.375247</td>\n",
       "    </tr>\n",
       "    <tr>\n",
       "      <th>2020-11-23</th>\n",
       "      <td>0.988036</td>\n",
       "      <td>0.609333</td>\n",
       "      <td>0.603759</td>\n",
       "      <td>0.333452</td>\n",
       "      <td>0.892577</td>\n",
       "    </tr>\n",
       "  </tbody>\n",
       "</table>\n",
       "</div>"
      ],
      "text/plain": [
       "                   A         B         C         D         E\n",
       "2020-11-22  0.830079  0.990057  0.882648  0.411474  0.375247\n",
       "2020-11-23  0.988036  0.609333  0.603759  0.333452  0.892577"
      ]
     },
     "execution_count": 51,
     "metadata": {},
     "output_type": "execute_result"
    }
   ],
   "source": [
    "# Condition on 2 columns\n",
    "df[(df['A']>0.6) & (df['B']>0.6)]"
   ]
  },
  {
   "cell_type": "code",
   "execution_count": 53,
   "id": "d683ca27",
   "metadata": {},
   "outputs": [
    {
     "data": {
      "text/html": [
       "<div>\n",
       "<style scoped>\n",
       "    .dataframe tbody tr th:only-of-type {\n",
       "        vertical-align: middle;\n",
       "    }\n",
       "\n",
       "    .dataframe tbody tr th {\n",
       "        vertical-align: top;\n",
       "    }\n",
       "\n",
       "    .dataframe thead th {\n",
       "        text-align: right;\n",
       "    }\n",
       "</style>\n",
       "<table border=\"1\" class=\"dataframe\">\n",
       "  <thead>\n",
       "    <tr style=\"text-align: right;\">\n",
       "      <th></th>\n",
       "      <th>A</th>\n",
       "      <th>B</th>\n",
       "      <th>C</th>\n",
       "      <th>D</th>\n",
       "      <th>E</th>\n",
       "    </tr>\n",
       "  </thead>\n",
       "  <tbody>\n",
       "    <tr>\n",
       "      <th>2020-11-22</th>\n",
       "      <td>0.830079</td>\n",
       "      <td>0.990057</td>\n",
       "      <td>0.882648</td>\n",
       "      <td>NaN</td>\n",
       "      <td>NaN</td>\n",
       "    </tr>\n",
       "    <tr>\n",
       "      <th>2020-11-23</th>\n",
       "      <td>0.988036</td>\n",
       "      <td>0.609333</td>\n",
       "      <td>0.603759</td>\n",
       "      <td>NaN</td>\n",
       "      <td>0.892577</td>\n",
       "    </tr>\n",
       "    <tr>\n",
       "      <th>2020-11-24</th>\n",
       "      <td>0.504776</td>\n",
       "      <td>NaN</td>\n",
       "      <td>NaN</td>\n",
       "      <td>NaN</td>\n",
       "      <td>NaN</td>\n",
       "    </tr>\n",
       "    <tr>\n",
       "      <th>2020-11-25</th>\n",
       "      <td>NaN</td>\n",
       "      <td>0.740718</td>\n",
       "      <td>NaN</td>\n",
       "      <td>NaN</td>\n",
       "      <td>NaN</td>\n",
       "    </tr>\n",
       "    <tr>\n",
       "      <th>2020-11-26</th>\n",
       "      <td>0.775930</td>\n",
       "      <td>NaN</td>\n",
       "      <td>0.963751</td>\n",
       "      <td>0.807434</td>\n",
       "      <td>NaN</td>\n",
       "    </tr>\n",
       "    <tr>\n",
       "      <th>2020-11-27</th>\n",
       "      <td>0.598173</td>\n",
       "      <td>0.883474</td>\n",
       "      <td>0.871991</td>\n",
       "      <td>NaN</td>\n",
       "      <td>0.888228</td>\n",
       "    </tr>\n",
       "  </tbody>\n",
       "</table>\n",
       "</div>"
      ],
      "text/plain": [
       "                   A         B         C         D         E\n",
       "2020-11-22  0.830079  0.990057  0.882648       NaN       NaN\n",
       "2020-11-23  0.988036  0.609333  0.603759       NaN  0.892577\n",
       "2020-11-24  0.504776       NaN       NaN       NaN       NaN\n",
       "2020-11-25       NaN  0.740718       NaN       NaN       NaN\n",
       "2020-11-26  0.775930       NaN  0.963751  0.807434       NaN\n",
       "2020-11-27  0.598173  0.883474  0.871991       NaN  0.888228"
      ]
     },
     "execution_count": 53,
     "metadata": {},
     "output_type": "execute_result"
    }
   ],
   "source": [
    "df[df>0.5]"
   ]
  },
  {
   "cell_type": "markdown",
   "id": "5cd674ae",
   "metadata": {},
   "source": [
    "## Copying Dataframe"
   ]
  },
  {
   "cell_type": "code",
   "execution_count": 54,
   "id": "a8c412d9",
   "metadata": {},
   "outputs": [],
   "source": [
    "df2 = df.copy()"
   ]
  },
  {
   "cell_type": "code",
   "execution_count": 55,
   "id": "6b0e6723",
   "metadata": {},
   "outputs": [
    {
     "data": {
      "text/html": [
       "<div>\n",
       "<style scoped>\n",
       "    .dataframe tbody tr th:only-of-type {\n",
       "        vertical-align: middle;\n",
       "    }\n",
       "\n",
       "    .dataframe tbody tr th {\n",
       "        vertical-align: top;\n",
       "    }\n",
       "\n",
       "    .dataframe thead th {\n",
       "        text-align: right;\n",
       "    }\n",
       "</style>\n",
       "<table border=\"1\" class=\"dataframe\">\n",
       "  <thead>\n",
       "    <tr style=\"text-align: right;\">\n",
       "      <th></th>\n",
       "      <th>A</th>\n",
       "      <th>B</th>\n",
       "      <th>C</th>\n",
       "      <th>D</th>\n",
       "      <th>E</th>\n",
       "    </tr>\n",
       "  </thead>\n",
       "  <tbody>\n",
       "    <tr>\n",
       "      <th>2020-11-22</th>\n",
       "      <td>0.830079</td>\n",
       "      <td>0.990057</td>\n",
       "      <td>0.882648</td>\n",
       "      <td>0.411474</td>\n",
       "      <td>0.375247</td>\n",
       "    </tr>\n",
       "    <tr>\n",
       "      <th>2020-11-23</th>\n",
       "      <td>0.988036</td>\n",
       "      <td>0.609333</td>\n",
       "      <td>0.603759</td>\n",
       "      <td>0.333452</td>\n",
       "      <td>0.892577</td>\n",
       "    </tr>\n",
       "    <tr>\n",
       "      <th>2020-11-24</th>\n",
       "      <td>0.504776</td>\n",
       "      <td>0.218446</td>\n",
       "      <td>0.431538</td>\n",
       "      <td>0.107195</td>\n",
       "      <td>0.479038</td>\n",
       "    </tr>\n",
       "    <tr>\n",
       "      <th>2020-11-25</th>\n",
       "      <td>0.000716</td>\n",
       "      <td>0.740718</td>\n",
       "      <td>0.188350</td>\n",
       "      <td>0.485501</td>\n",
       "      <td>0.059689</td>\n",
       "    </tr>\n",
       "    <tr>\n",
       "      <th>2020-11-26</th>\n",
       "      <td>0.775930</td>\n",
       "      <td>0.195408</td>\n",
       "      <td>0.963751</td>\n",
       "      <td>0.807434</td>\n",
       "      <td>0.270156</td>\n",
       "    </tr>\n",
       "    <tr>\n",
       "      <th>2020-11-27</th>\n",
       "      <td>0.598173</td>\n",
       "      <td>0.883474</td>\n",
       "      <td>0.871991</td>\n",
       "      <td>0.078669</td>\n",
       "      <td>0.888228</td>\n",
       "    </tr>\n",
       "  </tbody>\n",
       "</table>\n",
       "</div>"
      ],
      "text/plain": [
       "                   A         B         C         D         E\n",
       "2020-11-22  0.830079  0.990057  0.882648  0.411474  0.375247\n",
       "2020-11-23  0.988036  0.609333  0.603759  0.333452  0.892577\n",
       "2020-11-24  0.504776  0.218446  0.431538  0.107195  0.479038\n",
       "2020-11-25  0.000716  0.740718  0.188350  0.485501  0.059689\n",
       "2020-11-26  0.775930  0.195408  0.963751  0.807434  0.270156\n",
       "2020-11-27  0.598173  0.883474  0.871991  0.078669  0.888228"
      ]
     },
     "execution_count": 55,
     "metadata": {},
     "output_type": "execute_result"
    }
   ],
   "source": [
    "df2"
   ]
  },
  {
   "cell_type": "markdown",
   "id": "ee23aab7",
   "metadata": {},
   "source": [
    "## Addition of new Coulmn"
   ]
  },
  {
   "cell_type": "code",
   "execution_count": 56,
   "id": "e99af716",
   "metadata": {},
   "outputs": [],
   "source": [
    "df2['E']=[-1,-2,-3,3,2,1]"
   ]
  },
  {
   "cell_type": "code",
   "execution_count": 57,
   "id": "aad7b7f0",
   "metadata": {},
   "outputs": [
    {
     "data": {
      "text/html": [
       "<div>\n",
       "<style scoped>\n",
       "    .dataframe tbody tr th:only-of-type {\n",
       "        vertical-align: middle;\n",
       "    }\n",
       "\n",
       "    .dataframe tbody tr th {\n",
       "        vertical-align: top;\n",
       "    }\n",
       "\n",
       "    .dataframe thead th {\n",
       "        text-align: right;\n",
       "    }\n",
       "</style>\n",
       "<table border=\"1\" class=\"dataframe\">\n",
       "  <thead>\n",
       "    <tr style=\"text-align: right;\">\n",
       "      <th></th>\n",
       "      <th>A</th>\n",
       "      <th>B</th>\n",
       "      <th>C</th>\n",
       "      <th>D</th>\n",
       "      <th>E</th>\n",
       "    </tr>\n",
       "  </thead>\n",
       "  <tbody>\n",
       "    <tr>\n",
       "      <th>2020-11-22</th>\n",
       "      <td>0.830079</td>\n",
       "      <td>0.990057</td>\n",
       "      <td>0.882648</td>\n",
       "      <td>0.411474</td>\n",
       "      <td>-1</td>\n",
       "    </tr>\n",
       "    <tr>\n",
       "      <th>2020-11-23</th>\n",
       "      <td>0.988036</td>\n",
       "      <td>0.609333</td>\n",
       "      <td>0.603759</td>\n",
       "      <td>0.333452</td>\n",
       "      <td>-2</td>\n",
       "    </tr>\n",
       "    <tr>\n",
       "      <th>2020-11-24</th>\n",
       "      <td>0.504776</td>\n",
       "      <td>0.218446</td>\n",
       "      <td>0.431538</td>\n",
       "      <td>0.107195</td>\n",
       "      <td>-3</td>\n",
       "    </tr>\n",
       "    <tr>\n",
       "      <th>2020-11-25</th>\n",
       "      <td>0.000716</td>\n",
       "      <td>0.740718</td>\n",
       "      <td>0.188350</td>\n",
       "      <td>0.485501</td>\n",
       "      <td>3</td>\n",
       "    </tr>\n",
       "    <tr>\n",
       "      <th>2020-11-26</th>\n",
       "      <td>0.775930</td>\n",
       "      <td>0.195408</td>\n",
       "      <td>0.963751</td>\n",
       "      <td>0.807434</td>\n",
       "      <td>2</td>\n",
       "    </tr>\n",
       "    <tr>\n",
       "      <th>2020-11-27</th>\n",
       "      <td>0.598173</td>\n",
       "      <td>0.883474</td>\n",
       "      <td>0.871991</td>\n",
       "      <td>0.078669</td>\n",
       "      <td>1</td>\n",
       "    </tr>\n",
       "  </tbody>\n",
       "</table>\n",
       "</div>"
      ],
      "text/plain": [
       "                   A         B         C         D  E\n",
       "2020-11-22  0.830079  0.990057  0.882648  0.411474 -1\n",
       "2020-11-23  0.988036  0.609333  0.603759  0.333452 -2\n",
       "2020-11-24  0.504776  0.218446  0.431538  0.107195 -3\n",
       "2020-11-25  0.000716  0.740718  0.188350  0.485501  3\n",
       "2020-11-26  0.775930  0.195408  0.963751  0.807434  2\n",
       "2020-11-27  0.598173  0.883474  0.871991  0.078669  1"
      ]
     },
     "execution_count": 57,
     "metadata": {},
     "output_type": "execute_result"
    }
   ],
   "source": [
    "df2"
   ]
  },
  {
   "cell_type": "markdown",
   "id": "789239ce",
   "metadata": {},
   "source": [
    "## Printing Average in new added column 'mean'"
   ]
  },
  {
   "cell_type": "code",
   "execution_count": 61,
   "id": "c7a4140d",
   "metadata": {},
   "outputs": [],
   "source": [
    "\n",
    "df2['mean']= (df2['A'] + df2['B']+ df2['C'] +df2['D'] + df2['E'])/5"
   ]
  },
  {
   "cell_type": "code",
   "execution_count": 62,
   "id": "18ccc0fd",
   "metadata": {},
   "outputs": [
    {
     "data": {
      "text/html": [
       "<div>\n",
       "<style scoped>\n",
       "    .dataframe tbody tr th:only-of-type {\n",
       "        vertical-align: middle;\n",
       "    }\n",
       "\n",
       "    .dataframe tbody tr th {\n",
       "        vertical-align: top;\n",
       "    }\n",
       "\n",
       "    .dataframe thead th {\n",
       "        text-align: right;\n",
       "    }\n",
       "</style>\n",
       "<table border=\"1\" class=\"dataframe\">\n",
       "  <thead>\n",
       "    <tr style=\"text-align: right;\">\n",
       "      <th></th>\n",
       "      <th>A</th>\n",
       "      <th>B</th>\n",
       "      <th>C</th>\n",
       "      <th>D</th>\n",
       "      <th>E</th>\n",
       "      <th>mean</th>\n",
       "    </tr>\n",
       "  </thead>\n",
       "  <tbody>\n",
       "    <tr>\n",
       "      <th>2020-11-22</th>\n",
       "      <td>0.830079</td>\n",
       "      <td>0.990057</td>\n",
       "      <td>0.882648</td>\n",
       "      <td>0.411474</td>\n",
       "      <td>-1</td>\n",
       "      <td>0.422852</td>\n",
       "    </tr>\n",
       "    <tr>\n",
       "      <th>2020-11-23</th>\n",
       "      <td>0.988036</td>\n",
       "      <td>0.609333</td>\n",
       "      <td>0.603759</td>\n",
       "      <td>0.333452</td>\n",
       "      <td>-2</td>\n",
       "      <td>0.106916</td>\n",
       "    </tr>\n",
       "    <tr>\n",
       "      <th>2020-11-24</th>\n",
       "      <td>0.504776</td>\n",
       "      <td>0.218446</td>\n",
       "      <td>0.431538</td>\n",
       "      <td>0.107195</td>\n",
       "      <td>-3</td>\n",
       "      <td>-0.347609</td>\n",
       "    </tr>\n",
       "    <tr>\n",
       "      <th>2020-11-25</th>\n",
       "      <td>0.000716</td>\n",
       "      <td>0.740718</td>\n",
       "      <td>0.188350</td>\n",
       "      <td>0.485501</td>\n",
       "      <td>3</td>\n",
       "      <td>0.883057</td>\n",
       "    </tr>\n",
       "    <tr>\n",
       "      <th>2020-11-26</th>\n",
       "      <td>0.775930</td>\n",
       "      <td>0.195408</td>\n",
       "      <td>0.963751</td>\n",
       "      <td>0.807434</td>\n",
       "      <td>2</td>\n",
       "      <td>0.948504</td>\n",
       "    </tr>\n",
       "    <tr>\n",
       "      <th>2020-11-27</th>\n",
       "      <td>0.598173</td>\n",
       "      <td>0.883474</td>\n",
       "      <td>0.871991</td>\n",
       "      <td>0.078669</td>\n",
       "      <td>1</td>\n",
       "      <td>0.686461</td>\n",
       "    </tr>\n",
       "  </tbody>\n",
       "</table>\n",
       "</div>"
      ],
      "text/plain": [
       "                   A         B         C         D  E      mean\n",
       "2020-11-22  0.830079  0.990057  0.882648  0.411474 -1  0.422852\n",
       "2020-11-23  0.988036  0.609333  0.603759  0.333452 -2  0.106916\n",
       "2020-11-24  0.504776  0.218446  0.431538  0.107195 -3 -0.347609\n",
       "2020-11-25  0.000716  0.740718  0.188350  0.485501  3  0.883057\n",
       "2020-11-26  0.775930  0.195408  0.963751  0.807434  2  0.948504\n",
       "2020-11-27  0.598173  0.883474  0.871991  0.078669  1  0.686461"
      ]
     },
     "execution_count": 62,
     "metadata": {},
     "output_type": "execute_result"
    }
   ],
   "source": [
    "df2"
   ]
  },
  {
   "cell_type": "code",
   "execution_count": null,
   "id": "fa99b294",
   "metadata": {},
   "outputs": [],
   "source": []
  }
 ],
 "metadata": {
  "kernelspec": {
   "display_name": "Python 3 (ipykernel)",
   "language": "python",
   "name": "python3"
  },
  "language_info": {
   "codemirror_mode": {
    "name": "ipython",
    "version": 3
   },
   "file_extension": ".py",
   "mimetype": "text/x-python",
   "name": "python",
   "nbconvert_exporter": "python",
   "pygments_lexer": "ipython3",
   "version": "3.7.11"
  },
  "toc": {
   "base_numbering": 1,
   "nav_menu": {},
   "number_sections": false,
   "sideBar": true,
   "skip_h1_title": false,
   "title_cell": "Table of Contents",
   "title_sidebar": "Contents",
   "toc_cell": false,
   "toc_position": {},
   "toc_section_display": true,
   "toc_window_display": true
  }
 },
 "nbformat": 4,
 "nbformat_minor": 5
}
