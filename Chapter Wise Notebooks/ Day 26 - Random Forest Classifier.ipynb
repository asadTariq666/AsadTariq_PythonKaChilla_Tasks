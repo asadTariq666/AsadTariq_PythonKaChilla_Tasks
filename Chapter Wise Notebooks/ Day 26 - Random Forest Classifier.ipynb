{
 "cells": [
  {
   "cell_type": "markdown",
   "metadata": {},
   "source": [
    "# Day 26 - Random Forest"
   ]
  },
  {
   "cell_type": "markdown",
   "id": "f7c2effc",
   "metadata": {},
   "source": [
    "## Importing Libraries"
   ]
  },
  {
   "cell_type": "code",
   "execution_count": 17,
   "id": "451bb908",
   "metadata": {},
   "outputs": [],
   "source": [
    "# Importing Libraries\n",
    "import pandas as pd \n",
    "import numpy as np\n",
    "import seaborn as sns\n",
    "import matplotlib.pyplot as plt\n"
   ]
  },
  {
   "cell_type": "markdown",
   "id": "431125c2",
   "metadata": {},
   "source": [
    "## Importing data set"
   ]
  },
  {
   "cell_type": "code",
   "execution_count": 27,
   "id": "c65c5a5e",
   "metadata": {},
   "outputs": [
    {
     "name": "stdout",
     "output_type": "stream",
     "text": [
      "   sepal_length  sepal_width  petal_length  petal_width species\n",
      "0           5.1          3.5           1.4          0.2  setosa\n",
      "1           4.9          3.0           1.4          0.2  setosa\n",
      "2           4.7          3.2           1.3          0.2  setosa\n",
      "3           4.6          3.1           1.5          0.2  setosa\n",
      "4           5.0          3.6           1.4          0.2  setosa\n"
     ]
    }
   ],
   "source": [
    "\n",
    "flower = sns.load_dataset('iris')\n",
    "print(flower.head())"
   ]
  },
  {
   "cell_type": "markdown",
   "metadata": {},
   "source": [
    "## Making Descriptive and Target Features"
   ]
  },
  {
   "cell_type": "code",
   "execution_count": 55,
   "metadata": {},
   "outputs": [
    {
     "data": {
      "text/html": [
       "<div>\n",
       "<style scoped>\n",
       "    .dataframe tbody tr th:only-of-type {\n",
       "        vertical-align: middle;\n",
       "    }\n",
       "\n",
       "    .dataframe tbody tr th {\n",
       "        vertical-align: top;\n",
       "    }\n",
       "\n",
       "    .dataframe thead th {\n",
       "        text-align: right;\n",
       "    }\n",
       "</style>\n",
       "<table border=\"1\" class=\"dataframe\">\n",
       "  <thead>\n",
       "    <tr style=\"text-align: right;\">\n",
       "      <th></th>\n",
       "      <th>sepal_length</th>\n",
       "      <th>sepal_width</th>\n",
       "      <th>petal_length</th>\n",
       "      <th>petal_width</th>\n",
       "    </tr>\n",
       "  </thead>\n",
       "  <tbody>\n",
       "    <tr>\n",
       "      <th>0</th>\n",
       "      <td>5.1</td>\n",
       "      <td>3.5</td>\n",
       "      <td>1.4</td>\n",
       "      <td>0.2</td>\n",
       "    </tr>\n",
       "    <tr>\n",
       "      <th>1</th>\n",
       "      <td>4.9</td>\n",
       "      <td>3.0</td>\n",
       "      <td>1.4</td>\n",
       "      <td>0.2</td>\n",
       "    </tr>\n",
       "    <tr>\n",
       "      <th>2</th>\n",
       "      <td>4.7</td>\n",
       "      <td>3.2</td>\n",
       "      <td>1.3</td>\n",
       "      <td>0.2</td>\n",
       "    </tr>\n",
       "    <tr>\n",
       "      <th>3</th>\n",
       "      <td>4.6</td>\n",
       "      <td>3.1</td>\n",
       "      <td>1.5</td>\n",
       "      <td>0.2</td>\n",
       "    </tr>\n",
       "    <tr>\n",
       "      <th>4</th>\n",
       "      <td>5.0</td>\n",
       "      <td>3.6</td>\n",
       "      <td>1.4</td>\n",
       "      <td>0.2</td>\n",
       "    </tr>\n",
       "    <tr>\n",
       "      <th>...</th>\n",
       "      <td>...</td>\n",
       "      <td>...</td>\n",
       "      <td>...</td>\n",
       "      <td>...</td>\n",
       "    </tr>\n",
       "    <tr>\n",
       "      <th>145</th>\n",
       "      <td>6.7</td>\n",
       "      <td>3.0</td>\n",
       "      <td>5.2</td>\n",
       "      <td>2.3</td>\n",
       "    </tr>\n",
       "    <tr>\n",
       "      <th>146</th>\n",
       "      <td>6.3</td>\n",
       "      <td>2.5</td>\n",
       "      <td>5.0</td>\n",
       "      <td>1.9</td>\n",
       "    </tr>\n",
       "    <tr>\n",
       "      <th>147</th>\n",
       "      <td>6.5</td>\n",
       "      <td>3.0</td>\n",
       "      <td>5.2</td>\n",
       "      <td>2.0</td>\n",
       "    </tr>\n",
       "    <tr>\n",
       "      <th>148</th>\n",
       "      <td>6.2</td>\n",
       "      <td>3.4</td>\n",
       "      <td>5.4</td>\n",
       "      <td>2.3</td>\n",
       "    </tr>\n",
       "    <tr>\n",
       "      <th>149</th>\n",
       "      <td>5.9</td>\n",
       "      <td>3.0</td>\n",
       "      <td>5.1</td>\n",
       "      <td>1.8</td>\n",
       "    </tr>\n",
       "  </tbody>\n",
       "</table>\n",
       "<p>150 rows × 4 columns</p>\n",
       "</div>"
      ],
      "text/plain": [
       "     sepal_length  sepal_width  petal_length  petal_width\n",
       "0             5.1          3.5           1.4          0.2\n",
       "1             4.9          3.0           1.4          0.2\n",
       "2             4.7          3.2           1.3          0.2\n",
       "3             4.6          3.1           1.5          0.2\n",
       "4             5.0          3.6           1.4          0.2\n",
       "..            ...          ...           ...          ...\n",
       "145           6.7          3.0           5.2          2.3\n",
       "146           6.3          2.5           5.0          1.9\n",
       "147           6.5          3.0           5.2          2.0\n",
       "148           6.2          3.4           5.4          2.3\n",
       "149           5.9          3.0           5.1          1.8\n",
       "\n",
       "[150 rows x 4 columns]"
      ]
     },
     "execution_count": 55,
     "metadata": {},
     "output_type": "execute_result"
    }
   ],
   "source": [
    "descriptive_features = flower.iloc[:,:-1]\n",
    "descriptive_features\n"
   ]
  },
  {
   "cell_type": "code",
   "execution_count": 29,
   "metadata": {},
   "outputs": [
    {
     "data": {
      "text/html": [
       "<div>\n",
       "<style scoped>\n",
       "    .dataframe tbody tr th:only-of-type {\n",
       "        vertical-align: middle;\n",
       "    }\n",
       "\n",
       "    .dataframe tbody tr th {\n",
       "        vertical-align: top;\n",
       "    }\n",
       "\n",
       "    .dataframe thead th {\n",
       "        text-align: right;\n",
       "    }\n",
       "</style>\n",
       "<table border=\"1\" class=\"dataframe\">\n",
       "  <thead>\n",
       "    <tr style=\"text-align: right;\">\n",
       "      <th></th>\n",
       "      <th>species</th>\n",
       "    </tr>\n",
       "  </thead>\n",
       "  <tbody>\n",
       "    <tr>\n",
       "      <th>0</th>\n",
       "      <td>setosa</td>\n",
       "    </tr>\n",
       "    <tr>\n",
       "      <th>1</th>\n",
       "      <td>setosa</td>\n",
       "    </tr>\n",
       "    <tr>\n",
       "      <th>2</th>\n",
       "      <td>setosa</td>\n",
       "    </tr>\n",
       "    <tr>\n",
       "      <th>3</th>\n",
       "      <td>setosa</td>\n",
       "    </tr>\n",
       "    <tr>\n",
       "      <th>4</th>\n",
       "      <td>setosa</td>\n",
       "    </tr>\n",
       "    <tr>\n",
       "      <th>...</th>\n",
       "      <td>...</td>\n",
       "    </tr>\n",
       "    <tr>\n",
       "      <th>145</th>\n",
       "      <td>virginica</td>\n",
       "    </tr>\n",
       "    <tr>\n",
       "      <th>146</th>\n",
       "      <td>virginica</td>\n",
       "    </tr>\n",
       "    <tr>\n",
       "      <th>147</th>\n",
       "      <td>virginica</td>\n",
       "    </tr>\n",
       "    <tr>\n",
       "      <th>148</th>\n",
       "      <td>virginica</td>\n",
       "    </tr>\n",
       "    <tr>\n",
       "      <th>149</th>\n",
       "      <td>virginica</td>\n",
       "    </tr>\n",
       "  </tbody>\n",
       "</table>\n",
       "<p>150 rows × 1 columns</p>\n",
       "</div>"
      ],
      "text/plain": [
       "       species\n",
       "0       setosa\n",
       "1       setosa\n",
       "2       setosa\n",
       "3       setosa\n",
       "4       setosa\n",
       "..         ...\n",
       "145  virginica\n",
       "146  virginica\n",
       "147  virginica\n",
       "148  virginica\n",
       "149  virginica\n",
       "\n",
       "[150 rows x 1 columns]"
      ]
     },
     "execution_count": 29,
     "metadata": {},
     "output_type": "execute_result"
    }
   ],
   "source": [
    "target_feature = flower.iloc[:,-1:]\n",
    "target_feature"
   ]
  },
  {
   "cell_type": "markdown",
   "metadata": {},
   "source": [
    "## Importing Decision Tree Classifier\n",
    "\n",
    "n_estimators = This is the number of trees you want to build before taking the maximum voting or averages of predictions. Higher number of trees give you better performance but makes your code slower."
   ]
  },
  {
   "cell_type": "code",
   "execution_count": 30,
   "metadata": {},
   "outputs": [
    {
     "name": "stderr",
     "output_type": "stream",
     "text": [
      "/var/folders/dk/9q84mn0j1nzfg85t9zx5d1480000gn/T/ipykernel_53582/3251868607.py:3: DataConversionWarning: A column-vector y was passed when a 1d array was expected. Please change the shape of y to (n_samples,), for example using ravel().\n",
      "  classifier.fit(descriptive_features,target_feature)\n"
     ]
    },
    {
     "data": {
      "text/plain": [
       "array(['setosa'], dtype=object)"
      ]
     },
     "execution_count": 30,
     "metadata": {},
     "output_type": "execute_result"
    }
   ],
   "source": [
    "from sklearn.ensemble import RandomForestClassifier\n",
    "classifier = RandomForestClassifier(n_estimators=100) \n",
    "classifier.fit(descriptive_features,target_feature)\n",
    "classifier.predict([[10,4,2,6]])"
   ]
  },
  {
   "cell_type": "markdown",
   "metadata": {},
   "source": [
    "## Testing on new values"
   ]
  },
  {
   "cell_type": "code",
   "execution_count": 31,
   "metadata": {},
   "outputs": [
    {
     "data": {
      "text/plain": [
       "array(['versicolor', 'setosa', 'setosa', 'virginica', 'versicolor'],\n",
       "      dtype=object)"
      ]
     },
     "execution_count": 31,
     "metadata": {},
     "output_type": "execute_result"
    }
   ],
   "source": [
    "new_values = [[5,4,3,2],[6,7,1,2],[3,2,1,0.2],[6,3,5.2,1.7],[10,9,2,1]]\n",
    "new_predict = classifier.predict(new_values)\n",
    "new_predict"
   ]
  },
  {
   "cell_type": "markdown",
   "metadata": {},
   "source": [
    "## Splitting data in to Training and Test sets to measure accuracy 80-20"
   ]
  },
  {
   "cell_type": "code",
   "execution_count": 36,
   "metadata": {},
   "outputs": [],
   "source": [
    "# Splitting data in to 80-20 \n",
    "from sklearn.model_selection import train_test_split \n",
    "x_train, x_test, y_train, y_test = train_test_split(descriptive_features, target_feature, test_size=1/5)"
   ]
  },
  {
   "cell_type": "code",
   "execution_count": 37,
   "metadata": {},
   "outputs": [
    {
     "name": "stderr",
     "output_type": "stream",
     "text": [
      "/var/folders/dk/9q84mn0j1nzfg85t9zx5d1480000gn/T/ipykernel_53582/2129064394.py:2: DataConversionWarning: A column-vector y was passed when a 1d array was expected. Please change the shape of y to (n_samples,), for example using ravel().\n",
      "  classifier.fit(x_train,y_train)\n"
     ]
    },
    {
     "data": {
      "text/plain": [
       "array(['setosa', 'versicolor', 'versicolor', 'versicolor', 'virginica',\n",
       "       'virginica', 'versicolor', 'virginica', 'versicolor', 'setosa',\n",
       "       'versicolor', 'versicolor', 'virginica', 'virginica', 'virginica',\n",
       "       'setosa', 'virginica', 'versicolor', 'versicolor', 'versicolor',\n",
       "       'virginica', 'virginica', 'virginica', 'versicolor', 'versicolor',\n",
       "       'setosa', 'virginica', 'virginica', 'setosa', 'virginica'],\n",
       "      dtype=object)"
      ]
     },
     "execution_count": 37,
     "metadata": {},
     "output_type": "execute_result"
    }
   ],
   "source": [
    "classifier = RandomForestClassifier(n_estimators=200)\n",
    "classifier.fit(x_train,y_train)\n",
    "predicted_values = classifier.predict(x_test)\n",
    "predicted_values"
   ]
  },
  {
   "cell_type": "markdown",
   "metadata": {},
   "source": [
    "## Measure Accuracy"
   ]
  },
  {
   "cell_type": "code",
   "execution_count": 45,
   "metadata": {},
   "outputs": [
    {
     "data": {
      "text/plain": [
       "0.9333333333333333"
      ]
     },
     "execution_count": 45,
     "metadata": {},
     "output_type": "execute_result"
    }
   ],
   "source": [
    "# Measuring score\n",
    "import sklearn.metrics \n",
    "score = classifier.score(x_test,y_test)\n",
    "score"
   ]
  },
  {
   "cell_type": "code",
   "execution_count": 44,
   "metadata": {},
   "outputs": [
    {
     "data": {
      "text/plain": [
       "0.9333333333333333"
      ]
     },
     "execution_count": 44,
     "metadata": {},
     "output_type": "execute_result"
    }
   ],
   "source": [
    "# Measuring accuracy score\n",
    "from sklearn.metrics import accuracy_score\n",
    "acc_score = accuracy_score(y_test,predicted_values)\n",
    "acc_score"
   ]
  },
  {
   "cell_type": "markdown",
   "metadata": {},
   "source": [
    "## Predicting New Values"
   ]
  },
  {
   "cell_type": "code",
   "execution_count": 46,
   "metadata": {},
   "outputs": [
    {
     "data": {
      "text/plain": [
       "array(['virginica', 'setosa', 'setosa', 'virginica', 'setosa'],\n",
       "      dtype=object)"
      ]
     },
     "execution_count": 46,
     "metadata": {},
     "output_type": "execute_result"
    }
   ],
   "source": [
    "new_values = [[5,4,3,2],[6,7,1,2],[3,2,1,0.2],[6,3,5.2,1.7],[10,9,2,1]]\n",
    "new_predict = classifier.predict(new_values)\n",
    "new_predict"
   ]
  },
  {
   "cell_type": "markdown",
   "metadata": {},
   "source": [
    "## Confusion Matrix\n"
   ]
  },
  {
   "cell_type": "code",
   "execution_count": 47,
   "metadata": {},
   "outputs": [
    {
     "data": {
      "text/plain": [
       "array([[ 5,  0,  0],\n",
       "       [ 0, 12,  2],\n",
       "       [ 0,  0, 11]])"
      ]
     },
     "execution_count": 47,
     "metadata": {},
     "output_type": "execute_result"
    }
   ],
   "source": [
    "from sklearn.metrics import confusion_matrix\n",
    "cm = confusion_matrix(y_test,predicted_values)\n",
    "cm"
   ]
  },
  {
   "cell_type": "markdown",
   "metadata": {},
   "source": [
    "## Creating HEATMAP to understand Confusion matrix"
   ]
  },
  {
   "cell_type": "code",
   "execution_count": 49,
   "metadata": {},
   "outputs": [
    {
     "data": {
      "text/plain": [
       "Text(0.5, 1.0, 'Accuracy score : 0.9333333333333333')"
      ]
     },
     "execution_count": 49,
     "metadata": {},
     "output_type": "execute_result"
    },
    {
     "data": {
      "image/png": "[encoded data removed]",
      "text/plain": [
       "<Figure size 576x432 with 2 Axes>"
      ]
     },
     "metadata": {},
     "output_type": "display_data"
    }
   ],
   "source": [
    "sns.set_style(style='whitegrid')\n",
    "plt.figure(figsize=(8,6))\n",
    "sns.heatmap(cm, annot = True,)\n",
    "plt.ylabel = 'Actual Output'\n",
    "plt.xlabel = 'Predicted Output'\n",
    "cm_title = 'Accuracy score : {0}'.format(score)\n",
    "plt.title(cm_title)"
   ]
  },
  {
   "cell_type": "markdown",
   "metadata": {},
   "source": [
    "## Random Forest Regression"
   ]
  },
  {
   "cell_type": "markdown",
   "id": "431125c2",
   "metadata": {},
   "source": [
    "## Importing data set"
   ]
  },
  {
   "cell_type": "code",
   "execution_count": 54,
   "id": "c65c5a5e",
   "metadata": {},
   "outputs": [
    {
     "name": "stdout",
     "output_type": "stream",
     "text": [
      "     age  distance  YearsExperience  Salary\n",
      "0   31.1     77.75              1.1   39343\n",
      "1   31.3     78.25              1.3   46205\n",
      "2   31.5     78.75              1.5   37731\n",
      "3   32.0     80.00              2.0   43525\n",
      "4   32.2     80.50              2.2   39891\n",
      "5   32.9     82.25              2.9   56642\n",
      "6   33.0     82.50              3.0   60150\n",
      "7   33.2     83.00              3.2   54445\n",
      "8   33.2     83.00              3.2   64445\n",
      "9   33.7     84.25              3.7   57189\n",
      "10  33.9     84.75              3.9   63218\n",
      "11  34.0     85.00              4.0   55794\n",
      "12  34.0     85.00              4.0   56957\n",
      "13  34.1     85.25              4.1   57081\n",
      "14  34.5     86.25              4.5   61111\n",
      "15  34.9     87.25              4.9   67938\n",
      "16  35.1     87.75              5.1   66029\n",
      "17  35.3     88.25              5.3   83088\n",
      "18  35.9     89.75              5.9   81363\n",
      "19  36.0     90.00              6.0   93940\n",
      "20  36.8     92.00              6.8   91738\n",
      "21  37.1     92.75              7.1   98273\n",
      "22  37.9     94.75              7.9  101302\n",
      "23  38.2     95.50              8.2  113812\n",
      "24  38.7     96.75              8.7  109431\n",
      "25  39.0     97.50              9.0  105582\n",
      "26  39.5     98.75              9.5  116969\n",
      "27  39.6     99.00              9.6  112635\n",
      "28  40.3    100.75             10.3  122391\n",
      "29  40.5    101.25             10.5  121872\n"
     ]
    }
   ],
   "source": [
    "df = pd.read_csv('ml_data_salary.csv')\n",
    "print(df.head(30))"
   ]
  },
  {
   "cell_type": "code",
   "execution_count": 56,
   "id": "1fd96f7d",
   "metadata": {},
   "outputs": [
    {
     "data": {
      "text/html": [
       "<div>\n",
       "<style scoped>\n",
       "    .dataframe tbody tr th:only-of-type {\n",
       "        vertical-align: middle;\n",
       "    }\n",
       "\n",
       "    .dataframe tbody tr th {\n",
       "        vertical-align: top;\n",
       "    }\n",
       "\n",
       "    .dataframe thead th {\n",
       "        text-align: right;\n",
       "    }\n",
       "</style>\n",
       "<table border=\"1\" class=\"dataframe\">\n",
       "  <thead>\n",
       "    <tr style=\"text-align: right;\">\n",
       "      <th></th>\n",
       "      <th>Salary</th>\n",
       "    </tr>\n",
       "  </thead>\n",
       "  <tbody>\n",
       "    <tr>\n",
       "      <th>0</th>\n",
       "      <td>39343</td>\n",
       "    </tr>\n",
       "    <tr>\n",
       "      <th>1</th>\n",
       "      <td>46205</td>\n",
       "    </tr>\n",
       "    <tr>\n",
       "      <th>2</th>\n",
       "      <td>37731</td>\n",
       "    </tr>\n",
       "    <tr>\n",
       "      <th>3</th>\n",
       "      <td>43525</td>\n",
       "    </tr>\n",
       "    <tr>\n",
       "      <th>4</th>\n",
       "      <td>39891</td>\n",
       "    </tr>\n",
       "    <tr>\n",
       "      <th>5</th>\n",
       "      <td>56642</td>\n",
       "    </tr>\n",
       "    <tr>\n",
       "      <th>6</th>\n",
       "      <td>60150</td>\n",
       "    </tr>\n",
       "    <tr>\n",
       "      <th>7</th>\n",
       "      <td>54445</td>\n",
       "    </tr>\n",
       "    <tr>\n",
       "      <th>8</th>\n",
       "      <td>64445</td>\n",
       "    </tr>\n",
       "    <tr>\n",
       "      <th>9</th>\n",
       "      <td>57189</td>\n",
       "    </tr>\n",
       "    <tr>\n",
       "      <th>10</th>\n",
       "      <td>63218</td>\n",
       "    </tr>\n",
       "    <tr>\n",
       "      <th>11</th>\n",
       "      <td>55794</td>\n",
       "    </tr>\n",
       "    <tr>\n",
       "      <th>12</th>\n",
       "      <td>56957</td>\n",
       "    </tr>\n",
       "    <tr>\n",
       "      <th>13</th>\n",
       "      <td>57081</td>\n",
       "    </tr>\n",
       "    <tr>\n",
       "      <th>14</th>\n",
       "      <td>61111</td>\n",
       "    </tr>\n",
       "    <tr>\n",
       "      <th>15</th>\n",
       "      <td>67938</td>\n",
       "    </tr>\n",
       "    <tr>\n",
       "      <th>16</th>\n",
       "      <td>66029</td>\n",
       "    </tr>\n",
       "    <tr>\n",
       "      <th>17</th>\n",
       "      <td>83088</td>\n",
       "    </tr>\n",
       "    <tr>\n",
       "      <th>18</th>\n",
       "      <td>81363</td>\n",
       "    </tr>\n",
       "    <tr>\n",
       "      <th>19</th>\n",
       "      <td>93940</td>\n",
       "    </tr>\n",
       "    <tr>\n",
       "      <th>20</th>\n",
       "      <td>91738</td>\n",
       "    </tr>\n",
       "    <tr>\n",
       "      <th>21</th>\n",
       "      <td>98273</td>\n",
       "    </tr>\n",
       "    <tr>\n",
       "      <th>22</th>\n",
       "      <td>101302</td>\n",
       "    </tr>\n",
       "    <tr>\n",
       "      <th>23</th>\n",
       "      <td>113812</td>\n",
       "    </tr>\n",
       "    <tr>\n",
       "      <th>24</th>\n",
       "      <td>109431</td>\n",
       "    </tr>\n",
       "    <tr>\n",
       "      <th>25</th>\n",
       "      <td>105582</td>\n",
       "    </tr>\n",
       "    <tr>\n",
       "      <th>26</th>\n",
       "      <td>116969</td>\n",
       "    </tr>\n",
       "    <tr>\n",
       "      <th>27</th>\n",
       "      <td>112635</td>\n",
       "    </tr>\n",
       "    <tr>\n",
       "      <th>28</th>\n",
       "      <td>122391</td>\n",
       "    </tr>\n",
       "    <tr>\n",
       "      <th>29</th>\n",
       "      <td>121872</td>\n",
       "    </tr>\n",
       "  </tbody>\n",
       "</table>\n",
       "</div>"
      ],
      "text/plain": [
       "    Salary\n",
       "0    39343\n",
       "1    46205\n",
       "2    37731\n",
       "3    43525\n",
       "4    39891\n",
       "5    56642\n",
       "6    60150\n",
       "7    54445\n",
       "8    64445\n",
       "9    57189\n",
       "10   63218\n",
       "11   55794\n",
       "12   56957\n",
       "13   57081\n",
       "14   61111\n",
       "15   67938\n",
       "16   66029\n",
       "17   83088\n",
       "18   81363\n",
       "19   93940\n",
       "20   91738\n",
       "21   98273\n",
       "22  101302\n",
       "23  113812\n",
       "24  109431\n",
       "25  105582\n",
       "26  116969\n",
       "27  112635\n",
       "28  122391\n",
       "29  121872"
      ]
     },
     "execution_count": 56,
     "metadata": {},
     "output_type": "execute_result"
    }
   ],
   "source": [
    "descriptive_features = df.iloc[:,:-1]\n",
    "descriptive_features\n",
    "target_feature = df.iloc[:,-1:]\n",
    "target_feature\n"
   ]
  },
  {
   "cell_type": "markdown",
   "id": "04e19a9a",
   "metadata": {},
   "source": [
    "## Importing Random Forest regression and efficiency measures from sklearn "
   ]
  },
  {
   "cell_type": "code",
   "execution_count": 57,
   "id": "1e2bb22f",
   "metadata": {},
   "outputs": [],
   "source": [
    "# Importing Random Forest regression from sklearn \n",
    "from sklearn.ensemble import RandomForestRegressor\n",
    "from sklearn.metrics import mean_squared_error, mean_absolute_error"
   ]
  },
  {
   "cell_type": "markdown",
   "id": "7c42c7b5",
   "metadata": {},
   "source": [
    "## Fitting RandomForestRegressor Regression to the data set"
   ]
  },
  {
   "cell_type": "code",
   "execution_count": 58,
   "id": "0c103105",
   "metadata": {},
   "outputs": [
    {
     "name": "stderr",
     "output_type": "stream",
     "text": [
      "/var/folders/dk/9q84mn0j1nzfg85t9zx5d1480000gn/T/ipykernel_53582/4218445208.py:3: DataConversionWarning: A column-vector y was passed when a 1d array was expected. Please change the shape of y to (n_samples,), for example using ravel().\n",
      "  regressor.fit(descriptive_features, target_feature)\n"
     ]
    },
    {
     "data": {
      "text/plain": [
       "RandomForestRegressor()"
      ]
     },
     "execution_count": 58,
     "metadata": {},
     "output_type": "execute_result"
    }
   ],
   "source": [
    "# Fitting RandomForestRegressor to the data set\n",
    "regressor = RandomForestRegressor(n_estimators=100)\n",
    "regressor.fit(descriptive_features, target_feature)"
   ]
  },
  {
   "cell_type": "markdown",
   "id": "0a4624e3",
   "metadata": {},
   "source": [
    "## Predicting  results"
   ]
  },
  {
   "cell_type": "code",
   "execution_count": 59,
   "id": "5be5e144",
   "metadata": {},
   "outputs": [
    {
     "data": {
      "text/plain": [
       "array([ 40732.36      ,  43477.16      ,  39918.52      ,  42154.94      ,\n",
       "        41753.        ,  57905.88333333,  59344.16333333,  59581.94333333,\n",
       "        59581.94333333,  58645.12      ,  61338.115     ,  56904.44783333,\n",
       "        56904.44783333,  56854.50633333,  60371.595     ,  67273.53      ,\n",
       "        67435.11      ,  78376.11      ,  82947.23      ,  88371.99      ,\n",
       "        92858.79      ,  96964.97      , 104220.57      , 110469.61      ,\n",
       "       108456.04      , 106975.37      , 115457.05      , 113680.11      ,\n",
       "       121376.52      , 121158.54      ])"
      ]
     },
     "execution_count": 59,
     "metadata": {},
     "output_type": "execute_result"
    }
   ],
   "source": [
    "# Predicting the Test set results\n",
    "y_pred = regressor.predict(descriptive_features)\n",
    "y_pred"
   ]
  },
  {
   "cell_type": "markdown",
   "id": "b941603f",
   "metadata": {},
   "source": [
    "## Score of model"
   ]
  },
  {
   "cell_type": "code",
   "execution_count": 60,
   "id": "39d7d5c1",
   "metadata": {},
   "outputs": [
    {
     "data": {
      "text/plain": [
       "0.9922976984985019"
      ]
     },
     "execution_count": 60,
     "metadata": {},
     "output_type": "execute_result"
    }
   ],
   "source": [
    "regressor.score(descriptive_features,target_feature)"
   ]
  },
  {
   "cell_type": "markdown",
   "id": "4561dde2",
   "metadata": {},
   "source": [
    "## Evaluation by Mean Squared Error"
   ]
  },
  {
   "cell_type": "code",
   "execution_count": 61,
   "id": "403cbab9",
   "metadata": {},
   "outputs": [
    {
     "name": "stdout",
     "output_type": "stream",
     "text": [
      "Mean squared error model 1: 5595716.35\n",
      "Mean Absolute error model 1: 1878.31\n"
     ]
    }
   ],
   "source": [
    "## Evaluation by Mean Squared Error\n",
    "#computing the squared error of the first model\n",
    "print(\"Mean squared error model 1: %.2f\" % mean_squared_error(target_feature, y_pred))\n",
    "print(\"Mean Absolute error model 1: %.2f\" % mean_absolute_error(target_feature, y_pred))"
   ]
  },
  {
   "cell_type": "markdown",
   "id": "4291564c",
   "metadata": {},
   "source": [
    "## Splitting data set in training and testing data"
   ]
  },
  {
   "cell_type": "code",
   "execution_count": 63,
   "id": "4dcdbf6f",
   "metadata": {},
   "outputs": [],
   "source": [
    "from sklearn.model_selection import train_test_split \n",
    "x_train, x_test, y_train, y_test = train_test_split(descriptive_features, target_feature, test_size=1/5, random_state=0)"
   ]
  },
  {
   "cell_type": "markdown",
   "id": "aa35075c",
   "metadata": {},
   "source": [
    "## Fitting RandomForestRegressor on training Data"
   ]
  },
  {
   "cell_type": "code",
   "execution_count": 64,
   "id": "766eff10",
   "metadata": {},
   "outputs": [
    {
     "name": "stderr",
     "output_type": "stream",
     "text": [
      "/var/folders/dk/9q84mn0j1nzfg85t9zx5d1480000gn/T/ipykernel_53582/2692314101.py:3: DataConversionWarning: A column-vector y was passed when a 1d array was expected. Please change the shape of y to (n_samples,), for example using ravel().\n",
      "  regressor.fit(x_train, y_train)\n"
     ]
    },
    {
     "data": {
      "text/plain": [
       "RandomForestRegressor()"
      ]
     },
     "execution_count": 64,
     "metadata": {},
     "output_type": "execute_result"
    }
   ],
   "source": [
    "# Fitting RandomForestRegressor to the Training set\n",
    "regressor = RandomForestRegressor(n_estimators=100)\n",
    "regressor.fit(x_train, y_train)"
   ]
  },
  {
   "cell_type": "markdown",
   "id": "d0aeb1ce",
   "metadata": {},
   "source": [
    "## Predicting test results"
   ]
  },
  {
   "cell_type": "code",
   "execution_count": 65,
   "id": "b97f1a23",
   "metadata": {},
   "outputs": [],
   "source": [
    "# Predicting the Test set results\n",
    "y_pred = regressor.predict(x_test)"
   ]
  },
  {
   "cell_type": "code",
   "execution_count": 66,
   "id": "54596995",
   "metadata": {},
   "outputs": [
    {
     "data": {
      "text/plain": [
       "array([ 44388.39      , 118552.71      ,  56845.98983333,  56607.8665    ,\n",
       "       111833.34      , 107646.45      ])"
      ]
     },
     "execution_count": 66,
     "metadata": {},
     "output_type": "execute_result"
    }
   ],
   "source": [
    "\n",
    "y_pred "
   ]
  },
  {
   "cell_type": "markdown",
   "metadata": {},
   "source": [
    "## Measure Accuracy"
   ]
  },
  {
   "cell_type": "code",
   "execution_count": 69,
   "metadata": {},
   "outputs": [
    {
     "data": {
      "text/plain": [
       "0.9796478131474032"
      ]
     },
     "execution_count": 69,
     "metadata": {},
     "output_type": "execute_result"
    }
   ],
   "source": [
    "# Measuring score\n",
    "import sklearn.metrics \n",
    "score = regressor.score(x_test,y_test)\n",
    "score"
   ]
  }
 ],
 "metadata": {
  "interpreter": {
   "hash": "1966dafd80ff2ad7b71103e2924f5fe8b232f86773653e465ec1741b67332d79"
  },
  "kernelspec": {
   "display_name": "Python 3.9.7 64-bit ('base': conda)",
   "language": "python",
   "name": "python3"
  },
  "language_info": {
   "codemirror_mode": {
    "name": "ipython",
    "version": 3
   },
   "file_extension": ".py",
   "mimetype": "text/x-python",
   "name": "python",
   "nbconvert_exporter": "python",
   "pygments_lexer": "ipython3",
   "version": "3.9.7"
  },
  "orig_nbformat": 4
 },
 "nbformat": 4,
 "nbformat_minor": 2
}
