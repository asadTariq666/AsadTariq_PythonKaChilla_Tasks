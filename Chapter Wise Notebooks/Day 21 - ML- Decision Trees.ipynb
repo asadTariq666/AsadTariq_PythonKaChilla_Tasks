{
 "cells": [
  {
   "cell_type": "markdown",
   "id": "69d452cf",
   "metadata": {},
   "source": [
    "# Day 21 - 06 - Machine Learning - Decision Tree"
   ]
  },
  {
   "cell_type": "markdown",
   "id": "f7c2effc",
   "metadata": {},
   "source": [
    "## Importing Libraries"
   ]
  },
  {
   "cell_type": "code",
   "execution_count": 1,
   "id": "451bb908",
   "metadata": {},
   "outputs": [],
   "source": [
    "# Importing Libraries\n",
    "import pandas as pd \n",
    "import numpy as np\n",
    "import seaborn as sns\n",
    "import matplotlib.pyplot as plt\n"
   ]
  },
  {
   "cell_type": "markdown",
   "id": "431125c2",
   "metadata": {},
   "source": [
    "## Importing data set"
   ]
  },
  {
   "cell_type": "code",
   "execution_count": 41,
   "id": "c65c5a5e",
   "metadata": {},
   "outputs": [
    {
     "name": "stdout",
     "output_type": "stream",
     "text": [
      "    age   height  weight  gender likeness\n",
      "0    27  170.688    76.0    Male  Biryani\n",
      "1    41  165.000    70.0    Male  Biryani\n",
      "2    29  171.000    80.0    Male  Biryani\n",
      "3    27  173.000   102.0    Male  Biryani\n",
      "4    29  164.000    67.0    Male  Biryani\n",
      "5    28  174.000    46.0  Female  Biryani\n",
      "6    27  151.000    64.3  Female  Biryani\n",
      "7    34  176.500    98.0    Male  Biryani\n",
      "8    32  181.000    87.5    Male  Biryani\n",
      "9    22  184.500    80.0    Male  Biryani\n",
      "10   29  163.500    65.0    Male   Pakora\n",
      "11   29  176.000    78.0    Male   Samosa\n",
      "12   23  178.000    62.0    Male   Samosa\n",
      "13   28  168.000    74.0    Male  Biryani\n",
      "14   25  165.000   102.0    Male  Biryani\n",
      "15   27  174.000    78.0    Male   Samosa\n",
      "16   33  162.000    93.0    Male  Biryani\n",
      "17   28  176.500    68.0    Male   Samosa\n",
      "18   21    5.600    71.5    Male  Biryani\n",
      "19   25  185.900   135.0    Male  Biryani\n"
     ]
    }
   ],
   "source": [
    "df = pd.read_csv('mldata_21.csv')\n",
    "print(df.head(20))"
   ]
  },
  {
   "cell_type": "markdown",
   "metadata": {},
   "source": [
    "## Converting Gender in to Numeric data"
   ]
  },
  {
   "cell_type": "code",
   "execution_count": 7,
   "metadata": {},
   "outputs": [
    {
     "data": {
      "text/plain": [
       "0      1\n",
       "1      1\n",
       "2      1\n",
       "3      1\n",
       "4      1\n",
       "      ..\n",
       "240    1\n",
       "241    1\n",
       "242    1\n",
       "243    1\n",
       "244    0\n",
       "Name: gender, Length: 245, dtype: int64"
      ]
     },
     "execution_count": 7,
     "metadata": {},
     "output_type": "execute_result"
    }
   ],
   "source": [
    "df['gender'] = df['gender'].replace('Male',1)\n",
    "df['gender'] = df['gender'].replace('Female',0)\n",
    "df['gender']"
   ]
  },
  {
   "cell_type": "markdown",
   "metadata": {},
   "source": [
    "## Making Descriptive and Target Features"
   ]
  },
  {
   "cell_type": "code",
   "execution_count": 9,
   "metadata": {},
   "outputs": [
    {
     "data": {
      "text/html": [
       "<div>\n",
       "<style scoped>\n",
       "    .dataframe tbody tr th:only-of-type {\n",
       "        vertical-align: middle;\n",
       "    }\n",
       "\n",
       "    .dataframe tbody tr th {\n",
       "        vertical-align: top;\n",
       "    }\n",
       "\n",
       "    .dataframe thead th {\n",
       "        text-align: right;\n",
       "    }\n",
       "</style>\n",
       "<table border=\"1\" class=\"dataframe\">\n",
       "  <thead>\n",
       "    <tr style=\"text-align: right;\">\n",
       "      <th></th>\n",
       "      <th>weight</th>\n",
       "      <th>gender</th>\n",
       "    </tr>\n",
       "  </thead>\n",
       "  <tbody>\n",
       "    <tr>\n",
       "      <th>0</th>\n",
       "      <td>76.0</td>\n",
       "      <td>1</td>\n",
       "    </tr>\n",
       "    <tr>\n",
       "      <th>1</th>\n",
       "      <td>70.0</td>\n",
       "      <td>1</td>\n",
       "    </tr>\n",
       "    <tr>\n",
       "      <th>2</th>\n",
       "      <td>80.0</td>\n",
       "      <td>1</td>\n",
       "    </tr>\n",
       "    <tr>\n",
       "      <th>3</th>\n",
       "      <td>102.0</td>\n",
       "      <td>1</td>\n",
       "    </tr>\n",
       "    <tr>\n",
       "      <th>4</th>\n",
       "      <td>67.0</td>\n",
       "      <td>1</td>\n",
       "    </tr>\n",
       "    <tr>\n",
       "      <th>...</th>\n",
       "      <td>...</td>\n",
       "      <td>...</td>\n",
       "    </tr>\n",
       "    <tr>\n",
       "      <th>240</th>\n",
       "      <td>60.0</td>\n",
       "      <td>1</td>\n",
       "    </tr>\n",
       "    <tr>\n",
       "      <th>241</th>\n",
       "      <td>70.0</td>\n",
       "      <td>1</td>\n",
       "    </tr>\n",
       "    <tr>\n",
       "      <th>242</th>\n",
       "      <td>80.0</td>\n",
       "      <td>1</td>\n",
       "    </tr>\n",
       "    <tr>\n",
       "      <th>243</th>\n",
       "      <td>65.0</td>\n",
       "      <td>1</td>\n",
       "    </tr>\n",
       "    <tr>\n",
       "      <th>244</th>\n",
       "      <td>56.0</td>\n",
       "      <td>0</td>\n",
       "    </tr>\n",
       "  </tbody>\n",
       "</table>\n",
       "<p>245 rows × 2 columns</p>\n",
       "</div>"
      ],
      "text/plain": [
       "     weight  gender\n",
       "0      76.0       1\n",
       "1      70.0       1\n",
       "2      80.0       1\n",
       "3     102.0       1\n",
       "4      67.0       1\n",
       "..      ...     ...\n",
       "240    60.0       1\n",
       "241    70.0       1\n",
       "242    80.0       1\n",
       "243    65.0       1\n",
       "244    56.0       0\n",
       "\n",
       "[245 rows x 2 columns]"
      ]
     },
     "execution_count": 9,
     "metadata": {},
     "output_type": "execute_result"
    }
   ],
   "source": [
    "descriptive_features = df[['weight','gender']]\n",
    "descriptive_features"
   ]
  },
  {
   "cell_type": "code",
   "execution_count": 11,
   "metadata": {},
   "outputs": [
    {
     "data": {
      "text/plain": [
       "0      Biryani\n",
       "1      Biryani\n",
       "2      Biryani\n",
       "3      Biryani\n",
       "4      Biryani\n",
       "        ...   \n",
       "240     Pakora\n",
       "241    Biryani\n",
       "242    Biryani\n",
       "243    Biryani\n",
       "244     Samosa\n",
       "Name: likeness, Length: 245, dtype: object"
      ]
     },
     "execution_count": 11,
     "metadata": {},
     "output_type": "execute_result"
    }
   ],
   "source": [
    "target_feature = df['likeness']\n",
    "target_feature"
   ]
  },
  {
   "cell_type": "markdown",
   "metadata": {},
   "source": [
    "## Importing Decision Tree library\n"
   ]
  },
  {
   "cell_type": "code",
   "execution_count": 12,
   "metadata": {},
   "outputs": [
    {
     "data": {
      "text/plain": [
       "DecisionTreeClassifier()"
      ]
     },
     "execution_count": 12,
     "metadata": {},
     "output_type": "execute_result"
    }
   ],
   "source": [
    "from sklearn.tree import DecisionTreeClassifier\n",
    "# Fitting Model\n",
    "classifier = DecisionTreeClassifier()\n",
    "classifier.fit(descriptive_features,target_feature)"
   ]
  },
  {
   "cell_type": "markdown",
   "metadata": {},
   "source": [
    "## Making prediction"
   ]
  },
  {
   "cell_type": "code",
   "execution_count": 13,
   "metadata": {},
   "outputs": [
    {
     "data": {
      "text/plain": [
       "array(['Biryani'], dtype=object)"
      ]
     },
     "execution_count": 13,
     "metadata": {},
     "output_type": "execute_result"
    }
   ],
   "source": [
    "classifier.predict([[23,0]])   # Female of weight 23"
   ]
  },
  {
   "cell_type": "markdown",
   "metadata": {},
   "source": [
    "## Splitting data in to Training and Test sets to measure accuracy"
   ]
  },
  {
   "cell_type": "code",
   "execution_count": 17,
   "metadata": {},
   "outputs": [],
   "source": [
    "# Splitting data\n",
    "from sklearn.model_selection import train_test_split \n",
    "x_train, x_test, y_train, y_test = train_test_split(descriptive_features, target_feature, test_size=1/5)"
   ]
  },
  {
   "cell_type": "code",
   "execution_count": 18,
   "metadata": {},
   "outputs": [
    {
     "data": {
      "text/plain": [
       "array(['Biryani', 'Biryani', 'Biryani', 'Biryani', 'Biryani', 'Biryani',\n",
       "       'Biryani', 'Biryani', 'Biryani', 'Biryani', 'Samosa', 'Biryani',\n",
       "       'Biryani', 'Biryani', 'Biryani', 'Biryani', 'Biryani', 'Biryani',\n",
       "       'Biryani', 'Biryani', 'Pakora', 'Biryani', 'Biryani', 'Biryani',\n",
       "       'Biryani', 'Biryani', 'Biryani', 'Biryani', 'Biryani', 'Biryani',\n",
       "       'Biryani', 'Biryani', 'Biryani', 'Biryani', 'Biryani', 'Biryani',\n",
       "       'Biryani', 'Biryani', 'Biryani', 'Biryani', 'Biryani', 'Biryani',\n",
       "       'Biryani', 'Biryani', 'Biryani', 'Biryani', 'Biryani', 'Biryani',\n",
       "       'Biryani'], dtype=object)"
      ]
     },
     "execution_count": 18,
     "metadata": {},
     "output_type": "execute_result"
    }
   ],
   "source": [
    "classifier = DecisionTreeClassifier()\n",
    "classifier.fit(x_train,y_train)\n",
    "predicted_values = classifier.predict(x_test)\n",
    "predicted_values"
   ]
  },
  {
   "cell_type": "markdown",
   "metadata": {},
   "source": [
    "## Measure Accuracy"
   ]
  },
  {
   "cell_type": "code",
   "execution_count": 19,
   "metadata": {},
   "outputs": [
    {
     "data": {
      "text/plain": [
       "0.6326530612244898"
      ]
     },
     "execution_count": 19,
     "metadata": {},
     "output_type": "execute_result"
    }
   ],
   "source": [
    "# Measuring score\n",
    "from sklearn.metrics import accuracy_score\n",
    "score = accuracy_score(y_test,predicted_values)\n",
    "score"
   ]
  },
  {
   "cell_type": "markdown",
   "metadata": {},
   "source": [
    "## Train and save your model to avoid training everytime\n"
   ]
  },
  {
   "cell_type": "code",
   "execution_count": 30,
   "metadata": {},
   "outputs": [
    {
     "data": {
      "text/plain": [
       "['foodie_asad.joblib']"
      ]
     },
     "execution_count": 30,
     "metadata": {},
     "output_type": "execute_result"
    }
   ],
   "source": [
    "import pandas as pd \n",
    "from sklearn.tree import DecisionTreeClassifier\n",
    "import joblib\n",
    "\n",
    "model = DecisionTreeClassifier()\n",
    "model.fit(descriptive_features,target_feature)\n",
    "joblib.dump(model, 'foodie_asad.joblib')"
   ]
  },
  {
   "cell_type": "markdown",
   "metadata": {},
   "source": [
    "## Import and Run saved Model"
   ]
  },
  {
   "cell_type": "code",
   "execution_count": 33,
   "metadata": {},
   "outputs": [
    {
     "data": {
      "text/plain": [
       "array(['Biryani', 'Biryani', 'Biryani', 'Biryani', 'Biryani', 'Biryani',\n",
       "       'Biryani', 'Biryani', 'Biryani', 'Biryani', 'Samosa', 'Biryani',\n",
       "       'Biryani', 'Biryani', 'Biryani', 'Samosa', 'Biryani', 'Biryani',\n",
       "       'Biryani', 'Biryani', 'Biryani', 'Biryani', 'Biryani', 'Biryani',\n",
       "       'Biryani', 'Biryani', 'Biryani', 'Biryani', 'Biryani', 'Biryani',\n",
       "       'Biryani', 'Biryani', 'Biryani', 'Biryani', 'Biryani', 'Biryani',\n",
       "       'Biryani', 'Biryani', 'Biryani', 'Biryani', 'Biryani', 'Biryani',\n",
       "       'Biryani', 'Biryani', 'Pakora', 'Biryani', 'Biryani', 'Biryani',\n",
       "       'Biryani'], dtype=object)"
      ]
     },
     "execution_count": 33,
     "metadata": {},
     "output_type": "execute_result"
    }
   ],
   "source": [
    "new_model = joblib.load('foodie_asad.joblib')\n",
    "predicted_values_new_model = new_model.predict(x_test)\n",
    "predicted_values_new_model"
   ]
  },
  {
   "cell_type": "markdown",
   "metadata": {},
   "source": [
    "## Visualizing Graph"
   ]
  },
  {
   "cell_type": "code",
   "execution_count": 35,
   "metadata": {},
   "outputs": [],
   "source": [
    "from sklearn import tree\n",
    "tree.export_graphviz(new_model, out_file='foodie.dot', feature_names=['age','gender'],\n",
    "                    class_names=sorted(target_feature.unique()),\n",
    "                    label= 'all', rounded=True, filled=True)"
   ]
  },
  {
   "cell_type": "markdown",
   "metadata": {},
   "source": [
    "## Making Descriptive and Target Features for complete Data set"
   ]
  },
  {
   "cell_type": "code",
   "execution_count": 36,
   "metadata": {},
   "outputs": [
    {
     "data": {
      "text/html": [
       "<div>\n",
       "<style scoped>\n",
       "    .dataframe tbody tr th:only-of-type {\n",
       "        vertical-align: middle;\n",
       "    }\n",
       "\n",
       "    .dataframe tbody tr th {\n",
       "        vertical-align: top;\n",
       "    }\n",
       "\n",
       "    .dataframe thead th {\n",
       "        text-align: right;\n",
       "    }\n",
       "</style>\n",
       "<table border=\"1\" class=\"dataframe\">\n",
       "  <thead>\n",
       "    <tr style=\"text-align: right;\">\n",
       "      <th></th>\n",
       "      <th>age</th>\n",
       "      <th>height</th>\n",
       "      <th>weight</th>\n",
       "      <th>gender</th>\n",
       "    </tr>\n",
       "  </thead>\n",
       "  <tbody>\n",
       "    <tr>\n",
       "      <th>0</th>\n",
       "      <td>27</td>\n",
       "      <td>170.688</td>\n",
       "      <td>76.0</td>\n",
       "      <td>1</td>\n",
       "    </tr>\n",
       "    <tr>\n",
       "      <th>1</th>\n",
       "      <td>41</td>\n",
       "      <td>165.000</td>\n",
       "      <td>70.0</td>\n",
       "      <td>1</td>\n",
       "    </tr>\n",
       "    <tr>\n",
       "      <th>2</th>\n",
       "      <td>29</td>\n",
       "      <td>171.000</td>\n",
       "      <td>80.0</td>\n",
       "      <td>1</td>\n",
       "    </tr>\n",
       "    <tr>\n",
       "      <th>3</th>\n",
       "      <td>27</td>\n",
       "      <td>173.000</td>\n",
       "      <td>102.0</td>\n",
       "      <td>1</td>\n",
       "    </tr>\n",
       "    <tr>\n",
       "      <th>4</th>\n",
       "      <td>29</td>\n",
       "      <td>164.000</td>\n",
       "      <td>67.0</td>\n",
       "      <td>1</td>\n",
       "    </tr>\n",
       "    <tr>\n",
       "      <th>...</th>\n",
       "      <td>...</td>\n",
       "      <td>...</td>\n",
       "      <td>...</td>\n",
       "      <td>...</td>\n",
       "    </tr>\n",
       "    <tr>\n",
       "      <th>240</th>\n",
       "      <td>31</td>\n",
       "      <td>160.000</td>\n",
       "      <td>60.0</td>\n",
       "      <td>1</td>\n",
       "    </tr>\n",
       "    <tr>\n",
       "      <th>241</th>\n",
       "      <td>26</td>\n",
       "      <td>172.000</td>\n",
       "      <td>70.0</td>\n",
       "      <td>1</td>\n",
       "    </tr>\n",
       "    <tr>\n",
       "      <th>242</th>\n",
       "      <td>40</td>\n",
       "      <td>178.000</td>\n",
       "      <td>80.0</td>\n",
       "      <td>1</td>\n",
       "    </tr>\n",
       "    <tr>\n",
       "      <th>243</th>\n",
       "      <td>25</td>\n",
       "      <td>5.700</td>\n",
       "      <td>65.0</td>\n",
       "      <td>1</td>\n",
       "    </tr>\n",
       "    <tr>\n",
       "      <th>244</th>\n",
       "      <td>33</td>\n",
       "      <td>157.000</td>\n",
       "      <td>56.0</td>\n",
       "      <td>0</td>\n",
       "    </tr>\n",
       "  </tbody>\n",
       "</table>\n",
       "<p>245 rows × 4 columns</p>\n",
       "</div>"
      ],
      "text/plain": [
       "     age   height  weight  gender\n",
       "0     27  170.688    76.0       1\n",
       "1     41  165.000    70.0       1\n",
       "2     29  171.000    80.0       1\n",
       "3     27  173.000   102.0       1\n",
       "4     29  164.000    67.0       1\n",
       "..   ...      ...     ...     ...\n",
       "240   31  160.000    60.0       1\n",
       "241   26  172.000    70.0       1\n",
       "242   40  178.000    80.0       1\n",
       "243   25    5.700    65.0       1\n",
       "244   33  157.000    56.0       0\n",
       "\n",
       "[245 rows x 4 columns]"
      ]
     },
     "execution_count": 36,
     "metadata": {},
     "output_type": "execute_result"
    }
   ],
   "source": [
    "descriptive_features = df[['age','height','weight','gender']]\n",
    "descriptive_features"
   ]
  },
  {
   "cell_type": "code",
   "execution_count": 37,
   "metadata": {},
   "outputs": [
    {
     "data": {
      "text/plain": [
       "0      Biryani\n",
       "1      Biryani\n",
       "2      Biryani\n",
       "3      Biryani\n",
       "4      Biryani\n",
       "        ...   \n",
       "240     Pakora\n",
       "241    Biryani\n",
       "242    Biryani\n",
       "243    Biryani\n",
       "244     Samosa\n",
       "Name: likeness, Length: 245, dtype: object"
      ]
     },
     "execution_count": 37,
     "metadata": {},
     "output_type": "execute_result"
    }
   ],
   "source": [
    "target_feature = df['likeness']\n",
    "target_feature"
   ]
  },
  {
   "cell_type": "markdown",
   "metadata": {},
   "source": [
    "## Making and Fitting Model\n"
   ]
  },
  {
   "cell_type": "code",
   "execution_count": 38,
   "metadata": {},
   "outputs": [
    {
     "data": {
      "text/plain": [
       "DecisionTreeClassifier()"
      ]
     },
     "execution_count": 38,
     "metadata": {},
     "output_type": "execute_result"
    }
   ],
   "source": [
    "\n",
    "# Fitting Model\n",
    "classifier_complete = DecisionTreeClassifier()\n",
    "classifier_complete.fit(descriptive_features,target_feature)"
   ]
  },
  {
   "cell_type": "markdown",
   "metadata": {},
   "source": [
    "## Making prediction"
   ]
  },
  {
   "cell_type": "code",
   "execution_count": 45,
   "metadata": {},
   "outputs": [
    {
     "name": "stdout",
     "output_type": "stream",
     "text": [
      "['Samosa']\n",
      "['Pakora']\n",
      "['Biryani']\n"
     ]
    }
   ],
   "source": [
    "print(classifier_complete.predict([[33,157,56,0]]))   # Female of age 33, height=156 and weight = 55kg\n",
    "print(classifier_complete.predict([[29,163,65,1]]))  # Male of age 29, height 163 and weight =65kg\n",
    "print(classifier_complete.predict([[27,170,76,1]]))   # Male of age 27, height 170 and weight =76kg"
   ]
  }
 ],
 "metadata": {
  "interpreter": {
   "hash": "1966dafd80ff2ad7b71103e2924f5fe8b232f86773653e465ec1741b67332d79"
  },
  "kernelspec": {
   "display_name": "Python 3.9.7 64-bit ('base': conda)",
   "language": "python",
   "name": "python3"
  },
  "language_info": {
   "codemirror_mode": {
    "name": "ipython",
    "version": 3
   },
   "file_extension": ".py",
   "mimetype": "text/x-python",
   "name": "python",
   "nbconvert_exporter": "python",
   "pygments_lexer": "ipython3",
   "version": "3.9.7"
  },
  "orig_nbformat": 4
 },
 "nbformat": 4,
 "nbformat_minor": 2
}
