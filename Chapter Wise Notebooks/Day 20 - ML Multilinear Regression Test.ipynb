{
 "cells": [
  {
   "cell_type": "code",
   "execution_count": 2,
   "id": "451bb908",
   "metadata": {},
   "outputs": [],
   "source": [
    "# Importing Libraries\n",
    "import pandas as pd \n",
    "import numpy as np\n",
    "import seaborn as sns\n",
    "import matplotlib.pyplot as plt\n"
   ]
  },
  {
   "cell_type": "markdown",
   "id": "431125c2",
   "metadata": {},
   "source": [
    "## Importing data set"
   ]
  },
  {
   "cell_type": "code",
   "execution_count": 3,
   "id": "c65c5a5e",
   "metadata": {},
   "outputs": [
    {
     "name": "stdout",
     "output_type": "stream",
     "text": [
      "     age  distance  YearsExperience  Salary\n",
      "0   31.1     77.75              1.1   39343\n",
      "1   31.3     78.25              1.3   46205\n",
      "2   31.5     78.75              1.5   37731\n",
      "3   32.0     80.00              2.0   43525\n",
      "4   32.2     80.50              2.2   39891\n",
      "5   32.9     82.25              2.9   56642\n",
      "6   33.0     82.50              3.0   60150\n",
      "7   33.2     83.00              3.2   54445\n",
      "8   33.2     83.00              3.2   64445\n",
      "9   33.7     84.25              3.7   57189\n",
      "10  33.9     84.75              3.9   63218\n",
      "11  34.0     85.00              4.0   55794\n",
      "12  34.0     85.00              4.0   56957\n",
      "13  34.1     85.25              4.1   57081\n",
      "14  34.5     86.25              4.5   61111\n",
      "15  34.9     87.25              4.9   67938\n",
      "16  35.1     87.75              5.1   66029\n",
      "17  35.3     88.25              5.3   83088\n",
      "18  35.9     89.75              5.9   81363\n",
      "19  36.0     90.00              6.0   93940\n",
      "20  36.8     92.00              6.8   91738\n",
      "21  37.1     92.75              7.1   98273\n",
      "22  37.9     94.75              7.9  101302\n",
      "23  38.2     95.50              8.2  113812\n",
      "24  38.7     96.75              8.7  109431\n",
      "25  39.0     97.50              9.0  105582\n",
      "26  39.5     98.75              9.5  116969\n",
      "27  39.6     99.00              9.6  112635\n",
      "28  40.3    100.75             10.3  122391\n",
      "29  40.5    101.25             10.5  121872\n"
     ]
    }
   ],
   "source": [
    "df = pd.read_csv('ml_data_salary.csv')\n",
    "print(df.head(30))"
   ]
  },
  {
   "cell_type": "code",
   "execution_count": 4,
   "id": "1fd96f7d",
   "metadata": {},
   "outputs": [
    {
     "data": {
      "text/plain": [
       "(    age  distance  YearsExperience\n",
       " 0  31.1     77.75              1.1\n",
       " 1  31.3     78.25              1.3\n",
       " 2  31.5     78.75              1.5\n",
       " 3  32.0     80.00              2.0\n",
       " 4  32.2     80.50              2.2,\n",
       "    Salary\n",
       " 0   39343\n",
       " 1   46205\n",
       " 2   37731\n",
       " 3   43525\n",
       " 4   39891)"
      ]
     },
     "execution_count": 4,
     "metadata": {},
     "output_type": "execute_result"
    }
   ],
   "source": [
    "descriptive_features = df[['age','distance','YearsExperience']]\n",
    "target_feature = df[['Salary']]\n",
    "descriptive_features.head(), target_feature.head()"
   ]
  },
  {
   "cell_type": "markdown",
   "id": "04e19a9a",
   "metadata": {},
   "source": [
    "## Importing Linear regression and efficiency measures from sklearn "
   ]
  },
  {
   "cell_type": "code",
   "execution_count": 16,
   "id": "1e2bb22f",
   "metadata": {},
   "outputs": [],
   "source": [
    "# Importing Linear regression from sklearn \n",
    "from sklearn.linear_model import Ridge\n",
    "from sklearn.metrics import mean_squared_error, mean_absolute_error"
   ]
  },
  {
   "cell_type": "markdown",
   "id": "7c42c7b5",
   "metadata": {},
   "source": [
    "## Fitting Multiple Linear Regression to the data set"
   ]
  },
  {
   "cell_type": "code",
   "execution_count": 6,
   "id": "0c103105",
   "metadata": {},
   "outputs": [
    {
     "data": {
      "text/plain": [
       "Ridge()"
      ]
     },
     "execution_count": 6,
     "metadata": {},
     "output_type": "execute_result"
    }
   ],
   "source": [
    "# Fitting Multiple Linear Regression to the data set\n",
    "from sklearn.linear_model import Ridge\n",
    "regressor = Ridge()\n",
    "regressor.fit(descriptive_features, target_feature)"
   ]
  },
  {
   "cell_type": "markdown",
   "id": "0a4624e3",
   "metadata": {},
   "source": [
    "## Predicting  results"
   ]
  },
  {
   "cell_type": "code",
   "execution_count": 9,
   "id": "5be5e144",
   "metadata": {},
   "outputs": [
    {
     "data": {
      "text/plain": [
       "array([[ 36207.81198614],\n",
       "       [ 38096.82407541],\n",
       "       [ 39985.83616467],\n",
       "       [ 44708.36638784],\n",
       "       [ 46597.3784771 ],\n",
       "       [ 53208.92078953],\n",
       "       [ 54153.42683416],\n",
       "       [ 56042.43892343],\n",
       "       [ 56042.43892343],\n",
       "       [ 60764.96914659],\n",
       "       [ 62653.98123586],\n",
       "       [ 63598.48728049],\n",
       "       [ 63598.48728049],\n",
       "       [ 64542.99332512],\n",
       "       [ 68321.01750365],\n",
       "       [ 72099.04168219],\n",
       "       [ 73988.05377145],\n",
       "       [ 75877.06586072],\n",
       "       [ 81544.10212851],\n",
       "       [ 82488.60817314],\n",
       "       [ 90044.65653021],\n",
       "       [ 92878.1746641 ],\n",
       "       [100434.22302116],\n",
       "       [103267.74115506],\n",
       "       [107990.27137823],\n",
       "       [110823.78951212],\n",
       "       [115546.31973529],\n",
       "       [116490.82577992],\n",
       "       [123102.36809235],\n",
       "       [124991.38018161]])"
      ]
     },
     "execution_count": 9,
     "metadata": {},
     "output_type": "execute_result"
    }
   ],
   "source": [
    "# Predicting the Test set results\n",
    "y_pred = regressor.predict(descriptive_features)\n",
    "y_pred"
   ]
  },
  {
   "cell_type": "markdown",
   "id": "b941603f",
   "metadata": {},
   "source": [
    "## Score of model"
   ]
  },
  {
   "cell_type": "code",
   "execution_count": 10,
   "id": "39d7d5c1",
   "metadata": {},
   "outputs": [
    {
     "data": {
      "text/plain": [
       "0.9569564066557392"
      ]
     },
     "execution_count": 10,
     "metadata": {},
     "output_type": "execute_result"
    }
   ],
   "source": [
    "regressor.score(descriptive_features,target_feature)"
   ]
  },
  {
   "cell_type": "markdown",
   "id": "4561dde2",
   "metadata": {},
   "source": [
    "## Evaluation by Mean Squared Error"
   ]
  },
  {
   "cell_type": "code",
   "execution_count": 14,
   "id": "403cbab9",
   "metadata": {},
   "outputs": [
    {
     "name": "stdout",
     "output_type": "stream",
     "text": [
      "Mean squared error model 1: 31271138.79\n",
      "Mean Absolute error model 1: 4644.37\n"
     ]
    }
   ],
   "source": [
    "## Evaluation by Mean Squared Error\n",
    "#computing the squared error of the first model\n",
    "print(\"Mean squared error model 1: %.2f\" % mean_squared_error(target_feature, y_pred))\n",
    "print(\"Mean Absolute error model 1: %.2f\" % mean_absolute_error(target_feature, y_pred))"
   ]
  },
  {
   "cell_type": "markdown",
   "id": "71192c2b",
   "metadata": {},
   "source": [
    "## Coefficient and Intercept"
   ]
  },
  {
   "cell_type": "code",
   "execution_count": 12,
   "id": "bf87d038",
   "metadata": {},
   "outputs": [
    {
     "name": "stdout",
     "output_type": "stream",
     "text": [
      "Coefficients: \n",
      " [[1144.85581168 2862.13952919 1144.85581168]]\n",
      "Intercept: \n",
      " [-223187.89354436]\n"
     ]
    }
   ],
   "source": [
    "\n",
    "#print coefficient and intercept\n",
    "print('Coefficients: \\n', regressor.coef_)\n",
    "print('Intercept: \\n', regressor.intercept_)"
   ]
  },
  {
   "cell_type": "code",
   "execution_count": 15,
   "metadata": {},
   "outputs": [
    {
     "data": {
      "text/plain": [
       "array([[36293.67617202]])"
      ]
     },
     "execution_count": 15,
     "metadata": {},
     "output_type": "execute_result"
    }
   ],
   "source": [
    "# Predicting the Test set results\n",
    "y_pred2 = regressor.predict([[31.1,77.70,1.3]])\n",
    "y_pred2"
   ]
  }
 ],
 "metadata": {
  "interpreter": {
   "hash": "1966dafd80ff2ad7b71103e2924f5fe8b232f86773653e465ec1741b67332d79"
  },
  "kernelspec": {
   "display_name": "Python 3.9.7 64-bit ('base': conda)",
   "language": "python",
   "name": "python3"
  },
  "language_info": {
   "codemirror_mode": {
    "name": "ipython",
    "version": 3
   },
   "file_extension": ".py",
   "mimetype": "text/x-python",
   "name": "python",
   "nbconvert_exporter": "python",
   "pygments_lexer": "ipython3",
   "version": "3.9.7"
  },
  "orig_nbformat": 4
 },
 "nbformat": 4,
 "nbformat_minor": 2
}
