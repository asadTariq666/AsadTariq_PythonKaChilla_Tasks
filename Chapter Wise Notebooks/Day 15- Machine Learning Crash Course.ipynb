{
 "cells": [
  {
   "cell_type": "markdown",
   "metadata": {},
   "source": [
    "# Day 15 - Machine Learning Crash Course"
   ]
  },
  {
   "cell_type": "markdown",
   "metadata": {},
   "source": [
    "## sklearn for Machine learning"
   ]
  },
  {
   "cell_type": "markdown",
   "metadata": {},
   "source": [
    "## Importing Libraries"
   ]
  },
  {
   "cell_type": "code",
   "execution_count": 74,
   "metadata": {},
   "outputs": [],
   "source": [
    "import pandas as pd \n",
    "import numpy as np\n",
    "import seaborn as sns\n",
    "import matplotlib.pyplot as plt\n"
   ]
  },
  {
   "cell_type": "code",
   "execution_count": 75,
   "metadata": {},
   "outputs": [],
   "source": [
    "# Importing Linear regression from sklearn \n",
    "from sklearn.linear_model import LinearRegression\n",
    "from sklearn.metrics import mean_squared_error, mean_absolute_error"
   ]
  },
  {
   "cell_type": "code",
   "execution_count": 76,
   "metadata": {},
   "outputs": [
    {
     "name": "stdout",
     "output_type": "stream",
     "text": [
      "   age  weight  gender likeness  height\n",
      "0   20    26.0  Female  Biryani  140.00\n",
      "1   31    40.0  Female  Biryani  148.00\n",
      "2   21    45.0  Female  Biryani  165.10\n",
      "3   24    45.0  Female   Pakora  170.77\n",
      "4   27    46.0  Female  Biryani  170.00\n"
     ]
    }
   ],
   "source": [
    "\n",
    "df = pd.read_csv('mldata.csv')\n",
    "print(df.head())"
   ]
  },
  {
   "cell_type": "markdown",
   "metadata": {},
   "source": [
    "## Visualize data for better understanding\n",
    "Relation between age and Height"
   ]
  },
  {
   "cell_type": "code",
   "execution_count": 86,
   "metadata": {},
   "outputs": [
    {
     "data": {
      "image/png": "[encoded data removed]",
      "text/plain": [
       "<Figure size 432x288 with 1 Axes>"
      ]
     },
     "metadata": {
      "needs_background": "light"
     },
     "output_type": "display_data"
    }
   ],
   "source": [
    "x=df['weight']\n",
    "y=df['height']\n",
    "\n",
    "\n",
    "plt.scatter(x,y, color = \"red\", marker = \"o\", s = 20)\n",
    "plt.xlabel('x') \n",
    "plt.ylabel('y')\n",
    "plt.title('first overview of the data')\n",
    "plt.show()"
   ]
  },
  {
   "cell_type": "markdown",
   "metadata": {},
   "source": [
    "## Find Correlation to get analyze data with maximum Confidence"
   ]
  },
  {
   "cell_type": "code",
   "execution_count": 102,
   "metadata": {},
   "outputs": [
    {
     "data": {
      "text/html": [
       "<div>\n",
       "<style scoped>\n",
       "    .dataframe tbody tr th:only-of-type {\n",
       "        vertical-align: middle;\n",
       "    }\n",
       "\n",
       "    .dataframe tbody tr th {\n",
       "        vertical-align: top;\n",
       "    }\n",
       "\n",
       "    .dataframe thead th {\n",
       "        text-align: right;\n",
       "    }\n",
       "</style>\n",
       "<table border=\"1\" class=\"dataframe\">\n",
       "  <thead>\n",
       "    <tr style=\"text-align: right;\">\n",
       "      <th></th>\n",
       "      <th>age</th>\n",
       "      <th>weight</th>\n",
       "      <th>height</th>\n",
       "    </tr>\n",
       "  </thead>\n",
       "  <tbody>\n",
       "    <tr>\n",
       "      <th>age</th>\n",
       "      <td>1.000000</td>\n",
       "      <td>0.256563</td>\n",
       "      <td>0.005235</td>\n",
       "    </tr>\n",
       "    <tr>\n",
       "      <th>weight</th>\n",
       "      <td>0.256563</td>\n",
       "      <td>1.000000</td>\n",
       "      <td>0.394259</td>\n",
       "    </tr>\n",
       "    <tr>\n",
       "      <th>height</th>\n",
       "      <td>0.005235</td>\n",
       "      <td>0.394259</td>\n",
       "      <td>1.000000</td>\n",
       "    </tr>\n",
       "  </tbody>\n",
       "</table>\n",
       "</div>"
      ],
      "text/plain": [
       "             age    weight    height\n",
       "age     1.000000  0.256563  0.005235\n",
       "weight  0.256563  1.000000  0.394259\n",
       "height  0.005235  0.394259  1.000000"
      ]
     },
     "execution_count": 102,
     "metadata": {},
     "output_type": "execute_result"
    }
   ],
   "source": [
    "cor1 = df.corr()\n",
    "cor1"
   ]
  },
  {
   "cell_type": "markdown",
   "metadata": {},
   "source": [
    "### As Confidence between Weight and Height is greater than others, we will analyze these 2 variables"
   ]
  },
  {
   "cell_type": "code",
   "execution_count": 87,
   "metadata": {},
   "outputs": [
    {
     "data": {
      "text/html": [
       "<div>\n",
       "<style scoped>\n",
       "    .dataframe tbody tr th:only-of-type {\n",
       "        vertical-align: middle;\n",
       "    }\n",
       "\n",
       "    .dataframe tbody tr th {\n",
       "        vertical-align: top;\n",
       "    }\n",
       "\n",
       "    .dataframe thead th {\n",
       "        text-align: right;\n",
       "    }\n",
       "</style>\n",
       "<table border=\"1\" class=\"dataframe\">\n",
       "  <thead>\n",
       "    <tr style=\"text-align: right;\">\n",
       "      <th></th>\n",
       "      <th>weight</th>\n",
       "      <th>height</th>\n",
       "    </tr>\n",
       "  </thead>\n",
       "  <tbody>\n",
       "    <tr>\n",
       "      <th>0</th>\n",
       "      <td>26.0</td>\n",
       "      <td>140.00</td>\n",
       "    </tr>\n",
       "    <tr>\n",
       "      <th>1</th>\n",
       "      <td>40.0</td>\n",
       "      <td>148.00</td>\n",
       "    </tr>\n",
       "    <tr>\n",
       "      <th>2</th>\n",
       "      <td>45.0</td>\n",
       "      <td>165.10</td>\n",
       "    </tr>\n",
       "    <tr>\n",
       "      <th>3</th>\n",
       "      <td>45.0</td>\n",
       "      <td>170.77</td>\n",
       "    </tr>\n",
       "    <tr>\n",
       "      <th>4</th>\n",
       "      <td>46.0</td>\n",
       "      <td>170.00</td>\n",
       "    </tr>\n",
       "  </tbody>\n",
       "</table>\n",
       "</div>"
      ],
      "text/plain": [
       "   weight  height\n",
       "0    26.0  140.00\n",
       "1    40.0  148.00\n",
       "2    45.0  165.10\n",
       "3    45.0  170.77\n",
       "4    46.0  170.00"
      ]
     },
     "execution_count": 87,
     "metadata": {},
     "output_type": "execute_result"
    }
   ],
   "source": [
    "# taking useful data i.e weight and height\n",
    "data = df[['weight','height']]\n",
    "data.head()\n"
   ]
  },
  {
   "cell_type": "markdown",
   "metadata": {},
   "source": [
    "## Setting descriptive and target features"
   ]
  },
  {
   "cell_type": "code",
   "execution_count": 89,
   "metadata": {},
   "outputs": [],
   "source": [
    "#define the set of descriptive features (in this case only 'x' is in that set) and the target feature (in this case 'y')\n",
    "descriptiveFeatures = data[['weight']] #get a copy of dataset excluding last column\n",
    "targetFeature = data[['height']] #get array of dataset in column 1st"
   ]
  },
  {
   "cell_type": "code",
   "execution_count": 90,
   "metadata": {},
   "outputs": [
    {
     "data": {
      "text/html": [
       "<div>\n",
       "<style scoped>\n",
       "    .dataframe tbody tr th:only-of-type {\n",
       "        vertical-align: middle;\n",
       "    }\n",
       "\n",
       "    .dataframe tbody tr th {\n",
       "        vertical-align: top;\n",
       "    }\n",
       "\n",
       "    .dataframe thead th {\n",
       "        text-align: right;\n",
       "    }\n",
       "</style>\n",
       "<table border=\"1\" class=\"dataframe\">\n",
       "  <thead>\n",
       "    <tr style=\"text-align: right;\">\n",
       "      <th></th>\n",
       "      <th>weight</th>\n",
       "    </tr>\n",
       "  </thead>\n",
       "  <tbody>\n",
       "    <tr>\n",
       "      <th>0</th>\n",
       "      <td>26.0</td>\n",
       "    </tr>\n",
       "    <tr>\n",
       "      <th>1</th>\n",
       "      <td>40.0</td>\n",
       "    </tr>\n",
       "    <tr>\n",
       "      <th>2</th>\n",
       "      <td>45.0</td>\n",
       "    </tr>\n",
       "    <tr>\n",
       "      <th>3</th>\n",
       "      <td>45.0</td>\n",
       "    </tr>\n",
       "    <tr>\n",
       "      <th>4</th>\n",
       "      <td>46.0</td>\n",
       "    </tr>\n",
       "    <tr>\n",
       "      <th>...</th>\n",
       "      <td>...</td>\n",
       "    </tr>\n",
       "    <tr>\n",
       "      <th>200</th>\n",
       "      <td>102.0</td>\n",
       "    </tr>\n",
       "    <tr>\n",
       "      <th>201</th>\n",
       "      <td>102.3</td>\n",
       "    </tr>\n",
       "    <tr>\n",
       "      <th>202</th>\n",
       "      <td>130.0</td>\n",
       "    </tr>\n",
       "    <tr>\n",
       "      <th>203</th>\n",
       "      <td>135.0</td>\n",
       "    </tr>\n",
       "    <tr>\n",
       "      <th>204</th>\n",
       "      <td>161.0</td>\n",
       "    </tr>\n",
       "  </tbody>\n",
       "</table>\n",
       "<p>205 rows × 1 columns</p>\n",
       "</div>"
      ],
      "text/plain": [
       "     weight\n",
       "0      26.0\n",
       "1      40.0\n",
       "2      45.0\n",
       "3      45.0\n",
       "4      46.0\n",
       "..      ...\n",
       "200   102.0\n",
       "201   102.3\n",
       "202   130.0\n",
       "203   135.0\n",
       "204   161.0\n",
       "\n",
       "[205 rows x 1 columns]"
      ]
     },
     "execution_count": 90,
     "metadata": {},
     "output_type": "execute_result"
    }
   ],
   "source": [
    "descriptiveFeatures"
   ]
  },
  {
   "cell_type": "markdown",
   "metadata": {},
   "source": [
    "## Make Linear regression Classifier"
   ]
  },
  {
   "cell_type": "code",
   "execution_count": 91,
   "metadata": {},
   "outputs": [],
   "source": [
    "\n",
    "#define the classifier\n",
    "classifier = LinearRegression()\n",
    "#train the classifier\n",
    "model1 = classifier.fit(descriptiveFeatures, targetFeature)"
   ]
  },
  {
   "cell_type": "markdown",
   "metadata": {},
   "source": [
    "## Making Prediction on the same training set"
   ]
  },
  {
   "cell_type": "code",
   "execution_count": 116,
   "metadata": {},
   "outputs": [
    {
     "name": "stdout",
     "output_type": "stream",
     "text": [
      "[[160.15870762]\n",
      " [163.30050689]\n",
      " [164.42257806]\n",
      " [164.42257806]\n",
      " [164.64699229]\n",
      " [164.64699229]\n",
      " [164.64699229]\n",
      " [164.80408226]\n",
      " [164.87140653]\n",
      " [165.09582076]\n",
      " [165.54464923]\n",
      " [165.54464923]\n",
      " [165.54464923]\n",
      " [165.54464923]\n",
      " [165.54464923]\n",
      " [165.74662204]\n",
      " [165.76906346]\n",
      " [165.9934777 ]\n",
      " [165.9934777 ]\n",
      " [166.21789193]\n",
      " [166.21789193]\n",
      " [166.44230616]\n",
      " [166.44230616]\n",
      " [166.44230616]\n",
      " [166.6667204 ]\n",
      " [166.6667204 ]\n",
      " [166.6667204 ]\n",
      " [166.6667204 ]\n",
      " [166.6667204 ]\n",
      " [166.6667204 ]\n",
      " [166.71160324]\n",
      " [166.77892751]\n",
      " [166.80136894]\n",
      " [166.89113463]\n",
      " [166.89113463]\n",
      " [167.11554887]\n",
      " [167.11554887]\n",
      " [167.11554887]\n",
      " [167.3399631 ]\n",
      " [167.3399631 ]\n",
      " [167.3399631 ]\n",
      " [167.56437733]\n",
      " [167.56437733]\n",
      " [167.56437733]\n",
      " [167.56437733]\n",
      " [167.78879157]\n",
      " [167.78879157]\n",
      " [167.78879157]\n",
      " [167.78879157]\n",
      " [167.78879157]\n",
      " [167.78879157]\n",
      " [167.78879157]\n",
      " [167.78879157]\n",
      " [167.78879157]\n",
      " [168.12541292]\n",
      " [168.23762003]\n",
      " [168.23762003]\n",
      " [168.23762003]\n",
      " [168.23762003]\n",
      " [168.23762003]\n",
      " [168.23762003]\n",
      " [168.23762003]\n",
      " [168.23762003]\n",
      " [168.23762003]\n",
      " [168.46203427]\n",
      " [168.46203427]\n",
      " [168.46203427]\n",
      " [168.6864485 ]\n",
      " [168.6864485 ]\n",
      " [168.6864485 ]\n",
      " [168.6864485 ]\n",
      " [168.6864485 ]\n",
      " [168.75377277]\n",
      " [168.91086274]\n",
      " [168.91086274]\n",
      " [168.91086274]\n",
      " [168.91086274]\n",
      " [168.91086274]\n",
      " [168.91086274]\n",
      " [168.91086274]\n",
      " [168.91086274]\n",
      " [168.91086274]\n",
      " [169.13527697]\n",
      " [169.13527697]\n",
      " [169.3596912 ]\n",
      " [169.3596912 ]\n",
      " [169.3596912 ]\n",
      " [169.3596912 ]\n",
      " [169.58410544]\n",
      " [169.58410544]\n",
      " [169.58410544]\n",
      " [169.58410544]\n",
      " [169.58410544]\n",
      " [169.69631255]\n",
      " [170.0329339 ]\n",
      " [170.0329339 ]\n",
      " [170.0329339 ]\n",
      " [170.0329339 ]\n",
      " [170.0329339 ]\n",
      " [170.0329339 ]\n",
      " [170.0329339 ]\n",
      " [170.0329339 ]\n",
      " [170.0329339 ]\n",
      " [170.25734814]\n",
      " [170.25734814]\n",
      " [170.25734814]\n",
      " [170.48176237]\n",
      " [170.52664522]\n",
      " [170.59396949]\n",
      " [170.70617661]\n",
      " [170.88570799]\n",
      " [170.93059084]\n",
      " [170.93059084]\n",
      " [170.93059084]\n",
      " [170.93059084]\n",
      " [170.93059084]\n",
      " [170.93059084]\n",
      " [171.15500507]\n",
      " [171.15500507]\n",
      " [171.15500507]\n",
      " [171.15500507]\n",
      " [171.15500507]\n",
      " [171.15500507]\n",
      " [171.15500507]\n",
      " [171.15500507]\n",
      " [171.15500507]\n",
      " [171.15500507]\n",
      " [171.37941931]\n",
      " [171.37941931]\n",
      " [171.37941931]\n",
      " [171.37941931]\n",
      " [171.60383354]\n",
      " [171.60383354]\n",
      " [171.60383354]\n",
      " [171.82824777]\n",
      " [171.82824777]\n",
      " [171.82824777]\n",
      " [171.82824777]\n",
      " [171.82824777]\n",
      " [171.82824777]\n",
      " [171.82824777]\n",
      " [171.82824777]\n",
      " [172.05266201]\n",
      " [172.05266201]\n",
      " [172.27707624]\n",
      " [172.27707624]\n",
      " [172.27707624]\n",
      " [172.27707624]\n",
      " [172.27707624]\n",
      " [172.27707624]\n",
      " [172.50149048]\n",
      " [172.61369759]\n",
      " [172.72590471]\n",
      " [172.72590471]\n",
      " [172.72590471]\n",
      " [172.72590471]\n",
      " [172.72590471]\n",
      " [172.88748296]\n",
      " [172.95031894]\n",
      " [173.17473318]\n",
      " [173.17473318]\n",
      " [173.17473318]\n",
      " [173.28694029]\n",
      " [173.39914741]\n",
      " [173.39914741]\n",
      " [173.39914741]\n",
      " [173.39914741]\n",
      " [173.39914741]\n",
      " [173.39914741]\n",
      " [173.39914741]\n",
      " [173.62356164]\n",
      " [173.62356164]\n",
      " [173.62356164]\n",
      " [173.62356164]\n",
      " [173.62356164]\n",
      " [173.62356164]\n",
      " [173.62356164]\n",
      " [173.84797588]\n",
      " [173.96018299]\n",
      " [174.07239011]\n",
      " [174.07239011]\n",
      " [174.07239011]\n",
      " [174.07239011]\n",
      " [174.11727296]\n",
      " [174.52121858]\n",
      " [174.52121858]\n",
      " [174.52121858]\n",
      " [174.52121858]\n",
      " [174.52121858]\n",
      " [175.19446128]\n",
      " [175.19446128]\n",
      " [175.19446128]\n",
      " [175.86770398]\n",
      " [175.86770398]\n",
      " [176.09211822]\n",
      " [176.31653245]\n",
      " [176.31653245]\n",
      " [176.98977515]\n",
      " [177.21418938]\n",
      " [177.21418938]\n",
      " [177.21418938]\n",
      " [177.28151365]\n",
      " [183.49778793]\n",
      " [184.6198591 ]\n",
      " [190.45462918]]\n",
      "Coefficients: \n",
      " [[0.22441423]]\n",
      "Intercept: \n",
      " [154.32393754]\n"
     ]
    }
   ],
   "source": [
    "#use the classifier to make prediction\n",
    "targetFeature_predict = classifier.predict(descriptiveFeatures)\n",
    "print(targetFeature_predict)\n",
    "#print coefficient and intercept\n",
    "print('Coefficients: \\n', classifier.coef_)\n",
    "print('Intercept: \\n', classifier.intercept_)"
   ]
  },
  {
   "cell_type": "markdown",
   "metadata": {},
   "source": [
    "## Making prediction for new weight i.e 100"
   ]
  },
  {
   "cell_type": "code",
   "execution_count": 119,
   "metadata": {},
   "outputs": [
    {
     "name": "stdout",
     "output_type": "stream",
     "text": [
      "height of person with weight  100  is  [[176.76536092]]\n"
     ]
    }
   ],
   "source": [
    "#use the classifier to make prediction\n",
    "x=100\n",
    "targetFeature_predict_for_newInput = classifier.predict([[x]])\n",
    "print('height of person with weight ', x, ' is ', targetFeature_predict_for_newInput)"
   ]
  },
  {
   "cell_type": "markdown",
   "metadata": {},
   "source": [
    "## Visualizing Scatter points of age and height"
   ]
  },
  {
   "cell_type": "code",
   "execution_count": 93,
   "metadata": {},
   "outputs": [
    {
     "data": {
      "text/plain": [
       "<matplotlib.collections.PathCollection at 0x7ff507a26400>"
      ]
     },
     "execution_count": 93,
     "metadata": {},
     "output_type": "execute_result"
    },
    {
     "data": {
      "image/png": "[encoded data removed]",
      "text/plain": [
       "<Figure size 432x288 with 1 Axes>"
      ]
     },
     "metadata": {
      "needs_background": "light"
     },
     "output_type": "display_data"
    }
   ],
   "source": [
    "#visualize data points\n",
    "plt.scatter(data['weight'], data['height'], color = \"y\", marker = \"o\", s = 40) "
   ]
  },
  {
   "cell_type": "code",
   "execution_count": 95,
   "metadata": {},
   "outputs": [
    {
     "data": {
      "image/png": "[encoded data removed]",
      "text/plain": [
       "<Figure size 432x288 with 1 Axes>"
      ]
     },
     "metadata": {
      "needs_background": "light"
     },
     "output_type": "display_data"
    }
   ],
   "source": [
    "#visualize data points\n",
    "plt.scatter(data['weight'], data['height'], color = \"y\", marker = \"o\", s = 40) \n",
    "#visualize regression function\n",
    "plt.plot(descriptiveFeatures, targetFeature_predict, color = \"r\") \n",
    "plt.xlabel('x') \n",
    "plt.ylabel('y') \n",
    "plt.title('the data and the regression function')\n",
    "plt.show()"
   ]
  },
  {
   "cell_type": "markdown",
   "metadata": {},
   "source": [
    "## Splitting the Data Set in to training and testing data"
   ]
  },
  {
   "cell_type": "code",
   "execution_count": 51,
   "metadata": {},
   "outputs": [],
   "source": [
    "# Splitting the dataset into the Training set and Test set\n",
    "from sklearn.model_selection import train_test_split \n",
    "x_train, x_test, y_train, y_test = train_test_split(descriptiveFeatures, targetFeature, test_size=1/3, random_state=0)\n"
   ]
  },
  {
   "cell_type": "code",
   "execution_count": 52,
   "metadata": {},
   "outputs": [
    {
     "data": {
      "text/plain": [
       "array([[25],\n",
       "       [32],\n",
       "       [25],\n",
       "       [30],\n",
       "       [30],\n",
       "       [44],\n",
       "       [28],\n",
       "       [25],\n",
       "       [38],\n",
       "       [29],\n",
       "       [30],\n",
       "       [32],\n",
       "       [32],\n",
       "       [26],\n",
       "       [25],\n",
       "       [26],\n",
       "       [46],\n",
       "       [21],\n",
       "       [33],\n",
       "       [39],\n",
       "       [32],\n",
       "       [36],\n",
       "       [21],\n",
       "       [25],\n",
       "       [31],\n",
       "       [35],\n",
       "       [27],\n",
       "       [19],\n",
       "       [29],\n",
       "       [21],\n",
       "       [34],\n",
       "       [50],\n",
       "       [21],\n",
       "       [26],\n",
       "       [24],\n",
       "       [27],\n",
       "       [25],\n",
       "       [29],\n",
       "       [27],\n",
       "       [30],\n",
       "       [20],\n",
       "       [20],\n",
       "       [33],\n",
       "       [24],\n",
       "       [26],\n",
       "       [22],\n",
       "       [23],\n",
       "       [25],\n",
       "       [27],\n",
       "       [26],\n",
       "       [27],\n",
       "       [26],\n",
       "       [27],\n",
       "       [24],\n",
       "       [31],\n",
       "       [27],\n",
       "       [29],\n",
       "       [39],\n",
       "       [29],\n",
       "       [30],\n",
       "       [30],\n",
       "       [40],\n",
       "       [25],\n",
       "       [28],\n",
       "       [22],\n",
       "       [22],\n",
       "       [30],\n",
       "       [34],\n",
       "       [30],\n",
       "       [28],\n",
       "       [31],\n",
       "       [33],\n",
       "       [22],\n",
       "       [27],\n",
       "       [44],\n",
       "       [24],\n",
       "       [23],\n",
       "       [27],\n",
       "       [31],\n",
       "       [30],\n",
       "       [27],\n",
       "       [25],\n",
       "       [40],\n",
       "       [28],\n",
       "       [24],\n",
       "       [20],\n",
       "       [21],\n",
       "       [37],\n",
       "       [31],\n",
       "       [28],\n",
       "       [26],\n",
       "       [33],\n",
       "       [26],\n",
       "       [32],\n",
       "       [38],\n",
       "       [25],\n",
       "       [43],\n",
       "       [22],\n",
       "       [27],\n",
       "       [18],\n",
       "       [43],\n",
       "       [32],\n",
       "       [28],\n",
       "       [31],\n",
       "       [27],\n",
       "       [30],\n",
       "       [24],\n",
       "       [31],\n",
       "       [30],\n",
       "       [32],\n",
       "       [37],\n",
       "       [27],\n",
       "       [27],\n",
       "       [29],\n",
       "       [25],\n",
       "       [31],\n",
       "       [35],\n",
       "       [31],\n",
       "       [31],\n",
       "       [40],\n",
       "       [27],\n",
       "       [23],\n",
       "       [32],\n",
       "       [24],\n",
       "       [27],\n",
       "       [30],\n",
       "       [27],\n",
       "       [20],\n",
       "       [20],\n",
       "       [23],\n",
       "       [34],\n",
       "       [22],\n",
       "       [27],\n",
       "       [24],\n",
       "       [26],\n",
       "       [31]])"
      ]
     },
     "execution_count": 52,
     "metadata": {},
     "output_type": "execute_result"
    }
   ],
   "source": [
    "x_train"
   ]
  },
  {
   "cell_type": "code",
   "execution_count": 53,
   "metadata": {},
   "outputs": [
    {
     "data": {
      "text/plain": [
       "array([[30],\n",
       "       [30],\n",
       "       [28],\n",
       "       [22],\n",
       "       [48],\n",
       "       [24],\n",
       "       [29],\n",
       "       [27],\n",
       "       [29],\n",
       "       [28],\n",
       "       [24],\n",
       "       [27],\n",
       "       [21],\n",
       "       [30],\n",
       "       [21],\n",
       "       [44],\n",
       "       [28],\n",
       "       [33],\n",
       "       [32],\n",
       "       [24],\n",
       "       [30],\n",
       "       [28],\n",
       "       [27],\n",
       "       [31],\n",
       "       [25],\n",
       "       [29],\n",
       "       [35],\n",
       "       [29],\n",
       "       [30],\n",
       "       [24],\n",
       "       [29],\n",
       "       [28],\n",
       "       [35],\n",
       "       [31],\n",
       "       [37],\n",
       "       [32],\n",
       "       [24],\n",
       "       [29],\n",
       "       [27],\n",
       "       [24],\n",
       "       [34],\n",
       "       [27],\n",
       "       [35],\n",
       "       [20],\n",
       "       [27],\n",
       "       [30],\n",
       "       [25],\n",
       "       [25],\n",
       "       [40],\n",
       "       [26],\n",
       "       [25],\n",
       "       [28],\n",
       "       [27],\n",
       "       [30],\n",
       "       [27],\n",
       "       [35],\n",
       "       [38],\n",
       "       [25],\n",
       "       [34],\n",
       "       [24],\n",
       "       [19],\n",
       "       [27],\n",
       "       [34],\n",
       "       [27],\n",
       "       [22],\n",
       "       [41],\n",
       "       [29],\n",
       "       [23],\n",
       "       [34]])"
      ]
     },
     "execution_count": 53,
     "metadata": {},
     "output_type": "execute_result"
    }
   ],
   "source": [
    "x_test"
   ]
  },
  {
   "cell_type": "markdown",
   "metadata": {},
   "source": [
    "## Building Regression Model"
   ]
  },
  {
   "cell_type": "code",
   "execution_count": 54,
   "metadata": {},
   "outputs": [
    {
     "data": {
      "text/plain": [
       "LinearRegression()"
      ]
     },
     "execution_count": 54,
     "metadata": {},
     "output_type": "execute_result"
    }
   ],
   "source": [
    "\n",
    "# Fitting Simple Linear Regression to the Training set\n",
    "from sklearn.linear_model import LinearRegression\n",
    "regressor = LinearRegression()\n",
    "regressor.fit(x_train, y_train)"
   ]
  },
  {
   "cell_type": "markdown",
   "metadata": {},
   "source": [
    "## Predicting test results"
   ]
  },
  {
   "cell_type": "code",
   "execution_count": 55,
   "metadata": {},
   "outputs": [],
   "source": [
    "# Predicting the Test set results\n",
    "y_pred = regressor.predict(x_test)"
   ]
  },
  {
   "cell_type": "code",
   "execution_count": 103,
   "metadata": {},
   "outputs": [
    {
     "data": {
      "text/plain": [
       "array([170.89995718, 170.89995718, 170.6067551 , 169.72714888,\n",
       "       173.53877585, 170.02035095, 170.75335614, 170.46015407,\n",
       "       170.75335614, 170.6067551 , 170.02035095, 170.46015407,\n",
       "       169.58054784, 170.89995718, 169.58054784, 172.9523717 ,\n",
       "       170.6067551 , 171.33976029, 171.19315925, 170.02035095,\n",
       "       170.89995718, 170.6067551 , 170.46015407, 171.04655822,\n",
       "       170.16695199, 170.75335614, 171.63296237, 170.75335614,\n",
       "       170.89995718, 170.02035095, 170.75335614, 170.6067551 ,\n",
       "       171.63296237, 171.04655822, 171.92616444, 171.19315925,\n",
       "       170.02035095, 170.75335614, 170.46015407, 170.02035095,\n",
       "       171.48636133, 170.46015407, 171.63296237, 169.43394681,\n",
       "       170.46015407, 170.89995718, 170.16695199, 170.16695199,\n",
       "       172.36596755, 170.31355303, 170.16695199, 170.6067551 ,\n",
       "       170.46015407, 170.89995718, 170.46015407, 171.63296237,\n",
       "       172.07276548, 170.16695199, 171.48636133, 170.02035095,\n",
       "       169.28734577, 170.46015407, 171.48636133, 170.46015407,\n",
       "       169.72714888, 172.51256859, 170.75335614, 169.87374992,\n",
       "       171.48636133])"
      ]
     },
     "execution_count": 103,
     "metadata": {},
     "output_type": "execute_result"
    }
   ],
   "source": [
    "y_pred"
   ]
  },
  {
   "cell_type": "markdown",
   "metadata": {},
   "source": [
    "## Visualizing training Results"
   ]
  },
  {
   "cell_type": "code",
   "execution_count": 97,
   "metadata": {},
   "outputs": [
    {
     "data": {
      "image/png": "[encoded data removed]",
      "text/plain": [
       "<Figure size 432x288 with 1 Axes>"
      ]
     },
     "metadata": {
      "needs_background": "light"
     },
     "output_type": "display_data"
    }
   ],
   "source": [
    "# Visualizing the Training set results\n",
    "viz_train = plt\n",
    "viz_train.scatter(x_train[:,0], y_train, color='red')\n",
    "viz_train.plot(x_train[:,0], regressor.predict(x_train), color='blue')\n",
    "viz_train.title('Age  vs Height (Training set)')\n",
    "viz_train.xlabel('Age ')\n",
    "viz_train.ylabel('Height')\n",
    "viz_train.show()\n"
   ]
  },
  {
   "cell_type": "markdown",
   "metadata": {},
   "source": [
    "## Visualizing the Test set results"
   ]
  },
  {
   "cell_type": "code",
   "execution_count": 98,
   "metadata": {},
   "outputs": [
    {
     "data": {
      "image/png": "[encoded data removed]",
      "text/plain": [
       "<Figure size 432x288 with 1 Axes>"
      ]
     },
     "metadata": {
      "needs_background": "light"
     },
     "output_type": "display_data"
    }
   ],
   "source": [
    "# Visualizing the Test set results\n",
    "viz_test = plt\n",
    "viz_test.scatter(x_test, y_test, color='red')\n",
    "viz_test.plot(x_train, regressor.predict(x_train), color='blue')\n",
    "viz_test.title('Age & Weight vs Height (Test set)')\n",
    "viz_test.xlabel('Age & Weight')\n",
    "viz_test.ylabel('Height')\n",
    "viz_test.show()"
   ]
  },
  {
   "cell_type": "code",
   "execution_count": 101,
   "metadata": {},
   "outputs": [
    {
     "data": {
      "text/html": [
       "<div>\n",
       "<style scoped>\n",
       "    .dataframe tbody tr th:only-of-type {\n",
       "        vertical-align: middle;\n",
       "    }\n",
       "\n",
       "    .dataframe tbody tr th {\n",
       "        vertical-align: top;\n",
       "    }\n",
       "\n",
       "    .dataframe thead th {\n",
       "        text-align: right;\n",
       "    }\n",
       "</style>\n",
       "<table border=\"1\" class=\"dataframe\">\n",
       "  <thead>\n",
       "    <tr style=\"text-align: right;\">\n",
       "      <th></th>\n",
       "      <th>weight</th>\n",
       "      <th>height</th>\n",
       "    </tr>\n",
       "  </thead>\n",
       "  <tbody>\n",
       "    <tr>\n",
       "      <th>weight</th>\n",
       "      <td>1.000000</td>\n",
       "      <td>0.394259</td>\n",
       "    </tr>\n",
       "    <tr>\n",
       "      <th>height</th>\n",
       "      <td>0.394259</td>\n",
       "      <td>1.000000</td>\n",
       "    </tr>\n",
       "  </tbody>\n",
       "</table>\n",
       "</div>"
      ],
      "text/plain": [
       "          weight    height\n",
       "weight  1.000000  0.394259\n",
       "height  0.394259  1.000000"
      ]
     },
     "execution_count": 101,
     "metadata": {},
     "output_type": "execute_result"
    }
   ],
   "source": [
    "cor = data.corr()\n",
    "cor"
   ]
  },
  {
   "cell_type": "markdown",
   "metadata": {},
   "source": [
    "## Evaluation by Mean Squared Error"
   ]
  },
  {
   "cell_type": "code",
   "execution_count": 120,
   "metadata": {},
   "outputs": [
    {
     "name": "stdout",
     "output_type": "stream",
     "text": [
      "Mean squared error model 1: 74.15\n"
     ]
    }
   ],
   "source": [
    "#computing the squared error of the first model\n",
    "print(\"Mean squared error model 1: %.2f\" % mean_squared_error(targetFeature, targetFeature_predict))"
   ]
  },
  {
   "cell_type": "code",
   "execution_count": 121,
   "metadata": {},
   "outputs": [
    {
     "data": {
      "image/png": "[encoded data removed]",
      "text/plain": [
       "<Figure size 432x288 with 1 Axes>"
      ]
     },
     "metadata": {
      "needs_background": "light"
     },
     "output_type": "display_data"
    }
   ],
   "source": [
    "plt.scatter(targetFeature_predict, (targetFeature - targetFeature_predict) ** 2, color = \"blue\", s = 10,) \n",
    "\n",
    "## plotting line to visualize zero error \n",
    "plt.hlines(y = 0, xmin = 0, xmax = 15, linewidth = 2) \n",
    " \n",
    " \n",
    "## plot title \n",
    "plt.title(\"Squared errors Model 1\") \n",
    "  \n",
    "## function to show plot \n",
    "plt.show()"
   ]
  },
  {
   "cell_type": "markdown",
   "metadata": {},
   "source": [
    "## Handling categorical descriptive features"
   ]
  },
  {
   "cell_type": "markdown",
   "metadata": {},
   "source": [
    "### We will use One-Hot Encoding Scheme to make Categorical Descriptive Features as Numerical"
   ]
  },
  {
   "cell_type": "code",
   "execution_count": 122,
   "metadata": {},
   "outputs": [
    {
     "name": "stdout",
     "output_type": "stream",
     "text": [
      "   age  weight  gender likeness  height\n",
      "0   20    26.0  Female  Biryani  140.00\n",
      "1   31    40.0  Female  Biryani  148.00\n",
      "2   21    45.0  Female  Biryani  165.10\n",
      "3   24    45.0  Female   Pakora  170.77\n",
      "4   27    46.0  Female  Biryani  170.00\n"
     ]
    }
   ],
   "source": [
    "df2 = pd.read_csv('mldata.csv')\n",
    "print(df2.head())"
   ]
  },
  {
   "cell_type": "code",
   "execution_count": 134,
   "metadata": {},
   "outputs": [
    {
     "data": {
      "text/html": [
       "<div>\n",
       "<style scoped>\n",
       "    .dataframe tbody tr th:only-of-type {\n",
       "        vertical-align: middle;\n",
       "    }\n",
       "\n",
       "    .dataframe tbody tr th {\n",
       "        vertical-align: top;\n",
       "    }\n",
       "\n",
       "    .dataframe thead th {\n",
       "        text-align: right;\n",
       "    }\n",
       "</style>\n",
       "<table border=\"1\" class=\"dataframe\">\n",
       "  <thead>\n",
       "    <tr style=\"text-align: right;\">\n",
       "      <th></th>\n",
       "      <th>likeness</th>\n",
       "      <th>gender</th>\n",
       "    </tr>\n",
       "  </thead>\n",
       "  <tbody>\n",
       "    <tr>\n",
       "      <th>0</th>\n",
       "      <td>Biryani</td>\n",
       "      <td>Female</td>\n",
       "    </tr>\n",
       "    <tr>\n",
       "      <th>1</th>\n",
       "      <td>Biryani</td>\n",
       "      <td>Female</td>\n",
       "    </tr>\n",
       "    <tr>\n",
       "      <th>2</th>\n",
       "      <td>Biryani</td>\n",
       "      <td>Female</td>\n",
       "    </tr>\n",
       "    <tr>\n",
       "      <th>3</th>\n",
       "      <td>Pakora</td>\n",
       "      <td>Female</td>\n",
       "    </tr>\n",
       "    <tr>\n",
       "      <th>4</th>\n",
       "      <td>Biryani</td>\n",
       "      <td>Female</td>\n",
       "    </tr>\n",
       "  </tbody>\n",
       "</table>\n",
       "</div>"
      ],
      "text/plain": [
       "  likeness  gender\n",
       "0  Biryani  Female\n",
       "1  Biryani  Female\n",
       "2  Biryani  Female\n",
       "3   Pakora  Female\n",
       "4  Biryani  Female"
      ]
     },
     "execution_count": 134,
     "metadata": {},
     "output_type": "execute_result"
    }
   ],
   "source": [
    "# taking useful data i.e weight and height\n",
    "categorical_col = df2[['likeness','gender']]\n",
    "categorical_col.head()"
   ]
  },
  {
   "cell_type": "code",
   "execution_count": 137,
   "metadata": {},
   "outputs": [
    {
     "name": "stdout",
     "output_type": "stream",
     "text": [
      "Transformed by One-hot Encoding: \n",
      "[[1. 0. 0. 1. 0.]\n",
      " [1. 0. 0. 1. 0.]\n",
      " [1. 0. 0. 1. 0.]\n",
      " ...\n",
      " [0. 0. 1. 0. 1.]\n",
      " [1. 0. 0. 0. 1.]\n",
      " [0. 0. 1. 0. 1.]]\n",
      "Replacing categories by numerical labels: \n",
      "   likeness  gender\n",
      "0         0       0\n",
      "1         0       0\n",
      "2         0       0\n",
      "3         1       0\n",
      "4         0       0\n"
     ]
    }
   ],
   "source": [
    "#example using scikit\n",
    "from sklearn.preprocessing import LabelEncoder, OneHotEncoder\n",
    "\n",
    "#apply the one hot encoder\n",
    "encoder = OneHotEncoder(categories='auto')\n",
    "encoder.fit(categorical_col)\n",
    "df4_OneHot = encoder.transform(categorical_col).toarray()\n",
    "print('Transformed by One-hot Encoding: ')\n",
    "print(df4_OneHot)\n",
    "# encode labels with value between 0 and n_classes-1\n",
    "encoder = LabelEncoder()\n",
    "df2[['likeness','gender']] = categorical_col.apply(encoder.fit_transform)\n",
    "print('Replacing categories by numerical labels: ')\n",
    "print(df2[['likeness','gender']].head())\n"
   ]
  },
  {
   "cell_type": "markdown",
   "metadata": {},
   "source": [
    "### Likeness \n",
    "0 = Biryani ,  1 =Pakora, 2= Samosa\n",
    "### Gender\n",
    "0 = Female\n",
    "1 = Male"
   ]
  },
  {
   "cell_type": "markdown",
   "metadata": {},
   "source": [
    "## Predicting gender on the basis of 'age','height','weight'"
   ]
  },
  {
   "cell_type": "code",
   "execution_count": 170,
   "metadata": {},
   "outputs": [
    {
     "data": {
      "text/plain": [
       "(     age   height  weight\n",
       " 0     20  140.000    26.0\n",
       " 1     31  148.000    40.0\n",
       " 2     21  165.100    45.0\n",
       " 3     24  170.770    45.0\n",
       " 4     27  170.000    46.0\n",
       " ..   ...      ...     ...\n",
       " 200   39  155.448   102.0\n",
       " 201   31  173.700   102.3\n",
       " 202   26  172.720   130.0\n",
       " 203   25  185.900   135.0\n",
       " 204   28  173.000   161.0\n",
       " \n",
       " [205 rows x 3 columns],\n",
       " 0      0\n",
       " 1      0\n",
       " 2      0\n",
       " 3      0\n",
       " 4      0\n",
       "       ..\n",
       " 200    1\n",
       " 201    1\n",
       " 202    1\n",
       " 203    1\n",
       " 204    1\n",
       " Name: gender, Length: 205, dtype: int64)"
      ]
     },
     "execution_count": 170,
     "metadata": {},
     "output_type": "execute_result"
    }
   ],
   "source": [
    "descriptiveFeatures2 = df2[['age','height','weight']]\n",
    "targetFeature2 = df2['gender']\n",
    "descriptiveFeatures2, targetFeature2\n"
   ]
  },
  {
   "cell_type": "code",
   "execution_count": 166,
   "metadata": {},
   "outputs": [
    {
     "name": "stdout",
     "output_type": "stream",
     "text": [
      "Mean squared error: 0.10\n"
     ]
    }
   ],
   "source": [
    "classifier = LinearRegression()\n",
    "model2 = classifier.fit(descriptiveFeatures2,targetFeature2)\n",
    "\n",
    "targetFeature2_predict = classifier.predict(descriptiveFeatures2)\n",
    "print(\"Mean squared error: %.2f\" % mean_squared_error(targetFeature2, targetFeature2_predict))\n"
   ]
  },
  {
   "cell_type": "markdown",
   "metadata": {},
   "source": [
    "## Prediction of Gender made on age ,height and weight"
   ]
  },
  {
   "cell_type": "code",
   "execution_count": 186,
   "metadata": {},
   "outputs": [],
   "source": [
    "# Enter age, Height and Weight of person in order\n",
    "descriptiveFeatures_input = [20,140,86]  # age, height, weight"
   ]
  },
  {
   "cell_type": "code",
   "execution_count": 188,
   "metadata": {},
   "outputs": [
    {
     "name": "stdout",
     "output_type": "stream",
     "text": [
      "Gender of Person with age: 20 years , Height: 140 cm and Weight: 86 kgs is  Male\n"
     ]
    }
   ],
   "source": [
    "\n",
    "\n",
    "predict_likeness = classifier.predict([descriptiveFeatures_input])\n",
    "\n",
    "if predict_likeness > [0.50]:\n",
    "    predict_likeness_name = 'Male'\n",
    "else:\n",
    "    predict_likeness_name = 'Female'\n",
    "\n",
    "print('Gender of Person with age:',descriptiveFeatures_input[0], 'years , Height:',descriptiveFeatures_input[1],\n",
    "'cm and Weight:',descriptiveFeatures_input[2],'kgs is ', predict_likeness_name)"
   ]
  }
 ],
 "metadata": {
  "interpreter": {
   "hash": "1966dafd80ff2ad7b71103e2924f5fe8b232f86773653e465ec1741b67332d79"
  },
  "kernelspec": {
   "display_name": "Python 3.9.7 64-bit ('base': conda)",
   "language": "python",
   "name": "python3"
  },
  "language_info": {
   "codemirror_mode": {
    "name": "ipython",
    "version": 3
   },
   "file_extension": ".py",
   "mimetype": "text/x-python",
   "name": "python",
   "nbconvert_exporter": "python",
   "pygments_lexer": "ipython3",
   "version": "3.9.7"
  },
  "orig_nbformat": 4
 },
 "nbformat": 4,
 "nbformat_minor": 2
}
